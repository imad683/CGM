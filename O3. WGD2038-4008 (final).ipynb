{
 "cells": [
  {
   "cell_type": "markdown",
   "id": "d5b0e136",
   "metadata": {},
   "source": [
    "1. Galaxy Redshift\n",
    "2. Continuum Fit\n",
    "3. Continuum Subtraction\n",
    "4. Equivalent Width\n",
    "5. Fitting Gaussian\n",
    "6. Monte Carlo\n",
    "7. Parameter Estimation\n",
    "8. Radial Velocity & Corner Plot"
   ]
  },
  {
   "cell_type": "code",
   "execution_count": 1,
   "id": "8246c03b",
   "metadata": {},
   "outputs": [],
   "source": [
    "%matplotlib inline\n",
    "import matplotlib.pyplot as plt\n",
    "\n",
    "import numpy as np\n",
    "import pandas as pd\n",
    "\n",
    "from mpdaf.obj import Spectrum\n",
    "from linetools.spectra.xspectrum1d import XSpectrum1D\n",
    "\n",
    "import astropy.units as u\n",
    "from astropy.io import fits\n",
    "from astropy.modeling.models import Voigt1D, Gaussian1D\n",
    "from astropy.convolution import convolve\n",
    "from astropy.constants import c, m_e\n",
    "\n",
    "from scipy.optimize import curve_fit\n",
    "from scipy.ndimage import gaussian_filter1d\n",
    "from scipy import constants as const\n",
    "from scipy.optimize import root_scalar\n",
    "\n",
    "from mpdaf.MUSE import LSF\n",
    "from IPython.display import display, Image, HTML\n",
    "import corner"
   ]
  },
  {
   "cell_type": "code",
   "execution_count": 2,
   "id": "0e282a98",
   "metadata": {},
   "outputs": [],
   "source": [
    "%matplotlib qt\n",
    "import matplotlib.pyplot as plt"
   ]
  },
  {
   "cell_type": "code",
   "execution_count": 3,
   "id": "2556ca45",
   "metadata": {},
   "outputs": [],
   "source": [
    "# (A)\n",
    "hdus_A = fits.open('D:\\Datacube\\WGD2038-4008\\spektrum_sum_WGD2038-4008_A_0.8.fits')\n",
    "spec_A = Spectrum('D:\\Datacube\\WGD2038-4008\\spektrum_sum_WGD2038-4008_A_0.8.fits')\n",
    "\n",
    "flux_A = hdus_A['DATA'].data*u.Unit(hdus_A[1].header['BUNIT'])  # Replace 'DATA' with the flux extension name\n",
    "variance_A = hdus_A['STAT'].data*u.Unit(hdus_A[2].header['BUNIT'])  # Replace 'STAT' with the variance extension name\n",
    "uncertainty_A = np.sqrt(variance_A) #uncertainty is standard deviation\n",
    "wavelength_A = spec_A.wave.coord() * u.Unit(spec_A.wave.unit)# Wavelength array\n",
    "\n",
    "sp_A = XSpectrum1D.from_tuple((wavelength_A, flux_A, uncertainty_A))\n",
    "sp_A.plot()"
   ]
  },
  {
   "cell_type": "code",
   "execution_count": 4,
   "id": "02e0043e",
   "metadata": {},
   "outputs": [],
   "source": [
    "# (B)\n",
    "hdus_B = fits.open('D:\\Datacube\\WGD2038-4008\\spektrum_sum_WGD2038-4008_B_0.8.fits')\n",
    "spec_B = Spectrum('D:\\Datacube\\WGD2038-4008\\spektrum_sum_WGD2038-4008_B_0.8.fits')\n",
    "\n",
    "flux_B = hdus_B['DATA'].data*u.Unit(hdus_B[1].header['BUNIT'])  # Replace 'DATA' with the flux extension name\n",
    "variance_B = hdus_B['STAT'].data*u.Unit(hdus_B[2].header['BUNIT'])  # Replace 'STAT' with the variance extension name\n",
    "uncertainty_B = np.sqrt(variance_B) #uncertainty is standard deviation\n",
    "wavelength_B = spec_B.wave.coord() * u.Unit(spec_B.wave.unit)# Wavelength array\n",
    "\n",
    "sp_B = XSpectrum1D.from_tuple((wavelength_B, flux_B, uncertainty_B))\n",
    "sp_B.plot()"
   ]
  },
  {
   "cell_type": "code",
   "execution_count": 5,
   "id": "41514e83",
   "metadata": {},
   "outputs": [],
   "source": [
    "# (C)\n",
    "hdus_C = fits.open('D:\\Datacube\\WGD2038-4008\\spektrum_sum_WGD2038-4008_C_0.8.fits')\n",
    "spec_C = Spectrum('D:\\Datacube\\WGD2038-4008\\spektrum_sum_WGD2038-4008_C_0.8.fits')\n",
    "\n",
    "flux_C = hdus_C['DATA'].data*u.Unit(hdus_C[1].header['BUNIT'])  # Replace 'DATA' with the flux extension name\n",
    "variance_C = hdus_C['STAT'].data*u.Unit(hdus_C[2].header['BUNIT'])  # Replace 'STAT' with the variance extension name\n",
    "uncertainty_C = np.sqrt(variance_C) #uncertainty is standard deviation\n",
    "wavelength_C = spec_C.wave.coord() * u.Unit(spec_C.wave.unit)# Wavelength array\n",
    "\n",
    "sp_C = XSpectrum1D.from_tuple((wavelength_C, flux_C, uncertainty_C))\n",
    "sp_C.plot()"
   ]
  },
  {
   "cell_type": "code",
   "execution_count": 6,
   "id": "6ec87eb6",
   "metadata": {},
   "outputs": [],
   "source": [
    "# (D)\n",
    "hdus_D = fits.open('D:\\Datacube\\WGD2038-4008\\spektrum_sum_WGD2038-4008_D_0.8.fits')\n",
    "spec_D = Spectrum('D:\\Datacube\\WGD2038-4008\\spektrum_sum_WGD2038-4008_D_0.8.fits')\n",
    "\n",
    "flux_D = hdus_D['DATA'].data*u.Unit(hdus_D[1].header['BUNIT'])  # Replace 'DATA' with the flux extension name\n",
    "variance_D = hdus_D['STAT'].data*u.Unit(hdus_D[2].header['BUNIT'])  # Replace 'STAT' with the variance extension name\n",
    "uncertainty_D = np.sqrt(variance_D) #uncertainty is standard deviation\n",
    "wavelength_D = spec_D.wave.coord() * u.Unit(spec_D.wave.unit)# Wavelength array\n",
    "\n",
    "sp_D = XSpectrum1D.from_tuple((wavelength_D, flux_D, uncertainty_D))\n",
    "sp_D.plot()"
   ]
  },
  {
   "cell_type": "code",
   "execution_count": 7,
   "id": "458a0c1c",
   "metadata": {},
   "outputs": [],
   "source": [
    "# (G)\n",
    "hdus_G = fits.open('D:\\Datacube\\WGD2038-4008\\spektrum_sum_WGD2038-4008_G_0.8.fits')\n",
    "spec_G = Spectrum('D:\\Datacube\\WGD2038-4008\\spektrum_sum_WGD2038-4008_G_0.8.fits')\n",
    "\n",
    "flux_G = hdus_G['DATA'].data*u.Unit(hdus_G[1].header['BUNIT'])  # Replace 'DATA' with the flux extension name\n",
    "variance_G = hdus_G['STAT'].data*u.Unit(hdus_G[2].header['BUNIT'])  # Replace 'STAT' with the variance extension name\n",
    "uncertainty_G = np.sqrt(variance_G) #uncertainty is standard deviation\n",
    "wavelength_G = spec_G.wave.coord() * u.Unit(spec_G.wave.unit)# Wavelength array\n",
    "\n",
    "sp_G = XSpectrum1D.from_tuple((wavelength_G, flux_G, uncertainty_G))\n",
    "sp_G.plot()"
   ]
  },
  {
   "cell_type": "markdown",
   "id": "5aaf3167",
   "metadata": {},
   "source": [
    "# 1. Galaxy Redshift"
   ]
  },
  {
   "cell_type": "code",
   "execution_count": 11,
   "id": "174a30a9",
   "metadata": {},
   "outputs": [],
   "source": [
    "# Ca II\n",
    "lambda_3935 = 3934.777\n",
    "f3935 = 6.82e-01\n",
    "A3935 = 1.47e+08\n",
    "\n",
    "lambda_3970 = 3969.591\n",
    "f3970 = 3.3e-01\n",
    "A3970 = 1.4e+08\n",
    "\n",
    "# Na I\n",
    "lambda_5892 = 5891.583253\n",
    "f5892 = 6.41e-01\n",
    "A5892 = 6.16e+07\n",
    "\n",
    "lambda_5898 = 5897.558147\n",
    "f5898 = 3.20e-01\n",
    "A5898 = 6.14e+07\n",
    "c_kms = c.to('km/s').value\n",
    "\n",
    "%matplotlib inline\n",
    "import matplotlib.pyplot as plt\n",
    "\n",
    "uncertain_G = uncertainty_G[65:175]\n",
    "\n",
    "loaded_data_G = np.load(\"D:\\Datacube\\WGD2038-4008\\continuum_WGD2038-4008_G.npz\")\n",
    "co_G = loaded_data_G[\"values\"] * u.Unit(spec_G.unit)"
   ]
  },
  {
   "cell_type": "code",
   "execution_count": 12,
   "id": "71f1049e",
   "metadata": {},
   "outputs": [
    {
     "data": {
      "text/plain": [
       "[<matplotlib.lines.Line2D at 0x252877b8d90>]"
      ]
     },
     "execution_count": 12,
     "metadata": {},
     "output_type": "execute_result"
    },
    {
     "data": {
      "image/png": "[encoded data removed]",
      "text/plain": [
       "<Figure size 432x288 with 1 Axes>"
      ]
     },
     "metadata": {
      "needs_background": "light"
     },
     "output_type": "display_data"
    }
   ],
   "source": [
    "plt.plot(wavelength_G[65:175], flux_G[65:175])"
   ]
  },
  {
   "cell_type": "code",
   "execution_count": 13,
   "id": "0715b3b6",
   "metadata": {},
   "outputs": [
    {
     "data": {
      "text/plain": [
       "[<matplotlib.lines.Line2D at 0x2528783af10>]"
      ]
     },
     "execution_count": 13,
     "metadata": {},
     "output_type": "execute_result"
    },
    {
     "data": {
      "image/png": "[encoded data removed]",
      "text/plain": [
       "<Figure size 432x288 with 1 Axes>"
      ]
     },
     "metadata": {
      "needs_background": "light"
     },
     "output_type": "display_data"
    }
   ],
   "source": [
    "#wavelengths_G2 = wave_G2.value\n",
    "fluxes_gal = (flux_G[65:175].value / co_G.value) - 1\n",
    "uncertainties_gal = (uncertain_G.value / co_G.value)\n",
    "plt.plot(wavelength_G[65:175], fluxes_gal)"
   ]
  },
  {
   "cell_type": "code",
   "execution_count": 14,
   "id": "9b3d4933",
   "metadata": {},
   "outputs": [
    {
     "data": {
      "text/plain": [
       "array([-3.24280355e-01,  4.83042301e+03,  8.56770136e+00, -3.23048923e-01,\n",
       "        4.87273670e+03,  6.23581929e+00])"
      ]
     },
     "execution_count": 14,
     "metadata": {},
     "output_type": "execute_result"
    }
   ],
   "source": [
    "def convolved_model(x, amp, mu, sigma, amp2, mu2, sigma2):\n",
    "    intrinsic_profile = (amp * np.exp(-0.5 * ((x - mu)/sigma)**2)) + (amp2 * np.exp(-0.5 * ((x - mu2)/sigma2)**2))\n",
    "    return intrinsic_profile\n",
    "\n",
    "# (G) Ca II\n",
    "p0_gal = [-0.5, 4830, 7, -0.5, 4872, 7]\n",
    "\n",
    "popt_gal, _ = curve_fit(convolved_model, wavelength_G[65:175], fluxes_gal, p0=p0_gal)\n",
    "popt_gal"
   ]
  },
  {
   "cell_type": "code",
   "execution_count": 15,
   "id": "54576184",
   "metadata": {},
   "outputs": [
    {
     "name": "stdout",
     "output_type": "stream",
     "text": [
      "Estimated Noise Standard Deviation: 1.627\n"
     ]
    },
    {
     "data": {
      "image/png": "[encoded data removed]",
      "text/plain": [
       "<Figure size 432x288 with 1 Axes>"
      ]
     },
     "metadata": {
      "needs_background": "light"
     },
     "output_type": "display_data"
    }
   ],
   "source": [
    "residuals_gal = fluxes_gal - convolved_model(wavelength_G[65:175].value, *popt_gal)\n",
    "\n",
    "plt.hist(residuals_gal / uncertainties_gal)\n",
    "\n",
    "std_gal = np.std(residuals_gal / uncertainties_gal)\n",
    "print(f\"Estimated Noise Standard Deviation: {std_gal:.3f}\")"
   ]
  },
  {
   "cell_type": "code",
   "execution_count": 16,
   "id": "06162676",
   "metadata": {},
   "outputs": [
    {
     "name": "stdout",
     "output_type": "stream",
     "text": [
      "Estimated Noise Standard Deviation: 1.316\n"
     ]
    },
    {
     "data": {
      "image/png": "[encoded data removed]",
      "text/plain": [
       "<Figure size 432x288 with 1 Axes>"
      ]
     },
     "metadata": {
      "needs_background": "light"
     },
     "output_type": "display_data"
    }
   ],
   "source": [
    "sigma_floor_gal = 0.01\n",
    "sigma_adjusted_gal = np.sqrt(uncertainties_gal**2 + sigma_floor_gal**2)\n",
    "\n",
    "plt.hist(residuals_gal / sigma_adjusted_gal)\n",
    "\n",
    "std_gal = np.std(residuals_gal / sigma_adjusted_gal)\n",
    "print(f\"Estimated Noise Standard Deviation: {std_gal:.3f}\")"
   ]
  },
  {
   "cell_type": "code",
   "execution_count": 17,
   "id": "72a06b9c",
   "metadata": {},
   "outputs": [
    {
     "name": "stdout",
     "output_type": "stream",
     "text": [
      "Chi-squared: 194.376\n",
      "Degree of freedom: 104.000\n",
      "Reduced Chi-squared: 1.869\n"
     ]
    }
   ],
   "source": [
    "chi_squared_gal = np.sum((residuals_gal / sigma_adjusted_gal) ** 2)\n",
    "dof_gal = len(fluxes_gal) - len(popt_gal)\n",
    "\n",
    "reduced_chi_squared_gal = chi_squared_gal / dof_gal\n",
    "\n",
    "print(f'Chi-squared: {chi_squared_gal:.3f}')\n",
    "print(f'Degree of freedom: {dof_gal:.3f}')\n",
    "print(f'Reduced Chi-squared: {reduced_chi_squared_gal:.3f}')"
   ]
  },
  {
   "cell_type": "code",
   "execution_count": 18,
   "id": "099f0ce2",
   "metadata": {},
   "outputs": [
    {
     "data": {
      "text/plain": [
       "<matplotlib.legend.Legend at 0x252878a3b80>"
      ]
     },
     "execution_count": 18,
     "metadata": {},
     "output_type": "execute_result"
    },
    {
     "data": {
      "image/png": "[encoded data removed]",
      "text/plain": [
       "<Figure size 432x288 with 1 Axes>"
      ]
     },
     "metadata": {
      "needs_background": "light"
     },
     "output_type": "display_data"
    }
   ],
   "source": [
    "(recovered_amp_3935, recovered_mu_3935, recovered_std_3935, recovered_amp2_3935, recovered_mu2_3935, recovered_std2_3935) = popt_gal\n",
    "\n",
    "true_spectrum_gal = (Gaussian1D(amplitude=recovered_amp_3935, mean=recovered_mu_3935, stddev=recovered_std_3935)\n",
    "                  + Gaussian1D(amplitude=recovered_amp2_3935, mean=recovered_mu2_3935, stddev=recovered_std2_3935))\n",
    "\n",
    "plt.plot(wavelength_G[65:175], true_spectrum_gal(wavelength_G[65:175].value), '--', label=\"True Voigt\", color='blue')\n",
    "#plt.xlim(2780, 2820)\n",
    "plt.ylim(-1, 0.1)\n",
    "plt.legend()"
   ]
  },
  {
   "cell_type": "code",
   "execution_count": 19,
   "id": "cb946eb8",
   "metadata": {},
   "outputs": [
    {
     "data": {
      "text/plain": [
       "<matplotlib.legend.Legend at 0x252899dfaf0>"
      ]
     },
     "execution_count": 19,
     "metadata": {},
     "output_type": "execute_result"
    },
    {
     "data": {
      "image/png": "[encoded data removed]",
      "text/plain": [
       "<Figure size 432x288 with 1 Axes>"
      ]
     },
     "metadata": {
      "needs_background": "light"
     },
     "output_type": "display_data"
    }
   ],
   "source": [
    "plt.figure()\n",
    "plt.plot(wavelength_G[65:175], fluxes_gal+1, label=\"Observed Spectrum\", color='gray', alpha= 0.8, drawstyle='steps-mid')\n",
    "plt.plot(wavelength_G[65:175], true_spectrum_gal(wavelength_G[65:175].value)+1, '--', label=\"True Spectrum\", color='blue',alpha=0.7)\n",
    "plt.plot(wavelength_G[65:175], residuals_gal, label='Residuals', color='cyan')\n",
    "\n",
    "plt.title(\"1 Components\")\n",
    "plt.ylim(-0.05,1.1)\n",
    "plt.legend()"
   ]
  },
  {
   "cell_type": "code",
   "execution_count": 20,
   "id": "45cd756f",
   "metadata": {},
   "outputs": [
    {
     "data": {
      "text/plain": [
       "<matplotlib.legend.Legend at 0x25289a64400>"
      ]
     },
     "execution_count": 20,
     "metadata": {},
     "output_type": "execute_result"
    },
    {
     "data": {
      "image/png": "[encoded data removed]",
      "text/plain": [
       "<Figure size 432x288 with 1 Axes>"
      ]
     },
     "metadata": {
      "needs_background": "light"
     },
     "output_type": "display_data"
    }
   ],
   "source": [
    "plt.plot(wavelength_G[65:175], fluxes_gal+1, 'k', alpha=0.8, drawstyle='steps-mid', label='Spektrum Teramati')\n",
    "plt.plot(wavelength_G[65:175], true_spectrum_gal(wavelength_G[65:175].value)+1, lw=3, color='limegreen', label='Gaussian Fit')\n",
    "plt.axvline(recovered_mu_3935, color=\"grey\", linestyle=\":\")\n",
    "plt.ylim(0.5, 1.1)\n",
    "plt.xlim(4795, 4865)\n",
    "plt.ylabel(\"Fluks Ternormalisasi\")\n",
    "plt.xlabel(\"Panjang Gelombang Teramati (Å)\")\n",
    "plt.legend(loc='best')"
   ]
  },
  {
   "cell_type": "code",
   "execution_count": 21,
   "id": "8a4d3a79",
   "metadata": {},
   "outputs": [
    {
     "name": "stdout",
     "output_type": "stream",
     "text": [
      "Simulation is done\n"
     ]
    }
   ],
   "source": [
    "sim_mu_gal = []\n",
    "\n",
    "n_sim = 1000\n",
    "\n",
    "for x in range(0, n_sim):\n",
    "    sim_fluxes_gal = fluxes_gal + np.random.normal(0, sigma_adjusted_gal)\n",
    "    \n",
    "    popt_gal, _ = curve_fit(convolved_model, wavelength_G[65:175], sim_fluxes_gal, p0=p0_gal)\n",
    "    (recovered_amp_3935, recovered_mu_3935, recovered_std_3935, recovered_amp2_3935, recovered_mu2_3935, recovered_std2_3935) = popt_gal\n",
    "    sim_mu_gal.append(recovered_mu_3935)\n",
    "    \n",
    "print(\"Simulation is done\")"
   ]
  },
  {
   "cell_type": "code",
   "execution_count": 22,
   "id": "0b32a68c",
   "metadata": {},
   "outputs": [
    {
     "name": "stdout",
     "output_type": "stream",
     "text": [
      "Fitted Mu gal: 4830.417 ± 0.195 Angstrom\n"
     ]
    }
   ],
   "source": [
    "sim_mu_gal = np.array(sim_mu_gal)\n",
    "sim_mu_gal_mean = np.mean(sim_mu_gal)\n",
    "sim_mu_gal_std = np.std(sim_mu_gal)\n",
    "\n",
    "print(f\"Fitted Mu gal: {sim_mu_gal_mean:.3f} ± {sim_mu_gal_std:.3f} Angstrom\")"
   ]
  },
  {
   "cell_type": "code",
   "execution_count": 23,
   "id": "3f90024e",
   "metadata": {},
   "outputs": [
    {
     "name": "stdout",
     "output_type": "stream",
     "text": [
      "Redshift: 0.22762149080108104 ± 4.9551094622681646e-05 Angstrom\n"
     ]
    }
   ],
   "source": [
    "z = (sim_mu_gal_mean - lambda_3935) / lambda_3935\n",
    "\n",
    "err_z = sim_mu_gal_std / lambda_3935\n",
    "print(f\"Redshift: {z} ± {err_z} Angstrom\")"
   ]
  },
  {
   "cell_type": "markdown",
   "id": "e93b48fe",
   "metadata": {},
   "source": [
    "# 2. Continuum Fit"
   ]
  },
  {
   "cell_type": "code",
   "execution_count": 24,
   "id": "088f953a",
   "metadata": {},
   "outputs": [],
   "source": [
    "%matplotlib qt\n",
    "import matplotlib.pyplot as plt"
   ]
  },
  {
   "cell_type": "markdown",
   "id": "538766ad",
   "metadata": {},
   "source": [
    "## (A) Ca II Continuum Fit"
   ]
  },
  {
   "cell_type": "code",
   "execution_count": 25,
   "id": "81cdc9ac",
   "metadata": {},
   "outputs": [],
   "source": [
    "flux_masked_A = flux_A[65:175]\n",
    "uncertainty_masked_A = uncertainty_A[65:175]\n",
    "rest_wavelength_masked_A = wavelength_A[65:175]/(1+z)\n",
    "\n",
    "sp_masked_rest_A = XSpectrum1D.from_tuple((rest_wavelength_masked_A, flux_masked_A, uncertainty_masked_A))\n",
    "sp_masked_rest_A.plot()"
   ]
  },
  {
   "cell_type": "code",
   "execution_count": 10,
   "id": "25da6fbc",
   "metadata": {
    "collapsed": true
   },
   "outputs": [
    {
     "name": "stdout",
     "output_type": "stream",
     "text": [
      "knots file exists, use this? (y) n\n"
     ]
    },
    {
     "name": "stderr",
     "output_type": "stream",
     "text": [
      "C:\\Users\\hp\\anaconda3\\lib\\site-packages\\linetools\\analysis\\interactive_plot.py:347: UserWarning: marker is redundantly defined by the 'marker' keyword argument and the fmt string \".r\" (-> marker='.'). The keyword argument will take precedence.\n",
      "  m0, = a1.plot([0],[0],'.r',marker='.', mec='none', lw=0, mew=0,\n"
     ]
    },
    {
     "name": "stdout",
     "output_type": "stream",
     "text": [
      "\n",
      "i,o          Zoom in/out x limits\n",
      "y            Zoom out y limits\n",
      "Y            Guess y limits\n",
      "t,b          Set y top/bottom limit\n",
      "l,r          Set left/right x limit\n",
      "[,]          Pan left/right\n",
      "w            Plot the whole spectrum\n",
      "\n",
      "S,U          Smooth/unsmooth spectrum\n",
      "\n",
      "a        : add a new spline knot\n",
      "A        : add a new spline knot, and use a flux median to guess y position\n",
      "+        : double the number of spline knots\n",
      "_        : halve the number of spline knots\n",
      "d        : delete the nearest knot\n",
      "m        : move the nearest knot\n",
      "M        : move the nearest knot, and use a flux median to guess y position\n",
      "c        : toggle initial continuum display\n",
      "\n",
      "q        : quit\n",
      "\n",
      "Updating continuum.\n"
     ]
    }
   ],
   "source": [
    "sp_masked_rest_A.fit_continuum()"
   ]
  },
  {
   "cell_type": "code",
   "execution_count": 11,
   "id": "41929e9d",
   "metadata": {
    "collapsed": true
   },
   "outputs": [
    {
     "data": {
      "text/latex": [
       "$[2684.5259,~2762.9482,~2761.4709,~\\dots,~4291.5684,~4383.2314,~4395.8877] \\; \\mathrm{1 \\times 10^{-20}\\,\\frac{erg}{\\mathring{A}\\,s\\,cm^{2}}}$"
      ],
      "text/plain": [
       "<Quantity [2684.526 , 2762.9482, 2761.471 , 2755.6233, 2744.8677,\n",
       "           2722.9988, 2706.278 , 2762.5825, 2815.7705, 2805.8499,\n",
       "           2800.9968, 2816.2458, 2832.9866, 2849.8186, 2865.6292,\n",
       "           2879.3198, 2891.2288, 2902.6511, 2914.529 , 2927.839 ,\n",
       "           2943.523 , 2960.6162, 2977.7085, 2993.613 , 3008.5535,\n",
       "           3022.6653, 3036.0002, 3048.6106, 3060.5479, 3071.8643,\n",
       "           3082.6113, 3092.8416, 3102.6064, 3111.958 , 3120.9482,\n",
       "           3129.629 , 3138.052 , 3146.2695, 3154.3333, 3162.2952,\n",
       "           3170.2073, 3178.121 , 3186.089 , 3194.1628, 3202.3945,\n",
       "           3210.8357, 3219.5383, 3228.5547, 3237.9365, 3247.7356,\n",
       "           3258.004 , 3268.7932, 3280.1558, 3292.1433, 3304.8079,\n",
       "           3333.77  , 3409.8184, 3414.3054, 3374.26  , 3341.5393,\n",
       "           3339.0005, 3337.7935, 3336.67  , 3335.6611, 3334.7979,\n",
       "           3334.1113, 3333.6323, 3333.392 , 3333.4219, 3333.7522,\n",
       "           3334.4146, 3335.4397, 3336.859 , 3338.703 , 3341.003 ,\n",
       "           3343.79  , 3347.0952, 3350.9497, 3355.3843, 3360.43  ,\n",
       "           3366.118 , 3372.4792, 3379.545 , 3387.315 , 3394.9316,\n",
       "           3402.652 , 3411.3726, 3421.9885, 3435.396 , 3452.4905,\n",
       "           3474.2075, 3502.9775, 3537.102 , 3572.7722, 3606.1792,\n",
       "           3633.65  , 3656.2334, 3678.1028, 3703.4521, 3736.6074,\n",
       "           3779.887 , 3832.4963, 3893.4976, 3961.9534, 4036.926 ,\n",
       "           4117.4775, 4202.671 , 4291.5684, 4383.2314, 4395.8877] 1e-20 erg / (Angstrom cm2 s)>"
      ]
     },
     "execution_count": 11,
     "metadata": {},
     "output_type": "execute_result"
    }
   ],
   "source": [
    "sp_masked_rest_A.co"
   ]
  },
  {
   "cell_type": "code",
   "execution_count": 12,
   "id": "9eed9dfb",
   "metadata": {},
   "outputs": [],
   "source": [
    "np.savez(\"D:\\Datacube\\WGD2038-4008\\continuum_WGD2038-4008_A.npz\", values=sp_masked_rest_A.co.value, unit=str(sp_masked_rest_A.co.unit))"
   ]
  },
  {
   "cell_type": "markdown",
   "id": "3ef048eb",
   "metadata": {},
   "source": [
    "## (A) Na I Continuum Fit"
   ]
  },
  {
   "cell_type": "code",
   "execution_count": 26,
   "id": "d1056ad7",
   "metadata": {},
   "outputs": [],
   "source": [
    "flux_masked_A2 = flux_A[2000:2080]\n",
    "uncertainty_masked_A2 = uncertainty_A[2000:2080]\n",
    "rest_wavelength_masked_A2 = wavelength_A[2000:2080]/(1+z)\n",
    "\n",
    "sp_masked_rest_A2 = XSpectrum1D.from_tuple((rest_wavelength_masked_A2, flux_masked_A2, uncertainty_masked_A2))\n",
    "sp_masked_rest_A2.plot()"
   ]
  },
  {
   "cell_type": "code",
   "execution_count": 15,
   "id": "ac1df19c",
   "metadata": {
    "collapsed": true
   },
   "outputs": [
    {
     "name": "stdout",
     "output_type": "stream",
     "text": [
      "knots file exists, use this? (y) n\n",
      "\n",
      "i,o          Zoom in/out x limits\n",
      "y            Zoom out y limits\n",
      "Y            Guess y limits\n",
      "t,b          Set y top/bottom limit\n",
      "l,r          Set left/right x limit\n",
      "[,]          Pan left/right\n",
      "w            Plot the whole spectrum\n",
      "\n",
      "S,U          Smooth/unsmooth spectrum\n",
      "\n",
      "a        : add a new spline knot\n",
      "A        : add a new spline knot, and use a flux median to guess y position\n",
      "+        : double the number of spline knots\n",
      "_        : halve the number of spline knots\n",
      "d        : delete the nearest knot\n",
      "m        : move the nearest knot\n",
      "M        : move the nearest knot, and use a flux median to guess y position\n",
      "c        : toggle initial continuum display\n",
      "\n",
      "q        : quit\n",
      "\n",
      "Updating continuum.\n"
     ]
    }
   ],
   "source": [
    "sp_masked_rest_A2.fit_continuum()"
   ]
  },
  {
   "cell_type": "code",
   "execution_count": 16,
   "id": "8ce27bb2",
   "metadata": {
    "collapsed": true
   },
   "outputs": [
    {
     "data": {
      "text/latex": [
       "$[4022.9973,~4089.5178,~4133.2129,~4176.9077,~4173.6982,~4159.2471,~4146.2876,~4142.1328,~4139.2705,~4137.7021,~4138.623,~4143.2266,~4156.6196,~4181.4673,~4211.5469,~4240.5571,~4262.1987,~4273.9961,~4283.2554,~4290.6089,~4296.1821,~4300.1006,~4302.4897,~4303.4746,~4303.1807,~4301.7324,~4299.2563,~4295.877,~4291.7192,~4286.9092,~4281.5723,~4275.833,~4269.8169,~4263.6494,~4257.4556,~4251.3608,~4241.1562,~4211.6929,~4175.5386,~4148.769,~4167.769,~4270.5908,~4299.874,~4293.1206,~4281.1108,~4264.252,~4239.271,~4212.5938,~4196.5015,~4204.0293,~4227.4116,~4246.8267,~4251.1177,~4251.5146,~4249.8892,~4247.4917,~4245.5728,~4245.3843,~4248.1763,~4257.3989,~4273.9951,~4293.4106,~4311.0566,~4318.5615,~4295.9663,~4269.7617,~4300.2471,~4369.043,~4330.0981,~4274.8726,~4247.999,~4249.6245,~4253.7754,~4247.2661,~4232.0815,~4214.6626,~4194.3906,~4170.6489,~4142.8193,~4099.7148] \\; \\mathrm{1 \\times 10^{-20}\\,\\frac{erg}{\\mathring{A}\\,s\\,cm^{2}}}$"
      ],
      "text/plain": [
       "<Quantity [4022.9973, 4089.5178, 4133.213 , 4176.9077, 4173.698 ,\n",
       "           4159.247 , 4146.2876, 4142.133 , 4139.2705, 4137.702 ,\n",
       "           4138.623 , 4143.2266, 4156.6196, 4181.4673, 4211.547 ,\n",
       "           4240.557 , 4262.1987, 4273.996 , 4283.2554, 4290.609 ,\n",
       "           4296.182 , 4300.1006, 4302.4897, 4303.4746, 4303.1807,\n",
       "           4301.7324, 4299.2563, 4295.877 , 4291.719 , 4286.909 ,\n",
       "           4281.5723, 4275.833 , 4269.817 , 4263.6494, 4257.4556,\n",
       "           4251.361 , 4241.1562, 4211.693 , 4175.5386, 4148.769 ,\n",
       "           4167.769 , 4270.591 , 4299.874 , 4293.1206, 4281.111 ,\n",
       "           4264.252 , 4239.271 , 4212.5938, 4196.5015, 4204.0293,\n",
       "           4227.4116, 4246.8267, 4251.1177, 4251.5146, 4249.889 ,\n",
       "           4247.4917, 4245.5728, 4245.3843, 4248.1763, 4257.399 ,\n",
       "           4273.995 , 4293.4106, 4311.0566, 4318.5615, 4295.9663,\n",
       "           4269.7617, 4300.247 , 4369.043 , 4330.098 , 4274.8726,\n",
       "           4247.999 , 4249.6245, 4253.7754, 4247.266 , 4232.0815,\n",
       "           4214.6626, 4194.3906, 4170.649 , 4142.8193, 4099.715 ] 1e-20 erg / (Angstrom cm2 s)>"
      ]
     },
     "execution_count": 16,
     "metadata": {},
     "output_type": "execute_result"
    }
   ],
   "source": [
    "sp_masked_rest_A2.co"
   ]
  },
  {
   "cell_type": "code",
   "execution_count": 17,
   "id": "eb0e1b6e",
   "metadata": {},
   "outputs": [],
   "source": [
    "np.savez(\"D:\\Datacube\\WGD2038-4008\\continuum_WGD2038-4008_A_Nai.npz\", values=sp_masked_rest_A2.co.value, unit=str(sp_masked_rest_A2.co.unit))"
   ]
  },
  {
   "cell_type": "markdown",
   "id": "18c81d7a",
   "metadata": {},
   "source": [
    "## (B) Ca II Continuum Fit"
   ]
  },
  {
   "cell_type": "code",
   "execution_count": 27,
   "id": "2fdfac83",
   "metadata": {},
   "outputs": [],
   "source": [
    "flux_masked_B = flux_B[65:175]\n",
    "uncertainty_masked_B = uncertainty_B[65:175]\n",
    "rest_wavelength_masked_B = wavelength_B[65:175]/(1+z)\n",
    "\n",
    "sp_masked_rest_B = XSpectrum1D.from_tuple((rest_wavelength_masked_B, flux_masked_B, uncertainty_masked_B))\n",
    "sp_masked_rest_B.plot()"
   ]
  },
  {
   "cell_type": "code",
   "execution_count": 19,
   "id": "cbcaf1ea",
   "metadata": {
    "collapsed": true
   },
   "outputs": [
    {
     "name": "stdout",
     "output_type": "stream",
     "text": [
      "knots file exists, use this? (y) n\n",
      "\n",
      "i,o          Zoom in/out x limits\n",
      "y            Zoom out y limits\n",
      "Y            Guess y limits\n",
      "t,b          Set y top/bottom limit\n",
      "l,r          Set left/right x limit\n",
      "[,]          Pan left/right\n",
      "w            Plot the whole spectrum\n",
      "\n",
      "S,U          Smooth/unsmooth spectrum\n",
      "\n",
      "a        : add a new spline knot\n",
      "A        : add a new spline knot, and use a flux median to guess y position\n",
      "+        : double the number of spline knots\n",
      "_        : halve the number of spline knots\n",
      "d        : delete the nearest knot\n",
      "m        : move the nearest knot\n",
      "M        : move the nearest knot, and use a flux median to guess y position\n",
      "c        : toggle initial continuum display\n",
      "\n",
      "q        : quit\n",
      "\n",
      "Updating continuum.\n"
     ]
    }
   ],
   "source": [
    "sp_masked_rest_B.fit_continuum()"
   ]
  },
  {
   "cell_type": "code",
   "execution_count": 20,
   "id": "67c04fdb",
   "metadata": {
    "collapsed": true
   },
   "outputs": [
    {
     "data": {
      "text/latex": [
       "$[3058.9783,~3097.3018,~3074.4377,~\\dots,~4732.8999,~4800.147,~4780.1836] \\; \\mathrm{1 \\times 10^{-20}\\,\\frac{erg}{\\mathring{A}\\,s\\,cm^{2}}}$"
      ],
      "text/plain": [
       "<Quantity [3058.9783, 3097.3018, 3074.4377, 3064.3574, 3064.7524,\n",
       "           3073.3152, 3103.2485, 3160.681 , 3208.6704, 3206.354 ,\n",
       "           3146.132 , 3077.9136, 3054.374 , 3090.0173, 3134.2253,\n",
       "           3171.9045, 3206.022 , 3238.645 , 3263.3499, 3274.4048,\n",
       "           3273.9612, 3269.1355, 3267.118 , 3272.9695, 3280.154 ,\n",
       "           3287.4033, 3294.7285, 3302.1409, 3309.6514, 3317.2712,\n",
       "           3325.0122, 3332.8848, 3340.901 , 3349.0713, 3357.4075,\n",
       "           3365.9204, 3374.6213, 3383.522 , 3392.6328, 3401.9656,\n",
       "           3411.5315, 3421.3416, 3431.4072, 3441.7395, 3452.3496,\n",
       "           3463.249 , 3474.4487, 3485.96  , 3497.7942, 3509.9624,\n",
       "           3522.69  , 3537.0042, 3552.8499, 3570.0042, 3588.2446,\n",
       "           3607.3481, 3627.0925, 3648.5444, 3679.8691, 3714.5945,\n",
       "           3742.9526, 3761.8054, 3776.6265, 3787.781 , 3795.5918,\n",
       "           3800.382 , 3802.4753, 3802.194 , 3799.862 , 3795.802 ,\n",
       "           3790.3372, 3783.7905, 3776.4856, 3768.745 , 3760.8923,\n",
       "           3753.2505, 3746.1426, 3739.8918, 3734.8213, 3731.2542,\n",
       "           3729.5134, 3729.9224, 3732.8042, 3738.4817, 3747.2783,\n",
       "           3759.517 , 3775.5212, 3795.6135, 3819.3376, 3845.296 ,\n",
       "           3872.757 , 3900.9958, 3929.2864, 3956.9033, 3983.121 ,\n",
       "           4002.2908, 4014.5813, 4034.731 , 4076.9973, 4139.7983,\n",
       "           4215.074 , 4296.7637, 4378.806 , 4455.1396, 4524.911 ,\n",
       "           4594.735 , 4664.247 , 4732.9   , 4800.147 , 4780.1836] 1e-20 erg / (Angstrom cm2 s)>"
      ]
     },
     "execution_count": 20,
     "metadata": {},
     "output_type": "execute_result"
    }
   ],
   "source": [
    "sp_masked_rest_B.co"
   ]
  },
  {
   "cell_type": "code",
   "execution_count": 21,
   "id": "8cf7c996",
   "metadata": {},
   "outputs": [],
   "source": [
    "np.savez(\"D:\\Datacube\\WGD2038-4008\\continuum_WGD2038-4008_B.npz\", values=sp_masked_rest_B.co.value, unit=str(sp_masked_rest_B.co.unit))"
   ]
  },
  {
   "cell_type": "markdown",
   "id": "044d456a",
   "metadata": {},
   "source": [
    "## (B) Na I Continuum Fit"
   ]
  },
  {
   "cell_type": "code",
   "execution_count": 28,
   "id": "4113add3",
   "metadata": {},
   "outputs": [],
   "source": [
    "flux_masked_B2 = flux_B[2000:2080]\n",
    "uncertainty_masked_B2 = uncertainty_B[2000:2080]\n",
    "rest_wavelength_masked_B2 = wavelength_B[2000:2080]/(1+z)\n",
    "\n",
    "sp_masked_rest_B2 = XSpectrum1D.from_tuple((rest_wavelength_masked_B2, flux_masked_B2, uncertainty_masked_B2))\n",
    "sp_masked_rest_B2.plot()"
   ]
  },
  {
   "cell_type": "code",
   "execution_count": 23,
   "id": "04c2cb7a",
   "metadata": {
    "collapsed": true
   },
   "outputs": [
    {
     "name": "stdout",
     "output_type": "stream",
     "text": [
      "knots file exists, use this? (y) n\n",
      "\n",
      "i,o          Zoom in/out x limits\n",
      "y            Zoom out y limits\n",
      "Y            Guess y limits\n",
      "t,b          Set y top/bottom limit\n",
      "l,r          Set left/right x limit\n",
      "[,]          Pan left/right\n",
      "w            Plot the whole spectrum\n",
      "\n",
      "S,U          Smooth/unsmooth spectrum\n",
      "\n",
      "a        : add a new spline knot\n",
      "A        : add a new spline knot, and use a flux median to guess y position\n",
      "+        : double the number of spline knots\n",
      "_        : halve the number of spline knots\n",
      "d        : delete the nearest knot\n",
      "m        : move the nearest knot\n",
      "M        : move the nearest knot, and use a flux median to guess y position\n",
      "c        : toggle initial continuum display\n",
      "\n",
      "q        : quit\n",
      "\n",
      "Updating continuum.\n"
     ]
    }
   ],
   "source": [
    "sp_masked_rest_B2.fit_continuum()"
   ]
  },
  {
   "cell_type": "code",
   "execution_count": 24,
   "id": "f78a489c",
   "metadata": {
    "collapsed": true
   },
   "outputs": [
    {
     "data": {
      "text/latex": [
       "$[4280.8955,~4281.6914,~4297.4585,~4313.2256,~4328.4673,~4343.2783,~4357.7539,~4371.9883,~4386.0762,~4400.2256,~4415.2158,~4430.1919,~4443.9351,~4455.2271,~4462.8501,~4465.687,~4466.5854,~4467.3936,~4468.2007,~4469.0762,~4469.9575,~4470.8271,~4471.6885,~4472.5435,~4473.3936,~4474.2417,~4475.0898,~4475.9404,~4476.7954,~4477.6567,~4478.5273,~4479.4087,~4480.3032,~4481.2134,~4482.1411,~4483.0889,~4484.0586,~4485.0522,~4486.0728,~4487.1221,~4488.8022,~4491.5098,~4494.832,~4498.3555,~4501.668,~4504.3848,~4506.4873,~4508.1826,~4509.6787,~4511.1846,~4512.9092,~4515.0615,~4517.8496,~4521.4834,~4526.1636,~4531.9106,~4538.5674,~4545.9712,~4553.959,~4562.3677,~4571.0337,~4579.7949,~4588.4878,~4596.9492,~4605.0161,~4612.6748,~4620.0723,~4627.0835,~4633.5762,~4617.2056,~4554.6074,~4504.7495,~4481.2241,~4461.2559,~4445.1997,~4433.4092,~4426.2388,~4424.043,~4427.1758,~4377.646] \\; \\mathrm{1 \\times 10^{-20}\\,\\frac{erg}{\\mathring{A}\\,s\\,cm^{2}}}$"
      ],
      "text/plain": [
       "<Quantity [4280.8955, 4281.6914, 4297.4585, 4313.2256, 4328.4673,\n",
       "           4343.2783, 4357.754 , 4371.9883, 4386.076 , 4400.2256,\n",
       "           4415.216 , 4430.192 , 4443.935 , 4455.227 , 4462.85  ,\n",
       "           4465.687 , 4466.5854, 4467.3936, 4468.2007, 4469.076 ,\n",
       "           4469.9575, 4470.827 , 4471.6885, 4472.5435, 4473.3936,\n",
       "           4474.2417, 4475.09  , 4475.9404, 4476.7954, 4477.6567,\n",
       "           4478.5273, 4479.4087, 4480.303 , 4481.2134, 4482.141 ,\n",
       "           4483.089 , 4484.0586, 4485.0522, 4486.0728, 4487.122 ,\n",
       "           4488.8022, 4491.51  , 4494.832 , 4498.3555, 4501.668 ,\n",
       "           4504.385 , 4506.4873, 4508.1826, 4509.6787, 4511.1846,\n",
       "           4512.909 , 4515.0615, 4517.8496, 4521.4834, 4526.1636,\n",
       "           4531.9106, 4538.5674, 4545.971 , 4553.959 , 4562.3677,\n",
       "           4571.0337, 4579.795 , 4588.488 , 4596.949 , 4605.016 ,\n",
       "           4612.675 , 4620.0723, 4627.0835, 4633.576 , 4617.2056,\n",
       "           4554.6074, 4504.7495, 4481.224 , 4461.256 , 4445.1997,\n",
       "           4433.409 , 4426.239 , 4424.043 , 4427.176 , 4377.646 ] 1e-20 erg / (Angstrom cm2 s)>"
      ]
     },
     "execution_count": 24,
     "metadata": {},
     "output_type": "execute_result"
    }
   ],
   "source": [
    "sp_masked_rest_B2.co"
   ]
  },
  {
   "cell_type": "code",
   "execution_count": 25,
   "id": "f0e1bb34",
   "metadata": {},
   "outputs": [],
   "source": [
    "np.savez(\"D:\\Datacube\\WGD2038-4008\\continuum_WGD2038-4008_B_Nai.npz\", values=sp_masked_rest_B2.co.value, unit=str(sp_masked_rest_B2.co.unit))"
   ]
  },
  {
   "cell_type": "markdown",
   "id": "1fcbec7e",
   "metadata": {},
   "source": [
    "## (C) Ca II Continuum Fit"
   ]
  },
  {
   "cell_type": "code",
   "execution_count": 29,
   "id": "84e69401",
   "metadata": {},
   "outputs": [],
   "source": [
    "flux_masked_C = flux_C[65:175]\n",
    "uncertainty_masked_C = uncertainty_C[65:175]\n",
    "rest_wavelength_masked_C = wavelength_C[65:175]/(1+z)\n",
    "\n",
    "sp_masked_rest_C = XSpectrum1D.from_tuple((rest_wavelength_masked_C, flux_masked_C, uncertainty_masked_C))\n",
    "sp_masked_rest_C.plot()"
   ]
  },
  {
   "cell_type": "code",
   "execution_count": 27,
   "id": "7fbb3515",
   "metadata": {
    "collapsed": true
   },
   "outputs": [
    {
     "name": "stdout",
     "output_type": "stream",
     "text": [
      "knots file exists, use this? (y) n\n",
      "\n",
      "i,o          Zoom in/out x limits\n",
      "y            Zoom out y limits\n",
      "Y            Guess y limits\n",
      "t,b          Set y top/bottom limit\n",
      "l,r          Set left/right x limit\n",
      "[,]          Pan left/right\n",
      "w            Plot the whole spectrum\n",
      "\n",
      "S,U          Smooth/unsmooth spectrum\n",
      "\n",
      "a        : add a new spline knot\n",
      "A        : add a new spline knot, and use a flux median to guess y position\n",
      "+        : double the number of spline knots\n",
      "_        : halve the number of spline knots\n",
      "d        : delete the nearest knot\n",
      "m        : move the nearest knot\n",
      "M        : move the nearest knot, and use a flux median to guess y position\n",
      "c        : toggle initial continuum display\n",
      "\n",
      "q        : quit\n",
      "\n",
      "Updating continuum.\n"
     ]
    }
   ],
   "source": [
    "sp_masked_rest_C.fit_continuum()"
   ]
  },
  {
   "cell_type": "code",
   "execution_count": 28,
   "id": "57f96a35",
   "metadata": {
    "collapsed": true
   },
   "outputs": [
    {
     "data": {
      "text/latex": [
       "$[3270.5261,~3367.125,~3350.7781,~\\dots,~5295.2236,~5401.187,~5475.0176] \\; \\mathrm{1 \\times 10^{-20}\\,\\frac{erg}{\\mathring{A}\\,s\\,cm^{2}}}$"
      ],
      "text/plain": [
       "<Quantity [3270.5261, 3367.125 , 3350.778 , 3338.8394, 3331.7107,\n",
       "           3329.7947, 3333.317 , 3340.4807, 3350.8625, 3364.6511,\n",
       "           3382.0354, 3403.2039, 3429.4702, 3461.4497, 3494.426 ,\n",
       "           3523.4597, 3546.0554, 3562.257 , 3568.2744, 3565.2822,\n",
       "           3563.6797, 3571.0334, 3579.7683, 3588.651 , 3597.6821,\n",
       "           3606.8623, 3616.192 , 3625.6716, 3635.3018, 3645.083 ,\n",
       "           3655.0156, 3665.1   , 3675.3374, 3685.7275, 3696.271 ,\n",
       "           3706.9688, 3717.8208, 3728.8281, 3739.9907, 3751.3096,\n",
       "           3762.785 , 3774.4172, 3786.207 , 3798.1548, 3810.2612,\n",
       "           3822.5269, 3834.9517, 3847.5369, 3860.2825, 3873.1892,\n",
       "           3886.2573, 3899.4878, 3912.8806, 3926.4365, 3940.156 ,\n",
       "           3954.0398, 3969.9324, 3989.4165, 4009.1377, 4025.6401,\n",
       "           4035.5642, 4042.2144, 4048.7346, 4055.1326, 4061.4155,\n",
       "           4067.5903, 4073.6643, 4079.645 , 4085.5396, 4091.3547,\n",
       "           4097.098 , 4102.777 , 4108.3984, 4113.9697, 4119.4976,\n",
       "           4124.99  , 4130.454 , 4135.897 , 4141.325 , 4146.747 ,\n",
       "           4152.169 , 4157.598 , 4163.0425, 4168.509 , 4174.0044,\n",
       "           4179.536 , 4185.112 , 4190.7383, 4195.6816, 4200.0273,\n",
       "           4205.1245, 4213.843 , 4257.406 , 4325.74  , 4389.516 ,\n",
       "           4436.2397, 4481.792 , 4527.0903, 4572.7246, 4618.092 ,\n",
       "           4656.9834, 4700.966 , 4765.437 , 4861.3438, 4973.098 ,\n",
       "           5082.2983, 5188.787 , 5295.2236, 5401.187 , 5475.0176] 1e-20 erg / (Angstrom cm2 s)>"
      ]
     },
     "execution_count": 28,
     "metadata": {},
     "output_type": "execute_result"
    }
   ],
   "source": [
    "sp_masked_rest_C.co"
   ]
  },
  {
   "cell_type": "code",
   "execution_count": 29,
   "id": "e0948003",
   "metadata": {},
   "outputs": [],
   "source": [
    "np.savez(\"D:\\Datacube\\WGD2038-4008\\continuum_WGD2038-4008_C.npz\", values=sp_masked_rest_C.co.value, unit=str(sp_masked_rest_C.co.unit))"
   ]
  },
  {
   "cell_type": "markdown",
   "id": "172a197e",
   "metadata": {},
   "source": [
    "## (C) Na I Continuum Fit"
   ]
  },
  {
   "cell_type": "code",
   "execution_count": 30,
   "id": "5b88d48d",
   "metadata": {},
   "outputs": [],
   "source": [
    "flux_masked_C2 = flux_C[2000:2080]\n",
    "uncertainty_masked_C2 = uncertainty_C[2000:2080]\n",
    "rest_wavelength_masked_C2 = wavelength_C[2000:2080]/(1+z)\n",
    "\n",
    "sp_masked_rest_C2 = XSpectrum1D.from_tuple((rest_wavelength_masked_C2, flux_masked_C2, uncertainty_masked_C2))\n",
    "sp_masked_rest_C2.plot()"
   ]
  },
  {
   "cell_type": "code",
   "execution_count": 32,
   "id": "50e5e83f",
   "metadata": {
    "collapsed": true
   },
   "outputs": [
    {
     "name": "stdout",
     "output_type": "stream",
     "text": [
      "knots file exists, use this? (y) n\n",
      "\n",
      "i,o          Zoom in/out x limits\n",
      "y            Zoom out y limits\n",
      "Y            Guess y limits\n",
      "t,b          Set y top/bottom limit\n",
      "l,r          Set left/right x limit\n",
      "[,]          Pan left/right\n",
      "w            Plot the whole spectrum\n",
      "\n",
      "S,U          Smooth/unsmooth spectrum\n",
      "\n",
      "a        : add a new spline knot\n",
      "A        : add a new spline knot, and use a flux median to guess y position\n",
      "+        : double the number of spline knots\n",
      "_        : halve the number of spline knots\n",
      "d        : delete the nearest knot\n",
      "m        : move the nearest knot\n",
      "M        : move the nearest knot, and use a flux median to guess y position\n",
      "c        : toggle initial continuum display\n",
      "\n",
      "q        : quit\n",
      "\n",
      "Updating continuum.\n"
     ]
    }
   ],
   "source": [
    "sp_masked_rest_C2.fit_continuum()"
   ]
  },
  {
   "cell_type": "code",
   "execution_count": 33,
   "id": "0c442a07",
   "metadata": {
    "collapsed": true
   },
   "outputs": [
    {
     "data": {
      "text/latex": [
       "$[4837.9502,~4989.4155,~4970.125,~4950.835,~4941.3882,~4943.7622,~4961.6875,~4994.7407,~5024.9229,~5038.5566,~5049.4707,~5059.585,~5068.2256,~5074.7163,~5078.3833,~5078.6201,~5077.4683,~5076.1885,~5074.832,~5073.4277,~5071.9087,~5070.2769,~5068.5439,~5066.7227,~5064.8252,~5062.8633,~5060.8501,~5058.7974,~5056.7173,~5054.6221,~5052.5244,~5050.436,~5048.3701,~5046.3379,~5044.3521,~5042.4248,~5040.5688,~5038.7959,~5037.1182,~5035.5483,~5034.0986,~5032.7808,~5039.6846,~5077.875,~5116.0327,~5126.1069,~5130.3691,~5133.5854,~5136.0342,~5137.9937,~5139.7412,~5141.5552,~5143.7139,~5146.4946,~5150.1763,~5154.8633,~5160.146,~5165.9258,~5172.1333,~5178.7002,~5185.5576,~5192.6357,~5199.8667,~5207.1812,~5214.5103,~5238.0518,~5290.4692,~5337.3047,~5337.9502,~5220.1724,~5152.3677,~5106.4009,~5069.0342,~5044.0537,~5022.9727,~5004.1309,~4988.4429,~4976.8252,~4970.1934,~4910.437] \\; \\mathrm{1 \\times 10^{-20}\\,\\frac{erg}{\\mathring{A}\\,s\\,cm^{2}}}$"
      ],
      "text/plain": [
       "<Quantity [4837.95  , 4989.4155, 4970.125 , 4950.835 , 4941.388 ,\n",
       "           4943.762 , 4961.6875, 4994.7407, 5024.923 , 5038.5566,\n",
       "           5049.4707, 5059.585 , 5068.2256, 5074.7163, 5078.3833,\n",
       "           5078.62  , 5077.4683, 5076.1885, 5074.832 , 5073.4277,\n",
       "           5071.9087, 5070.277 , 5068.544 , 5066.7227, 5064.825 ,\n",
       "           5062.8633, 5060.85  , 5058.7974, 5056.7173, 5054.622 ,\n",
       "           5052.5244, 5050.436 , 5048.37  , 5046.338 , 5044.352 ,\n",
       "           5042.425 , 5040.569 , 5038.796 , 5037.118 , 5035.5483,\n",
       "           5034.0986, 5032.781 , 5039.6846, 5077.875 , 5116.0327,\n",
       "           5126.107 , 5130.369 , 5133.5854, 5136.034 , 5137.9937,\n",
       "           5139.741 , 5141.555 , 5143.714 , 5146.4946, 5150.1763,\n",
       "           5154.8633, 5160.146 , 5165.926 , 5172.1333, 5178.7   ,\n",
       "           5185.5576, 5192.6357, 5199.8667, 5207.181 , 5214.5103,\n",
       "           5238.052 , 5290.469 , 5337.3047, 5337.95  , 5220.1724,\n",
       "           5152.3677, 5106.401 , 5069.034 , 5044.0537, 5022.9727,\n",
       "           5004.131 , 4988.443 , 4976.825 , 4970.1934, 4910.437 ] 1e-20 erg / (Angstrom cm2 s)>"
      ]
     },
     "execution_count": 33,
     "metadata": {},
     "output_type": "execute_result"
    }
   ],
   "source": [
    "sp_masked_rest_C2.co"
   ]
  },
  {
   "cell_type": "code",
   "execution_count": 34,
   "id": "deb1d502",
   "metadata": {},
   "outputs": [],
   "source": [
    "np.savez(\"D:\\Datacube\\WGD2038-4008\\continuum_WGD2038-4008_C_Nai.npz\", values=sp_masked_rest_C2.co.value, unit=str(sp_masked_rest_C2.co.unit))"
   ]
  },
  {
   "cell_type": "markdown",
   "id": "ea8a5020",
   "metadata": {},
   "source": [
    "## (D) Ca II Continuum Fit"
   ]
  },
  {
   "cell_type": "code",
   "execution_count": 31,
   "id": "7bea751a",
   "metadata": {},
   "outputs": [],
   "source": [
    "flux_masked_D = flux_D[65:175]\n",
    "uncertainty_masked_D = uncertainty_D[65:175]\n",
    "rest_wavelength_masked_D = wavelength_D[65:175]/(1+z)\n",
    "\n",
    "sp_masked_rest_D = XSpectrum1D.from_tuple((rest_wavelength_masked_D, flux_masked_D, uncertainty_masked_D))\n",
    "sp_masked_rest_D.plot()"
   ]
  },
  {
   "cell_type": "code",
   "execution_count": 36,
   "id": "b566e18d",
   "metadata": {
    "collapsed": true
   },
   "outputs": [
    {
     "name": "stdout",
     "output_type": "stream",
     "text": [
      "knots file exists, use this? (y) n\n",
      "\n",
      "i,o          Zoom in/out x limits\n",
      "y            Zoom out y limits\n",
      "Y            Guess y limits\n",
      "t,b          Set y top/bottom limit\n",
      "l,r          Set left/right x limit\n",
      "[,]          Pan left/right\n",
      "w            Plot the whole spectrum\n",
      "\n",
      "S,U          Smooth/unsmooth spectrum\n",
      "\n",
      "a        : add a new spline knot\n",
      "A        : add a new spline knot, and use a flux median to guess y position\n",
      "+        : double the number of spline knots\n",
      "_        : halve the number of spline knots\n",
      "d        : delete the nearest knot\n",
      "m        : move the nearest knot\n",
      "M        : move the nearest knot, and use a flux median to guess y position\n",
      "c        : toggle initial continuum display\n",
      "\n",
      "q        : quit\n",
      "\n",
      "Updating continuum.\n"
     ]
    }
   ],
   "source": [
    "sp_masked_rest_D.fit_continuum()"
   ]
  },
  {
   "cell_type": "code",
   "execution_count": 37,
   "id": "ff220072",
   "metadata": {
    "collapsed": true
   },
   "outputs": [
    {
     "data": {
      "text/latex": [
       "$[2172.0034,~2226.697,~2234.6406,~\\dots,~3318.6372,~3356.3604,~3356.9451] \\; \\mathrm{1 \\times 10^{-20}\\,\\frac{erg}{\\mathring{A}\\,s\\,cm^{2}}}$"
      ],
      "text/plain": [
       "<Quantity [2172.0034, 2226.697 , 2234.6406, 2257.105 , 2307.8132,\n",
       "           2289.0793, 2227.6655, 2199.752 , 2186.1545, 2183.818 ,\n",
       "           2193.8845, 2212.461 , 2238.1082, 2269.3953, 2305.7168,\n",
       "           2378.1099, 2459.764 , 2492.7927, 2487.015 , 2469.23  ,\n",
       "           2450.0803, 2440.2078, 2440.5261, 2440.7993, 2440.9438,\n",
       "           2440.996 , 2440.9934, 2440.9722, 2440.9695, 2441.022 ,\n",
       "           2441.1663, 2441.4395, 2441.8782, 2442.5193, 2443.3994,\n",
       "           2444.5554, 2446.0244, 2447.8425, 2450.0474, 2452.675 ,\n",
       "           2455.7625, 2459.3467, 2463.4644, 2468.1523, 2473.4473,\n",
       "           2479.386 , 2486.0054, 2493.342 , 2501.4329, 2510.315 ,\n",
       "           2520.0247, 2530.5989, 2542.0745, 2554.488 , 2571.943 ,\n",
       "           2596.6387, 2623.624 , 2647.9226, 2665.6113, 2680.3591,\n",
       "           2693.281 , 2704.5115, 2714.185 , 2722.4365, 2729.4006,\n",
       "           2735.2122, 2740.0054, 2743.915 , 2747.076 , 2749.6228,\n",
       "           2751.6904, 2753.4128, 2754.9255, 2756.3625, 2757.859 ,\n",
       "           2759.549 , 2761.5676, 2764.0496, 2767.1294, 2770.9417,\n",
       "           2775.621 , 2781.3025, 2788.1204, 2796.2095, 2805.7043,\n",
       "           2816.7397, 2829.4504, 2843.971 , 2866.7563, 2911.081 ,\n",
       "           2956.5955, 2980.7344, 2982.4785, 2977.6304, 2980.1506,\n",
       "           2995.4077, 3016.1125, 3044.4595, 3082.4744, 3124.7378,\n",
       "           3164.944 , 3196.782 , 3214.511 , 3223.881 , 3235.2014,\n",
       "           3257.4   , 3285.779 , 3318.6372, 3356.3604, 3356.945 ] 1e-20 erg / (Angstrom cm2 s)>"
      ]
     },
     "execution_count": 37,
     "metadata": {},
     "output_type": "execute_result"
    }
   ],
   "source": [
    "sp_masked_rest_D.co"
   ]
  },
  {
   "cell_type": "code",
   "execution_count": 38,
   "id": "5b3e7319",
   "metadata": {},
   "outputs": [],
   "source": [
    "np.savez(\"D:\\Datacube\\WGD2038-4008\\continuum_WGD2038-4008_D.npz\", values=sp_masked_rest_D.co.value, unit=str(sp_masked_rest_D.co.unit))"
   ]
  },
  {
   "cell_type": "markdown",
   "id": "20f5a9db",
   "metadata": {},
   "source": [
    "## (D) Na I Continuum Fit"
   ]
  },
  {
   "cell_type": "code",
   "execution_count": 32,
   "id": "1867d498",
   "metadata": {},
   "outputs": [],
   "source": [
    "flux_masked_D2 = flux_D[2000:2080]\n",
    "uncertainty_masked_D2 = uncertainty_D[2000:2080]\n",
    "rest_wavelength_masked_D2 = wavelength_D[2000:2080]/(1+z)\n",
    "\n",
    "sp_masked_rest_D2 = XSpectrum1D.from_tuple((rest_wavelength_masked_D2, flux_masked_D2, uncertainty_masked_D2))\n",
    "sp_masked_rest_D2.plot()"
   ]
  },
  {
   "cell_type": "code",
   "execution_count": 40,
   "id": "d65feba3",
   "metadata": {
    "collapsed": true
   },
   "outputs": [
    {
     "name": "stdout",
     "output_type": "stream",
     "text": [
      "knots file exists, use this? (y) n\n",
      "\n",
      "i,o          Zoom in/out x limits\n",
      "y            Zoom out y limits\n",
      "Y            Guess y limits\n",
      "t,b          Set y top/bottom limit\n",
      "l,r          Set left/right x limit\n",
      "[,]          Pan left/right\n",
      "w            Plot the whole spectrum\n",
      "\n",
      "S,U          Smooth/unsmooth spectrum\n",
      "\n",
      "a        : add a new spline knot\n",
      "A        : add a new spline knot, and use a flux median to guess y position\n",
      "+        : double the number of spline knots\n",
      "_        : halve the number of spline knots\n",
      "d        : delete the nearest knot\n",
      "m        : move the nearest knot\n",
      "M        : move the nearest knot, and use a flux median to guess y position\n",
      "c        : toggle initial continuum display\n",
      "\n",
      "q        : quit\n",
      "\n",
      "Updating continuum.\n"
     ]
    }
   ],
   "source": [
    "sp_masked_rest_D2.fit_continuum()"
   ]
  },
  {
   "cell_type": "code",
   "execution_count": 41,
   "id": "7cedf8f7",
   "metadata": {
    "collapsed": true
   },
   "outputs": [
    {
     "data": {
      "text/latex": [
       "$[4253.7383,~4369.9131,~4381.2729,~4391.3247,~4399.5713,~4405.5171,~4408.6655,~4408.8555,~4407.6523,~4405.5649,~4402.876,~4399.8682,~4396.8242,~4394.0264,~4391.7583,~4390.2861,~4389.2417,~4388.3574,~4387.6304,~4387.0576,~4386.6362,~4386.3623,~4386.2339,~4386.2471,~4386.3989,~4386.6865,~4387.1069,~4387.6562,~4388.3325,~4389.1318,~4390.0518,~4391.0884,~4392.2393,~4393.501,~4394.8711,~4396.3457,~4397.9219,~4399.5967,~4401.3672,~4403.2305,~4405.1826,~4407.2212,~4409.626,~4425.8613,~4449.9614,~4463.2896,~4457.1738,~4441.834,~4424.2671,~4411.4346,~4408.1489,~4407.291,~4406.8945,~4406.2949,~4404.8257,~4402.0083,~4398.269,~4394.0718,~4389.6387,~4381.2568,~4368.8472,~4354.2349,~4339.2471,~4325.71,~4319.9028,~4365.8076,~4446.3989,~4526.4321,~4570.6636,~4419.748,~4377.3242,~4460.9375,~4439.4707,~4391.8853,~4344.9683,~4318.96,~4314.2754,~4315.917,~4327.0757,~4278.2861] \\; \\mathrm{1 \\times 10^{-20}\\,\\frac{erg}{\\mathring{A}\\,s\\,cm^{2}}}$"
      ],
      "text/plain": [
       "<Quantity [4253.7383, 4369.913 , 4381.273 , 4391.3247, 4399.5713,\n",
       "           4405.517 , 4408.6655, 4408.8555, 4407.6523, 4405.565 ,\n",
       "           4402.876 , 4399.868 , 4396.824 , 4394.0264, 4391.7583,\n",
       "           4390.286 , 4389.2417, 4388.3574, 4387.6304, 4387.0576,\n",
       "           4386.636 , 4386.3623, 4386.234 , 4386.247 , 4386.399 ,\n",
       "           4386.6865, 4387.107 , 4387.6562, 4388.3325, 4389.132 ,\n",
       "           4390.052 , 4391.0884, 4392.2393, 4393.501 , 4394.871 ,\n",
       "           4396.3457, 4397.922 , 4399.5967, 4401.367 , 4403.2305,\n",
       "           4405.1826, 4407.221 , 4409.626 , 4425.8613, 4449.9614,\n",
       "           4463.2896, 4457.174 , 4441.834 , 4424.267 , 4411.4346,\n",
       "           4408.149 , 4407.291 , 4406.8945, 4406.295 , 4404.8257,\n",
       "           4402.0083, 4398.269 , 4394.072 , 4389.6387, 4381.257 ,\n",
       "           4368.847 , 4354.235 , 4339.247 , 4325.71  , 4319.903 ,\n",
       "           4365.8076, 4446.399 , 4526.432 , 4570.6636, 4419.748 ,\n",
       "           4377.324 , 4460.9375, 4439.4707, 4391.8853, 4344.9683,\n",
       "           4318.96  , 4314.2754, 4315.917 , 4327.0757, 4278.286 ] 1e-20 erg / (Angstrom cm2 s)>"
      ]
     },
     "execution_count": 41,
     "metadata": {},
     "output_type": "execute_result"
    }
   ],
   "source": [
    "sp_masked_rest_D2.co"
   ]
  },
  {
   "cell_type": "code",
   "execution_count": 42,
   "id": "2704b6a0",
   "metadata": {},
   "outputs": [],
   "source": [
    "np.savez(\"D:\\Datacube\\WGD2038-4008\\continuum_WGD2038-4008_D_Nai.npz\", values=sp_masked_rest_D2.co.value, unit=str(sp_masked_rest_D2.co.unit))"
   ]
  },
  {
   "cell_type": "markdown",
   "id": "55e1f85a",
   "metadata": {},
   "source": [
    "## (G) Ca II Continuum Fit"
   ]
  },
  {
   "cell_type": "code",
   "execution_count": 33,
   "id": "b507d565",
   "metadata": {},
   "outputs": [],
   "source": [
    "flux_masked_G = flux_G[65:175]\n",
    "uncertainty_masked_G = uncertainty_G[65:175]\n",
    "rest_wavelength_masked_G = wavelength_G[65:175]/(1+z)\n",
    "\n",
    "sp_masked_rest_G = XSpectrum1D.from_tuple((rest_wavelength_masked_G, flux_masked_G, uncertainty_masked_G))\n",
    "sp_masked_rest_G.plot()"
   ]
  },
  {
   "cell_type": "code",
   "execution_count": 86,
   "id": "64a95afb",
   "metadata": {
    "collapsed": true
   },
   "outputs": [
    {
     "name": "stdout",
     "output_type": "stream",
     "text": [
      "knots file exists, use this? (y) N\n"
     ]
    },
    {
     "name": "stderr",
     "output_type": "stream",
     "text": [
      "C:\\Users\\hp\\anaconda3\\lib\\site-packages\\linetools\\analysis\\interactive_plot.py:347: UserWarning: marker is redundantly defined by the 'marker' keyword argument and the fmt string \".r\" (-> marker='.'). The keyword argument will take precedence.\n",
      "  m0, = a1.plot([0],[0],'.r',marker='.', mec='none', lw=0, mew=0,\n"
     ]
    },
    {
     "name": "stdout",
     "output_type": "stream",
     "text": [
      "\n",
      "i,o          Zoom in/out x limits\n",
      "y            Zoom out y limits\n",
      "Y            Guess y limits\n",
      "t,b          Set y top/bottom limit\n",
      "l,r          Set left/right x limit\n",
      "[,]          Pan left/right\n",
      "w            Plot the whole spectrum\n",
      "\n",
      "S,U          Smooth/unsmooth spectrum\n",
      "\n",
      "a        : add a new spline knot\n",
      "A        : add a new spline knot, and use a flux median to guess y position\n",
      "+        : double the number of spline knots\n",
      "_        : halve the number of spline knots\n",
      "d        : delete the nearest knot\n",
      "m        : move the nearest knot\n",
      "M        : move the nearest knot, and use a flux median to guess y position\n",
      "c        : toggle initial continuum display\n",
      "\n",
      "q        : quit\n",
      "\n",
      "Updating continuum.\n"
     ]
    }
   ],
   "source": [
    "sp_masked_rest_G.fit_continuum()"
   ]
  },
  {
   "cell_type": "code",
   "execution_count": 87,
   "id": "38612eef",
   "metadata": {
    "collapsed": true
   },
   "outputs": [
    {
     "data": {
      "text/latex": [
       "$[2984.8806,~3081.5283,~3096.0776,~\\dots,~4759.1855,~4779.0244,~4448.5488] \\; \\mathrm{1 \\times 10^{-20}\\,\\frac{erg}{\\mathring{A}\\,s\\,cm^{2}}}$"
      ],
      "text/plain": [
       "<Quantity [2984.8806, 3081.5283, 3096.0776, 3102.9207, 3104.5642,\n",
       "           3096.0027, 3079.4028, 3060.095 , 3043.409 , 3034.6746,\n",
       "           3040.0662, 3061.0127, 3094.2834, 3136.62  , 3184.7646,\n",
       "           3268.7214, 3391.277 , 3456.5503, 3451.6995, 3439.9097,\n",
       "           3440.4932, 3443.4504, 3446.3223, 3449.1191, 3451.851 ,\n",
       "           3454.5286, 3457.1616, 3459.7605, 3462.3352, 3464.8965,\n",
       "           3467.454 , 3470.0183, 3472.5996, 3475.2083, 3477.854 ,\n",
       "           3480.5476, 3483.2988, 3486.1182, 3489.0159, 3492.0022,\n",
       "           3495.0872, 3498.281 , 3501.5942, 3505.0366, 3508.619 ,\n",
       "           3512.3508, 3516.2432, 3520.3057, 3524.5486, 3528.9824,\n",
       "           3533.617 , 3538.4631, 3543.5305, 3548.8296, 3554.3704,\n",
       "           3560.1604, 3566.1897, 3572.4626, 3578.9868, 3585.7695,\n",
       "           3592.818 , 3600.1558, 3607.9116, 3616.086 , 3624.6462,\n",
       "           3633.5605, 3642.796 , 3652.32  , 3662.1006, 3672.105 ,\n",
       "           3682.3008, 3692.6558, 3703.1372, 3713.7126, 3724.35  ,\n",
       "           3735.0166, 3745.68  , 3756.3074, 3766.867 , 3777.3262,\n",
       "           3787.652 , 3797.8127, 3807.7754, 3817.5078, 3826.716 ,\n",
       "           3824.7732, 3821.729 , 3848.1277, 3929.3447, 4000.4014,\n",
       "           4034.2205, 4063.834 , 4100.599 , 4148.9253, 4203.    ,\n",
       "           4256.249 , 4302.098 , 4331.7715, 4337.375 , 4331.7866,\n",
       "           4329.795 , 4344.7207, 4374.0684, 4412.4175, 4455.492 ,\n",
       "           4531.8433, 4650.349 , 4759.1855, 4779.0244, 4448.549 ] 1e-20 erg / (Angstrom cm2 s)>"
      ]
     },
     "execution_count": 87,
     "metadata": {},
     "output_type": "execute_result"
    }
   ],
   "source": [
    "sp_masked_rest_G.co"
   ]
  },
  {
   "cell_type": "code",
   "execution_count": 106,
   "id": "03ea03fd",
   "metadata": {},
   "outputs": [],
   "source": [
    "np.savez(\"D:\\Datacube\\WGD2038-4008\\continuum_WGD2038-4008_G.npz\", values=sp_masked_rest_G.co.value, unit=str(sp_masked_rest_G.co.unit))"
   ]
  },
  {
   "cell_type": "markdown",
   "id": "ccd2dbb4",
   "metadata": {},
   "source": [
    "## (G) Na I Continuum Fit"
   ]
  },
  {
   "cell_type": "code",
   "execution_count": 34,
   "id": "86db3324",
   "metadata": {},
   "outputs": [],
   "source": [
    "flux_masked_G2 = flux_G[2000:2080]\n",
    "uncertainty_masked_G2 = uncertainty_G[2000:2080]\n",
    "rest_wavelength_masked_G2 = wavelength_G[2000:2080]/(1+z)\n",
    "\n",
    "sp_masked_rest_G2 = XSpectrum1D.from_tuple((rest_wavelength_masked_G2, flux_masked_G2, uncertainty_masked_G2))\n",
    "sp_masked_rest_G2.plot()"
   ]
  },
  {
   "cell_type": "code",
   "execution_count": 90,
   "id": "181e3b3f",
   "metadata": {
    "collapsed": true
   },
   "outputs": [
    {
     "name": "stdout",
     "output_type": "stream",
     "text": [
      "knots file exists, use this? (y) n\n",
      "\n",
      "i,o          Zoom in/out x limits\n",
      "y            Zoom out y limits\n",
      "Y            Guess y limits\n",
      "t,b          Set y top/bottom limit\n",
      "l,r          Set left/right x limit\n",
      "[,]          Pan left/right\n",
      "w            Plot the whole spectrum\n",
      "\n",
      "S,U          Smooth/unsmooth spectrum\n",
      "\n",
      "a        : add a new spline knot\n",
      "A        : add a new spline knot, and use a flux median to guess y position\n",
      "+        : double the number of spline knots\n",
      "_        : halve the number of spline knots\n",
      "d        : delete the nearest knot\n",
      "m        : move the nearest knot\n",
      "M        : move the nearest knot, and use a flux median to guess y position\n",
      "c        : toggle initial continuum display\n",
      "\n",
      "q        : quit\n",
      "\n",
      "Updating continuum.\n"
     ]
    }
   ],
   "source": [
    "sp_masked_rest_G2.fit_continuum()"
   ]
  },
  {
   "cell_type": "code",
   "execution_count": 91,
   "id": "a15abc50",
   "metadata": {
    "collapsed": true
   },
   "outputs": [
    {
     "data": {
      "text/latex": [
       "$[6523.6699,~6634.8804,~6641.916,~6647.7598,~6651.9243,~6653.9224,~6653.2671,~6650.4106,~6646.5996,~6642.1626,~6637.4219,~6632.7007,~6628.3228,~6624.5518,~6621.0737,~6617.7754,~6614.6494,~6611.6904,~6608.8906,~6606.2432,~6603.7422,~6601.3799,~6599.1504,~6597.0464,~6595.062,~6593.1895,~6591.4224,~6589.7539,~6588.1777,~6586.687,~6585.2744,~6583.9336,~6582.6582,~6581.4409,~6580.2754,~6579.1548,~6578.0718,~6577.0205,~6575.9937,~6574.9849,~6573.9868,~6572.9937,~6571.998,~6585.2993,~6621.4028,~6650.3862,~6628.0039,~6559.4507,~6545.5161,~6554.1284,~6569.4644,~6588.2808,~6607.3354,~6623.3857,~6633.1899,~6632.5645,~6621.0776,~6607.0146,~6599.0474,~6639.6133,~6723.6763,~6757.5566,~6639.5776,~6571.4014,~6615.3623,~6693.6636,~6754.9561,~6746.2686,~6655.0098,~6598.8003,~6636.0903,~6678.4736,~6686.1431,~6691.4204,~6694.147,~6693.4346,~6688.394,~6678.1357,~6661.7705,~6586.5601] \\; \\mathrm{1 \\times 10^{-20}\\,\\frac{erg}{\\mathring{A}\\,s\\,cm^{2}}}$"
      ],
      "text/plain": [
       "<Quantity [6523.67  , 6634.8804, 6641.916 , 6647.76  , 6651.9243,\n",
       "           6653.9224, 6653.267 , 6650.4106, 6646.5996, 6642.1626,\n",
       "           6637.422 , 6632.7007, 6628.3228, 6624.552 , 6621.0737,\n",
       "           6617.7754, 6614.6494, 6611.6904, 6608.8906, 6606.243 ,\n",
       "           6603.742 , 6601.38  , 6599.1504, 6597.0464, 6595.062 ,\n",
       "           6593.1895, 6591.4224, 6589.754 , 6588.1777, 6586.687 ,\n",
       "           6585.2744, 6583.9336, 6582.658 , 6581.441 , 6580.2754,\n",
       "           6579.155 , 6578.072 , 6577.0205, 6575.9937, 6574.985 ,\n",
       "           6573.987 , 6572.9937, 6571.998 , 6585.2993, 6621.403 ,\n",
       "           6650.386 , 6628.004 , 6559.4507, 6545.516 , 6554.1284,\n",
       "           6569.4644, 6588.281 , 6607.3354, 6623.3857, 6633.19  ,\n",
       "           6632.5645, 6621.0776, 6607.0146, 6599.0474, 6639.6133,\n",
       "           6723.6763, 6757.5566, 6639.5776, 6571.4014, 6615.3623,\n",
       "           6693.6636, 6754.956 , 6746.2686, 6655.01  , 6598.8003,\n",
       "           6636.0903, 6678.4736, 6686.143 , 6691.4204, 6694.147 ,\n",
       "           6693.4346, 6688.394 , 6678.1357, 6661.7705, 6586.56  ] 1e-20 erg / (Angstrom cm2 s)>"
      ]
     },
     "execution_count": 91,
     "metadata": {},
     "output_type": "execute_result"
    }
   ],
   "source": [
    "sp_masked_rest_G2.co"
   ]
  },
  {
   "cell_type": "code",
   "execution_count": 107,
   "id": "6734d0a5",
   "metadata": {},
   "outputs": [],
   "source": [
    "np.savez(\"D:\\Datacube\\WGD2038-4008\\continuum_WGD2038-4008_G_Nai.npz\", values=sp_masked_rest_G2.co.value, unit=str(sp_masked_rest_G2.co.unit))"
   ]
  },
  {
   "cell_type": "markdown",
   "id": "f02e640e",
   "metadata": {},
   "source": [
    "# 2. Continuum Subtraction"
   ]
  },
  {
   "cell_type": "code",
   "execution_count": 35,
   "id": "a2bb01de",
   "metadata": {},
   "outputs": [],
   "source": [
    "%matplotlib inline\n",
    "import matplotlib.pyplot as plt"
   ]
  },
  {
   "cell_type": "code",
   "execution_count": 36,
   "id": "ea52c153",
   "metadata": {},
   "outputs": [
    {
     "data": {
      "image/png": "[encoded data removed]",
      "text/plain": [
       "<Figure size 1440x432 with 10 Axes>"
      ]
     },
     "metadata": {
      "needs_background": "light"
     },
     "output_type": "display_data"
    }
   ],
   "source": [
    "# (A) Ca II\n",
    "wave0_A = spec_A.wave.coord() * u.Unit(spec_A.wave.unit) # Wavelength array\n",
    "F0_A = spec_A.data * u.Unit(spec_A.unit) # Flux array\n",
    "wave_A = wave0_A[65:175]/(1+z)\n",
    "F_A = F0_A[65:175]\n",
    "uncertain_A = uncertainty_A[65:175]\n",
    "\n",
    "loaded_data_A = np.load(\"D:\\Datacube\\WGD2038-4008\\continuum_WGD2038-4008_A.npz\")\n",
    "co_A = loaded_data_A[\"values\"] * u.Unit(spec_A.unit)\n",
    "\n",
    "# (A) Na I\n",
    "wave_A2 = wave0_A[2000:2080]/(1+z)\n",
    "F_A2 = F0_A[2000:2080]\n",
    "uncertain_A2 = uncertainty_A[2000:2080]\n",
    "\n",
    "loaded_data_A2 = np.load(\"D:\\Datacube\\WGD2038-4008\\continuum_WGD2038-4008_A_Nai.npz\")\n",
    "co_A2 = loaded_data_A2[\"values\"] * u.Unit(spec_A.unit)\n",
    "\n",
    "# (B) Ca II\n",
    "wave0_B = spec_B.wave.coord() * u.Unit(spec_B.wave.unit) # Wavelength array\n",
    "F0_B = spec_B.data * u.Unit(spec_B.unit) # Flux array\n",
    "wave_B = wave0_B[65:175]/(1+z)\n",
    "F_B = F0_B[65:175]\n",
    "uncertain_B = uncertainty_B[65:175]\n",
    "\n",
    "loaded_data_B = np.load(\"D:\\Datacube\\WGD2038-4008\\continuum_WGD2038-4008_B.npz\")\n",
    "co_B = loaded_data_B[\"values\"] * u.Unit(spec_B.unit)\n",
    "\n",
    "# (B) Na I\n",
    "wave_B2 = wave0_B[2000:2080]/(1+z)\n",
    "F_B2 = F0_B[2000:2080]\n",
    "uncertain_B2 = uncertainty_B[2000:2080]\n",
    "\n",
    "loaded_data_B2 = np.load(\"D:\\Datacube\\WGD2038-4008\\continuum_WGD2038-4008_B_Nai.npz\")\n",
    "co_B2 = loaded_data_B2[\"values\"] * u.Unit(spec_B.unit)\n",
    "\n",
    "# (C) Ca II\n",
    "wave0_C = spec_C.wave.coord() * u.Unit(spec_C.wave.unit) # Wavelength array\n",
    "F0_C = spec_C.data * u.Unit(spec_C.unit) # Flux array\n",
    "wave_C = wave0_C[65:175]/(1+z)\n",
    "F_C = F0_C[65:175]\n",
    "uncertain_C = uncertainty_C[65:175]\n",
    "\n",
    "loaded_data_C = np.load(\"D:\\Datacube\\WGD2038-4008\\continuum_WGD2038-4008_C.npz\")\n",
    "co_C = loaded_data_C[\"values\"] * u.Unit(spec_C.unit)\n",
    "\n",
    "# (C) Na I\n",
    "wave_C2 = wave0_C[2000:2080]/(1+z)\n",
    "F_C2 = F0_C[2000:2080]\n",
    "uncertain_C2 = uncertainty_C[2000:2080]\n",
    "\n",
    "loaded_data_C2 = np.load(\"D:\\Datacube\\WGD2038-4008\\continuum_WGD2038-4008_C_Nai.npz\")\n",
    "co_C2 = loaded_data_C2[\"values\"] * u.Unit(spec_C.unit)\n",
    "\n",
    "# (D) Ca II\n",
    "wave0_D = spec_D.wave.coord() * u.Unit(spec_D.wave.unit) # Wavelength array\n",
    "F0_D = spec_D.data * u.Unit(spec_D.unit) # Flux array\n",
    "wave_D = wave0_D[65:175]/(1+z)\n",
    "F_D = F0_D[65:175]\n",
    "uncertain_D = uncertainty_D[65:175]\n",
    "\n",
    "loaded_data_D = np.load(\"D:\\Datacube\\WGD2038-4008\\continuum_WGD2038-4008_D.npz\")\n",
    "co_D = loaded_data_D[\"values\"] * u.Unit(spec_D.unit)\n",
    "\n",
    "# (D) Na I\n",
    "wave_D2 = wave0_D[2000:2080]/(1+z)\n",
    "F_D2 = F0_D[2000:2080]\n",
    "uncertain_D2 = uncertainty_D[2000:2080]\n",
    "\n",
    "loaded_data_D2 = np.load(\"D:\\Datacube\\WGD2038-4008\\continuum_WGD2038-4008_D_Nai.npz\")\n",
    "co_D2 = loaded_data_D2[\"values\"] * u.Unit(spec_D.unit)\n",
    "\n",
    "# (G) Ca II\n",
    "wave0_G = spec_G.wave.coord() * u.Unit(spec_G.wave.unit) # Wavelength array\n",
    "F0_G = spec_G.data * u.Unit(spec_G.unit) # Flux array\n",
    "wave_G = wave0_G[65:175]/(1+z)\n",
    "F_G = F0_G[65:175]\n",
    "uncertain_G = uncertainty_G[65:175]\n",
    "\n",
    "loaded_data_G = np.load(\"D:\\Datacube\\WGD2038-4008\\continuum_WGD2038-4008_G.npz\")\n",
    "co_G = loaded_data_G[\"values\"] * u.Unit(spec_G.unit)\n",
    "\n",
    "# (G) Na I\n",
    "wave_G2 = wave0_G[2000:2080]/(1+z)\n",
    "F_G2 = F0_G[2000:2080]\n",
    "uncertain_G2 = uncertainty_G[2000:2080]\n",
    "\n",
    "loaded_data_G2 = np.load(\"D:\\Datacube\\WGD2038-4008\\continuum_WGD2038-4008_G_Nai.npz\")\n",
    "co_G2 = loaded_data_G2[\"values\"] * u.Unit(spec_G.unit)\n",
    "\n",
    "\n",
    "# Plot\n",
    "f, ax = plt.subplots(2, 5, sharey='row', figsize=(20,6), gridspec_kw={'hspace': 0.3, 'wspace':0})\n",
    "\n",
    "ax[0,0].plot(wave_A, co_A)\n",
    "ax[0,0].set_ylim(0, 10000)\n",
    "ax[1,0].plot(wave_A2, co_A2)\n",
    "ax[1,0].set_ylim(0, 10000)\n",
    "ax[0,1].plot(wave_B, co_B)\n",
    "ax[1,1].plot(wave_B2, co_B2)\n",
    "ax[0,2].plot(wave_C, co_C)\n",
    "ax[1,2].plot(wave_C2, co_C2)\n",
    "ax[0,3].plot(wave_D, co_D)\n",
    "ax[1,3].plot(wave_D2, co_D2)\n",
    "ax[0,4].plot(wave_G, co_G)\n",
    "ax[1,4].plot(wave_G2, co_G2)\n",
    "\n",
    "f.text(0.15,0.77, 'Ca II', fontsize=14, ha='center')\n",
    "f.text(0.15,0.35, 'Na I', fontsize=14, ha='center')\n",
    "\n",
    "f.text(0.2, 0.91, 'A', va='center', fontsize=16)\n",
    "f.text(0.35, 0.91, 'B', va='center', fontsize=16)\n",
    "f.text(0.51, 0.91, 'C', va='center', fontsize=16)\n",
    "f.text(0.67, 0.91, 'D', va='center', fontsize=16)\n",
    "f.text(0.82, 0.91, 'G', va='center', fontsize=16)\n",
    "f.text(0.5, 0.05, 'Panjang Gelombang Vakum(Å)', ha='center')\n",
    "f.text(0.07, 0.5, 'Fluks Teramati', va='center', rotation='vertical')\n",
    "plt.show()"
   ]
  },
  {
   "cell_type": "code",
   "execution_count": 37,
   "id": "dc2fb083",
   "metadata": {},
   "outputs": [
    {
     "data": {
      "image/png": "[encoded data removed]",
      "text/plain": [
       "<Figure size 1440x432 with 10 Axes>"
      ]
     },
     "metadata": {
      "needs_background": "light"
     },
     "output_type": "display_data"
    }
   ],
   "source": [
    "# (A) Ca II\n",
    "wavelengths_A = wave_A.value\n",
    "fluxes_A = (F_A.value / co_A.value) - 1\n",
    "uncertainties_A = (uncertain_A.value / co_A.value)\n",
    "\n",
    "# (A) Na I\n",
    "wavelengths_A2 = wave_A2.value\n",
    "fluxes_A2 = (F_A2.value / co_A2.value) - 1\n",
    "uncertainties_A2 = (uncertain_A2.value / co_A2.value)\n",
    "\n",
    "# (B) Ca II\n",
    "wavelengths_B = wave_B.value\n",
    "fluxes_B = (F_B.value / co_B.value) - 1\n",
    "uncertainties_B = (uncertain_B.value / co_B.value)\n",
    "\n",
    "# (B) Na I\n",
    "wavelengths_B2 = wave_B2.value\n",
    "fluxes_B2 = (F_B2.value / co_B2.value) - 1\n",
    "uncertainties_B2 = (uncertain_B2.value / co_B2.value)\n",
    "\n",
    "# (C)\n",
    "wavelengths_C = wave_C.value\n",
    "fluxes_C = (F_C.value / co_C.value) - 1\n",
    "uncertainties_C = (uncertain_C.value / co_C.value)\n",
    "\n",
    "# (C)\n",
    "wavelengths_C2 = wave_C2.value\n",
    "fluxes_C2 = (F_C2.value / co_C2.value) - 1\n",
    "uncertainties_C2 = (uncertain_C2.value / co_C2.value)\n",
    "\n",
    "# (D)\n",
    "wavelengths_D = wave_D.value\n",
    "fluxes_D = (F_D.value / co_D.value) - 1\n",
    "uncertainties_D = (uncertain_D.value / co_D.value)\n",
    "\n",
    "# (D)\n",
    "wavelengths_D2 = wave_D2.value\n",
    "fluxes_D2 = (F_D2.value / co_D2.value) - 1\n",
    "uncertainties_D2 = (uncertain_D2.value / co_D2.value)\n",
    "\n",
    "# (G)\n",
    "wavelengths_G = wave_G.value\n",
    "fluxes_G = (F_G.value / co_G.value) - 1\n",
    "uncertainties_G = (uncertain_G.value / co_D.value)\n",
    "\n",
    "# (G)\n",
    "wavelengths_G2 = wave_G2.value\n",
    "fluxes_G2 = (F_G2.value / co_G2.value) - 1\n",
    "uncertainties_G2 = (uncertain_G2.value / co_G2.value)\n",
    "\n",
    "\n",
    "f, ax = plt.subplots(2, 5, sharey='row', figsize=(20,6), gridspec_kw={'hspace': 0.3, 'wspace':0})\n",
    "\n",
    "ax[0,0].plot(wavelengths_A, fluxes_A, 'k', alpha=0.8, drawstyle='steps-mid')\n",
    "ax[0,0].set_ylim(-1.0,0.1)\n",
    "ax[0,0].set_xlim(3895, 3995)\n",
    "\n",
    "ax[1,0].plot(wavelengths_A2, fluxes_A2, 'k', alpha=0.8, drawstyle='steps-mid')\n",
    "ax[1,0].set_ylim(-1.0,0.1)\n",
    "ax[1,0].set_xlim(5865, 5935)\n",
    "\n",
    "ax[0,1].plot(wavelengths_B, fluxes_B, 'k', alpha=0.8, drawstyle='steps-mid')\n",
    "ax[0,1].set_ylim(-1.0,0.1)\n",
    "ax[0,1].set_xlim(3895, 3995)\n",
    "\n",
    "ax[1,1].plot(wavelengths_B2, fluxes_B2, 'k', alpha=0.8, drawstyle='steps-mid')\n",
    "ax[1,1].set_xlim(5865, 5935)\n",
    "\n",
    "ax[0,2].plot(wavelengths_C, fluxes_C, 'k', alpha=0.8, drawstyle='steps-mid')\n",
    "ax[0,2].set_ylim(-1.0,0.1)\n",
    "ax[0,2].set_xlim(3895, 3995)\n",
    "\n",
    "ax[1,2].plot(wavelengths_C2, fluxes_C2, 'k', alpha=0.8, drawstyle='steps-mid')\n",
    "ax[1,2].set_xlim(5865, 5935)\n",
    "\n",
    "ax[0,3].plot(wavelengths_D, fluxes_D, 'k', alpha=0.8, drawstyle='steps-mid')\n",
    "ax[0,3].set_ylim(-1.0,0.1)\n",
    "ax[0,3].set_xlim(3895, 3995)\n",
    "\n",
    "ax[1,3].plot(wavelengths_D2, fluxes_D2, 'k', alpha=0.8, drawstyle='steps-mid')\n",
    "ax[1,3].set_xlim(5865, 5935)\n",
    "\n",
    "ax[0,4].plot(wavelengths_G, fluxes_G, 'k', alpha=0.8, drawstyle='steps-mid')\n",
    "ax[0,4].set_ylim(-1.0,0.1)\n",
    "ax[0,4].set_xlim(3895, 3995)\n",
    "\n",
    "ax[1,4].plot(wavelengths_G2, fluxes_G2, 'k', alpha=0.8, drawstyle='steps-mid')\n",
    "ax[1,4].set_xlim(5865, 5935)\n",
    "\n",
    "#f.text(0.15,0.77, 'Ca II', fontsize=14, ha='center')\n",
    "#f.text(0.15,0.35, 'Na I', fontsize=14, ha='center')\n",
    "\n",
    "f.text(0.2, 0.91, 'A', va='center', fontsize=16)\n",
    "f.text(0.35, 0.91, 'B', va='center', fontsize=16)\n",
    "f.text(0.51, 0.91, 'C', va='center', fontsize=16)\n",
    "f.text(0.67, 0.91, 'D', va='center', fontsize=16)\n",
    "f.text(0.82, 0.91, 'G', va='center', fontsize=16)\n",
    "f.text(0.5, 0.05, 'Panjang Gelombang Vakum(Å)', ha='center')\n",
    "f.text(0.09, 0.5, 'Fluks Teramati', va='center', rotation='vertical')\n",
    "plt.show()"
   ]
  },
  {
   "cell_type": "markdown",
   "id": "66fa205d",
   "metadata": {},
   "source": [
    "# 3. Equivalent Width"
   ]
  },
  {
   "cell_type": "code",
   "execution_count": 38,
   "id": "20424dc6",
   "metadata": {},
   "outputs": [
    {
     "name": "stdout",
     "output_type": "stream",
     "text": [
      "Equivalent Width (W) A Ca II λ3935: 3.008 Å\n",
      "Equivalent Width (W) A Na I: 0.706 Å\n",
      "Equivalent Width (W) B Ca II λ3935: 2.402 Å\n",
      "Equivalent Width (W) B Na I: 0.931 Å\n",
      "Equivalent Width (W) C Ca II λ3935: 2.751 Å\n",
      "Equivalent Width (W) C Na I: 0.846 Å\n",
      "Equivalent Width (W) D Ca II λ3935: 4.888 Å\n",
      "Equivalent Width (W) D Na I: 1.998 Å\n",
      "Equivalent Width (W) G Ca II λ3935: 5.751 Å\n",
      "Equivalent Width (W) G Na I: 2.683 Å\n"
     ]
    }
   ],
   "source": [
    "def compute_ew(wavelengths, flux, continuum_level, line_range):\n",
    "    \n",
    "    in_line_region = (wavelengths >= line_range[0]) & (wavelengths <= line_range[1])\n",
    "    lam_line = wavelengths[in_line_region]\n",
    "    flux_line = flux[in_line_region]\n",
    "\n",
    "    absorption_mask = flux_line < continuum_level\n",
    "    lam_absorb = lam_line[absorption_mask]\n",
    "    flux_absorb = flux_line[absorption_mask]\n",
    "\n",
    "    ew = - np.trapz(flux_absorb, lam_absorb)\n",
    "\n",
    "    return ew\n",
    "\n",
    "W_lambda_A = compute_ew(wavelengths_A, fluxes_A, continuum_level=0, line_range=(3913, 3955))\n",
    "W_lambda_A2 = compute_ew(wavelengths_A2, fluxes_A2, continuum_level=0, line_range=(5880, 5910))\n",
    "W_lambda_B = compute_ew(wavelengths_B, fluxes_B, continuum_level=0, line_range=(3913, 3955))\n",
    "W_lambda_B2 = compute_ew(wavelengths_B2, fluxes_B2, continuum_level=0, line_range=(5880, 5910))\n",
    "W_lambda_C = compute_ew(wavelengths_C, fluxes_C, continuum_level=0, line_range=(3913, 3955))\n",
    "W_lambda_C2 = compute_ew(wavelengths_C2, fluxes_C2, continuum_level=0, line_range=(5880, 5910))\n",
    "W_lambda_D = compute_ew(wavelengths_D, fluxes_D, continuum_level=0, line_range=(3913, 3955))\n",
    "W_lambda_D2 = compute_ew(wavelengths_D2, fluxes_D2, continuum_level=0, line_range=(5880, 5910))\n",
    "W_lambda_G = compute_ew(wavelengths_G, fluxes_G, continuum_level=0, line_range=(3913, 3955))\n",
    "W_lambda_G2 = compute_ew(wavelengths_G2, fluxes_G2, continuum_level=0, line_range=(5880, 5910))\n",
    "\n",
    "print(f\"Equivalent Width (W) A Ca II λ3935: {W_lambda_A:.3f} Å\")\n",
    "print(f\"Equivalent Width (W) A Na I: {W_lambda_A2:.3f} Å\")\n",
    "print(f\"Equivalent Width (W) B Ca II λ3935: {W_lambda_B:.3f} Å\")\n",
    "print(f\"Equivalent Width (W) B Na I: {W_lambda_B2:.3f} Å\")\n",
    "print(f\"Equivalent Width (W) C Ca II λ3935: {W_lambda_C:.3f} Å\")\n",
    "print(f\"Equivalent Width (W) C Na I: {W_lambda_C2:.3f} Å\")\n",
    "print(f\"Equivalent Width (W) D Ca II λ3935: {W_lambda_D:.3f} Å\")\n",
    "print(f\"Equivalent Width (W) D Na I: {W_lambda_D2:.3f} Å\")\n",
    "print(f\"Equivalent Width (W) G Ca II λ3935: {W_lambda_G:.3f} Å\")\n",
    "print(f\"Equivalent Width (W) G Na I: {W_lambda_G2:.3f} Å\")"
   ]
  },
  {
   "cell_type": "markdown",
   "id": "c581cf67",
   "metadata": {},
   "source": [
    "# 4. Fitting Gaussian"
   ]
  },
  {
   "cell_type": "code",
   "execution_count": 39,
   "id": "8219fbf4",
   "metadata": {},
   "outputs": [],
   "source": [
    "def convolved_model_ca(x, amp, mu, sigma, amp2, sigma2):\n",
    "    mu2 = mu + (lambda_3970 - lambda_3935)\n",
    "    intrinsic_profile = (amp * np.exp(-0.5 * ((x - mu)/sigma)**2)) + (amp2 * np.exp(-0.5 * ((x - mu2)/sigma2)**2))\n",
    "    return intrinsic_profile"
   ]
  },
  {
   "cell_type": "code",
   "execution_count": 40,
   "id": "179cdbd6",
   "metadata": {},
   "outputs": [
    {
     "data": {
      "text/plain": [
       "array([-1.62151342e-01,  3.93436640e+03,  7.08248220e+00, -1.48422695e-01,\n",
       "        5.21703267e+00])"
      ]
     },
     "execution_count": 40,
     "metadata": {},
     "output_type": "execute_result"
    }
   ],
   "source": [
    "# (A) Ca II\n",
    "p0_A = [-0.2, 3935, 5, -0.2, 5]\n",
    "\n",
    "popt_A, _ = curve_fit(convolved_model_ca, wavelengths_A, fluxes_A, p0=p0_A)\n",
    "popt_A"
   ]
  },
  {
   "cell_type": "code",
   "execution_count": 41,
   "id": "95a7af6e",
   "metadata": {},
   "outputs": [
    {
     "name": "stdout",
     "output_type": "stream",
     "text": [
      "Estimated Noise Standard Deviation: 1.284\n"
     ]
    },
    {
     "data": {
      "image/png": "[encoded data removed]",
      "text/plain": [
       "<Figure size 432x288 with 1 Axes>"
      ]
     },
     "metadata": {
      "needs_background": "light"
     },
     "output_type": "display_data"
    }
   ],
   "source": [
    "residuals_A = fluxes_A - convolved_model_ca(wavelengths_A, *popt_A)\n",
    "\n",
    "plt.hist(residuals_A / uncertainties_A)\n",
    "\n",
    "std_A = np.std(residuals_A / uncertainties_A)\n",
    "print(f\"Estimated Noise Standard Deviation: {std_A:.3f}\")"
   ]
  },
  {
   "cell_type": "code",
   "execution_count": 42,
   "id": "c99243a0",
   "metadata": {},
   "outputs": [
    {
     "name": "stdout",
     "output_type": "stream",
     "text": [
      "Estimated Noise Standard Deviation: 1.065\n"
     ]
    },
    {
     "data": {
      "image/png": "[encoded data removed]",
      "text/plain": [
       "<Figure size 432x288 with 1 Axes>"
      ]
     },
     "metadata": {
      "needs_background": "light"
     },
     "output_type": "display_data"
    }
   ],
   "source": [
    "sigma_floor_A = 0.01\n",
    "sigma_adjusted_A = np.sqrt(uncertainties_A**2 + sigma_floor_A**2)\n",
    "\n",
    "plt.hist(residuals_A / sigma_adjusted_A)\n",
    "\n",
    "std_A = np.std(residuals_A / sigma_adjusted_A)\n",
    "print(f\"Estimated Noise Standard Deviation: {std_A:.3f}\")"
   ]
  },
  {
   "cell_type": "code",
   "execution_count": 43,
   "id": "242f86fd",
   "metadata": {},
   "outputs": [
    {
     "name": "stdout",
     "output_type": "stream",
     "text": [
      "Chi-squared: 125.169\n",
      "Degree of freedom: 105.000\n",
      "Reduced Chi-squared: 1.192\n"
     ]
    }
   ],
   "source": [
    "chi_squared_A = np.sum((residuals_A / sigma_adjusted_A) ** 2)\n",
    "dof_A = len(fluxes_A) - len(popt_A)\n",
    "\n",
    "reduced_chi_squared_A = chi_squared_A / dof_A\n",
    "\n",
    "print(f'Chi-squared: {chi_squared_A:.3f}')\n",
    "print(f'Degree of freedom: {dof_A:.3f}')\n",
    "print(f'Reduced Chi-squared: {reduced_chi_squared_A:.3f}')"
   ]
  },
  {
   "cell_type": "code",
   "execution_count": 44,
   "id": "2ffacc95",
   "metadata": {},
   "outputs": [
    {
     "data": {
      "text/plain": [
       "<matplotlib.legend.Legend at 0x2528d216d00>"
      ]
     },
     "execution_count": 44,
     "metadata": {},
     "output_type": "execute_result"
    },
    {
     "data": {
      "image/png": "[encoded data removed]",
      "text/plain": [
       "<Figure size 432x288 with 1 Axes>"
      ]
     },
     "metadata": {
      "needs_background": "light"
     },
     "output_type": "display_data"
    }
   ],
   "source": [
    "(recovered_amp_3935, recovered_mu_3935, recovered_std_3935, recovered_amp2_3935, recovered_std2_3935) = popt_A\n",
    "recovered_mu2_3935 = recovered_mu_3935 + (lambda_3970 - lambda_3935)\n",
    "\n",
    "true_spectrum_A = (Gaussian1D(amplitude=recovered_amp_3935, mean=recovered_mu_3935, stddev=recovered_std_3935)\n",
    "                  + Gaussian1D(amplitude=recovered_amp2_3935, mean=recovered_mu2_3935, stddev=recovered_std2_3935))\n",
    "\n",
    "plt.plot(wavelengths_A, true_spectrum_A(wavelengths_A), '--', label=\"True Voigt\", color='blue')\n",
    "#plt.xlim(2780, 2820)\n",
    "plt.ylim(-1, 0.1)\n",
    "plt.legend()"
   ]
  },
  {
   "cell_type": "code",
   "execution_count": 45,
   "id": "c56e07d3",
   "metadata": {},
   "outputs": [
    {
     "data": {
      "text/plain": [
       "<matplotlib.legend.Legend at 0x2528d254a30>"
      ]
     },
     "execution_count": 45,
     "metadata": {},
     "output_type": "execute_result"
    },
    {
     "data": {
      "image/png": "[encoded data removed]",
      "text/plain": [
       "<Figure size 432x288 with 1 Axes>"
      ]
     },
     "metadata": {
      "needs_background": "light"
     },
     "output_type": "display_data"
    }
   ],
   "source": [
    "plt.figure()\n",
    "plt.plot(wavelengths_A, fluxes_A+1, label=\"Observed Spectrum\", color='gray', alpha= 0.8, drawstyle='steps-mid')\n",
    "plt.plot(wavelengths_A, true_spectrum_A(wavelengths_A)+1, '--', label=\"True Spectrum\", color='blue',alpha=0.7)\n",
    "plt.plot(wavelengths_A, residuals_A, label='Residuals', color='cyan')\n",
    "\n",
    "plt.title(\"1 Components\")\n",
    "plt.ylim(-0.05,1.1)\n",
    "plt.legend()"
   ]
  },
  {
   "cell_type": "code",
   "execution_count": 46,
   "id": "2099518b",
   "metadata": {},
   "outputs": [
    {
     "data": {
      "text/plain": [
       "(-2000.0, 2000.0)"
      ]
     },
     "execution_count": 46,
     "metadata": {},
     "output_type": "execute_result"
    },
    {
     "data": {
      "image/png": "[encoded data removed]",
      "text/plain": [
       "<Figure size 432x288 with 1 Axes>"
      ]
     },
     "metadata": {
      "needs_background": "light"
     },
     "output_type": "display_data"
    }
   ],
   "source": [
    "v_3935_A = c_kms * (wavelengths_A - lambda_3935) / lambda_3935\n",
    "\n",
    "vline_3935_A = c_kms * (recovered_mu_3935 - lambda_3935) / lambda_3935\n",
    "\n",
    "plt.plot(v_3935_A, fluxes_A+1, 'k', alpha=0.8, drawstyle='steps-mid')\n",
    "plt.plot(v_3935_A, true_spectrum_A(wavelengths_A)+1, color='green')\n",
    "plt.axvline(vline_3935_A, color=\"grey\", linestyle=\":\")\n",
    "plt.ylim(0.5, 1.1)\n",
    "plt.xlim(-2000,2000)"
   ]
  },
  {
   "cell_type": "code",
   "execution_count": 47,
   "id": "bbe53f5d",
   "metadata": {},
   "outputs": [
    {
     "data": {
      "text/plain": [
       "array([-1.59748384e-01,  3.93379033e+03,  4.96600377e+00, -1.66550921e-01,\n",
       "        5.64704078e+00])"
      ]
     },
     "execution_count": 47,
     "metadata": {},
     "output_type": "execute_result"
    }
   ],
   "source": [
    "# (B) Ca II\n",
    "p0_B = [-0.2, 3935, 5, -0.2, 5]\n",
    "\n",
    "popt_B, _ = curve_fit(convolved_model_ca, wavelengths_B, fluxes_B, p0=p0_B)\n",
    "popt_B"
   ]
  },
  {
   "cell_type": "code",
   "execution_count": 48,
   "id": "ca8dcaca",
   "metadata": {},
   "outputs": [
    {
     "name": "stdout",
     "output_type": "stream",
     "text": [
      "Estimated Noise Standard Deviation: 1.433\n"
     ]
    },
    {
     "data": {
      "image/png": "[encoded data removed]",
      "text/plain": [
       "<Figure size 432x288 with 1 Axes>"
      ]
     },
     "metadata": {
      "needs_background": "light"
     },
     "output_type": "display_data"
    }
   ],
   "source": [
    "residuals_B = fluxes_B - convolved_model_ca(wavelengths_B, *popt_B)\n",
    "\n",
    "plt.hist(residuals_B / uncertainties_B)\n",
    "\n",
    "std_B = np.std(residuals_B / uncertainties_B)\n",
    "print(f\"Estimated Noise Standard Deviation: {std_B:.3f}\")"
   ]
  },
  {
   "cell_type": "code",
   "execution_count": 49,
   "id": "71090d3f",
   "metadata": {},
   "outputs": [
    {
     "name": "stdout",
     "output_type": "stream",
     "text": [
      "Estimated Noise Standard Deviation: 1.160\n"
     ]
    },
    {
     "data": {
      "image/png": "[encoded data removed]",
      "text/plain": [
       "<Figure size 432x288 with 1 Axes>"
      ]
     },
     "metadata": {
      "needs_background": "light"
     },
     "output_type": "display_data"
    }
   ],
   "source": [
    "sigma_floor_B = 0.01\n",
    "sigma_adjusted_B = np.sqrt(uncertainties_B**2 + sigma_floor_B**2)\n",
    "\n",
    "plt.hist(residuals_B / sigma_adjusted_B)\n",
    "\n",
    "std_B = np.std(residuals_B / sigma_adjusted_B)\n",
    "print(f\"Estimated Noise Standard Deviation: {std_B:.3f}\")"
   ]
  },
  {
   "cell_type": "code",
   "execution_count": 50,
   "id": "fadf1241",
   "metadata": {},
   "outputs": [
    {
     "name": "stdout",
     "output_type": "stream",
     "text": [
      "Chi-squared: 147.909\n",
      "Degree of freedom: 105.000\n",
      "Reduced Chi-squared: 1.409\n"
     ]
    }
   ],
   "source": [
    "chi_squared_B = np.sum((residuals_B / sigma_adjusted_B) ** 2)\n",
    "dof_B = len(fluxes_B) - len(popt_B)\n",
    "\n",
    "reduced_chi_squared_B = chi_squared_B / dof_B\n",
    "\n",
    "print(f'Chi-squared: {chi_squared_B:.3f}')\n",
    "print(f'Degree of freedom: {dof_B:.3f}')\n",
    "print(f'Reduced Chi-squared: {reduced_chi_squared_B:.3f}')"
   ]
  },
  {
   "cell_type": "code",
   "execution_count": 51,
   "id": "b4ff5b6c",
   "metadata": {},
   "outputs": [
    {
     "data": {
      "text/plain": [
       "<matplotlib.legend.Legend at 0x25287883d90>"
      ]
     },
     "execution_count": 51,
     "metadata": {},
     "output_type": "execute_result"
    },
    {
     "data": {
      "image/png": "[encoded data removed]",
      "text/plain": [
       "<Figure size 432x288 with 1 Axes>"
      ]
     },
     "metadata": {
      "needs_background": "light"
     },
     "output_type": "display_data"
    }
   ],
   "source": [
    "(recovered_amp_3935, recovered_mu_3935, recovered_std_3935, recovered_amp2_3935, recovered_std2_3935) = popt_B\n",
    "recovered_mu2_3935 = recovered_mu_3935 + (lambda_3970 - lambda_3935)\n",
    "\n",
    "true_spectrum_B = (Gaussian1D(amplitude=recovered_amp_3935, mean=recovered_mu_3935, stddev=recovered_std_3935)\n",
    "                  + Gaussian1D(amplitude=recovered_amp2_3935, mean=recovered_mu2_3935, stddev=recovered_std2_3935))\n",
    "\n",
    "plt.plot(wavelengths_B, true_spectrum_B(wavelengths_B), '--', label=\"True Voigt\", color='blue')\n",
    "#plt.xlim(2780, 2820)\n",
    "plt.ylim(-1, 0.1)\n",
    "plt.legend()"
   ]
  },
  {
   "cell_type": "code",
   "execution_count": 52,
   "id": "a047a976",
   "metadata": {},
   "outputs": [
    {
     "data": {
      "text/plain": [
       "<matplotlib.legend.Legend at 0x2528cdd3a00>"
      ]
     },
     "execution_count": 52,
     "metadata": {},
     "output_type": "execute_result"
    },
    {
     "data": {
      "image/png": "[encoded data removed]",
      "text/plain": [
       "<Figure size 432x288 with 1 Axes>"
      ]
     },
     "metadata": {
      "needs_background": "light"
     },
     "output_type": "display_data"
    }
   ],
   "source": [
    "plt.figure()\n",
    "plt.plot(wavelengths_B, fluxes_B+1, label=\"Observed Spectrum\", color='gray', alpha= 0.8, drawstyle='steps-mid')\n",
    "plt.plot(wavelengths_B, true_spectrum_B(wavelengths_B)+1, '--', label=\"True Spectrum\", color='blue',alpha=0.7)\n",
    "plt.plot(wavelengths_B, residuals_B, label='Residuals', color='cyan')\n",
    "\n",
    "plt.title(\"1 Components\")\n",
    "plt.ylim(-0.05,1.1)\n",
    "plt.legend()"
   ]
  },
  {
   "cell_type": "code",
   "execution_count": 53,
   "id": "4754d461",
   "metadata": {},
   "outputs": [
    {
     "data": {
      "text/plain": [
       "(-2000.0, 2000.0)"
      ]
     },
     "execution_count": 53,
     "metadata": {},
     "output_type": "execute_result"
    },
    {
     "data": {
      "image/png": "[encoded data removed]",
      "text/plain": [
       "<Figure size 432x288 with 1 Axes>"
      ]
     },
     "metadata": {
      "needs_background": "light"
     },
     "output_type": "display_data"
    }
   ],
   "source": [
    "v_3935_B = c_kms * (wavelengths_B - lambda_3935) / lambda_3935\n",
    "\n",
    "vline_3935_B = c_kms * (recovered_mu_3935 - lambda_3935) / lambda_3935\n",
    "\n",
    "plt.plot(v_3935_B, fluxes_B+1, 'k', alpha=0.8, drawstyle='steps-mid')\n",
    "plt.plot(v_3935_B, true_spectrum_B(wavelengths_B)+1, color='green')\n",
    "plt.axvline(vline_3935_B, color=\"grey\", linestyle=\":\")\n",
    "plt.ylim(0.5, 1.1)\n",
    "plt.xlim(-2000,2000)"
   ]
  },
  {
   "cell_type": "code",
   "execution_count": 54,
   "id": "c0378eac",
   "metadata": {},
   "outputs": [
    {
     "data": {
      "text/plain": [
       "array([-1.69192681e-01,  3.93491609e+03,  6.39040822e+00, -1.77170486e-01,\n",
       "        5.59560406e+00])"
      ]
     },
     "execution_count": 54,
     "metadata": {},
     "output_type": "execute_result"
    }
   ],
   "source": [
    "# (C) Ca II\n",
    "p0_C = [-0.2, 3935, 5, -0.2, 5]\n",
    "\n",
    "popt_C, _ = curve_fit(convolved_model_ca, wavelengths_C, fluxes_C, p0=p0_C)\n",
    "popt_C"
   ]
  },
  {
   "cell_type": "code",
   "execution_count": 55,
   "id": "2b70cc00",
   "metadata": {},
   "outputs": [
    {
     "name": "stdout",
     "output_type": "stream",
     "text": [
      "Estimated Noise Standard Deviation: 1.157\n"
     ]
    },
    {
     "data": {
      "image/png": "[encoded data removed]",
      "text/plain": [
       "<Figure size 432x288 with 1 Axes>"
      ]
     },
     "metadata": {
      "needs_background": "light"
     },
     "output_type": "display_data"
    }
   ],
   "source": [
    "residuals_C = fluxes_C - convolved_model_ca(wavelengths_C, *popt_C)\n",
    "\n",
    "plt.hist(residuals_C / uncertainties_C)\n",
    "\n",
    "std_C = np.std(residuals_C / uncertainties_C)\n",
    "print(f\"Estimated Noise Standard Deviation: {std_C:.3f}\")"
   ]
  },
  {
   "cell_type": "code",
   "execution_count": 56,
   "id": "b384ca1a",
   "metadata": {},
   "outputs": [
    {
     "name": "stdout",
     "output_type": "stream",
     "text": [
      "Estimated Noise Standard Deviation: 1.000\n"
     ]
    },
    {
     "data": {
      "image/png": "[encoded data removed]",
      "text/plain": [
       "<Figure size 432x288 with 1 Axes>"
      ]
     },
     "metadata": {
      "needs_background": "light"
     },
     "output_type": "display_data"
    }
   ],
   "source": [
    "sigma_floor_C = 0.00758\n",
    "sigma_adjusted_C = np.sqrt(uncertainties_C**2 + sigma_floor_C**2)\n",
    "\n",
    "plt.hist(residuals_C / sigma_adjusted_C)\n",
    "\n",
    "std_C = np.std(residuals_C / sigma_adjusted_C)\n",
    "print(f\"Estimated Noise Standard Deviation: {std_C:.3f}\")"
   ]
  },
  {
   "cell_type": "code",
   "execution_count": 57,
   "id": "fdcb46cd",
   "metadata": {},
   "outputs": [
    {
     "name": "stdout",
     "output_type": "stream",
     "text": [
      "Chi-squared: 110.723\n",
      "Degree of freedom: 105.000\n",
      "Reduced Chi-squared: 1.055\n"
     ]
    }
   ],
   "source": [
    "chi_squared_C = np.sum((residuals_C / sigma_adjusted_C) ** 2)\n",
    "dof_C = len(fluxes_C) - len(popt_C)\n",
    "\n",
    "reduced_chi_squared_C = chi_squared_C / dof_C\n",
    "\n",
    "print(f'Chi-squared: {chi_squared_C:.3f}')\n",
    "print(f'Degree of freedom: {dof_C:.3f}')\n",
    "print(f'Reduced Chi-squared: {reduced_chi_squared_C:.3f}')"
   ]
  },
  {
   "cell_type": "code",
   "execution_count": 58,
   "id": "cc7cfd42",
   "metadata": {},
   "outputs": [
    {
     "data": {
      "text/plain": [
       "<matplotlib.legend.Legend at 0x2528c9b9fa0>"
      ]
     },
     "execution_count": 58,
     "metadata": {},
     "output_type": "execute_result"
    },
    {
     "data": {
      "image/png": "[encoded data removed]",
      "text/plain": [
       "<Figure size 432x288 with 1 Axes>"
      ]
     },
     "metadata": {
      "needs_background": "light"
     },
     "output_type": "display_data"
    }
   ],
   "source": [
    "(recovered_amp_3935, recovered_mu_3935, recovered_std_3935, recovered_amp2_3935, recovered_std2_3935) = popt_C\n",
    "recovered_mu2_3935 = recovered_mu_3935 + (lambda_3970 - lambda_3935)\n",
    "\n",
    "true_spectrum_C = (Gaussian1D(amplitude=recovered_amp_3935, mean=recovered_mu_3935, stddev=recovered_std_3935)\n",
    "                  + Gaussian1D(amplitude=recovered_amp2_3935, mean=recovered_mu2_3935, stddev=recovered_std2_3935))\n",
    "\n",
    "plt.plot(wavelengths_C, true_spectrum_C(wavelengths_C), '--', label=\"True Voigt\", color='blue')\n",
    "#plt.xlim(2780, 2820)\n",
    "plt.ylim(-1, 0.1)\n",
    "plt.legend()"
   ]
  },
  {
   "cell_type": "code",
   "execution_count": 59,
   "id": "f8fcb9cf",
   "metadata": {},
   "outputs": [
    {
     "data": {
      "text/plain": [
       "<matplotlib.legend.Legend at 0x2528ca0a190>"
      ]
     },
     "execution_count": 59,
     "metadata": {},
     "output_type": "execute_result"
    },
    {
     "data": {
      "image/png": "[encoded data removed]",
      "text/plain": [
       "<Figure size 432x288 with 1 Axes>"
      ]
     },
     "metadata": {
      "needs_background": "light"
     },
     "output_type": "display_data"
    }
   ],
   "source": [
    "plt.figure()\n",
    "plt.plot(wavelengths_C, fluxes_C+1, label=\"Observed Spectrum\", color='gray', alpha= 0.8, drawstyle='steps-mid')\n",
    "plt.plot(wavelengths_C, true_spectrum_C(wavelengths_C)+1, '--', label=\"True Spectrum\", color='blue',alpha=0.7)\n",
    "plt.plot(wavelengths_C, residuals_C, label='Residuals', color='cyan')\n",
    "\n",
    "plt.title(\"1 Components\")\n",
    "plt.ylim(-0.05,1.1)\n",
    "plt.legend()"
   ]
  },
  {
   "cell_type": "code",
   "execution_count": 60,
   "id": "60e04108",
   "metadata": {},
   "outputs": [
    {
     "data": {
      "text/plain": [
       "(-2000.0, 2000.0)"
      ]
     },
     "execution_count": 60,
     "metadata": {},
     "output_type": "execute_result"
    },
    {
     "data": {
      "image/png": "[encoded data removed]",
      "text/plain": [
       "<Figure size 432x288 with 1 Axes>"
      ]
     },
     "metadata": {
      "needs_background": "light"
     },
     "output_type": "display_data"
    }
   ],
   "source": [
    "v_3935_C = c_kms * (wavelengths_C - lambda_3935) / lambda_3935\n",
    "\n",
    "vline_3935_C = c_kms * (recovered_mu_3935 - lambda_3935) / lambda_3935\n",
    "\n",
    "plt.plot(v_3935_C, fluxes_C+1, 'k', alpha=0.8, drawstyle='steps-mid')\n",
    "plt.plot(v_3935_C, true_spectrum_C(wavelengths_C)+1, color='green')\n",
    "plt.axvline(vline_3935_C, color=\"grey\", linestyle=\":\")\n",
    "plt.ylim(0.5, 1.1)\n",
    "plt.xlim(-2000,2000)"
   ]
  },
  {
   "cell_type": "code",
   "execution_count": 61,
   "id": "9fb302c1",
   "metadata": {},
   "outputs": [
    {
     "data": {
      "text/plain": [
       "array([-2.79389533e-01,  3.93414874e+03,  6.75720195e+00, -3.02948136e-01,\n",
       "        6.03568426e+00])"
      ]
     },
     "execution_count": 61,
     "metadata": {},
     "output_type": "execute_result"
    }
   ],
   "source": [
    "# (D) Ca II\n",
    "p0_D = [-0.2, 3935, 2, -0.2, 2]\n",
    "\n",
    "popt_D, _ = curve_fit(convolved_model_ca, wavelengths_D, fluxes_D, p0=p0_D)\n",
    "popt_D"
   ]
  },
  {
   "cell_type": "code",
   "execution_count": 62,
   "id": "ad60770c",
   "metadata": {},
   "outputs": [
    {
     "name": "stdout",
     "output_type": "stream",
     "text": [
      "Estimated Noise Standard Deviation: 1.384\n"
     ]
    },
    {
     "data": {
      "image/png": "[encoded data removed]",
      "text/plain": [
       "<Figure size 432x288 with 1 Axes>"
      ]
     },
     "metadata": {
      "needs_background": "light"
     },
     "output_type": "display_data"
    }
   ],
   "source": [
    "residuals_D = fluxes_D - convolved_model_ca(wavelengths_D, *popt_D)\n",
    "\n",
    "plt.hist(residuals_D / uncertainties_D)\n",
    "\n",
    "std_D = np.std(residuals_D / uncertainties_D)\n",
    "print(f\"Estimated Noise Standard Deviation: {std_D:.3f}\")"
   ]
  },
  {
   "cell_type": "code",
   "execution_count": 63,
   "id": "abf266ea",
   "metadata": {},
   "outputs": [
    {
     "name": "stdout",
     "output_type": "stream",
     "text": [
      "Estimated Noise Standard Deviation: 1.210\n"
     ]
    },
    {
     "data": {
      "image/png": "[encoded data removed]",
      "text/plain": [
       "<Figure size 432x288 with 1 Axes>"
      ]
     },
     "metadata": {
      "needs_background": "light"
     },
     "output_type": "display_data"
    }
   ],
   "source": [
    "sigma_floor_D = 0.01\n",
    "sigma_adjusted_D = np.sqrt(uncertainties_D**2 + sigma_floor_D**2)\n",
    "\n",
    "plt.hist(residuals_D / sigma_adjusted_D)\n",
    "\n",
    "std_D = np.std(residuals_D / sigma_adjusted_D)\n",
    "print(f\"Estimated Noise Standard Deviation: {std_D:.3f}\")"
   ]
  },
  {
   "cell_type": "code",
   "execution_count": 64,
   "id": "fda0a07d",
   "metadata": {},
   "outputs": [
    {
     "name": "stdout",
     "output_type": "stream",
     "text": [
      "Chi-squared: 161.015\n",
      "Degree of freedom: 105.000\n",
      "Reduced Chi-squared: 1.533\n"
     ]
    }
   ],
   "source": [
    "chi_squared_D = np.sum((residuals_D / sigma_adjusted_D) ** 2)\n",
    "dof_D = len(fluxes_D) - len(popt_D)\n",
    "\n",
    "reduced_chi_squared_D = chi_squared_D / dof_D\n",
    "\n",
    "print(f'Chi-squared: {chi_squared_D:.3f}')\n",
    "print(f'Degree of freedom: {dof_D:.3f}')\n",
    "print(f'Reduced Chi-squared: {reduced_chi_squared_D:.3f}')"
   ]
  },
  {
   "cell_type": "code",
   "execution_count": 65,
   "id": "b39b5104",
   "metadata": {},
   "outputs": [
    {
     "data": {
      "text/plain": [
       "<matplotlib.legend.Legend at 0x2528c937670>"
      ]
     },
     "execution_count": 65,
     "metadata": {},
     "output_type": "execute_result"
    },
    {
     "data": {
      "image/png": "[encoded data removed]",
      "text/plain": [
       "<Figure size 432x288 with 1 Axes>"
      ]
     },
     "metadata": {
      "needs_background": "light"
     },
     "output_type": "display_data"
    }
   ],
   "source": [
    "(recovered_amp_3935, recovered_mu_3935, recovered_std_3935, recovered_amp2_3935, recovered_std2_3935) = popt_D\n",
    "recovered_mu2_3935 = recovered_mu_3935 + (lambda_3970 - lambda_3935)\n",
    "\n",
    "true_spectrum_D = (Gaussian1D(amplitude=recovered_amp_3935, mean=recovered_mu_3935, stddev=recovered_std_3935)\n",
    "                  + Gaussian1D(amplitude=recovered_amp2_3935, mean=recovered_mu2_3935, stddev=recovered_std2_3935))\n",
    "\n",
    "plt.plot(wavelengths_D, true_spectrum_D(wavelengths_D), '--', label=\"True Voigt\", color='blue')\n",
    "#plt.xlim(2780, 2820)\n",
    "plt.ylim(-1, 0.1)\n",
    "plt.legend()"
   ]
  },
  {
   "cell_type": "code",
   "execution_count": 66,
   "id": "140663e6",
   "metadata": {},
   "outputs": [
    {
     "data": {
      "text/plain": [
       "<matplotlib.legend.Legend at 0x2528c85fac0>"
      ]
     },
     "execution_count": 66,
     "metadata": {},
     "output_type": "execute_result"
    },
    {
     "data": {
      "image/png": "[encoded data removed]",
      "text/plain": [
       "<Figure size 432x288 with 1 Axes>"
      ]
     },
     "metadata": {
      "needs_background": "light"
     },
     "output_type": "display_data"
    }
   ],
   "source": [
    "plt.figure()\n",
    "plt.plot(wavelengths_D, fluxes_D+1, label=\"Observed Spectrum\", color='gray', alpha= 0.8, drawstyle='steps-mid')\n",
    "plt.plot(wavelengths_D, true_spectrum_D(wavelengths_D)+1, '--', label=\"True Spectrum\", color='blue',alpha=0.7)\n",
    "plt.plot(wavelengths_D, residuals_D, label='Residuals', color='cyan')\n",
    "\n",
    "plt.title(\"1 Components\")\n",
    "plt.ylim(-0.05,1.1)\n",
    "plt.legend()"
   ]
  },
  {
   "cell_type": "code",
   "execution_count": 67,
   "id": "899e3a1e",
   "metadata": {},
   "outputs": [
    {
     "data": {
      "text/plain": [
       "(-2000.0, 2000.0)"
      ]
     },
     "execution_count": 67,
     "metadata": {},
     "output_type": "execute_result"
    },
    {
     "data": {
      "image/png": "[encoded data removed]",
      "text/plain": [
       "<Figure size 432x288 with 1 Axes>"
      ]
     },
     "metadata": {
      "needs_background": "light"
     },
     "output_type": "display_data"
    }
   ],
   "source": [
    "v_3935_D = c_kms * (wavelengths_D - lambda_3935) / lambda_3935\n",
    "\n",
    "vline_3935_D = c_kms * (recovered_mu_3935 - lambda_3935) / lambda_3935\n",
    "\n",
    "plt.plot(v_3935_D, fluxes_D+1, 'k', alpha=0.8, drawstyle='steps-mid')\n",
    "plt.plot(v_3935_D, true_spectrum_D(wavelengths_D)+1, color='green')\n",
    "plt.axvline(vline_3935_D, color=\"grey\", linestyle=\":\")\n",
    "plt.ylim(0.5, 1.1)\n",
    "plt.xlim(-2000,2000)"
   ]
  },
  {
   "cell_type": "code",
   "execution_count": 68,
   "id": "5f3cfc5b",
   "metadata": {},
   "outputs": [
    {
     "data": {
      "text/plain": [
       "array([-3.23695038e-01,  3.93458126e+03,  7.00174204e+00, -3.22928478e-01,\n",
       "        5.08152754e+00])"
      ]
     },
     "execution_count": 68,
     "metadata": {},
     "output_type": "execute_result"
    }
   ],
   "source": [
    "# (G) Ca II\n",
    "p0_G = [-0.2, 3935, 2, -0.2, 2]\n",
    "\n",
    "popt_G, _ = curve_fit(convolved_model_ca, wavelengths_G, fluxes_G, p0=p0_G)\n",
    "popt_G"
   ]
  },
  {
   "cell_type": "code",
   "execution_count": 69,
   "id": "538d96b7",
   "metadata": {},
   "outputs": [
    {
     "name": "stdout",
     "output_type": "stream",
     "text": [
      "Estimated Noise Standard Deviation: 1.186\n"
     ]
    },
    {
     "data": {
      "image/png": "[encoded data removed]",
      "text/plain": [
       "<Figure size 432x288 with 1 Axes>"
      ]
     },
     "metadata": {
      "needs_background": "light"
     },
     "output_type": "display_data"
    }
   ],
   "source": [
    "residuals_G = fluxes_G - convolved_model_ca(wavelengths_G, *popt_G)\n",
    "\n",
    "plt.hist(residuals_G / uncertainties_G)\n",
    "\n",
    "std_G = np.std(residuals_G / uncertainties_G)\n",
    "print(f\"Estimated Noise Standard Deviation: {std_G:.3f}\")"
   ]
  },
  {
   "cell_type": "code",
   "execution_count": 70,
   "id": "802f3757",
   "metadata": {},
   "outputs": [
    {
     "name": "stdout",
     "output_type": "stream",
     "text": [
      "Estimated Noise Standard Deviation: 1.048\n"
     ]
    },
    {
     "data": {
      "image/png": "[encoded data removed]",
      "text/plain": [
       "<Figure size 432x288 with 1 Axes>"
      ]
     },
     "metadata": {
      "needs_background": "light"
     },
     "output_type": "display_data"
    }
   ],
   "source": [
    "sigma_floor_G = 0.01\n",
    "sigma_adjusted_G = np.sqrt(uncertainties_G**2 + sigma_floor_G**2)\n",
    "\n",
    "plt.hist(residuals_G / sigma_adjusted_G)\n",
    "\n",
    "std_G = np.std(residuals_G / sigma_adjusted_G)\n",
    "print(f\"Estimated Noise Standard Deviation: {std_G:.3f}\")"
   ]
  },
  {
   "cell_type": "code",
   "execution_count": 71,
   "id": "9331231d",
   "metadata": {},
   "outputs": [
    {
     "name": "stdout",
     "output_type": "stream",
     "text": [
      "Chi-squared: 123.373\n",
      "Degree of freedom: 105.000\n",
      "Reduced Chi-squared: 1.175\n"
     ]
    }
   ],
   "source": [
    "chi_squared_G = np.sum((residuals_G / sigma_adjusted_G) ** 2)\n",
    "dof_G = len(fluxes_G) - len(popt_G)\n",
    "\n",
    "reduced_chi_squared_G = chi_squared_G / dof_G\n",
    "\n",
    "print(f'Chi-squared: {chi_squared_G:.3f}')\n",
    "print(f'Degree of freedom: {dof_G:.3f}')\n",
    "print(f'Reduced Chi-squared: {reduced_chi_squared_G:.3f}')"
   ]
  },
  {
   "cell_type": "code",
   "execution_count": 72,
   "id": "0d594eef",
   "metadata": {},
   "outputs": [
    {
     "data": {
      "text/plain": [
       "<matplotlib.legend.Legend at 0x2528cf26730>"
      ]
     },
     "execution_count": 72,
     "metadata": {},
     "output_type": "execute_result"
    },
    {
     "data": {
      "image/png": "[encoded data removed]",
      "text/plain": [
       "<Figure size 432x288 with 1 Axes>"
      ]
     },
     "metadata": {
      "needs_background": "light"
     },
     "output_type": "display_data"
    }
   ],
   "source": [
    "(recovered_amp_3935, recovered_mu_3935, recovered_std_3935, recovered_amp2_3935, recovered_std2_3935) = popt_G\n",
    "recovered_mu2_3935 = recovered_mu_3935 + (lambda_3970 - lambda_3935)\n",
    "\n",
    "true_spectrum_G = (Gaussian1D(amplitude=recovered_amp_3935, mean=recovered_mu_3935, stddev=recovered_std_3935)\n",
    "                  + Gaussian1D(amplitude=recovered_amp2_3935, mean=recovered_mu2_3935, stddev=recovered_std2_3935))\n",
    "\n",
    "plt.plot(wavelengths_G, true_spectrum_G(wavelengths_G), '--', label=\"True Voigt\", color='blue')\n",
    "#plt.xlim(2780, 2820)\n",
    "plt.ylim(-1, 0.1)\n",
    "plt.legend()"
   ]
  },
  {
   "cell_type": "code",
   "execution_count": 73,
   "id": "a0a7bb88",
   "metadata": {},
   "outputs": [
    {
     "data": {
      "text/plain": [
       "<matplotlib.legend.Legend at 0x2528d335eb0>"
      ]
     },
     "execution_count": 73,
     "metadata": {},
     "output_type": "execute_result"
    },
    {
     "data": {
      "image/png": "[encoded data removed]",
      "text/plain": [
       "<Figure size 432x288 with 1 Axes>"
      ]
     },
     "metadata": {
      "needs_background": "light"
     },
     "output_type": "display_data"
    }
   ],
   "source": [
    "plt.figure()\n",
    "plt.plot(wavelengths_G, fluxes_G+1, label=\"Observed Spectrum\", color='gray', alpha= 0.8, drawstyle='steps-mid')\n",
    "plt.plot(wavelengths_G, true_spectrum_G(wavelengths_G)+1, '--', label=\"True Spectrum\", color='blue',alpha=0.7)\n",
    "plt.plot(wavelengths_G, residuals_G, label='Residuals', color='cyan')\n",
    "\n",
    "plt.title(\"1 Components\")\n",
    "plt.ylim(-0.05,1.1)\n",
    "plt.legend()"
   ]
  },
  {
   "cell_type": "code",
   "execution_count": 74,
   "id": "dc34afdb",
   "metadata": {},
   "outputs": [
    {
     "data": {
      "text/plain": [
       "(-2000.0, 2000.0)"
      ]
     },
     "execution_count": 74,
     "metadata": {},
     "output_type": "execute_result"
    },
    {
     "data": {
      "image/png": "[encoded data removed]",
      "text/plain": [
       "<Figure size 432x288 with 1 Axes>"
      ]
     },
     "metadata": {
      "needs_background": "light"
     },
     "output_type": "display_data"
    }
   ],
   "source": [
    "v_3935_G = c_kms * (wavelengths_G - lambda_3935) / lambda_3935\n",
    "\n",
    "vline_3935_G = c_kms * (recovered_mu_3935 - lambda_3935) / lambda_3935\n",
    "\n",
    "plt.plot(v_3935_G, fluxes_G+1, 'k', alpha=0.8, drawstyle='steps-mid')\n",
    "plt.plot(v_3935_G, true_spectrum_G(wavelengths_G)+1, color='green')\n",
    "plt.axvline(vline_3935_G, color=\"grey\", linestyle=\":\")\n",
    "plt.ylim(0.5, 1.1)\n",
    "plt.xlim(-2000,2000)"
   ]
  },
  {
   "cell_type": "markdown",
   "id": "5c570d97",
   "metadata": {},
   "source": [
    "# 6. Monte Carlo"
   ]
  },
  {
   "cell_type": "code",
   "execution_count": 89,
   "id": "828e95a1",
   "metadata": {},
   "outputs": [
    {
     "name": "stdout",
     "output_type": "stream",
     "text": [
      "Simulation is done\n"
     ]
    }
   ],
   "source": [
    "sim_W_A = []\n",
    "sim_W_A2 = []\n",
    "sim_W_B = []\n",
    "sim_W_B2 = []\n",
    "sim_W_C = []\n",
    "sim_W_C2 = []\n",
    "sim_W_D = []\n",
    "sim_W_D2 = []\n",
    "sim_W_G = []\n",
    "sim_W_G2 = []\n",
    "\n",
    "sim_amp_A = []\n",
    "sim_mu_A = []\n",
    "sim_std_A = []\n",
    "sim_amp_B = []\n",
    "sim_mu_B = []\n",
    "sim_std_B = []\n",
    "sim_amp_C = []\n",
    "sim_mu_C = []\n",
    "sim_std_C = []\n",
    "sim_amp_D = []\n",
    "sim_mu_D = []\n",
    "sim_std_D = []\n",
    "sim_amp_G = []\n",
    "sim_mu_G = []\n",
    "sim_std_G = []\n",
    "\n",
    "sim_chi_A = []\n",
    "sim_reduced_chi_A = []\n",
    "sim_chi_B = []\n",
    "sim_reduced_chi_B = []\n",
    "sim_chi_C = []\n",
    "sim_reduced_chi_C = []\n",
    "sim_chi_D = []\n",
    "sim_reduced_chi_D = []\n",
    "sim_chi_G = []\n",
    "sim_reduced_chi_G = []\n",
    "\n",
    "n_sim = 1000\n",
    "\n",
    "for x in range(0, n_sim):\n",
    "    sim_fluxes_A = fluxes_A + np.random.normal(0, uncertainties_A)\n",
    "    sim_fluxes_A2 = fluxes_A2 + np.random.normal(0, uncertainties_A2)\n",
    "    sim_fluxes_B = fluxes_B + np.random.normal(0, uncertainties_B)\n",
    "    sim_fluxes_B2 = fluxes_B2 + np.random.normal(0, uncertainties_B2)\n",
    "    sim_fluxes_C = fluxes_C + np.random.normal(0, uncertainties_C)\n",
    "    sim_fluxes_C2 = fluxes_C2 + np.random.normal(0, uncertainties_C2)\n",
    "    sim_fluxes_D = fluxes_D + np.random.normal(0, uncertainties_D)\n",
    "    sim_fluxes_D2 = fluxes_D2 + np.random.normal(0, uncertainties_D2)\n",
    "    sim_fluxes_G = fluxes_G + np.random.normal(0, uncertainties_G)\n",
    "    sim_fluxes_G2 = fluxes_G2 + np.random.normal(0, uncertainties_G2)\n",
    "\n",
    "    W_lambda_A = compute_ew(wavelengths_A, sim_fluxes_A, continuum_level=0, line_range=(3913, 3955))\n",
    "    W_lambda_A2 = compute_ew(wavelengths_A2, sim_fluxes_A2, continuum_level=0, line_range=(5880, 5910))\n",
    "    W_lambda_B = compute_ew(wavelengths_B, sim_fluxes_B, continuum_level=0, line_range=(3913, 3955))\n",
    "    W_lambda_B2 = compute_ew(wavelengths_B2, sim_fluxes_B2, continuum_level=0, line_range=(5880, 5910))\n",
    "    W_lambda_C = compute_ew(wavelengths_C, sim_fluxes_C, continuum_level=0, line_range=(3913, 3955))\n",
    "    W_lambda_C2 = compute_ew(wavelengths_C2, sim_fluxes_C2, continuum_level=0, line_range=(5880, 5910))\n",
    "    W_lambda_D = compute_ew(wavelengths_D, sim_fluxes_D, continuum_level=0, line_range=(3913, 3955))\n",
    "    W_lambda_D2 = compute_ew(wavelengths_D2, sim_fluxes_D2, continuum_level=0, line_range=(5880, 5910))\n",
    "    W_lambda_G = compute_ew(wavelengths_G, sim_fluxes_G, continuum_level=0, line_range=(3913, 3955))\n",
    "    W_lambda_G2 = compute_ew(wavelengths_G2, sim_fluxes_G2, continuum_level=0, line_range=(5880, 5910))\n",
    "    \n",
    "    sim_W_A.append(W_lambda_A)\n",
    "    sim_W_A2.append(W_lambda_A2)\n",
    "    sim_W_B.append(W_lambda_B)\n",
    "    sim_W_B2.append(W_lambda_B2)\n",
    "    sim_W_C.append(W_lambda_C)\n",
    "    sim_W_C2.append(W_lambda_C2)\n",
    "    sim_W_D.append(W_lambda_D)\n",
    "    sim_W_D2.append(W_lambda_D2)\n",
    "    sim_W_G.append(W_lambda_G)\n",
    "    sim_W_G2.append(W_lambda_G2)\n",
    "    \n",
    "    popt_A, _ = curve_fit(convolved_model_ca, wavelengths_A, sim_fluxes_A, p0=p0_A, \n",
    "                          sigma=sigma_adjusted_A, absolute_sigma=True, maxfev=5000)\n",
    "    recovered_amp_A, recovered_mu_3935_A, recovered_stddev_A, recovered_amp2_A, recovered_stddev2_A = popt_A\n",
    "    popt_B, _ = curve_fit(convolved_model_ca, wavelengths_B, sim_fluxes_B, p0=p0_B, \n",
    "                          sigma=sigma_adjusted_B, absolute_sigma=True, maxfev=5000)\n",
    "    recovered_amp_B, recovered_mu_3935_B, recovered_stddev_B, recovered_amp2_B, recovered_stddev2_B = popt_B\n",
    "    popt_C, _ = curve_fit(convolved_model_ca, wavelengths_C, sim_fluxes_C, p0=p0_C, \n",
    "                          sigma=sigma_adjusted_C, absolute_sigma=True, maxfev=5000)\n",
    "    recovered_amp_C, recovered_mu_3935_C, recovered_stddev_C, recovered_amp2_C, recovered_stddev2_C = popt_C\n",
    "    popt_D, _ = curve_fit(convolved_model_ca, wavelengths_D, sim_fluxes_D, p0=p0_D, \n",
    "                          sigma=sigma_adjusted_D, absolute_sigma=True, maxfev=5000)\n",
    "    recovered_amp_D, recovered_mu_3935_D, recovered_stddev_D, recovered_amp2_D, recovered_stddev2_D = popt_D\n",
    "    popt_G, _ = curve_fit(convolved_model_ca, wavelengths_G, sim_fluxes_G, p0=p0_G, \n",
    "                          sigma=sigma_adjusted_G, absolute_sigma=True, maxfev=5000)\n",
    "    recovered_amp_G, recovered_mu_3935_G, recovered_stddev_G, recovered_amp2_G, recovered_stddev2_G = popt_G\n",
    "    \n",
    "    sim_amp_A.append(recovered_amp_A)\n",
    "    sim_mu_A.append(recovered_mu_3935_A)\n",
    "    sim_std_A.append(recovered_stddev_A)\n",
    "    sim_amp_B.append(recovered_amp_B)\n",
    "    sim_mu_B.append(recovered_mu_3935_B)\n",
    "    sim_std_B.append(recovered_stddev_B)\n",
    "    sim_amp_C.append(recovered_amp_C)\n",
    "    sim_mu_C.append(recovered_mu_3935_C)\n",
    "    sim_std_C.append(recovered_stddev_C)\n",
    "    sim_amp_D.append(recovered_amp_D)\n",
    "    sim_mu_D.append(recovered_mu_3935_D)\n",
    "    sim_std_D.append(recovered_stddev_D)\n",
    "    sim_amp_G.append(recovered_amp_G)\n",
    "    sim_mu_G.append(recovered_mu_3935_G)\n",
    "    sim_std_G.append(recovered_stddev_G)\n",
    "    \n",
    "    residuals_A = sim_fluxes_A - convolved_model_ca(wavelengths_A, *popt_A)\n",
    "    chi_squared_A = np.sum((residuals_A / sigma_adjusted_A) ** 2)\n",
    "    dof_A = len(sim_fluxes_A) - len(popt_A)\n",
    "    reduced_chi_squared_A = chi_squared_A / dof_A\n",
    "    \n",
    "    residuals_B = sim_fluxes_B - convolved_model_ca(wavelengths_B, *popt_B)\n",
    "    chi_squared_B = np.sum((residuals_B / sigma_adjusted_B) ** 2)\n",
    "    dof_B = len(sim_fluxes_B) - len(popt_B)\n",
    "    reduced_chi_squared_B = chi_squared_B / dof_B\n",
    "    \n",
    "    residuals_C = sim_fluxes_C - convolved_model_ca(wavelengths_C, *popt_C)\n",
    "    chi_squared_C = np.sum((residuals_C / sigma_adjusted_C) ** 2)\n",
    "    dof_C = len(sim_fluxes_C) - len(popt_C)\n",
    "    reduced_chi_squared_C = chi_squared_C / dof_C\n",
    "    \n",
    "    residuals_D = sim_fluxes_D - convolved_model_ca(wavelengths_D, *popt_D)\n",
    "    chi_squared_D = np.sum((residuals_D / sigma_adjusted_D) ** 2)\n",
    "    dof_D = len(sim_fluxes_D) - len(popt_D)\n",
    "    reduced_chi_squared_D = chi_squared_D / dof_D\n",
    "    \n",
    "    residuals_G = sim_fluxes_G - convolved_model_ca(wavelengths_G, *popt_G)\n",
    "    chi_squared_G = np.sum((residuals_G / sigma_adjusted_G) ** 2)\n",
    "    dof_G = len(sim_fluxes_G) - len(popt_G)\n",
    "    reduced_chi_squared_G = chi_squared_G / dof_G\n",
    "\n",
    "print(\"Simulation is done\")"
   ]
  },
  {
   "cell_type": "code",
   "execution_count": 90,
   "id": "81a735f5",
   "metadata": {},
   "outputs": [
    {
     "name": "stdout",
     "output_type": "stream",
     "text": [
      "Equivalent Width A Ca II λ3935: 3.053 Angstrom\n",
      "EW λ3935 errors(1σ): 0.108 Angstrom\n",
      "Equivalent Width A Na I: 0.807 Angstrom\n",
      "EW λ5892 errors(1σ): 0.059 Angstrom\n",
      "Equivalent Width B Ca II λ3935: 2.410 Angstrom\n",
      "EW λ3935 errors(1σ): 0.108 Angstrom\n",
      "Equivalent Width B Na I: 0.957 Angstrom\n",
      "EW λ5892 errors(1σ): 0.061 Angstrom\n",
      "Equivalent Width C Ca II λ3935: 2.826 Angstrom\n",
      "EW λ3935 errors(1σ): 0.085 Angstrom\n",
      "Equivalent Width C Na I: 0.889 Angstrom\n",
      "EW λ5892 errors(1σ): 0.052 Angstrom\n",
      "Equivalent Width D Ca II λ3935: 4.959 Angstrom\n",
      "EW λ3935 errors(1σ): 0.135 Angstrom\n",
      "Equivalent Width D Na I: 2.002 Angstrom\n",
      "EW λ5892 errors(1σ): 0.060 Angstrom\n",
      "Equivalent Width G Ca II λ3935: 5.785 Angstrom\n",
      "EW λ3935 errors(1σ): 0.132 Angstrom\n",
      "Equivalent Width G Na I: 2.696 Angstrom\n",
      "EW λ5892 errors(1σ): 0.041 Angstrom\n"
     ]
    }
   ],
   "source": [
    "sim_W_A = np.array(sim_W_A)\n",
    "W_A_mean = np.mean(sim_W_A)\n",
    "W_A_std = np.std(sim_W_A)\n",
    "\n",
    "sim_W_A2 = np.array(sim_W_A2)\n",
    "W_A2_mean = np.mean(sim_W_A2)\n",
    "W_A2_std = np.std(sim_W_A2)\n",
    "\n",
    "sim_W_B_B = np.array(sim_W_B)\n",
    "W_B_mean = np.mean(sim_W_B)\n",
    "W_B_std = np.std(sim_W_B)\n",
    "\n",
    "sim_W_B2 = np.array(sim_W_B2)\n",
    "W_B2_mean = np.mean(sim_W_B2)\n",
    "W_B2_std = np.std(sim_W_B2)\n",
    "\n",
    "sim_W_C = np.array(sim_W_C)\n",
    "W_C_mean = np.mean(sim_W_C)\n",
    "W_C_std = np.std(sim_W_C)\n",
    "\n",
    "sim_W_C2 = np.array(sim_W_C2)\n",
    "W_C2_mean = np.mean(sim_W_C2)\n",
    "W_C2_std = np.std(sim_W_C2)\n",
    "\n",
    "sim_W_D = np.array(sim_W_D)\n",
    "W_D_mean = np.mean(sim_W_D)\n",
    "W_D_std = np.std(sim_W_D)\n",
    "\n",
    "sim_W_D2 = np.array(sim_W_D2)\n",
    "W_D2_mean = np.mean(sim_W_D2)\n",
    "W_D2_std = np.std(sim_W_D2)\n",
    "\n",
    "sim_W_G = np.array(sim_W_G)\n",
    "W_G_mean = np.mean(sim_W_G)\n",
    "W_G_std = np.std(sim_W_G)\n",
    "\n",
    "sim_W_G2 = np.array(sim_W_G2)\n",
    "W_G2_mean = np.mean(sim_W_G2)\n",
    "W_G2_std = np.std(sim_W_G2)\n",
    "\n",
    "print(f\"Equivalent Width A Ca II λ3935: {W_A_mean:.3f} Angstrom\")\n",
    "print(f\"EW λ3935 errors(1σ): {W_A_std:.3f} Angstrom\")\n",
    "print(f\"Equivalent Width A Na I: {W_A2_mean:.3f} Angstrom\")\n",
    "print(f\"EW λ5892 errors(1σ): {W_A2_std:.3f} Angstrom\")\n",
    "print(f\"Equivalent Width B Ca II λ3935: {W_B_mean:.3f} Angstrom\")\n",
    "print(f\"EW λ3935 errors(1σ): {W_B_std:.3f} Angstrom\")\n",
    "print(f\"Equivalent Width B Na I: {W_B2_mean:.3f} Angstrom\")\n",
    "print(f\"EW λ5892 errors(1σ): {W_B2_std:.3f} Angstrom\")\n",
    "print(f\"Equivalent Width C Ca II λ3935: {W_C_mean:.3f} Angstrom\")\n",
    "print(f\"EW λ3935 errors(1σ): {W_C_std:.3f} Angstrom\")\n",
    "print(f\"Equivalent Width C Na I: {W_C2_mean:.3f} Angstrom\")\n",
    "print(f\"EW λ5892 errors(1σ): {W_C2_std:.3f} Angstrom\")\n",
    "print(f\"Equivalent Width D Ca II λ3935: {W_D_mean:.3f} Angstrom\")\n",
    "print(f\"EW λ3935 errors(1σ): {W_D_std:.3f} Angstrom\")\n",
    "print(f\"Equivalent Width D Na I: {W_D2_mean:.3f} Angstrom\")\n",
    "print(f\"EW λ5892 errors(1σ): {W_D2_std:.3f} Angstrom\")\n",
    "print(f\"Equivalent Width G Ca II λ3935: {W_G_mean:.3f} Angstrom\")\n",
    "print(f\"EW λ3935 errors(1σ): {W_G_std:.3f} Angstrom\")\n",
    "print(f\"Equivalent Width G Na I: {W_G2_mean:.3f} Angstrom\")\n",
    "print(f\"EW λ5892 errors(1σ): {W_G2_std:.3f} Angstrom\")"
   ]
  },
  {
   "cell_type": "code",
   "execution_count": 91,
   "id": "ed63faeb",
   "metadata": {},
   "outputs": [
    {
     "name": "stdout",
     "output_type": "stream",
     "text": [
      "Fitted Amplitude A: -0.164 ± 0.005\n",
      "Fitted Amplitude B: -0.161 ± 0.006\n",
      "Fitted Amplitude C: -0.170 ± 0.005\n",
      "Fitted Amplitude D: -0.280 ± 0.007\n",
      "Fitted Amplitude G: -0.325 ± 0.007\n"
     ]
    }
   ],
   "source": [
    "sim_amp_A = np.array(sim_amp_A)\n",
    "sim_amp_A_mean = np.mean(sim_amp_A)\n",
    "sim_amp_A_std = np.std(sim_amp_A)\n",
    "\n",
    "sim_amp_B = np.array(sim_amp_B)\n",
    "sim_amp_B_mean = np.mean(sim_amp_B)\n",
    "sim_amp_B_std = np.std(sim_amp_B)\n",
    "\n",
    "sim_amp_C = np.array(sim_amp_C)\n",
    "sim_amp_C_mean = np.mean(sim_amp_C)\n",
    "sim_amp_C_std = np.std(sim_amp_C)\n",
    "\n",
    "sim_amp_D = np.array(sim_amp_D)\n",
    "sim_amp_D_mean = np.mean(sim_amp_D)\n",
    "sim_amp_D_std = np.std(sim_amp_D)\n",
    "\n",
    "sim_amp_G = np.array(sim_amp_G)\n",
    "sim_amp_G_mean = np.mean(sim_amp_G)\n",
    "sim_amp_G_std = np.std(sim_amp_G)\n",
    "\n",
    "print(f\"Fitted Amplitude A: {sim_amp_A_mean:.3f} ± {sim_amp_A_std:.3f}\")\n",
    "print(f\"Fitted Amplitude B: {sim_amp_B_mean:.3f} ± {sim_amp_B_std:.3f}\")\n",
    "print(f\"Fitted Amplitude C: {sim_amp_C_mean:.3f} ± {sim_amp_C_std:.3f}\")\n",
    "print(f\"Fitted Amplitude D: {sim_amp_D_mean:.3f} ± {sim_amp_D_std:.3f}\")\n",
    "print(f\"Fitted Amplitude G: {sim_amp_G_mean:.3f} ± {sim_amp_G_std:.3f}\")"
   ]
  },
  {
   "cell_type": "code",
   "execution_count": 92,
   "id": "7d8c43c6",
   "metadata": {},
   "outputs": [
    {
     "name": "stdout",
     "output_type": "stream",
     "text": [
      "Fitted Mu A: 3934.379 ± 0.191 Angstrom\n",
      "Fitted Mu B: 3933.778 ± 0.155 Angstrom\n",
      "Fitted Mu C: 3934.915 ± 0.139 Angstrom\n",
      "Fitted Mu D: 3934.110 ± 0.121 Angstrom\n",
      "Fitted Mu G: 3934.552 ± 0.108 Angstrom\n"
     ]
    }
   ],
   "source": [
    "sim_mu_A = np.array(sim_mu_A)\n",
    "sim_mu_A_mean = np.mean(sim_mu_A)\n",
    "sim_mu_A_std = np.std(sim_mu_A)\n",
    "\n",
    "sim_mu_B = np.array(sim_mu_B)\n",
    "sim_mu_B_mean = np.mean(sim_mu_B)\n",
    "sim_mu_B_std = np.std(sim_mu_B)\n",
    "\n",
    "sim_mu_C = np.array(sim_mu_C)\n",
    "sim_mu_C_mean = np.mean(sim_mu_C)\n",
    "sim_mu_C_std = np.std(sim_mu_C)\n",
    "\n",
    "sim_mu_D = np.array(sim_mu_D)\n",
    "sim_mu_D_mean = np.mean(sim_mu_D)\n",
    "sim_mu_D_std = np.std(sim_mu_D)\n",
    "\n",
    "sim_mu_G = np.array(sim_mu_G)\n",
    "sim_mu_G_mean = np.mean(sim_mu_G)\n",
    "sim_mu_G_std = np.std(sim_mu_G)\n",
    "\n",
    "print(f\"Fitted Mu A: {sim_mu_A_mean:.3f} ± {sim_mu_A_std:.3f} Angstrom\")\n",
    "print(f\"Fitted Mu B: {sim_mu_B_mean:.3f} ± {sim_mu_B_std:.3f} Angstrom\")\n",
    "print(f\"Fitted Mu C: {sim_mu_C_mean:.3f} ± {sim_mu_C_std:.3f} Angstrom\")\n",
    "print(f\"Fitted Mu D: {sim_mu_D_mean:.3f} ± {sim_mu_D_std:.3f} Angstrom\")\n",
    "print(f\"Fitted Mu G: {sim_mu_G_mean:.3f} ± {sim_mu_G_std:.3f} Angstrom\")"
   ]
  },
  {
   "cell_type": "code",
   "execution_count": 93,
   "id": "50be2627",
   "metadata": {},
   "outputs": [
    {
     "name": "stdout",
     "output_type": "stream",
     "text": [
      "Fitted Dispersion A: 7.031 ± 0.309 Angstrom\n",
      "Fitted Dispersion B: 4.974 ± 0.284 Angstrom\n",
      "Fitted Dispersion C: 6.387 ± 0.207 Angstrom\n",
      "Fitted Dispersion D: 6.770 ± 0.221 Angstrom\n",
      "Fitted Dispersion G: 6.996 ± 0.170 Angstrom\n"
     ]
    }
   ],
   "source": [
    "sim_std_A = np.array(sim_std_A)\n",
    "sim_std_A_mean = np.mean(sim_std_A)\n",
    "sim_std_A_std = np.std(sim_std_A)\n",
    "\n",
    "sim_std_B = np.array(sim_std_B)\n",
    "sim_std_B_mean = np.mean(sim_std_B)\n",
    "sim_std_B_std = np.std(sim_std_B)\n",
    "\n",
    "sim_std_C = np.array(sim_std_C)\n",
    "sim_std_C_mean = np.mean(sim_std_C)\n",
    "sim_std_C_std = np.std(sim_std_C)\n",
    "\n",
    "sim_std_D = np.array(sim_std_D)\n",
    "sim_std_D_mean = np.mean(sim_std_D)\n",
    "sim_std_D_std = np.std(sim_std_D)\n",
    "\n",
    "sim_std_G = np.array(sim_std_G)\n",
    "sim_std_G_mean = np.mean(sim_std_G)\n",
    "sim_std_G_std = np.std(sim_std_G)\n",
    "\n",
    "print(f\"Fitted Dispersion A: {sim_std_A_mean:.3f} ± {sim_std_A_std:.3f} Angstrom\")\n",
    "print(f\"Fitted Dispersion B: {sim_std_B_mean:.3f} ± {sim_std_B_std:.3f} Angstrom\")\n",
    "print(f\"Fitted Dispersion C: {sim_std_C_mean:.3f} ± {sim_std_C_std:.3f} Angstrom\")\n",
    "print(f\"Fitted Dispersion D: {sim_std_D_mean:.3f} ± {sim_std_D_std:.3f} Angstrom\")\n",
    "print(f\"Fitted Dispersion G: {sim_std_G_mean:.3f} ± {sim_std_G_std:.3f} Angstrom\")"
   ]
  },
  {
   "cell_type": "markdown",
   "id": "347a9ee0",
   "metadata": {},
   "source": [
    "# 7. Parameter Estimation"
   ]
  },
  {
   "cell_type": "code",
   "execution_count": 94,
   "id": "ff2a8eee",
   "metadata": {},
   "outputs": [
    {
     "name": "stdout",
     "output_type": "stream",
     "text": [
      "System Velocity A: -30.358 ± 0.309 km/s\n",
      "System Velocity B: -76.107 ± 0.284 km/s\n",
      "System Velocity C: 10.529 ± 0.207 km/s\n",
      "System Velocity D: -50.812 ± 0.221 km/s\n",
      "System Velocity G: -17.140 ± 0.170 km/s\n"
     ]
    }
   ],
   "source": [
    "v_A = ((sim_mu_A_mean - lambda_3935) / lambda_3935) * c_kms\n",
    "v_B = ((sim_mu_B_mean - lambda_3935) / lambda_3935) * c_kms\n",
    "v_C = ((sim_mu_C_mean - lambda_3935) / lambda_3935) * c_kms\n",
    "v_D = ((sim_mu_D_mean - lambda_3935) / lambda_3935) * c_kms\n",
    "v_G = ((sim_mu_G_mean - lambda_3935) / lambda_3935) * c_kms\n",
    "\n",
    "err_v_A = (c_kms / lambda_3935) * sim_mu_A_std\n",
    "err_v_B = (c_kms / lambda_3935) * sim_mu_B_std\n",
    "err_v_C = (c_kms / lambda_3935) * sim_mu_C_std\n",
    "err_v_D = (c_kms / lambda_3935) * sim_mu_D_std\n",
    "err_v_G = (c_kms / lambda_3935) * sim_mu_G_std\n",
    "\n",
    "print(f\"System Velocity A: {v_A:.3f} ± {sim_std_A_std:.3f} km/s\")\n",
    "print(f\"System Velocity B: {v_B:.3f} ± {sim_std_B_std:.3f} km/s\")\n",
    "print(f\"System Velocity C: {v_C:.3f} ± {sim_std_C_std:.3f} km/s\")\n",
    "print(f\"System Velocity D: {v_D:.3f} ± {sim_std_D_std:.3f} km/s\")\n",
    "print(f\"System Velocity G: {v_G:.3f} ± {sim_std_G_std:.3f} km/s\")"
   ]
  },
  {
   "cell_type": "code",
   "execution_count": 95,
   "id": "54264ce2",
   "metadata": {},
   "outputs": [
    {
     "name": "stdout",
     "output_type": "stream",
     "text": [
      "Velocity Dispersion A: 267.874 ± 11.779 km/s\n",
      "Velocity Dispersion B: 189.545 ± 10.836 km/s\n",
      "Velocity Dispersion C: 243.299 ± 7.895 km/s\n",
      "Velocity Dispersion D: 257.952 ± 8.433 km/s\n",
      "Velocity Dispersion G: 266.520 ± 6.494 km/s\n"
     ]
    }
   ],
   "source": [
    "sigma_A = (sim_std_A_mean / sim_mu_A_mean) * c_kms\n",
    "sigma_B = (sim_std_B_mean / sim_mu_B_mean) * c_kms\n",
    "sigma_C = (sim_std_C_mean / sim_mu_C_mean) * c_kms\n",
    "sigma_D = (sim_std_D_mean / sim_mu_D_mean) * c_kms\n",
    "sigma_G = (sim_std_G_mean / sim_mu_G_mean) * c_kms\n",
    "\n",
    "err_sigma_A = sigma_A * ((sim_std_A_std / sim_std_A_mean)**2 + (sim_mu_A_std / sim_mu_A_mean)**2)**0.5\n",
    "err_sigma_B = sigma_B * ((sim_std_B_std / sim_std_B_mean)**2 + (sim_mu_B_std / sim_mu_B_mean)**2)**0.5\n",
    "err_sigma_C = sigma_C * ((sim_std_C_std / sim_std_C_mean)**2 + (sim_mu_C_std / sim_mu_C_mean)**2)**0.5\n",
    "err_sigma_D = sigma_D * ((sim_std_D_std / sim_std_D_mean)**2 + (sim_mu_D_std / sim_mu_D_mean)**2)**0.5\n",
    "err_sigma_G = sigma_G * ((sim_std_G_std / sim_std_G_mean)**2 + (sim_mu_G_std / sim_mu_G_mean)**2)**0.5\n",
    "\n",
    "print(f\"Velocity Dispersion A: {sigma_A/2:.3f} ± {err_sigma_A/2:.3f} km/s\")\n",
    "print(f\"Velocity Dispersion B: {sigma_B/2:.3f} ± {err_sigma_B/2:.3f} km/s\")\n",
    "print(f\"Velocity Dispersion C: {sigma_C/2:.3f} ± {err_sigma_C/2:.3f} km/s\")\n",
    "print(f\"Velocity Dispersion D: {sigma_D/2:.3f} ± {err_sigma_D/2:.3f} km/s\")\n",
    "print(f\"Velocity Dispersion G: {sigma_G/2:.3f} ± {err_sigma_G/2:.3f} km/s\")"
   ]
  },
  {
   "cell_type": "markdown",
   "id": "97a3ee46",
   "metadata": {},
   "source": [
    "# 8. Relative Velocity Plot"
   ]
  },
  {
   "cell_type": "code",
   "execution_count": 96,
   "id": "8d5ac8b8",
   "metadata": {},
   "outputs": [],
   "source": [
    "v_3935_A = c_kms * (wavelengths_A - lambda_3935) / lambda_3935\n",
    "v_3935_B = c_kms * (wavelengths_B - lambda_3935) / lambda_3935\n",
    "v_3935_C = c_kms * (wavelengths_C - lambda_3935) / lambda_3935\n",
    "v_3935_D = c_kms * (wavelengths_D - lambda_3935) / lambda_3935\n",
    "v_3935_G = c_kms * (wavelengths_G - lambda_3935) / lambda_3935\n",
    "\n",
    "v_5892_A = c_kms * (wavelengths_A2 - lambda_5892) / lambda_5892\n",
    "v_5892_B = c_kms * (wavelengths_B2 - lambda_5892) / lambda_5892\n",
    "v_5892_C = c_kms * (wavelengths_C2 - lambda_5892) / lambda_5892\n",
    "v_5892_D = c_kms * (wavelengths_D2 - lambda_5892) / lambda_5892\n",
    "v_5892_G = c_kms * (wavelengths_G2 - lambda_5892) / lambda_5892"
   ]
  },
  {
   "cell_type": "code",
   "execution_count": 97,
   "id": "b1dd62fd",
   "metadata": {},
   "outputs": [
    {
     "data": {
      "image/png": "[encoded data removed]",
      "text/plain": [
       "<Figure size 1440x288 with 4 Axes>"
      ]
     },
     "metadata": {
      "needs_background": "light"
     },
     "output_type": "display_data"
    }
   ],
   "source": [
    "f, ax = plt.subplots(1, 4, figsize=(20,4), sharey='row', sharex=True, gridspec_kw={'hspace': 0, 'wspace':0})\n",
    "plt.rcParams['font.family'] = 'serif'\n",
    "\n",
    "# A\n",
    "ax[0].plot(v_3935_A, fluxes_A+1, 'k', alpha=0.8, drawstyle='steps-mid')\n",
    "ax[0].plot(v_3935_A, true_spectrum_A(wavelengths_A)+1, lw=3, color='limegreen')\n",
    "ax[0].axvline(vline_3935_A, color=\"grey\", linestyle=\":\")\n",
    "ax[0].set_ylim(0, 1.1)\n",
    "ax[0].set_xlim(-1900,1900)\n",
    "\n",
    "# B\n",
    "ax[1].plot(v_3935_B, fluxes_B+1, 'k', alpha=0.8, drawstyle='steps-mid')\n",
    "ax[1].plot(v_3935_B, true_spectrum_B(wavelengths_B)+1, lw=3, color='limegreen')\n",
    "ax[1].axvline(vline_3935_B, color=\"grey\", linestyle=\":\")\n",
    "#ax[1].set_ylim(0.5, 1.1)\n",
    "ax[1].set_xlim(-1900,1900)\n",
    "\n",
    "# C\n",
    "ax[2].plot(v_3935_C, fluxes_C+1, 'k', alpha=0.8, drawstyle='steps-mid')\n",
    "ax[2].plot(v_3935_C, true_spectrum_C(wavelengths_C)+1, lw=3, color='limegreen')\n",
    "ax[2].axvline(vline_3935_C, color=\"grey\", linestyle=\":\")\n",
    "#ax[2].set_ylim(0.5, 1.1)\n",
    "ax[2].set_xlim(-1900,1900)\n",
    "\n",
    "# D\n",
    "ax[3].plot(v_3935_D, fluxes_D+1, 'k', alpha=0.8, drawstyle='steps-mid')\n",
    "ax[3].plot(v_3935_D, true_spectrum_D(wavelengths_D)+1, lw=3, color='limegreen')\n",
    "ax[3].axvline(vline_3935_D, color=\"grey\", linestyle=\":\")\n",
    "#ax[3].set_ylim(0.5, 1.1)\n",
    "ax[3].set_xlim(-1900,1900)\n",
    "\n",
    "f.text(0.22, 0.9, 'A', fontsize=16)\n",
    "f.text(0.41, 0.9, 'B', fontsize=16)\n",
    "f.text(0.605, 0.9, 'C', fontsize=16)\n",
    "f.text(0.8, 0.9, 'D', fontsize=16)\n",
    "\n",
    "f.text(0.835, 0.33, 'Ca II λ3935', fontsize=14)\n",
    "\n",
    "f.text(0.5, 0.01, 'Kecepatan Radial $(km/s)$', fontsize=16, ha='center')\n",
    "f.text(0.09, 0.5, 'Fluks Ternormalisasi', fontsize=16, va='center', rotation='vertical')\n",
    "\n",
    "plt.show()"
   ]
  },
  {
   "cell_type": "code",
   "execution_count": 98,
   "id": "5a652eff",
   "metadata": {},
   "outputs": [
    {
     "data": {
      "text/plain": [
       "Text(0, 0.5, 'Fluks Ternormalisasi')"
      ]
     },
     "execution_count": 98,
     "metadata": {},
     "output_type": "execute_result"
    },
    {
     "data": {
      "image/png": "[encoded data removed]",
      "text/plain": [
       "<Figure size 360x288 with 1 Axes>"
      ]
     },
     "metadata": {
      "needs_background": "light"
     },
     "output_type": "display_data"
    }
   ],
   "source": [
    "plt.figure(figsize=(5,4))\n",
    "plt.rcParams['font.family'] = 'serif'\n",
    "\n",
    "# G\n",
    "plt.plot(v_3935_G, fluxes_G+1, 'k', alpha=0.8, drawstyle='steps-mid')\n",
    "plt.plot(v_3935_G, true_spectrum_G(wavelengths_G)+1, lw=3, color='limegreen')\n",
    "plt.axvline(vline_3935_G, color=\"grey\", linestyle=\":\")\n",
    "plt.ylim(0.0, 1.1)\n",
    "plt.xlim(-1900,1900)\n",
    "\n",
    "plt.text(0.5, 1.15, 'G', fontsize=14, ha='center')\n",
    "plt.text(1200, 0.33, 'Ca II λ3935', fontsize=12, ha='center')\n",
    "\n",
    "plt.xlabel('Kecepatan Radial $(km/s)$', fontsize=14)\n",
    "plt.ylabel('Fluks Ternormalisasi', fontsize=14)"
   ]
  },
  {
   "cell_type": "code",
   "execution_count": 99,
   "id": "1e4fcffd",
   "metadata": {},
   "outputs": [
    {
     "data": {
      "image/png": "[encoded data removed]",
      "text/plain": [
       "<Figure size 1440x288 with 4 Axes>"
      ]
     },
     "metadata": {
      "needs_background": "light"
     },
     "output_type": "display_data"
    }
   ],
   "source": [
    "f, ax = plt.subplots(1, 4, figsize=(20,4), sharey='row', sharex=True, gridspec_kw={'hspace': 0, 'wspace':0})\n",
    "plt.rcParams['font.family'] = 'serif'\n",
    "\n",
    "ax[0].plot(v_5892_A, fluxes_A2+1, 'k', alpha=0.8, drawstyle='steps-mid')\n",
    "ax[0].set_ylim(0, 1.1)\n",
    "ax[0].set_xlim(-1200,1200)\n",
    "\n",
    "ax[1].plot(v_5892_B, fluxes_B2+1, 'k', alpha=0.8, drawstyle='steps-mid')\n",
    "ax[1].set_xlim(-1200,1200)\n",
    "\n",
    "ax[2].plot(v_5892_C, fluxes_C2+1, 'k', alpha=0.8, drawstyle='steps-mid')\n",
    "ax[2].set_xlim(-1200,1200)\n",
    "\n",
    "ax[3].plot(v_5892_D, fluxes_D2+1, 'k', alpha=0.8, drawstyle='steps-mid')\n",
    "ax[3].set_xlim(-1200,1200)\n",
    "\n",
    "f.text(0.22, 0.9, 'A', fontsize=16)\n",
    "f.text(0.41, 0.9, 'B', fontsize=16)\n",
    "f.text(0.605, 0.9, 'C', fontsize=16)\n",
    "f.text(0.8, 0.9, 'D', fontsize=16)\n",
    "\n",
    "f.text(0.8, 0.33, 'Na I λλ5892, 5898', fontsize=14)\n",
    "\n",
    "f.text(0.5, 0.01, 'Kecepatan Radial $(km/s)$', fontsize=16, ha='center')\n",
    "f.text(0.09, 0.5, 'Fluks Ternormalisasi', fontsize=16, va='center', rotation='vertical')\n",
    "\n",
    "plt.show()"
   ]
  },
  {
   "cell_type": "code",
   "execution_count": 100,
   "id": "ed14b7b2",
   "metadata": {},
   "outputs": [
    {
     "data": {
      "text/plain": [
       "Text(0, 0.5, 'Fluks Ternormalisasi')"
      ]
     },
     "execution_count": 100,
     "metadata": {},
     "output_type": "execute_result"
    },
    {
     "data": {
      "image/png": "[encoded data removed]",
      "text/plain": [
       "<Figure size 360x288 with 1 Axes>"
      ]
     },
     "metadata": {
      "needs_background": "light"
     },
     "output_type": "display_data"
    }
   ],
   "source": [
    "plt.figure(figsize=(5,4))\n",
    "plt.rcParams['font.family'] = 'serif'\n",
    "\n",
    "# G\n",
    "plt.plot(v_5892_G, fluxes_G2+1, 'k', alpha=0.8, drawstyle='steps-mid')\n",
    "plt.ylim(0.0, 1.1)\n",
    "plt.xlim(-1200,1200)\n",
    "\n",
    "plt.text(0, 1.15, 'G', fontsize=14, ha='center')\n",
    "plt.text(600, 0.33, 'Na I λλ5892, 5898', ha='center', fontsize=12)\n",
    "\n",
    "plt.xlabel('Kecepatan Radial $(km/s)$', fontsize=14)\n",
    "plt.ylabel('Fluks Ternormalisasi', fontsize=14)"
   ]
  }
 ],
 "metadata": {
  "kernelspec": {
   "display_name": "Python 3",
   "language": "python",
   "name": "python3"
  },
  "language_info": {
   "codemirror_mode": {
    "name": "ipython",
    "version": 3
   },
   "file_extension": ".py",
   "mimetype": "text/x-python",
   "name": "python",
   "nbconvert_exporter": "python",
   "pygments_lexer": "ipython3",
   "version": "3.8.8"
  }
 },
 "nbformat": 4,
 "nbformat_minor": 5
}
