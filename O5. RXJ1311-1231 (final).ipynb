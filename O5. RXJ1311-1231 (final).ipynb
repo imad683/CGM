{
 "cells": [
  {
   "cell_type": "markdown",
   "id": "d5b0e136",
   "metadata": {},
   "source": [
    "1. Galaxy Redshift\n",
    "2. Continuum Fit\n",
    "3. Continuum Subtraction\n",
    "4. Equivalent Width\n",
    "5. Fitting Gaussian\n",
    "6. Monte Carlo\n",
    "7. Parameter Estimation\n",
    "8. Radial Velocity & Corner Plot"
   ]
  },
  {
   "cell_type": "code",
   "execution_count": 1,
   "id": "8246c03b",
   "metadata": {},
   "outputs": [],
   "source": [
    "%matplotlib inline\n",
    "import matplotlib.pyplot as plt\n",
    "\n",
    "import numpy as np\n",
    "import pandas as pd\n",
    "\n",
    "from mpdaf.obj import Spectrum\n",
    "from linetools.spectra.xspectrum1d import XSpectrum1D\n",
    "\n",
    "import astropy.units as u\n",
    "from astropy.io import fits\n",
    "from astropy.modeling.models import Voigt1D, Gaussian1D\n",
    "from astropy.convolution import convolve\n",
    "from astropy.constants import c, m_e\n",
    "\n",
    "from scipy.optimize import curve_fit\n",
    "from scipy.ndimage import gaussian_filter1d\n",
    "from scipy import constants as const\n",
    "from scipy.optimize import root_scalar\n",
    "\n",
    "from mpdaf.MUSE import LSF\n",
    "from IPython.display import display, Image, HTML\n",
    "import corner"
   ]
  },
  {
   "cell_type": "code",
   "execution_count": 2,
   "id": "0e282a98",
   "metadata": {},
   "outputs": [],
   "source": [
    "%matplotlib qt\n",
    "import matplotlib.pyplot as plt"
   ]
  },
  {
   "cell_type": "code",
   "execution_count": 3,
   "id": "2556ca45",
   "metadata": {},
   "outputs": [],
   "source": [
    "# (A)\n",
    "hdus_A = fits.open('D:\\Datacube\\RXJ1131-1231\\spektrum_sum_RXJ1131-1231_A_0.6.fits')\n",
    "spec_A = Spectrum('D:\\Datacube\\RXJ1131-1231\\spektrum_sum_RXJ1131-1231_A_0.6.fits')\n",
    "\n",
    "flux_A = hdus_A['DATA'].data*u.Unit(hdus_A[1].header['BUNIT'])  # Replace 'DATA' with the flux extension name\n",
    "variance_A = hdus_A['STAT'].data*u.Unit(hdus_A[2].header['BUNIT'])  # Replace 'STAT' with the variance extension name\n",
    "uncertainty_A = np.sqrt(variance_A) #uncertainty is standard deviation\n",
    "wavelength_A = spec_A.wave.coord() * u.Unit(spec_A.wave.unit)# Wavelength array\n",
    "\n",
    "sp_A = XSpectrum1D.from_tuple((wavelength_A, flux_A, uncertainty_A))\n",
    "sp_A.plot()"
   ]
  },
  {
   "cell_type": "code",
   "execution_count": 4,
   "id": "02e0043e",
   "metadata": {},
   "outputs": [],
   "source": [
    "# (B)\n",
    "hdus_B = fits.open('D:\\Datacube\\RXJ1131-1231\\spektrum_sum_RXJ1131-1231_B_0.6.fits')\n",
    "spec_B = Spectrum('D:\\Datacube\\RXJ1131-1231\\spektrum_sum_RXJ1131-1231_B_0.6.fits')\n",
    "\n",
    "flux_B = hdus_B['DATA'].data*u.Unit(hdus_B[1].header['BUNIT'])  # Replace 'DATA' with the flux extension name\n",
    "variance_B = hdus_B['STAT'].data*u.Unit(hdus_B[2].header['BUNIT'])  # Replace 'STAT' with the variance extension name\n",
    "uncertainty_B = np.sqrt(variance_B) #uncertainty is standard deviation\n",
    "wavelength_B = spec_B.wave.coord() * u.Unit(spec_B.wave.unit)# Wavelength array\n",
    "\n",
    "sp_B = XSpectrum1D.from_tuple((wavelength_B, flux_B, uncertainty_B))\n",
    "sp_B.plot()"
   ]
  },
  {
   "cell_type": "code",
   "execution_count": 5,
   "id": "41514e83",
   "metadata": {},
   "outputs": [],
   "source": [
    "# (C)\n",
    "hdus_C = fits.open('D:\\Datacube\\RXJ1131-1231\\spektrum_sum_RXJ1131-1231_C_0.6.fits')\n",
    "spec_C = Spectrum('D:\\Datacube\\RXJ1131-1231\\spektrum_sum_RXJ1131-1231_C_0.6.fits')\n",
    "\n",
    "flux_C = hdus_C['DATA'].data*u.Unit(hdus_C[1].header['BUNIT'])  # Replace 'DATA' with the flux extension name\n",
    "variance_C = hdus_C['STAT'].data*u.Unit(hdus_C[2].header['BUNIT'])  # Replace 'STAT' with the variance extension name\n",
    "uncertainty_C = np.sqrt(variance_C) #uncertainty is standard deviation\n",
    "wavelength_C = spec_C.wave.coord() * u.Unit(spec_C.wave.unit)# Wavelength array\n",
    "\n",
    "sp_C = XSpectrum1D.from_tuple((wavelength_C, flux_C, uncertainty_C))\n",
    "sp_C.plot()"
   ]
  },
  {
   "cell_type": "code",
   "execution_count": 6,
   "id": "6ec87eb6",
   "metadata": {},
   "outputs": [],
   "source": [
    "# (D)\n",
    "hdus_D = fits.open('D:\\Datacube\\RXJ1131-1231\\spektrum_sum_RXJ1131-1231_D_0.6.fits')\n",
    "spec_D = Spectrum('D:\\Datacube\\RXJ1131-1231\\spektrum_sum_RXJ1131-1231_D_0.6.fits')\n",
    "\n",
    "flux_D = hdus_D['DATA'].data*u.Unit(hdus_D[1].header['BUNIT'])  # Replace 'DATA' with the flux extension name\n",
    "variance_D = hdus_D['STAT'].data*u.Unit(hdus_D[2].header['BUNIT'])  # Replace 'STAT' with the variance extension name\n",
    "uncertainty_D = np.sqrt(variance_D) #uncertainty is standard deviation\n",
    "wavelength_D = spec_D.wave.coord() * u.Unit(spec_D.wave.unit)# Wavelength array\n",
    "\n",
    "sp_D = XSpectrum1D.from_tuple((wavelength_D, flux_D, uncertainty_D))\n",
    "sp_D.plot()"
   ]
  },
  {
   "cell_type": "code",
   "execution_count": 7,
   "id": "458a0c1c",
   "metadata": {},
   "outputs": [],
   "source": [
    "# (G)\n",
    "hdus_G = fits.open('D:\\Datacube\\RXJ1131-1231\\spektrum_sum_RXJ1131-1231_G_0.6.fits')\n",
    "spec_G = Spectrum('D:\\Datacube\\RXJ1131-1231\\spektrum_sum_RXJ1131-1231_G_0.6.fits')\n",
    "\n",
    "flux_G = hdus_G['DATA'].data*u.Unit(hdus_G[1].header['BUNIT'])  # Replace 'DATA' with the flux extension name\n",
    "variance_G = hdus_G['STAT'].data*u.Unit(hdus_G[2].header['BUNIT'])  # Replace 'STAT' with the variance extension name\n",
    "uncertainty_G = np.sqrt(variance_G) #uncertainty is standard deviation\n",
    "wavelength_G = spec_G.wave.coord() * u.Unit(spec_G.wave.unit)# Wavelength array\n",
    "\n",
    "sp_G = XSpectrum1D.from_tuple((wavelength_G, flux_G, uncertainty_G))\n",
    "sp_G.plot()"
   ]
  },
  {
   "cell_type": "markdown",
   "id": "bf28d3ea",
   "metadata": {},
   "source": [
    "# 1. Galaxy Redshift"
   ]
  },
  {
   "cell_type": "code",
   "execution_count": 8,
   "id": "a42483d0",
   "metadata": {},
   "outputs": [],
   "source": [
    "# Ca II\n",
    "lambda_3935 = 3934.777\n",
    "f3935 = 6.82e-01\n",
    "A3935 = 1.47e+08\n",
    "\n",
    "lambda_3970 = 3969.591\n",
    "f3970 = 3.3e-01\n",
    "A3970 = 1.4e+08\n",
    "\n",
    "# Na I\n",
    "lambda_5892 = 5891.583253\n",
    "f5892 = 6.41e-01\n",
    "A5892 = 6.16e+07\n",
    "\n",
    "lambda_5898 = 5897.558147\n",
    "f5898 = 3.20e-01\n",
    "A5898 = 6.14e+07\n",
    "\n",
    "c_kms = c.to('km/s').value\n",
    "\n",
    "%matplotlib inline\n",
    "import matplotlib.pyplot as plt\n",
    "\n",
    "uncertain_G = uncertainty_G[280:390]\n",
    "\n",
    "loaded_data_G = np.load(\"D:\\Datacube\\RXJ1131-1231\\continuum_RXJ1131-1231_G.npz\")\n",
    "co_G = loaded_data_G[\"values\"] * u.Unit(spec_G.unit)"
   ]
  },
  {
   "cell_type": "code",
   "execution_count": 9,
   "id": "d1e92b61",
   "metadata": {},
   "outputs": [
    {
     "data": {
      "text/plain": [
       "[<matplotlib.lines.Line2D at 0x1379a6284c0>]"
      ]
     },
     "execution_count": 9,
     "metadata": {},
     "output_type": "execute_result"
    },
    {
     "data": {
      "image/png": "[encoded data removed]",
      "text/plain": [
       "<Figure size 432x288 with 1 Axes>"
      ]
     },
     "metadata": {
      "needs_background": "light"
     },
     "output_type": "display_data"
    }
   ],
   "source": [
    "plt.plot(wavelength_G[280:390], flux_G[280:390])"
   ]
  },
  {
   "cell_type": "code",
   "execution_count": 10,
   "id": "ed4cb1cb",
   "metadata": {},
   "outputs": [
    {
     "data": {
      "text/plain": [
       "[<matplotlib.lines.Line2D at 0x1379a6f4d30>]"
      ]
     },
     "execution_count": 10,
     "metadata": {},
     "output_type": "execute_result"
    },
    {
     "data": {
      "image/png": "[encoded data removed]",
      "text/plain": [
       "<Figure size 432x288 with 1 Axes>"
      ]
     },
     "metadata": {
      "needs_background": "light"
     },
     "output_type": "display_data"
    }
   ],
   "source": [
    "fluxes_gal = (flux_G[280:390].value / co_G.value) - 1\n",
    "uncertainties_gal = (uncertain_G.value / co_G.value)\n",
    "plt.plot(wavelength_G[280:390], fluxes_gal)"
   ]
  },
  {
   "cell_type": "code",
   "execution_count": 11,
   "id": "19efb8a1",
   "metadata": {},
   "outputs": [
    {
     "data": {
      "text/plain": [
       "array([-4.49986084e-01,  5.09598480e+03,  9.55089943e+00, -4.45875350e-01,\n",
       "        5.13990768e+03,  7.27688490e+00])"
      ]
     },
     "execution_count": 11,
     "metadata": {},
     "output_type": "execute_result"
    }
   ],
   "source": [
    "def convolved_model(x, amp, mu, sigma, amp2, mu2, sigma2):\n",
    "    intrinsic_profile = (amp * np.exp(-0.5 * ((x - mu)/sigma)**2)) + (amp2 * np.exp(-0.5 * ((x - mu2)/sigma2)**2))\n",
    "    return intrinsic_profile\n",
    "\n",
    "# (G) Ca II\n",
    "p0_gal = [-0.5, 5092, 7, -0.5, 5140, 7]\n",
    "\n",
    "popt_gal, _ = curve_fit(convolved_model, wavelength_G[280:390], fluxes_gal, p0=p0_gal)\n",
    "popt_gal"
   ]
  },
  {
   "cell_type": "code",
   "execution_count": 12,
   "id": "00baf752",
   "metadata": {},
   "outputs": [
    {
     "name": "stdout",
     "output_type": "stream",
     "text": [
      "Estimated Noise Standard Deviation: 1.884\n"
     ]
    },
    {
     "data": {
      "image/png": "[encoded data removed]",
      "text/plain": [
       "<Figure size 432x288 with 1 Axes>"
      ]
     },
     "metadata": {
      "needs_background": "light"
     },
     "output_type": "display_data"
    }
   ],
   "source": [
    "residuals_gal = fluxes_gal - convolved_model(wavelength_G[280:390].value, *popt_gal)\n",
    "\n",
    "plt.hist(residuals_gal / uncertainties_gal)\n",
    "\n",
    "std_gal = np.std(residuals_gal / uncertainties_gal)\n",
    "print(f\"Estimated Noise Standard Deviation: {std_gal:.3f}\")"
   ]
  },
  {
   "cell_type": "code",
   "execution_count": 13,
   "id": "76dc6f84",
   "metadata": {},
   "outputs": [
    {
     "name": "stdout",
     "output_type": "stream",
     "text": [
      "Estimated Noise Standard Deviation: 1.320\n"
     ]
    },
    {
     "data": {
      "image/png": "[encoded data removed]",
      "text/plain": [
       "<Figure size 432x288 with 1 Axes>"
      ]
     },
     "metadata": {
      "needs_background": "light"
     },
     "output_type": "display_data"
    }
   ],
   "source": [
    "sigma_floor_gal = 0.01\n",
    "sigma_adjusted_gal = np.sqrt(uncertainties_gal**2 + sigma_floor_gal**2)\n",
    "\n",
    "plt.hist(residuals_gal / sigma_adjusted_gal)\n",
    "\n",
    "std_gal = np.std(residuals_gal / sigma_adjusted_gal)\n",
    "print(f\"Estimated Noise Standard Deviation: {std_gal:.3f}\")"
   ]
  },
  {
   "cell_type": "code",
   "execution_count": 14,
   "id": "d26b473f",
   "metadata": {},
   "outputs": [
    {
     "name": "stdout",
     "output_type": "stream",
     "text": [
      "Chi-squared: 200.567\n",
      "Degree of freedom: 104.000\n",
      "Reduced Chi-squared: 1.929\n"
     ]
    }
   ],
   "source": [
    "chi_squared_gal = np.sum((residuals_gal / sigma_adjusted_gal) ** 2)\n",
    "dof_gal = len(fluxes_gal) - len(popt_gal)\n",
    "\n",
    "reduced_chi_squared_gal = chi_squared_gal / dof_gal\n",
    "\n",
    "print(f'Chi-squared: {chi_squared_gal:.3f}')\n",
    "print(f'Degree of freedom: {dof_gal:.3f}')\n",
    "print(f'Reduced Chi-squared: {reduced_chi_squared_gal:.3f}')"
   ]
  },
  {
   "cell_type": "code",
   "execution_count": 15,
   "id": "548ea0b1",
   "metadata": {},
   "outputs": [
    {
     "data": {
      "text/plain": [
       "<matplotlib.legend.Legend at 0x1379c85b580>"
      ]
     },
     "execution_count": 15,
     "metadata": {},
     "output_type": "execute_result"
    },
    {
     "data": {
      "image/png": "[encoded data removed]",
      "text/plain": [
       "<Figure size 432x288 with 1 Axes>"
      ]
     },
     "metadata": {
      "needs_background": "light"
     },
     "output_type": "display_data"
    }
   ],
   "source": [
    "(recovered_amp_3935, recovered_mu_3935, recovered_std_3935, recovered_amp2_3935, recovered_mu2_3935, recovered_std2_3935) = popt_gal\n",
    "\n",
    "true_spectrum_gal = (Gaussian1D(amplitude=recovered_amp_3935, mean=recovered_mu_3935, stddev=recovered_std_3935)\n",
    "                  + Gaussian1D(amplitude=recovered_amp2_3935, mean=recovered_mu2_3935, stddev=recovered_std2_3935))\n",
    "\n",
    "plt.plot(wavelength_G[280:390], true_spectrum_gal(wavelength_G[280:390].value), '--', label=\"True Voigt\", color='blue')\n",
    "#plt.xlim(2780, 2820)\n",
    "plt.ylim(-1, 0.1)\n",
    "plt.legend()"
   ]
  },
  {
   "cell_type": "code",
   "execution_count": 16,
   "id": "45371fd5",
   "metadata": {},
   "outputs": [
    {
     "data": {
      "text/plain": [
       "<matplotlib.legend.Legend at 0x1379c89fa90>"
      ]
     },
     "execution_count": 16,
     "metadata": {},
     "output_type": "execute_result"
    },
    {
     "data": {
      "image/png": "[encoded data removed]",
      "text/plain": [
       "<Figure size 432x288 with 1 Axes>"
      ]
     },
     "metadata": {
      "needs_background": "light"
     },
     "output_type": "display_data"
    }
   ],
   "source": [
    "plt.figure()\n",
    "plt.plot(wavelength_G[280:390], fluxes_gal+1, label=\"Observed Spectrum\", color='gray', alpha= 0.8, drawstyle='steps-mid')\n",
    "plt.plot(wavelength_G[280:390], true_spectrum_gal(wavelength_G[280:390].value)+1, '--', label=\"True Spectrum\", color='blue',alpha=0.7)\n",
    "plt.plot(wavelength_G[280:390], residuals_gal, label='Residuals', color='cyan')\n",
    "\n",
    "plt.title(\"1 Components\")\n",
    "plt.ylim(-0.05,1.1)\n",
    "plt.legend()"
   ]
  },
  {
   "cell_type": "code",
   "execution_count": 17,
   "id": "3f6a9d80",
   "metadata": {},
   "outputs": [
    {
     "data": {
      "text/plain": [
       "<matplotlib.legend.Legend at 0x1379c923340>"
      ]
     },
     "execution_count": 17,
     "metadata": {},
     "output_type": "execute_result"
    },
    {
     "data": {
      "image/png": "[encoded data removed]",
      "text/plain": [
       "<Figure size 432x288 with 1 Axes>"
      ]
     },
     "metadata": {
      "needs_background": "light"
     },
     "output_type": "display_data"
    }
   ],
   "source": [
    "plt.plot(wavelength_G[280:390], fluxes_gal+1, 'k', alpha=0.8, drawstyle='steps-mid', label='Spektrum Teramati')\n",
    "plt.plot(wavelength_G[280:390], true_spectrum_gal(wavelength_G[280:390].value)+1, lw=3, color='limegreen', label='Gaussian Fit')\n",
    "plt.axvline(recovered_mu_3935, color=\"grey\", linestyle=\":\")\n",
    "plt.ylim(0.5, 1.1)\n",
    "#plt.xlim(4795, 4865)\n",
    "plt.xlim(5060, 5130)\n",
    "plt.ylabel(\"Fluks Ternormalisasi\")\n",
    "plt.xlabel(\"Panjang Gelombang Teramati (Å)\")\n",
    "plt.legend(loc='best')"
   ]
  },
  {
   "cell_type": "code",
   "execution_count": 18,
   "id": "75d899d3",
   "metadata": {},
   "outputs": [
    {
     "name": "stdout",
     "output_type": "stream",
     "text": [
      "Simulation is done\n"
     ]
    }
   ],
   "source": [
    "sim_mu_gal = []\n",
    "\n",
    "n_sim = 1000\n",
    "\n",
    "for x in range(0, n_sim):\n",
    "    sim_fluxes_gal = fluxes_gal + np.random.normal(0, sigma_adjusted_gal)\n",
    "    \n",
    "    popt_gal, _ = curve_fit(convolved_model, wavelength_G[280:390], sim_fluxes_gal, p0=p0_gal)\n",
    "    (recovered_amp_3935, recovered_mu_3935, recovered_std_3935, recovered_amp2_3935, recovered_mu2_3935, recovered_std2_3935) = popt_gal\n",
    "    sim_mu_gal.append(recovered_mu_3935)\n",
    "    \n",
    "print(\"Simulation is done\")"
   ]
  },
  {
   "cell_type": "code",
   "execution_count": 19,
   "id": "310797ed",
   "metadata": {},
   "outputs": [
    {
     "name": "stdout",
     "output_type": "stream",
     "text": [
      "Fitted Mu gal: 5095.989 ± 0.114 Angstrom\n"
     ]
    }
   ],
   "source": [
    "sim_mu_gal = np.array(sim_mu_gal)\n",
    "sim_mu_gal_mean = np.mean(sim_mu_gal)\n",
    "sim_mu_gal_std = np.std(sim_mu_gal)\n",
    "\n",
    "print(f\"Fitted Mu gal: {sim_mu_gal_mean:.3f} ± {sim_mu_gal_std:.3f} Angstrom\")"
   ]
  },
  {
   "cell_type": "code",
   "execution_count": 20,
   "id": "7017f161",
   "metadata": {},
   "outputs": [
    {
     "name": "stdout",
     "output_type": "stream",
     "text": [
      "Redshift: 0.29511499864132523 ± 2.908783463729208e-05 Angstrom\n"
     ]
    }
   ],
   "source": [
    "z = (sim_mu_gal_mean - lambda_3935) / lambda_3935\n",
    "\n",
    "err_z = sim_mu_gal_std / lambda_3935\n",
    "print(f\"Redshift: {z} ± {err_z} Angstrom\")"
   ]
  },
  {
   "cell_type": "markdown",
   "id": "e93b48fe",
   "metadata": {},
   "source": [
    "# 2. Continuum Fit"
   ]
  },
  {
   "cell_type": "code",
   "execution_count": 21,
   "id": "c1122532",
   "metadata": {},
   "outputs": [],
   "source": [
    "%matplotlib qt\n",
    "import matplotlib.pyplot as plt"
   ]
  },
  {
   "cell_type": "markdown",
   "id": "538766ad",
   "metadata": {},
   "source": [
    "## (A) Ca II Continuum Fit"
   ]
  },
  {
   "cell_type": "code",
   "execution_count": 22,
   "id": "81cdc9ac",
   "metadata": {},
   "outputs": [],
   "source": [
    "flux_masked_A = flux_A[280:390]\n",
    "uncertainty_masked_A = uncertainty_A[280:390]\n",
    "rest_wavelength_masked_A = wavelength_A[280:390]/(1+z)\n",
    "\n",
    "sp_masked_rest_A = XSpectrum1D.from_tuple((rest_wavelength_masked_A, flux_masked_A, uncertainty_masked_A))\n",
    "sp_masked_rest_A.plot()"
   ]
  },
  {
   "cell_type": "code",
   "execution_count": 26,
   "id": "25da6fbc",
   "metadata": {
    "collapsed": true
   },
   "outputs": [
    {
     "name": "stdout",
     "output_type": "stream",
     "text": [
      "knots file exists, use this? (y) n\n",
      "\n",
      "i,o          Zoom in/out x limits\n",
      "y            Zoom out y limits\n",
      "Y            Guess y limits\n",
      "t,b          Set y top/bottom limit\n",
      "l,r          Set left/right x limit\n",
      "[,]          Pan left/right\n",
      "w            Plot the whole spectrum\n",
      "\n",
      "S,U          Smooth/unsmooth spectrum\n",
      "\n",
      "a        : add a new spline knot\n",
      "A        : add a new spline knot, and use a flux median to guess y position\n",
      "+        : double the number of spline knots\n",
      "_        : halve the number of spline knots\n",
      "d        : delete the nearest knot\n",
      "m        : move the nearest knot\n",
      "M        : move the nearest knot, and use a flux median to guess y position\n",
      "c        : toggle initial continuum display\n",
      "\n",
      "q        : quit\n",
      "\n",
      "Updating continuum.\n"
     ]
    }
   ],
   "source": [
    "sp_masked_rest_A.fit_continuum()"
   ]
  },
  {
   "cell_type": "code",
   "execution_count": 27,
   "id": "41929e9d",
   "metadata": {
    "collapsed": true
   },
   "outputs": [
    {
     "data": {
      "text/latex": [
       "$[12714.711,~12807.155,~12819.573,~\\dots,~16032.14,~15574.099,~16793.139] \\; \\mathrm{1 \\times 10^{-20}\\,\\frac{erg}{\\mathring{A}\\,s\\,cm^{2}}}$"
      ],
      "text/plain": [
       "<Quantity [12714.711 , 12807.155 , 12819.573 , 12831.375 , 12842.594 ,\n",
       "           12853.26  , 12863.405 , 12873.0625, 12882.262 , 12891.036 ,\n",
       "           12899.416 , 12907.434 , 12915.12  , 12922.508 , 12929.628 ,\n",
       "           12936.512 , 12943.191 , 12949.624 , 12955.516 , 12960.7295,\n",
       "           12965.147 , 12968.653 , 12971.128 , 12972.453 , 12972.513 ,\n",
       "           12971.188 , 12968.361 , 12963.915 , 12957.284 , 12947.619 ,\n",
       "           12935.453 , 12921.372 , 12905.965 , 12889.82  , 12873.526 ,\n",
       "           12857.671 , 12842.841 , 12829.627 , 12818.615 , 12809.449 ,\n",
       "           12800.785 , 12792.669 , 12785.176 , 12778.379 , 12772.354 ,\n",
       "           12767.175 , 12762.917 , 12759.654 , 12757.461 , 12756.412 ,\n",
       "           12757.165 , 12760.267 , 12765.423 , 12772.337 , 12780.714 ,\n",
       "           12790.257 , 12800.669 , 12811.654 , 12822.917 , 12834.161 ,\n",
       "           12845.086 , 12853.935 , 12860.523 , 12866.443 , 12873.282 ,\n",
       "           12882.631 , 12896.078 , 12915.215 , 12941.629 , 12976.911 ,\n",
       "           13022.65  , 13080.337 , 13145.492 , 13214.473 , 13286.555 ,\n",
       "           13361.02  , 13437.144 , 13514.207 , 13591.487 , 13668.264 ,\n",
       "           13743.813 , 13817.417 , 13888.452 , 13958.598 , 14028.696 ,\n",
       "           14098.755 , 14168.779 , 14238.775 , 14308.749 , 14378.707 ,\n",
       "           14448.654 , 14518.599 , 14588.545 , 14658.389 , 14726.946 ,\n",
       "           14794.254 , 14860.763 , 14926.926 , 14993.194 , 15060.021 ,\n",
       "           15136.218 , 15331.584 , 15625.351 , 15946.755 , 16225.038 ,\n",
       "           16388.145 , 16323.019 , 16032.14  , 15574.099 , 16793.139 ] 1e-20 erg / (Angstrom cm2 s)>"
      ]
     },
     "execution_count": 27,
     "metadata": {},
     "output_type": "execute_result"
    }
   ],
   "source": [
    "sp_masked_rest_A.co"
   ]
  },
  {
   "cell_type": "code",
   "execution_count": 28,
   "id": "9eed9dfb",
   "metadata": {},
   "outputs": [],
   "source": [
    "np.savez(\"D:\\Datacube\\RXJ1131-1231\\continuum_RXJ1131-1231_A.npz\", values=sp_masked_rest_A.co.value, unit=str(sp_masked_rest_A.co.unit))"
   ]
  },
  {
   "cell_type": "markdown",
   "id": "3ef048eb",
   "metadata": {},
   "source": [
    "## (A) Na I Continuum Fit"
   ]
  },
  {
   "cell_type": "code",
   "execution_count": 23,
   "id": "d1056ad7",
   "metadata": {},
   "outputs": [],
   "source": [
    "flux_masked_A2 = flux_A[2310:2390]\n",
    "uncertainty_masked_A2 = uncertainty_A[2310:2390]\n",
    "rest_wavelength_masked_A2 = wavelength_A[2310:2390]/(1+z)\n",
    "\n",
    "sp_masked_rest_A2 = XSpectrum1D.from_tuple((rest_wavelength_masked_A2, flux_masked_A2, uncertainty_masked_A2))\n",
    "sp_masked_rest_A2.plot()"
   ]
  },
  {
   "cell_type": "code",
   "execution_count": 30,
   "id": "ac1df19c",
   "metadata": {
    "collapsed": true
   },
   "outputs": [
    {
     "name": "stdout",
     "output_type": "stream",
     "text": [
      "knots file exists, use this? (y) n\n",
      "\n",
      "i,o          Zoom in/out x limits\n",
      "y            Zoom out y limits\n",
      "Y            Guess y limits\n",
      "t,b          Set y top/bottom limit\n",
      "l,r          Set left/right x limit\n",
      "[,]          Pan left/right\n",
      "w            Plot the whole spectrum\n",
      "\n",
      "S,U          Smooth/unsmooth spectrum\n",
      "\n",
      "a        : add a new spline knot\n",
      "A        : add a new spline knot, and use a flux median to guess y position\n",
      "+        : double the number of spline knots\n",
      "_        : halve the number of spline knots\n",
      "d        : delete the nearest knot\n",
      "m        : move the nearest knot\n",
      "M        : move the nearest knot, and use a flux median to guess y position\n",
      "c        : toggle initial continuum display\n",
      "\n",
      "q        : quit\n",
      "\n",
      "Updating continuum.\n"
     ]
    }
   ],
   "source": [
    "sp_masked_rest_A2.fit_continuum()"
   ]
  },
  {
   "cell_type": "code",
   "execution_count": 31,
   "id": "8ce27bb2",
   "metadata": {
    "collapsed": true
   },
   "outputs": [
    {
     "data": {
      "text/latex": [
       "$[9418.7959,~9112.5244,~9072.7803,~9034.9668,~8999.041,~8964.9609,~8932.6816,~8902.1611,~8873.3564,~8846.2236,~8820.7188,~8796.8008,~8774.4248,~8753.5488,~8734.1289,~8716.1211,~8699.4844,~8684.1924,~8673.999,~8670.6982,~8672.7637,~8678.6699,~8686.8896,~8695.8975,~8704.168,~8710.1738,~8712.3896,~8709.2891,~8699.3467,~8680.584,~8652.3857,~8616.7197,~8575.6113,~8531.0908,~8485.1846,~8439.9209,~8397.3281,~8359.4336,~8328.2646,~8305.8496,~8292.8418,~8282.3135,~8273.0967,~8265.3213,~8259.1152,~8254.6094,~8251.9326,~8251.2119,~8252.5791,~8256.1602,~8262.0869,~8270.4609,~8280.5674,~8291.8096,~8303.8926,~8316.5176,~8329.3896,~8342.21,~8354.6816,~8366.5098,~8377.3945,~8387.042,~8395.1523,~8402.2363,~8409.2256,~8416.0986,~8422.8301,~8429.3965,~8435.7715,~8441.9297,~8447.8477,~8453.499,~8458.8594,~8463.9043,~8468.6074,~8472.9443,~8476.8906,~8480.4199,~8483.5088,~8524.4404] \\; \\mathrm{1 \\times 10^{-20}\\,\\frac{erg}{\\mathring{A}\\,s\\,cm^{2}}}$"
      ],
      "text/plain": [
       "<Quantity [9418.796, 9112.524, 9072.78 , 9034.967, 8999.041, 8964.961,\n",
       "           8932.682, 8902.161, 8873.356, 8846.224, 8820.719, 8796.801,\n",
       "           8774.425, 8753.549, 8734.129, 8716.121, 8699.484, 8684.192,\n",
       "           8673.999, 8670.698, 8672.764, 8678.67 , 8686.89 , 8695.897,\n",
       "           8704.168, 8710.174, 8712.39 , 8709.289, 8699.347, 8680.584,\n",
       "           8652.386, 8616.72 , 8575.611, 8531.091, 8485.185, 8439.921,\n",
       "           8397.328, 8359.434, 8328.265, 8305.85 , 8292.842, 8282.313,\n",
       "           8273.097, 8265.321, 8259.115, 8254.609, 8251.933, 8251.212,\n",
       "           8252.579, 8256.16 , 8262.087, 8270.461, 8280.567, 8291.81 ,\n",
       "           8303.893, 8316.518, 8329.39 , 8342.21 , 8354.682, 8366.51 ,\n",
       "           8377.395, 8387.042, 8395.152, 8402.236, 8409.226, 8416.099,\n",
       "           8422.83 , 8429.396, 8435.771, 8441.93 , 8447.848, 8453.499,\n",
       "           8458.859, 8463.904, 8468.607, 8472.944, 8476.891, 8480.42 ,\n",
       "           8483.509, 8524.44 ] 1e-20 erg / (Angstrom cm2 s)>"
      ]
     },
     "execution_count": 31,
     "metadata": {},
     "output_type": "execute_result"
    }
   ],
   "source": [
    "sp_masked_rest_A2.co"
   ]
  },
  {
   "cell_type": "code",
   "execution_count": 32,
   "id": "eb0e1b6e",
   "metadata": {},
   "outputs": [],
   "source": [
    "np.savez(\"D:\\Datacube\\RXJ1131-1231\\continuum_RXJ1131-1231_A_Nai.npz\", values=sp_masked_rest_A2.co.value, unit=str(sp_masked_rest_A2.co.unit))"
   ]
  },
  {
   "cell_type": "markdown",
   "id": "18c81d7a",
   "metadata": {},
   "source": [
    "## (B) Ca II Continuum Fit"
   ]
  },
  {
   "cell_type": "code",
   "execution_count": 24,
   "id": "2fdfac83",
   "metadata": {},
   "outputs": [],
   "source": [
    "flux_masked_B = flux_B[280:390]\n",
    "uncertainty_masked_B = uncertainty_B[280:390]\n",
    "rest_wavelength_masked_B = wavelength_B[280:390]/(1+z)\n",
    "\n",
    "sp_masked_rest_B = XSpectrum1D.from_tuple((rest_wavelength_masked_B, flux_masked_B, uncertainty_masked_B))\n",
    "sp_masked_rest_B.plot()"
   ]
  },
  {
   "cell_type": "code",
   "execution_count": 34,
   "id": "cbcaf1ea",
   "metadata": {
    "collapsed": true
   },
   "outputs": [
    {
     "name": "stdout",
     "output_type": "stream",
     "text": [
      "knots file exists, use this? (y) n\n",
      "\n",
      "i,o          Zoom in/out x limits\n",
      "y            Zoom out y limits\n",
      "Y            Guess y limits\n",
      "t,b          Set y top/bottom limit\n",
      "l,r          Set left/right x limit\n",
      "[,]          Pan left/right\n",
      "w            Plot the whole spectrum\n",
      "\n",
      "S,U          Smooth/unsmooth spectrum\n",
      "\n",
      "a        : add a new spline knot\n",
      "A        : add a new spline knot, and use a flux median to guess y position\n",
      "+        : double the number of spline knots\n",
      "_        : halve the number of spline knots\n",
      "d        : delete the nearest knot\n",
      "m        : move the nearest knot\n",
      "M        : move the nearest knot, and use a flux median to guess y position\n",
      "c        : toggle initial continuum display\n",
      "\n",
      "q        : quit\n",
      "\n",
      "Updating continuum.\n"
     ]
    }
   ],
   "source": [
    "sp_masked_rest_B.fit_continuum()"
   ]
  },
  {
   "cell_type": "code",
   "execution_count": 35,
   "id": "67c04fdb",
   "metadata": {
    "collapsed": true
   },
   "outputs": [
    {
     "data": {
      "text/latex": [
       "$[7106.522,~7120.439,~7120.8301,~\\dots,~9103.0283,~8861.1934,~9395.1777] \\; \\mathrm{1 \\times 10^{-20}\\,\\frac{erg}{\\mathring{A}\\,s\\,cm^{2}}}$"
      ],
      "text/plain": [
       "<Quantity [7106.522 , 7120.439 , 7120.83  , 7121.7383, 7123.1245,\n",
       "           7124.95  , 7127.176 , 7129.7627, 7132.672 , 7135.8643,\n",
       "           7139.301 , 7142.9424, 7146.7505, 7150.6855, 7154.709 ,\n",
       "           7158.7817, 7162.8643, 7167.4688, 7174.2344, 7182.811 ,\n",
       "           7192.681 , 7203.3257, 7214.2266, 7224.8647, 7234.722 ,\n",
       "           7243.28  , 7250.0195, 7254.4233, 7254.9897, 7249.693 ,\n",
       "           7239.631 , 7226.0303, 7210.1177, 7193.119 , 7176.261 ,\n",
       "           7160.77  , 7147.8716, 7138.793 , 7134.7603, 7134.754 ,\n",
       "           7135.3403, 7136.3516, 7137.684 , 7139.2344, 7140.8994,\n",
       "           7142.575 , 7144.158 , 7145.546 , 7146.634 , 7147.3193,\n",
       "           7147.2812, 7146.358 , 7144.77  , 7142.7393, 7140.4873,\n",
       "           7138.2354, 7136.205 , 7134.6177, 7133.6953, 7133.6597,\n",
       "           7134.7373, 7139.708 , 7150.3716, 7166.191 , 7186.63  ,\n",
       "           7211.1523, 7239.2217, 7270.301 , 7303.854 , 7339.344 ,\n",
       "           7376.235 , 7414.032 , 7454.4863, 7498.1724, 7544.282 ,\n",
       "           7592.008 , 7640.541 , 7689.073 , 7736.7964, 7782.9023,\n",
       "           7826.5825, 7867.0293, 7903.528 , 7937.6045, 7970.2627,\n",
       "           8001.7646, 8032.373 , 8062.35  , 8091.958 , 8121.46  ,\n",
       "           8151.117 , 8181.193 , 8211.949 , 8243.77  , 8278.154 ,\n",
       "           8315.147 , 8354.323 , 8395.258 , 8437.526 , 8480.704 ,\n",
       "           8524.368 , 8579.755 , 8734.501 , 8949.194 , 9152.476 ,\n",
       "           9272.793 , 9251.374 , 9103.028 , 8861.193 , 9395.178 ] 1e-20 erg / (Angstrom cm2 s)>"
      ]
     },
     "execution_count": 35,
     "metadata": {},
     "output_type": "execute_result"
    }
   ],
   "source": [
    "sp_masked_rest_B.co"
   ]
  },
  {
   "cell_type": "code",
   "execution_count": 36,
   "id": "8cf7c996",
   "metadata": {},
   "outputs": [],
   "source": [
    "np.savez(\"D:\\Datacube\\RXJ1131-1231\\continuum_RXJ1131-1231_B.npz\", values=sp_masked_rest_B.co.value, unit=str(sp_masked_rest_B.co.unit))"
   ]
  },
  {
   "cell_type": "markdown",
   "id": "044d456a",
   "metadata": {},
   "source": [
    "## (B) Na I Continuum Fit"
   ]
  },
  {
   "cell_type": "code",
   "execution_count": 25,
   "id": "4113add3",
   "metadata": {},
   "outputs": [],
   "source": [
    "flux_masked_B2 = flux_B[2310:2390]\n",
    "uncertainty_masked_B2 = uncertainty_B[2310:2390]\n",
    "rest_wavelength_masked_B2 = wavelength_B[2310:2390]/(1+z)\n",
    "\n",
    "sp_masked_rest_B2 = XSpectrum1D.from_tuple((rest_wavelength_masked_B2, flux_masked_B2, uncertainty_masked_B2))\n",
    "sp_masked_rest_B2.plot()"
   ]
  },
  {
   "cell_type": "code",
   "execution_count": 38,
   "id": "04c2cb7a",
   "metadata": {
    "collapsed": true
   },
   "outputs": [
    {
     "name": "stdout",
     "output_type": "stream",
     "text": [
      "knots file exists, use this? (y) n\n",
      "\n",
      "i,o          Zoom in/out x limits\n",
      "y            Zoom out y limits\n",
      "Y            Guess y limits\n",
      "t,b          Set y top/bottom limit\n",
      "l,r          Set left/right x limit\n",
      "[,]          Pan left/right\n",
      "w            Plot the whole spectrum\n",
      "\n",
      "S,U          Smooth/unsmooth spectrum\n",
      "\n",
      "a        : add a new spline knot\n",
      "A        : add a new spline knot, and use a flux median to guess y position\n",
      "+        : double the number of spline knots\n",
      "_        : halve the number of spline knots\n",
      "d        : delete the nearest knot\n",
      "m        : move the nearest knot\n",
      "M        : move the nearest knot, and use a flux median to guess y position\n",
      "c        : toggle initial continuum display\n",
      "\n",
      "q        : quit\n",
      "\n",
      "Updating continuum.\n"
     ]
    }
   ],
   "source": [
    "sp_masked_rest_B2.fit_continuum()"
   ]
  },
  {
   "cell_type": "code",
   "execution_count": 39,
   "id": "f78a489c",
   "metadata": {
    "collapsed": true
   },
   "outputs": [
    {
     "data": {
      "text/latex": [
       "$[6207.8369,~5923.7725,~5999.6343,~6045.0757,~6041.7627,~5973.9727,~5868.4849,~5757.3394,~5660.2622,~5555.0327,~5483.9233,~5486.7163,~5501.6787,~5517.1934,~5533.0293,~5548.9526,~5564.7329,~5580.1382,~5595.3535,~5610.6118,~5625.8906,~5641.168,~5656.4209,~5671.627,~5686.7642,~5701.8101,~5716.7417,~5731.5366,~5746.1733,~5756.6152,~5755.3569,~5744.3257,~5725.7656,~5701.9199,~5675.0327,~5647.3477,~5621.1084,~5598.5581,~5581.9414,~5573.5015,~5574.2231,~5577.8174,~5582.77,~5588.7148,~5595.2876,~5602.123,~5608.856,~5615.1211,~5620.5542,~5624.7896,~5627.4619,~5628.2607,~5628.4561,~5628.6855,~5628.9004,~5629.0503,~5629.0854,~5628.957,~5628.6147,~5628.0088,~5627.0903,~5625.8096,~5624.1162,~5622.1558,~5620.1602,~5618.1201,~5616.0269,~5613.8706,~5611.6421,~5609.332,~5606.9302,~5604.4282,~5601.8154,~5599.0835,~5596.2227,~5593.2231,~5590.0752,~5586.7705,~5583.2983,~5549.3364] \\; \\mathrm{1 \\times 10^{-20}\\,\\frac{erg}{\\mathring{A}\\,s\\,cm^{2}}}$"
      ],
      "text/plain": [
       "<Quantity [6207.837 , 5923.7725, 5999.6343, 6045.0757, 6041.7627,\n",
       "           5973.9727, 5868.485 , 5757.3394, 5660.262 , 5555.0327,\n",
       "           5483.9233, 5486.7163, 5501.6787, 5517.1934, 5533.0293,\n",
       "           5548.9526, 5564.733 , 5580.138 , 5595.3535, 5610.612 ,\n",
       "           5625.8906, 5641.168 , 5656.421 , 5671.627 , 5686.764 ,\n",
       "           5701.81  , 5716.7417, 5731.5366, 5746.1733, 5756.615 ,\n",
       "           5755.357 , 5744.3257, 5725.7656, 5701.92  , 5675.0327,\n",
       "           5647.3477, 5621.1084, 5598.558 , 5581.9414, 5573.5015,\n",
       "           5574.223 , 5577.8174, 5582.77  , 5588.715 , 5595.2876,\n",
       "           5602.123 , 5608.856 , 5615.121 , 5620.554 , 5624.7896,\n",
       "           5627.462 , 5628.2607, 5628.456 , 5628.6855, 5628.9004,\n",
       "           5629.0503, 5629.0854, 5628.957 , 5628.6147, 5628.009 ,\n",
       "           5627.0903, 5625.8096, 5624.116 , 5622.156 , 5620.16  ,\n",
       "           5618.12  , 5616.027 , 5613.8706, 5611.642 , 5609.332 ,\n",
       "           5606.93  , 5604.428 , 5601.8154, 5599.0835, 5596.2227,\n",
       "           5593.223 , 5590.075 , 5586.7705, 5583.2983, 5549.3364] 1e-20 erg / (Angstrom cm2 s)>"
      ]
     },
     "execution_count": 39,
     "metadata": {},
     "output_type": "execute_result"
    }
   ],
   "source": [
    "sp_masked_rest_B2.co"
   ]
  },
  {
   "cell_type": "code",
   "execution_count": 40,
   "id": "f0e1bb34",
   "metadata": {},
   "outputs": [],
   "source": [
    "np.savez(\"D:\\Datacube\\RXJ1131-1231\\continuum_RXJ1131-1231_B_Nai.npz\", values=sp_masked_rest_B2.co.value, unit=str(sp_masked_rest_B2.co.unit))"
   ]
  },
  {
   "cell_type": "markdown",
   "id": "1fcbec7e",
   "metadata": {},
   "source": [
    "## (C) Ca II Continuum Fit"
   ]
  },
  {
   "cell_type": "code",
   "execution_count": 26,
   "id": "84e69401",
   "metadata": {},
   "outputs": [],
   "source": [
    "flux_masked_C = flux_C[280:390]\n",
    "uncertainty_masked_C = uncertainty_C[280:390]\n",
    "rest_wavelength_masked_C = wavelength_C[280:390]/(1+z)\n",
    "\n",
    "sp_masked_rest_C = XSpectrum1D.from_tuple((rest_wavelength_masked_C, flux_masked_C, uncertainty_masked_C))\n",
    "sp_masked_rest_C.plot()"
   ]
  },
  {
   "cell_type": "code",
   "execution_count": 42,
   "id": "7fbb3515",
   "metadata": {
    "collapsed": true
   },
   "outputs": [
    {
     "name": "stdout",
     "output_type": "stream",
     "text": [
      "knots file exists, use this? (y) n\n",
      "\n",
      "i,o          Zoom in/out x limits\n",
      "y            Zoom out y limits\n",
      "Y            Guess y limits\n",
      "t,b          Set y top/bottom limit\n",
      "l,r          Set left/right x limit\n",
      "[,]          Pan left/right\n",
      "w            Plot the whole spectrum\n",
      "\n",
      "S,U          Smooth/unsmooth spectrum\n",
      "\n",
      "a        : add a new spline knot\n",
      "A        : add a new spline knot, and use a flux median to guess y position\n",
      "+        : double the number of spline knots\n",
      "_        : halve the number of spline knots\n",
      "d        : delete the nearest knot\n",
      "m        : move the nearest knot\n",
      "M        : move the nearest knot, and use a flux median to guess y position\n",
      "c        : toggle initial continuum display\n",
      "\n",
      "q        : quit\n",
      "\n",
      "Updating continuum.\n"
     ]
    }
   ],
   "source": [
    "sp_masked_rest_C.fit_continuum()"
   ]
  },
  {
   "cell_type": "code",
   "execution_count": 43,
   "id": "57f96a35",
   "metadata": {
    "collapsed": true
   },
   "outputs": [
    {
     "data": {
      "text/latex": [
       "$[5176.8975,~5190.6646,~5191.7598,~\\dots,~6843.6709,~6700.9004,~7194.5288] \\; \\mathrm{1 \\times 10^{-20}\\,\\frac{erg}{\\mathring{A}\\,s\\,cm^{2}}}$"
      ],
      "text/plain": [
       "<Quantity [5176.8975, 5190.6646, 5191.76  , 5193.0767, 5194.5986,\n",
       "           5196.3076, 5198.1865, 5200.2183, 5202.3857, 5204.671 ,\n",
       "           5207.0576, 5209.5273, 5212.064 , 5214.6494, 5217.267 ,\n",
       "           5219.899 , 5222.528 , 5225.584 , 5230.3633, 5236.494 ,\n",
       "           5243.4653, 5250.764 , 5257.88  , 5264.301 , 5269.515 ,\n",
       "           5273.0107, 5274.277 , 5272.802 , 5268.9946, 5264.8765,\n",
       "           5260.582 , 5256.148 , 5251.612 , 5247.01  , 5242.3804,\n",
       "           5237.7593, 5233.185 , 5228.694 , 5224.3237, 5220.049 ,\n",
       "           5215.778 , 5211.509 , 5207.2417, 5202.9756, 5198.711 ,\n",
       "           5194.4473, 5190.1846, 5185.9224, 5181.6606, 5177.399 ,\n",
       "           5173.1733, 5169.027 , 5164.9624, 5160.9814, 5157.086 ,\n",
       "           5153.2773, 5149.558 , 5145.9297, 5142.3945, 5138.9536,\n",
       "           5135.6133, 5134.233 , 5136.297 , 5141.7393, 5150.494 ,\n",
       "           5162.495 , 5177.676 , 5195.9707, 5217.3135, 5241.6377,\n",
       "           5268.8774, 5298.935 , 5330.028 , 5361.1494, 5392.2993,\n",
       "           5423.4766, 5454.68  , 5485.9097, 5517.1646, 5548.443 ,\n",
       "           5579.745 , 5611.0693, 5642.4155, 5673.7744, 5705.1426,\n",
       "           5736.5186, 5767.9004, 5799.288 , 5830.6787, 5862.0723,\n",
       "           5893.4673, 5924.862 , 5956.255 , 5987.7485, 6020.495 ,\n",
       "           6054.6265, 6089.902 , 6126.082 , 6162.9253, 6200.1924,\n",
       "           6238.9233, 6339.359 , 6502.801 , 6685.0864, 6842.0547,\n",
       "           6929.811 , 6925.7554, 6843.671 , 6700.9004, 7194.529 ] 1e-20 erg / (Angstrom cm2 s)>"
      ]
     },
     "execution_count": 43,
     "metadata": {},
     "output_type": "execute_result"
    }
   ],
   "source": [
    "sp_masked_rest_C.co"
   ]
  },
  {
   "cell_type": "code",
   "execution_count": 44,
   "id": "e0948003",
   "metadata": {},
   "outputs": [],
   "source": [
    "np.savez(\"D:\\Datacube\\RXJ1131-1231\\continuum_RXJ1131-1231_C.npz\", values=sp_masked_rest_C.co.value, unit=str(sp_masked_rest_C.co.unit))"
   ]
  },
  {
   "cell_type": "markdown",
   "id": "172a197e",
   "metadata": {},
   "source": [
    "## (C) Na I Continuum Fit"
   ]
  },
  {
   "cell_type": "code",
   "execution_count": 27,
   "id": "5b88d48d",
   "metadata": {},
   "outputs": [],
   "source": [
    "flux_masked_C2 = flux_C[2310:2390]\n",
    "uncertainty_masked_C2 = uncertainty_C[2310:2390]\n",
    "rest_wavelength_masked_C2 = wavelength_C[2310:2390]/(1+z)\n",
    "\n",
    "sp_masked_rest_C2 = XSpectrum1D.from_tuple((rest_wavelength_masked_C2, flux_masked_C2, uncertainty_masked_C2))\n",
    "sp_masked_rest_C2.plot()"
   ]
  },
  {
   "cell_type": "code",
   "execution_count": 46,
   "id": "50e5e83f",
   "metadata": {
    "collapsed": true
   },
   "outputs": [
    {
     "name": "stdout",
     "output_type": "stream",
     "text": [
      "knots file exists, use this? (y) n\n",
      "\n",
      "i,o          Zoom in/out x limits\n",
      "y            Zoom out y limits\n",
      "Y            Guess y limits\n",
      "t,b          Set y top/bottom limit\n",
      "l,r          Set left/right x limit\n",
      "[,]          Pan left/right\n",
      "w            Plot the whole spectrum\n",
      "\n",
      "S,U          Smooth/unsmooth spectrum\n",
      "\n",
      "a        : add a new spline knot\n",
      "A        : add a new spline knot, and use a flux median to guess y position\n",
      "+        : double the number of spline knots\n",
      "_        : halve the number of spline knots\n",
      "d        : delete the nearest knot\n",
      "m        : move the nearest knot\n",
      "M        : move the nearest knot, and use a flux median to guess y position\n",
      "c        : toggle initial continuum display\n",
      "\n",
      "q        : quit\n",
      "\n",
      "Updating continuum.\n"
     ]
    }
   ],
   "source": [
    "sp_masked_rest_C2.fit_continuum()"
   ]
  },
  {
   "cell_type": "code",
   "execution_count": 47,
   "id": "0c442a07",
   "metadata": {
    "collapsed": true
   },
   "outputs": [
    {
     "data": {
      "text/latex": [
       "$[5289.8477,~5072.269,~5081.4722,~5080.8115,~5070.8604,~5052.1909,~5025.0122,~4971.8574,~4898.5684,~4827.0571,~4779.2349,~4771.2559,~4772.2627,~4773.6113,~4775.1206,~4776.6084,~4777.8926,~4778.7939,~4779.8188,~4781.313,~4783.0991,~4785.0005,~4786.8398,~4788.4399,~4789.6245,~4790.2163,~4790.0381,~4788.9131,~4786.6636,~4783.4995,~4780.1821,~4776.7573,~4773.2432,~4769.6577,~4766.019,~4762.3457,~4758.6558,~4754.9668,~4751.2979,~4747.667,~4744.0801,~4740.4805,~4736.8623,~4733.2305,~4729.5898,~4725.9453,~4722.3018,~4718.6636,~4715.0366,~4711.4253,~4707.8345,~4704.3652,~4703.6519,~4706.377,~4711.8599,~4719.4199,~4728.3774,~4738.0518,~4747.7622,~4756.8291,~4764.5718,~4770.3096,~4773.3628,~4774.3701,~4774.8071,~4774.6807,~4773.9902,~4772.7349,~4770.915,~4768.5298,~4765.5791,~4762.062,~4757.979,~4753.3286,~4748.1113,~4742.3262,~4735.9731,~4729.0518,~4721.561,~4656.186] \\; \\mathrm{1 \\times 10^{-20}\\,\\frac{erg}{\\mathring{A}\\,s\\,cm^{2}}}$"
      ],
      "text/plain": [
       "<Quantity [5289.8477, 5072.269 , 5081.472 , 5080.8115, 5070.8604,\n",
       "           5052.191 , 5025.012 , 4971.8574, 4898.5684, 4827.057 ,\n",
       "           4779.235 , 4771.256 , 4772.2627, 4773.6113, 4775.1206,\n",
       "           4776.6084, 4777.8926, 4778.794 , 4779.819 , 4781.313 ,\n",
       "           4783.099 , 4785.0005, 4786.84  , 4788.44  , 4789.6245,\n",
       "           4790.2163, 4790.038 , 4788.913 , 4786.6636, 4783.4995,\n",
       "           4780.182 , 4776.7573, 4773.243 , 4769.6577, 4766.019 ,\n",
       "           4762.3457, 4758.656 , 4754.967 , 4751.298 , 4747.667 ,\n",
       "           4744.08  , 4740.4805, 4736.8623, 4733.2305, 4729.59  ,\n",
       "           4725.9453, 4722.302 , 4718.6636, 4715.0366, 4711.4253,\n",
       "           4707.8345, 4704.365 , 4703.652 , 4706.377 , 4711.86  ,\n",
       "           4719.42  , 4728.3774, 4738.052 , 4747.762 , 4756.829 ,\n",
       "           4764.572 , 4770.3096, 4773.363 , 4774.37  , 4774.807 ,\n",
       "           4774.6807, 4773.99  , 4772.735 , 4770.915 , 4768.53  ,\n",
       "           4765.579 , 4762.062 , 4757.979 , 4753.3286, 4748.1113,\n",
       "           4742.326 , 4735.973 , 4729.052 , 4721.561 , 4656.186 ] 1e-20 erg / (Angstrom cm2 s)>"
      ]
     },
     "execution_count": 47,
     "metadata": {},
     "output_type": "execute_result"
    }
   ],
   "source": [
    "sp_masked_rest_C2.co"
   ]
  },
  {
   "cell_type": "code",
   "execution_count": 48,
   "id": "deb1d502",
   "metadata": {},
   "outputs": [],
   "source": [
    "np.savez(\"D:\\Datacube\\RXJ1131-1231\\continuum_RXJ1131-1231_C_Nai.npz\", values=sp_masked_rest_C2.co.value, unit=str(sp_masked_rest_C2.co.unit))"
   ]
  },
  {
   "cell_type": "markdown",
   "id": "ea8a5020",
   "metadata": {},
   "source": [
    "## (D) Ca II Continuum Fit"
   ]
  },
  {
   "cell_type": "code",
   "execution_count": 28,
   "id": "7bea751a",
   "metadata": {},
   "outputs": [],
   "source": [
    "flux_masked_D = flux_D[280:390]\n",
    "uncertainty_masked_D = uncertainty_D[280:390]\n",
    "rest_wavelength_masked_D = wavelength_D[280:390]/(1+z)\n",
    "\n",
    "sp_masked_rest_D = XSpectrum1D.from_tuple((rest_wavelength_masked_D, flux_masked_D, uncertainty_masked_D))\n",
    "sp_masked_rest_D.plot()"
   ]
  },
  {
   "cell_type": "code",
   "execution_count": 50,
   "id": "b566e18d",
   "metadata": {
    "collapsed": true
   },
   "outputs": [
    {
     "name": "stdout",
     "output_type": "stream",
     "text": [
      "knots file exists, use this? (y) n\n",
      "\n",
      "i,o          Zoom in/out x limits\n",
      "y            Zoom out y limits\n",
      "Y            Guess y limits\n",
      "t,b          Set y top/bottom limit\n",
      "l,r          Set left/right x limit\n",
      "[,]          Pan left/right\n",
      "w            Plot the whole spectrum\n",
      "\n",
      "S,U          Smooth/unsmooth spectrum\n",
      "\n",
      "a        : add a new spline knot\n",
      "A        : add a new spline knot, and use a flux median to guess y position\n",
      "+        : double the number of spline knots\n",
      "_        : halve the number of spline knots\n",
      "d        : delete the nearest knot\n",
      "m        : move the nearest knot\n",
      "M        : move the nearest knot, and use a flux median to guess y position\n",
      "c        : toggle initial continuum display\n",
      "\n",
      "q        : quit\n",
      "\n",
      "Updating continuum.\n"
     ]
    }
   ],
   "source": [
    "sp_masked_rest_D.fit_continuum()"
   ]
  },
  {
   "cell_type": "code",
   "execution_count": 51,
   "id": "ff220072",
   "metadata": {
    "collapsed": true
   },
   "outputs": [
    {
     "data": {
      "text/latex": [
       "$[1439.4816,~1477.2922,~1490.3734,~\\dots,~1789.9763,~1788.9146,~1846.6681] \\; \\mathrm{1 \\times 10^{-20}\\,\\frac{erg}{\\mathring{A}\\,s\\,cm^{2}}}$"
      ],
      "text/plain": [
       "<Quantity [1439.4816, 1477.2922, 1490.3734, 1493.5868, 1481.6864,\n",
       "           1463.7499, 1449.527 , 1439.651 , 1440.357 , 1448.4218,\n",
       "           1458.5098, 1468.6584, 1477.0771, 1485.6293, 1494.3048,\n",
       "           1501.6443, 1506.1879, 1507.5038, 1508.3385, 1508.9701,\n",
       "           1509.4087, 1509.6644, 1509.7477, 1509.6683, 1509.4368,\n",
       "           1509.063 , 1508.5573, 1507.9297, 1507.1904, 1506.3497,\n",
       "           1505.4176, 1504.4043, 1503.32  , 1502.1747, 1500.9788,\n",
       "           1499.7423, 1498.4753, 1497.1882, 1495.891 , 1494.5939,\n",
       "           1493.307 , 1492.0406, 1490.8047, 1489.6095, 1488.4652,\n",
       "           1487.382 , 1486.3699, 1485.4392, 1484.6001, 1483.8625,\n",
       "           1483.2369, 1482.7333, 1482.3618, 1482.1074, 1482.0748,\n",
       "           1482.6302, 1483.5566, 1484.7971, 1486.3433, 1488.1864,\n",
       "           1490.3181, 1492.73  , 1495.4133, 1498.3597, 1501.5607,\n",
       "           1505.0077, 1508.6923, 1512.606 , 1516.7401, 1521.0863,\n",
       "           1525.6361, 1530.3809, 1535.3121, 1540.4215, 1545.7003,\n",
       "           1551.1403, 1556.7327, 1562.469 , 1568.341 , 1574.3398,\n",
       "           1580.4573, 1586.6847, 1593.0135, 1599.4354, 1606.1237,\n",
       "           1614.6924, 1624.2314, 1633.1101, 1639.708 , 1644.866 ,\n",
       "           1649.9993, 1655.1228, 1660.2522, 1665.4033, 1670.591 ,\n",
       "           1675.964 , 1688.3131, 1702.3784, 1699.861 , 1688.3082,\n",
       "           1703.338 , 1742.954 , 1768.8384, 1778.1414, 1785.0964,\n",
       "           1788.881 , 1789.7418, 1789.9763, 1788.9146, 1846.6681] 1e-20 erg / (Angstrom cm2 s)>"
      ]
     },
     "execution_count": 51,
     "metadata": {},
     "output_type": "execute_result"
    }
   ],
   "source": [
    "sp_masked_rest_D.co"
   ]
  },
  {
   "cell_type": "code",
   "execution_count": 52,
   "id": "5b3e7319",
   "metadata": {},
   "outputs": [],
   "source": [
    "np.savez(\"D:\\Datacube\\RXJ1131-1231\\continuum_RXJ1131-1231_D.npz\", values=sp_masked_rest_D.co.value, unit=str(sp_masked_rest_D.co.unit))"
   ]
  },
  {
   "cell_type": "markdown",
   "id": "20f5a9db",
   "metadata": {},
   "source": [
    "## (D) Na I Continuum Fit"
   ]
  },
  {
   "cell_type": "code",
   "execution_count": 29,
   "id": "1867d498",
   "metadata": {},
   "outputs": [],
   "source": [
    "flux_masked_D2 = flux_D[2310:2390]\n",
    "uncertainty_masked_D2 = uncertainty_D[2310:2390]\n",
    "rest_wavelength_masked_D2 = wavelength_D[2310:2390]/(1+z)\n",
    "\n",
    "sp_masked_rest_D2 = XSpectrum1D.from_tuple((rest_wavelength_masked_D2, flux_masked_D2, uncertainty_masked_D2))\n",
    "sp_masked_rest_D2.plot()"
   ]
  },
  {
   "cell_type": "code",
   "execution_count": 54,
   "id": "d65feba3",
   "metadata": {
    "collapsed": true
   },
   "outputs": [
    {
     "name": "stdout",
     "output_type": "stream",
     "text": [
      "knots file exists, use this? (y) n\n",
      "\n",
      "i,o          Zoom in/out x limits\n",
      "y            Zoom out y limits\n",
      "Y            Guess y limits\n",
      "t,b          Set y top/bottom limit\n",
      "l,r          Set left/right x limit\n",
      "[,]          Pan left/right\n",
      "w            Plot the whole spectrum\n",
      "\n",
      "S,U          Smooth/unsmooth spectrum\n",
      "\n",
      "a        : add a new spline knot\n",
      "A        : add a new spline knot, and use a flux median to guess y position\n",
      "+        : double the number of spline knots\n",
      "_        : halve the number of spline knots\n",
      "d        : delete the nearest knot\n",
      "m        : move the nearest knot\n",
      "M        : move the nearest knot, and use a flux median to guess y position\n",
      "c        : toggle initial continuum display\n",
      "\n",
      "q        : quit\n",
      "\n",
      "Updating continuum.\n"
     ]
    }
   ],
   "source": [
    "sp_masked_rest_D2.fit_continuum()"
   ]
  },
  {
   "cell_type": "code",
   "execution_count": 55,
   "id": "7cedf8f7",
   "metadata": {
    "collapsed": true
   },
   "outputs": [
    {
     "data": {
      "text/latex": [
       "$[2496.5308,~2386.8955,~2372.3577,~2358.4365,~2345.1633,~2332.5691,~2320.6848,~2309.5413,~2299.1697,~2289.6013,~2280.8667,~2272.9973,~2266.0242,~2259.978,~2254.8901,~2250.7913,~2247.7126,~2245.6885,~2245.3606,~2246.9219,~2249.9775,~2254.1328,~2258.9924,~2264.1619,~2269.2458,~2273.8494,~2277.5776,~2280.0356,~2280.8286,~2279.4956,~2275.9773,~2270.7656,~2264.3652,~2257.28,~2250.0139,~2243.0713,~2236.9561,~2232.1721,~2229.2239,~2228.6155,~2230.8147,~2235.7273,~2242.8447,~2251.6526,~2261.6362,~2272.2808,~2283.0718,~2293.4944,~2303.0339,~2311.176,~2317.4055,~2321.2712,~2324.2075,~2326.9705,~2329.5173,~2331.8059,~2333.7942,~2335.4397,~2336.7,~2337.5327,~2337.896,~2337.7471,~2337.0439,~2335.9565,~2334.7415,~2333.3896,~2331.8901,~2330.2329,~2328.4075,~2326.4033,~2324.21,~2321.8169,~2319.2139,~2316.3901,~2313.3357,~2310.0396,~2306.4917,~2302.6816,~2298.5986,~2260.6902] \\; \\mathrm{1 \\times 10^{-20}\\,\\frac{erg}{\\mathring{A}\\,s\\,cm^{2}}}$"
      ],
      "text/plain": [
       "<Quantity [2496.5308, 2386.8955, 2372.3577, 2358.4365, 2345.1633,\n",
       "           2332.569 , 2320.6848, 2309.5413, 2299.1697, 2289.6013,\n",
       "           2280.8667, 2272.9973, 2266.0242, 2259.978 , 2254.8901,\n",
       "           2250.7913, 2247.7126, 2245.6885, 2245.3606, 2246.9219,\n",
       "           2249.9775, 2254.1328, 2258.9924, 2264.1619, 2269.2458,\n",
       "           2273.8494, 2277.5776, 2280.0356, 2280.8286, 2279.4956,\n",
       "           2275.9773, 2270.7656, 2264.3652, 2257.28  , 2250.014 ,\n",
       "           2243.0713, 2236.956 , 2232.172 , 2229.2239, 2228.6155,\n",
       "           2230.8147, 2235.7273, 2242.8447, 2251.6526, 2261.6362,\n",
       "           2272.2808, 2283.0718, 2293.4944, 2303.034 , 2311.176 ,\n",
       "           2317.4055, 2321.2712, 2324.2075, 2326.9705, 2329.5173,\n",
       "           2331.806 , 2333.7942, 2335.4397, 2336.7   , 2337.5327,\n",
       "           2337.896 , 2337.747 , 2337.044 , 2335.9565, 2334.7415,\n",
       "           2333.3896, 2331.8901, 2330.233 , 2328.4075, 2326.4033,\n",
       "           2324.21  , 2321.817 , 2319.2139, 2316.3901, 2313.3357,\n",
       "           2310.0396, 2306.4917, 2302.6816, 2298.5986, 2260.6902] 1e-20 erg / (Angstrom cm2 s)>"
      ]
     },
     "execution_count": 55,
     "metadata": {},
     "output_type": "execute_result"
    }
   ],
   "source": [
    "sp_masked_rest_D2.co"
   ]
  },
  {
   "cell_type": "code",
   "execution_count": 56,
   "id": "2704b6a0",
   "metadata": {},
   "outputs": [],
   "source": [
    "np.savez(\"D:\\Datacube\\RXJ1131-1231\\continuum_RXJ1131-1231_D_Nai.npz\", values=sp_masked_rest_D2.co.value, unit=str(sp_masked_rest_D2.co.unit))"
   ]
  },
  {
   "cell_type": "markdown",
   "id": "55e1f85a",
   "metadata": {},
   "source": [
    "## (G) Ca II Continuum Fit"
   ]
  },
  {
   "cell_type": "code",
   "execution_count": 30,
   "id": "b507d565",
   "metadata": {},
   "outputs": [],
   "source": [
    "flux_masked_G = flux_G[280:390]\n",
    "uncertainty_masked_G = uncertainty_G[280:390]\n",
    "rest_wavelength_masked_G = wavelength_G[280:390]/(1+z)\n",
    "\n",
    "sp_masked_rest_G = XSpectrum1D.from_tuple((rest_wavelength_masked_G, flux_masked_G, uncertainty_masked_G))\n",
    "sp_masked_rest_G.plot()"
   ]
  },
  {
   "cell_type": "code",
   "execution_count": 13,
   "id": "64a95afb",
   "metadata": {
    "collapsed": true
   },
   "outputs": [
    {
     "name": "stdout",
     "output_type": "stream",
     "text": [
      "knots file exists, use this? (y) N\n"
     ]
    },
    {
     "name": "stderr",
     "output_type": "stream",
     "text": [
      "C:\\Users\\hp\\anaconda3\\lib\\site-packages\\linetools\\analysis\\interactive_plot.py:347: UserWarning: marker is redundantly defined by the 'marker' keyword argument and the fmt string \".r\" (-> marker='.'). The keyword argument will take precedence.\n",
      "  m0, = a1.plot([0],[0],'.r',marker='.', mec='none', lw=0, mew=0,\n"
     ]
    },
    {
     "name": "stdout",
     "output_type": "stream",
     "text": [
      "\n",
      "i,o          Zoom in/out x limits\n",
      "y            Zoom out y limits\n",
      "Y            Guess y limits\n",
      "t,b          Set y top/bottom limit\n",
      "l,r          Set left/right x limit\n",
      "[,]          Pan left/right\n",
      "w            Plot the whole spectrum\n",
      "\n",
      "S,U          Smooth/unsmooth spectrum\n",
      "\n",
      "a        : add a new spline knot\n",
      "A        : add a new spline knot, and use a flux median to guess y position\n",
      "+        : double the number of spline knots\n",
      "_        : halve the number of spline knots\n",
      "d        : delete the nearest knot\n",
      "m        : move the nearest knot\n",
      "M        : move the nearest knot, and use a flux median to guess y position\n",
      "c        : toggle initial continuum display\n",
      "\n",
      "q        : quit\n",
      "\n",
      "Updating continuum.\n"
     ]
    }
   ],
   "source": [
    "sp_masked_rest_G.fit_continuum()"
   ]
  },
  {
   "cell_type": "code",
   "execution_count": 14,
   "id": "38612eef",
   "metadata": {
    "collapsed": true
   },
   "outputs": [
    {
     "data": {
      "text/latex": [
       "$[1325.8951,~1452.4247,~1435.2838,~\\dots,~2025.59,~2022.1003,~2037.1851] \\; \\mathrm{1 \\times 10^{-20}\\,\\frac{erg}{\\mathring{A}\\,s\\,cm^{2}}}$"
      ],
      "text/plain": [
       "<Quantity [1325.8951, 1452.4247, 1435.2838, 1418.143 , 1407.0029,\n",
       "           1404.5288, 1413.3856, 1433.1288, 1456.3561, 1479.4181,\n",
       "           1500.4154, 1524.0925, 1546.0099, 1560.1172, 1562.3588,\n",
       "           1562.3588, 1562.3588, 1562.3588, 1562.3588, 1562.3588,\n",
       "           1562.3588, 1562.3588, 1562.3588, 1562.3588, 1562.3588,\n",
       "           1562.3588, 1562.3588, 1562.3588, 1562.3588, 1562.3588,\n",
       "           1562.3588, 1562.3588, 1562.3588, 1562.3588, 1562.3588,\n",
       "           1562.3588, 1562.3588, 1562.3588, 1562.3588, 1562.3588,\n",
       "           1562.3588, 1562.3588, 1562.3588, 1562.3588, 1562.3588,\n",
       "           1562.3588, 1562.3588, 1562.3588, 1562.3588, 1562.3588,\n",
       "           1562.3588, 1562.3588, 1562.3588, 1562.3588, 1562.3588,\n",
       "           1562.3588, 1562.3588, 1562.3588, 1562.3855, 1563.1266,\n",
       "           1564.8484, 1567.5024, 1571.0404, 1575.414 , 1580.5747,\n",
       "           1586.4742, 1593.0642, 1600.2964, 1608.1222, 1616.4934,\n",
       "           1625.3616, 1634.6785, 1644.3956, 1654.4647, 1664.8374,\n",
       "           1675.4652, 1686.2999, 1697.2931, 1708.3962, 1719.5613,\n",
       "           1730.7396, 1741.883 , 1752.9431, 1763.8715, 1774.6198,\n",
       "           1785.1396, 1795.3828, 1805.3007, 1814.8451, 1823.9677,\n",
       "           1832.6857, 1841.5629, 1851.0446, 1868.9441, 1899.9598,\n",
       "           1926.3185, 1944.3943, 1960.945 , 1975.8507, 1988.9915,\n",
       "           2000.2472, 2009.4982, 2016.6537, 2021.9624, 2025.5093,\n",
       "           2027.2955, 2027.322 , 2025.59  , 2022.1003, 2037.185 ] 1e-20 erg / (Angstrom cm2 s)>"
      ]
     },
     "execution_count": 14,
     "metadata": {},
     "output_type": "execute_result"
    }
   ],
   "source": [
    "sp_masked_rest_G.co"
   ]
  },
  {
   "cell_type": "code",
   "execution_count": 15,
   "id": "03ea03fd",
   "metadata": {},
   "outputs": [],
   "source": [
    "np.savez(\"D:\\Datacube\\RXJ1131-1231\\continuum_RXJ1131-1231_G.npz\", values=sp_masked_rest_G.co.value, unit=str(sp_masked_rest_G.co.unit))"
   ]
  },
  {
   "cell_type": "markdown",
   "id": "ccd2dbb4",
   "metadata": {},
   "source": [
    "## (G) Na I Continuum Fit"
   ]
  },
  {
   "cell_type": "code",
   "execution_count": 31,
   "id": "86db3324",
   "metadata": {},
   "outputs": [],
   "source": [
    "flux_masked_G2 = flux_G[2310:2390]\n",
    "uncertainty_masked_G2 = uncertainty_G[2310:2390]\n",
    "rest_wavelength_masked_G2 = wavelength_G[2310:2390]/(1+z)\n",
    "\n",
    "sp_masked_rest_G2 = XSpectrum1D.from_tuple((rest_wavelength_masked_G2, flux_masked_G2, uncertainty_masked_G2))\n",
    "sp_masked_rest_G2.plot()"
   ]
  },
  {
   "cell_type": "code",
   "execution_count": 22,
   "id": "181e3b3f",
   "metadata": {
    "collapsed": true
   },
   "outputs": [
    {
     "name": "stdout",
     "output_type": "stream",
     "text": [
      "knots file exists, use this? (y) n\n",
      "\n",
      "i,o          Zoom in/out x limits\n",
      "y            Zoom out y limits\n",
      "Y            Guess y limits\n",
      "t,b          Set y top/bottom limit\n",
      "l,r          Set left/right x limit\n",
      "[,]          Pan left/right\n",
      "w            Plot the whole spectrum\n",
      "\n",
      "S,U          Smooth/unsmooth spectrum\n",
      "\n",
      "a        : add a new spline knot\n",
      "A        : add a new spline knot, and use a flux median to guess y position\n",
      "+        : double the number of spline knots\n",
      "_        : halve the number of spline knots\n",
      "d        : delete the nearest knot\n",
      "m        : move the nearest knot\n",
      "M        : move the nearest knot, and use a flux median to guess y position\n",
      "c        : toggle initial continuum display\n",
      "\n",
      "q        : quit\n",
      "\n",
      "Updating continuum.\n"
     ]
    }
   ],
   "source": [
    "sp_masked_rest_G2.fit_continuum()"
   ]
  },
  {
   "cell_type": "code",
   "execution_count": 23,
   "id": "a15abc50",
   "metadata": {
    "collapsed": true
   },
   "outputs": [
    {
     "data": {
      "text/latex": [
       "$[4003.0598,~3876.7905,~3922.0286,~3950.7344,~3955.1809,~3928.0295,~3876.1316,~3815.9158,~3762.3772,~3721.561,~3680.0356,~3645.259,~3626.1672,~3624.6709,~3625.2617,~3626.2935,~3627.1812,~3627.3428,~3627.0203,~3626.6794,~3626.3281,~3625.9744,~3625.6257,~3625.2903,~3624.9758,~3624.7002,~3624.5193,~3624.4375,~3624.4507,~3624.5549,~3624.7468,~3625.022,~3625.377,~3625.8074,~3626.3101,~3626.8806,~3627.5154,~3628.2104,~3628.9619,~3629.7661,~3630.6189,~3631.5166,~3632.4553,~3633.4312,~3634.4404,~3635.479,~3636.5432,~3637.6292,~3638.7327,~3639.8503,~3640.9783,~3642.3655,~3650.7549,~3667.2683,~3689.3616,~3714.4915,~3740.1135,~3763.6843,~3782.6602,~3794.4971,~3795.1926,~3778.0208,~3753.897,~3736.3774,~3735.8235,~3739.2073,~3742.8162,~3746.3196,~3749.3867,~3751.9631,~3754.5603,~3757.1865,~3759.8228,~3762.4497,~3765.0479,~3767.5977,~3770.0801,~3772.4756,~3774.7649,~3782.7859] \\; \\mathrm{1 \\times 10^{-20}\\,\\frac{erg}{\\mathring{A}\\,s\\,cm^{2}}}$"
      ],
      "text/plain": [
       "<Quantity [4003.0598, 3876.7905, 3922.0286, 3950.7344, 3955.181 ,\n",
       "           3928.0295, 3876.1316, 3815.9158, 3762.3772, 3721.561 ,\n",
       "           3680.0356, 3645.259 , 3626.1672, 3624.671 , 3625.2617,\n",
       "           3626.2935, 3627.1812, 3627.3428, 3627.0203, 3626.6794,\n",
       "           3626.3281, 3625.9744, 3625.6257, 3625.2903, 3624.9758,\n",
       "           3624.7002, 3624.5193, 3624.4375, 3624.4507, 3624.555 ,\n",
       "           3624.7468, 3625.022 , 3625.377 , 3625.8074, 3626.31  ,\n",
       "           3626.8806, 3627.5154, 3628.2104, 3628.962 , 3629.766 ,\n",
       "           3630.619 , 3631.5166, 3632.4553, 3633.4312, 3634.4404,\n",
       "           3635.479 , 3636.5432, 3637.6292, 3638.7327, 3639.8503,\n",
       "           3640.9783, 3642.3655, 3650.755 , 3667.2683, 3689.3616,\n",
       "           3714.4915, 3740.1135, 3763.6843, 3782.6602, 3794.497 ,\n",
       "           3795.1926, 3778.0208, 3753.897 , 3736.3774, 3735.8235,\n",
       "           3739.2073, 3742.8162, 3746.3196, 3749.3867, 3751.9631,\n",
       "           3754.5603, 3757.1865, 3759.8228, 3762.4497, 3765.0479,\n",
       "           3767.5977, 3770.08  , 3772.4756, 3774.765 , 3782.786 ] 1e-20 erg / (Angstrom cm2 s)>"
      ]
     },
     "execution_count": 23,
     "metadata": {},
     "output_type": "execute_result"
    }
   ],
   "source": [
    "sp_masked_rest_G2.co"
   ]
  },
  {
   "cell_type": "code",
   "execution_count": 24,
   "id": "6734d0a5",
   "metadata": {},
   "outputs": [],
   "source": [
    "np.savez(\"D:\\Datacube\\RXJ1131-1231\\continuum_RXJ1131-1231_G_Nai.npz\", values=sp_masked_rest_G2.co.value, unit=str(sp_masked_rest_G2.co.unit))"
   ]
  },
  {
   "cell_type": "markdown",
   "id": "f02e640e",
   "metadata": {},
   "source": [
    "# 3. Continuum Subtraction"
   ]
  },
  {
   "cell_type": "code",
   "execution_count": 32,
   "id": "5550d4f7",
   "metadata": {},
   "outputs": [],
   "source": [
    "%matplotlib inline\n",
    "import matplotlib.pyplot as plt"
   ]
  },
  {
   "cell_type": "code",
   "execution_count": 33,
   "id": "ea52c153",
   "metadata": {},
   "outputs": [
    {
     "data": {
      "image/png": "[encoded data removed]",
      "text/plain": [
       "<Figure size 1440x432 with 10 Axes>"
      ]
     },
     "metadata": {
      "needs_background": "light"
     },
     "output_type": "display_data"
    }
   ],
   "source": [
    "# (A) Ca II\n",
    "wave0_A = spec_A.wave.coord() * u.Unit(spec_A.wave.unit) # Wavelength array\n",
    "F0_A = spec_A.data * u.Unit(spec_A.unit) # Flux array\n",
    "wave_A = wave0_A[280:390]/(1+z)\n",
    "F_A = F0_A[280:390]\n",
    "uncertain_A = uncertainty_A[280:390]\n",
    "\n",
    "loaded_data_A = np.load(\"D:\\Datacube\\RXJ1131-1231\\continuum_RXJ1131-1231_A.npz\")\n",
    "co_A = loaded_data_A[\"values\"] * u.Unit(spec_A.unit)\n",
    "\n",
    "# (A) Na I\n",
    "wave_A2 = wave0_A[2310:2390]/(1+z)\n",
    "F_A2 = F0_A[2310:2390]\n",
    "uncertain_A2 = uncertainty_A[2310:2390]\n",
    "\n",
    "loaded_data_A2 = np.load(\"D:\\Datacube\\RXJ1131-1231\\continuum_RXJ1131-1231_A_Nai.npz\")\n",
    "co_A2 = loaded_data_A2[\"values\"] * u.Unit(spec_A.unit)\n",
    "\n",
    "# (B) Ca II\n",
    "wave0_B = spec_B.wave.coord() * u.Unit(spec_B.wave.unit) # Wavelength array\n",
    "F0_B = spec_B.data * u.Unit(spec_B.unit) # Flux array\n",
    "wave_B = wave0_B[280:390]/(1+z)\n",
    "F_B = F0_B[280:390]\n",
    "uncertain_B = uncertainty_B[280:390]\n",
    "\n",
    "loaded_data_B = np.load(\"D:\\Datacube\\RXJ1131-1231\\continuum_RXJ1131-1231_B.npz\")\n",
    "co_B = loaded_data_B[\"values\"] * u.Unit(spec_B.unit)\n",
    "\n",
    "# (B) Na I\n",
    "wave_B2 = wave0_B[2310:2390]/(1+z)\n",
    "F_B2 = F0_B[2310:2390]\n",
    "uncertain_B2 = uncertainty_B[2310:2390]\n",
    "\n",
    "loaded_data_B2 = np.load(\"D:\\Datacube\\RXJ1131-1231\\continuum_RXJ1131-1231_B_Nai.npz\")\n",
    "co_B2 = loaded_data_B2[\"values\"] * u.Unit(spec_B.unit)\n",
    "\n",
    "# (C) Ca II\n",
    "wave0_C = spec_C.wave.coord() * u.Unit(spec_C.wave.unit) # Wavelength array\n",
    "F0_C = spec_C.data * u.Unit(spec_C.unit) # Flux array\n",
    "wave_C = wave0_C[280:390]/(1+z)\n",
    "F_C = F0_C[280:390]\n",
    "uncertain_C = uncertainty_C[280:390]\n",
    "\n",
    "loaded_data_C = np.load(\"D:\\Datacube\\RXJ1131-1231\\continuum_RXJ1131-1231_C.npz\")\n",
    "co_C = loaded_data_C[\"values\"] * u.Unit(spec_C.unit)\n",
    "\n",
    "# (C) Na I\n",
    "wave_C2 = wave0_C[2310:2390]/(1+z)\n",
    "F_C2 = F0_C[2310:2390]\n",
    "uncertain_C2 = uncertainty_C[2310:2390]\n",
    "\n",
    "loaded_data_C2 = np.load(\"D:\\Datacube\\RXJ1131-1231\\continuum_RXJ1131-1231_C_Nai.npz\")\n",
    "co_C2 = loaded_data_C2[\"values\"] * u.Unit(spec_C.unit)\n",
    "\n",
    "# (D) Ca II\n",
    "wave0_D = spec_D.wave.coord() * u.Unit(spec_D.wave.unit) # Wavelength array\n",
    "F0_D = spec_D.data * u.Unit(spec_D.unit) # Flux array\n",
    "wave_D = wave0_D[280:390]/(1+z)\n",
    "F_D = F0_D[280:390]\n",
    "uncertain_D = uncertainty_D[280:390]\n",
    "\n",
    "loaded_data_D = np.load(\"D:\\Datacube\\RXJ1131-1231\\continuum_RXJ1131-1231_D.npz\")\n",
    "co_D = loaded_data_D[\"values\"] * u.Unit(spec_D.unit)\n",
    "\n",
    "# (D) Na I\n",
    "wave_D2 = wave0_D[2310:2390]/(1+z)\n",
    "F_D2 = F0_D[2310:2390]\n",
    "uncertain_D2 = uncertainty_D[2310:2390]\n",
    "\n",
    "loaded_data_D2 = np.load(\"D:\\Datacube\\RXJ1131-1231\\continuum_RXJ1131-1231_D_Nai.npz\")\n",
    "co_D2 = loaded_data_D2[\"values\"] * u.Unit(spec_D.unit)\n",
    "\n",
    "# (G) Ca II\n",
    "wave0_G = spec_G.wave.coord() * u.Unit(spec_G.wave.unit) # Wavelength array\n",
    "F0_G = spec_G.data * u.Unit(spec_G.unit) # Flux array\n",
    "wave_G = wave0_G[280:390]/(1+z)\n",
    "F_G = F0_G[280:390]\n",
    "uncertain_G = uncertainty_G[280:390]\n",
    "\n",
    "loaded_data_G = np.load(\"D:\\Datacube\\RXJ1131-1231\\continuum_RXJ1131-1231_G.npz\")\n",
    "co_G = loaded_data_G[\"values\"] * u.Unit(spec_G.unit)\n",
    "\n",
    "# (G) Na I\n",
    "wave_G2 = wave0_G[2310:2390]/(1+z)\n",
    "F_G2 = F0_G[2310:2390]\n",
    "uncertain_G2 = uncertainty_G[2310:2390]\n",
    "\n",
    "loaded_data_G2 = np.load(\"D:\\Datacube\\RXJ1131-1231\\continuum_RXJ1131-1231_G_Nai.npz\")\n",
    "co_G2 = loaded_data_G2[\"values\"] * u.Unit(spec_G.unit)\n",
    "\n",
    "\n",
    "# Plot\n",
    "f, ax = plt.subplots(2, 5, sharey='row', figsize=(20,6), gridspec_kw={'hspace': 0.3, 'wspace':0})\n",
    "\n",
    "ax[0,0].plot(wave_A, co_A)\n",
    "ax[0,0].set_ylim(1000, 17000)\n",
    "ax[1,0].plot(wave_A2, co_A2)\n",
    "ax[1,0].set_ylim(1000, 17000)\n",
    "ax[0,1].plot(wave_B, co_B)\n",
    "ax[1,1].plot(wave_B2, co_B2)\n",
    "ax[0,2].plot(wave_C, co_C)\n",
    "ax[1,2].plot(wave_C2, co_C2)\n",
    "ax[0,3].plot(wave_D, co_D)\n",
    "ax[1,3].plot(wave_D2, co_D2)\n",
    "ax[0,4].plot(wave_G, co_G)\n",
    "ax[1,4].plot(wave_G2, co_G2)\n",
    "\n",
    "f.text(0.15,0.77, 'Ca II', fontsize=14, ha='center')\n",
    "f.text(0.15,0.35, 'Na I', fontsize=14, ha='center')\n",
    "\n",
    "f.text(0.2, 0.91, 'A', va='center', fontsize=16)\n",
    "f.text(0.35, 0.91, 'B', va='center', fontsize=16)\n",
    "f.text(0.51, 0.91, 'C', va='center', fontsize=16)\n",
    "f.text(0.67, 0.91, 'D', va='center', fontsize=16)\n",
    "f.text(0.82, 0.91, 'G', va='center', fontsize=16)\n",
    "f.text(0.5, 0.05, 'Panjang Gelombang Vakum(Å)', ha='center')\n",
    "f.text(0.07, 0.5, 'Fluks Teramati', va='center', rotation='vertical')\n",
    "plt.show()"
   ]
  },
  {
   "cell_type": "code",
   "execution_count": 34,
   "id": "dc2fb083",
   "metadata": {},
   "outputs": [
    {
     "data": {
      "image/png": "[encoded data removed]",
      "text/plain": [
       "<Figure size 1440x432 with 10 Axes>"
      ]
     },
     "metadata": {
      "needs_background": "light"
     },
     "output_type": "display_data"
    }
   ],
   "source": [
    "# (A) Ca II\n",
    "wavelengths_A = wave_A.value\n",
    "fluxes_A = (F_A.value / co_A.value) - 1\n",
    "uncertainties_A = (uncertain_A.value / co_A.value)\n",
    "\n",
    "# (A) Na I\n",
    "wavelengths_A2 = wave_A2.value\n",
    "fluxes_A2 = (F_A2.value / co_A2.value) - 1\n",
    "uncertainties_A2 = (uncertain_A2.value / co_A2.value)\n",
    "\n",
    "# (B) Ca II\n",
    "wavelengths_B = wave_B.value\n",
    "fluxes_B = (F_B.value / co_B.value) - 1\n",
    "uncertainties_B = (uncertain_B.value / co_B.value)\n",
    "\n",
    "# (B) Na I\n",
    "wavelengths_B2 = wave_B2.value\n",
    "fluxes_B2 = (F_B2.value / co_B2.value) - 1\n",
    "uncertainties_B2 = (uncertain_B2.value / co_B2.value)\n",
    "\n",
    "# (C)\n",
    "wavelengths_C = wave_C.value\n",
    "fluxes_C = (F_C.value / co_C.value) - 1\n",
    "uncertainties_C = (uncertain_C.value / co_C.value)\n",
    "\n",
    "# (C)\n",
    "wavelengths_C2 = wave_C2.value\n",
    "fluxes_C2 = (F_C2.value / co_C2.value) - 1\n",
    "uncertainties_C2 = (uncertain_C2.value / co_C2.value)\n",
    "\n",
    "# (D)\n",
    "wavelengths_D = wave_D.value\n",
    "fluxes_D = (F_D.value / co_D.value) - 1\n",
    "uncertainties_D = (uncertain_D.value / co_D.value)\n",
    "\n",
    "# (D)\n",
    "wavelengths_D2 = wave_D2.value\n",
    "fluxes_D2 = (F_D2.value / co_D2.value) - 1\n",
    "uncertainties_D2 = (uncertain_D2.value / co_D2.value)\n",
    "\n",
    "# (G)\n",
    "wavelengths_G = wave_G.value\n",
    "fluxes_G = (F_G.value / co_G.value) - 1\n",
    "uncertainties_G = (uncertain_G.value / co_D.value)\n",
    "\n",
    "# (G)\n",
    "wavelengths_G2 = wave_G2.value\n",
    "fluxes_G2 = (F_G2.value / co_G2.value) - 1\n",
    "uncertainties_G2 = (uncertain_G2.value / co_G2.value)\n",
    "\n",
    "\n",
    "f, ax = plt.subplots(2, 5, sharey='row', figsize=(20,6), gridspec_kw={'hspace': 0.3, 'wspace':0})\n",
    "\n",
    "ax[0,0].plot(wavelengths_A, fluxes_A, 'k', alpha=0.8, drawstyle='steps-mid')\n",
    "ax[0,0].set_ylim(-1.0,0.1)\n",
    "ax[0,0].set_xlim(3895, 3995)\n",
    "\n",
    "ax[1,0].plot(wavelengths_A2, fluxes_A2, 'k', alpha=0.8, drawstyle='steps-mid')\n",
    "ax[1,0].set_ylim(-1.0,0.1)\n",
    "ax[1,0].set_xlim(5865, 5935)\n",
    "\n",
    "ax[0,1].plot(wavelengths_B, fluxes_B, 'k', alpha=0.8, drawstyle='steps-mid')\n",
    "ax[0,1].set_ylim(-1.0,0.1)\n",
    "ax[0,1].set_xlim(3895, 3995)\n",
    "\n",
    "ax[1,1].plot(wavelengths_B2, fluxes_B2, 'k', alpha=0.8, drawstyle='steps-mid')\n",
    "ax[1,1].set_xlim(5865, 5935)\n",
    "\n",
    "ax[0,2].plot(wavelengths_C, fluxes_C, 'k', alpha=0.8, drawstyle='steps-mid')\n",
    "ax[0,2].set_ylim(-1.0,0.1)\n",
    "ax[0,2].set_xlim(3895, 3995)\n",
    "\n",
    "ax[1,2].plot(wavelengths_C2, fluxes_C2, 'k', alpha=0.8, drawstyle='steps-mid')\n",
    "ax[1,2].set_xlim(5865, 5935)\n",
    "\n",
    "ax[0,3].plot(wavelengths_D, fluxes_D, 'k', alpha=0.8, drawstyle='steps-mid')\n",
    "ax[0,3].set_ylim(-1.0,0.1)\n",
    "ax[0,3].set_xlim(3895, 3995)\n",
    "\n",
    "ax[1,3].plot(wavelengths_D2, fluxes_D2, 'k', alpha=0.8, drawstyle='steps-mid')\n",
    "ax[1,3].set_xlim(5865, 5935)\n",
    "\n",
    "ax[0,4].plot(wavelengths_G, fluxes_G, 'k', alpha=0.8, drawstyle='steps-mid')\n",
    "ax[0,4].set_ylim(-1.0,0.1)\n",
    "ax[0,4].set_xlim(3895, 3995)\n",
    "\n",
    "ax[1,4].plot(wavelengths_G2, fluxes_G2, 'k', alpha=0.8, drawstyle='steps-mid')\n",
    "ax[1,4].set_xlim(5865, 5935)\n",
    "\n",
    "#f.text(0.15,0.77, 'Ca II', fontsize=14, ha='center')\n",
    "#f.text(0.15,0.35, 'Na I', fontsize=14, ha='center')\n",
    "\n",
    "f.text(0.2, 0.91, 'A', va='center', fontsize=16)\n",
    "f.text(0.35, 0.91, 'B', va='center', fontsize=16)\n",
    "f.text(0.51, 0.91, 'C', va='center', fontsize=16)\n",
    "f.text(0.67, 0.91, 'D', va='center', fontsize=16)\n",
    "f.text(0.82, 0.91, 'G', va='center', fontsize=16)\n",
    "f.text(0.5, 0.05, 'Panjang Gelombang Vakum(Å)', ha='center')\n",
    "f.text(0.09, 0.5, 'Fluks Teramati', va='center', rotation='vertical')\n",
    "plt.show()"
   ]
  },
  {
   "cell_type": "markdown",
   "id": "66fa205d",
   "metadata": {},
   "source": [
    "# 4. Equivalent Width"
   ]
  },
  {
   "cell_type": "code",
   "execution_count": 35,
   "id": "20424dc6",
   "metadata": {},
   "outputs": [
    {
     "name": "stdout",
     "output_type": "stream",
     "text": [
      "Equivalent Width (W) A Ca II λ3935: 0.120 Å\n",
      "Equivalent Width (W) A Na I: 1.106 Å\n",
      "Equivalent Width (W) B Ca II λ3935: 0.123 Å\n",
      "Equivalent Width (W) B Na I: 1.133 Å\n",
      "Equivalent Width (W) C Ca II λ3935: 0.201 Å\n",
      "Equivalent Width (W) C Na I: 0.985 Å\n",
      "Equivalent Width (W) D Ca II λ3935: 1.676 Å\n",
      "Equivalent Width (W) D Na I: 1.225 Å\n",
      "Equivalent Width (W) G Ca II λ3935: 8.250 Å\n",
      "Equivalent Width (W) G Na I: 3.133 Å\n"
     ]
    }
   ],
   "source": [
    "def compute_ew(wavelengths, flux, continuum_level, line_range):\n",
    "    \n",
    "    in_line_region = (wavelengths >= line_range[0]) & (wavelengths <= line_range[1])\n",
    "    lam_line = wavelengths[in_line_region]\n",
    "    flux_line = flux[in_line_region]\n",
    "\n",
    "    absorption_mask = flux_line < continuum_level\n",
    "    lam_absorb = lam_line[absorption_mask]\n",
    "    flux_absorb = flux_line[absorption_mask]\n",
    "\n",
    "    ew = - np.trapz(flux_absorb, lam_absorb)\n",
    "\n",
    "    return ew\n",
    "\n",
    "W_lambda_A = compute_ew(wavelengths_A, fluxes_A, continuum_level=0, line_range=(3917, 3953))\n",
    "W_lambda_A2 = compute_ew(wavelengths_A2, fluxes_A2, continuum_level=0, line_range=(5880, 5910))\n",
    "W_lambda_B = compute_ew(wavelengths_B, fluxes_B, continuum_level=0, line_range=(3917, 3953))\n",
    "W_lambda_B2 = compute_ew(wavelengths_B2, fluxes_B2, continuum_level=0, line_range=(5880, 5910))\n",
    "W_lambda_C = compute_ew(wavelengths_C, fluxes_C, continuum_level=0, line_range=(3917, 3953))\n",
    "W_lambda_C2 = compute_ew(wavelengths_C2, fluxes_C2, continuum_level=0, line_range=(5880, 5910))\n",
    "W_lambda_D = compute_ew(wavelengths_D, fluxes_D, continuum_level=0, line_range=(3917, 3953))\n",
    "W_lambda_D2 = compute_ew(wavelengths_D2, fluxes_D2, continuum_level=0, line_range=(5880, 5910))\n",
    "W_lambda_G = compute_ew(wavelengths_G, fluxes_G, continuum_level=0, line_range=(3917, 3953))\n",
    "W_lambda_G2 = compute_ew(wavelengths_G2, fluxes_G2, continuum_level=0, line_range=(5880, 5910))\n",
    "\n",
    "print(f\"Equivalent Width (W) A Ca II λ3935: {W_lambda_A:.3f} Å\")\n",
    "print(f\"Equivalent Width (W) A Na I: {W_lambda_A2:.3f} Å\")\n",
    "print(f\"Equivalent Width (W) B Ca II λ3935: {W_lambda_B:.3f} Å\")\n",
    "print(f\"Equivalent Width (W) B Na I: {W_lambda_B2:.3f} Å\")\n",
    "print(f\"Equivalent Width (W) C Ca II λ3935: {W_lambda_C:.3f} Å\")\n",
    "print(f\"Equivalent Width (W) C Na I: {W_lambda_C2:.3f} Å\")\n",
    "print(f\"Equivalent Width (W) D Ca II λ3935: {W_lambda_D:.3f} Å\")\n",
    "print(f\"Equivalent Width (W) D Na I: {W_lambda_D2:.3f} Å\")\n",
    "print(f\"Equivalent Width (W) G Ca II λ3935: {W_lambda_G:.3f} Å\")\n",
    "print(f\"Equivalent Width (W) G Na I: {W_lambda_G2:.3f} Å\")"
   ]
  },
  {
   "cell_type": "markdown",
   "id": "19bcc17f",
   "metadata": {},
   "source": [
    "# 5. Fitting Gaussian"
   ]
  },
  {
   "cell_type": "code",
   "execution_count": 36,
   "id": "4ebff0b8",
   "metadata": {},
   "outputs": [],
   "source": [
    "def convolved_model_ca(x, amp, mu, sigma, amp2, sigma2):\n",
    "    mu2 = mu + (lambda_3970 - lambda_3935)\n",
    "    intrinsic_profile = (amp * np.exp(-0.5 * ((x - mu)/sigma)**2)) + (amp2 * np.exp(-0.5 * ((x - mu2)/sigma2)**2))\n",
    "    return intrinsic_profile"
   ]
  },
  {
   "cell_type": "code",
   "execution_count": 37,
   "id": "5da9fee0",
   "metadata": {},
   "outputs": [
    {
     "data": {
      "text/plain": [
       "array([-1.01175061e-01,  3.93349683e+03,  6.60615054e+00, -1.01253670e-01,\n",
       "        6.30831104e+00])"
      ]
     },
     "execution_count": 37,
     "metadata": {},
     "output_type": "execute_result"
    }
   ],
   "source": [
    "# (D) Ca II\n",
    "p0_D = [-0.2, 3935, 5, -0.2, 5]\n",
    "\n",
    "popt_D, _ = curve_fit(convolved_model_ca, wavelengths_D, fluxes_D, p0=p0_D)\n",
    "popt_D"
   ]
  },
  {
   "cell_type": "code",
   "execution_count": 38,
   "id": "168b1bfb",
   "metadata": {},
   "outputs": [
    {
     "name": "stdout",
     "output_type": "stream",
     "text": [
      "Estimated Noise Standard Deviation: 1.410\n"
     ]
    },
    {
     "data": {
      "image/png": "[encoded data removed]",
      "text/plain": [
       "<Figure size 432x288 with 1 Axes>"
      ]
     },
     "metadata": {
      "needs_background": "light"
     },
     "output_type": "display_data"
    }
   ],
   "source": [
    "residuals_D = fluxes_D - convolved_model_ca(wavelengths_D, *popt_D)\n",
    "\n",
    "plt.hist(residuals_D / uncertainties_D)\n",
    "\n",
    "std_D = np.std(residuals_D / uncertainties_D)\n",
    "print(f\"Estimated Noise Standard Deviation: {std_D:.3f}\")"
   ]
  },
  {
   "cell_type": "code",
   "execution_count": 45,
   "id": "5d92b536",
   "metadata": {},
   "outputs": [
    {
     "name": "stdout",
     "output_type": "stream",
     "text": [
      "Estimated Noise Standard Deviation: 1.000\n"
     ]
    },
    {
     "data": {
      "image/png": "[encoded data removed]",
      "text/plain": [
       "<Figure size 432x288 with 1 Axes>"
      ]
     },
     "metadata": {
      "needs_background": "light"
     },
     "output_type": "display_data"
    }
   ],
   "source": [
    "sigma_floor_D = 0.00977\n",
    "sigma_adjusted_D = np.sqrt(uncertainties_D**2 + sigma_floor_D**2)\n",
    "\n",
    "plt.hist(residuals_D / sigma_adjusted_D)\n",
    "\n",
    "std_D = np.std(residuals_D / sigma_adjusted_D)\n",
    "print(f\"Estimated Noise Standard Deviation: {std_D:.3f}\")"
   ]
  },
  {
   "cell_type": "code",
   "execution_count": 46,
   "id": "a846f829",
   "metadata": {},
   "outputs": [
    {
     "name": "stdout",
     "output_type": "stream",
     "text": [
      "Chi-squared: 112.259\n",
      "Degree of freedom: 105.000\n",
      "Reduced Chi-squared: 1.069\n"
     ]
    }
   ],
   "source": [
    "chi_squared_D = np.sum((residuals_D / sigma_adjusted_D) ** 2)\n",
    "dof_D = len(fluxes_D) - len(popt_D)\n",
    "\n",
    "reduced_chi_squared_D = chi_squared_D / dof_D\n",
    "\n",
    "print(f'Chi-squared: {chi_squared_D:.3f}')\n",
    "print(f'Degree of freedom: {dof_D:.3f}')\n",
    "print(f'Reduced Chi-squared: {reduced_chi_squared_D:.3f}')"
   ]
  },
  {
   "cell_type": "code",
   "execution_count": 47,
   "id": "8f484c5a",
   "metadata": {},
   "outputs": [
    {
     "data": {
      "text/plain": [
       "<matplotlib.legend.Legend at 0x1379a491040>"
      ]
     },
     "execution_count": 47,
     "metadata": {},
     "output_type": "execute_result"
    },
    {
     "data": {
      "image/png": "[encoded data removed]",
      "text/plain": [
       "<Figure size 432x288 with 1 Axes>"
      ]
     },
     "metadata": {
      "needs_background": "light"
     },
     "output_type": "display_data"
    }
   ],
   "source": [
    "(recovered_amp_3935, recovered_mu_3935, recovered_std_3935, recovered_amp2_3935, recovered_std2_3935) = popt_D\n",
    "recovered_mu2_3935 = recovered_mu_3935 + (lambda_3970 - lambda_3935)\n",
    "\n",
    "true_spectrum_D = (Gaussian1D(amplitude=recovered_amp_3935, mean=recovered_mu_3935, stddev=recovered_std_3935)\n",
    "                  + Gaussian1D(amplitude=recovered_amp2_3935, mean=recovered_mu2_3935, stddev=recovered_std2_3935))\n",
    "\n",
    "plt.plot(wavelengths_D, true_spectrum_D(wavelengths_D), '--', label=\"True Voigt\", color='blue')\n",
    "#plt.xlim(2780, 2820)\n",
    "plt.ylim(-1, 0.1)\n",
    "plt.legend()"
   ]
  },
  {
   "cell_type": "code",
   "execution_count": 48,
   "id": "a565ba78",
   "metadata": {},
   "outputs": [
    {
     "data": {
      "text/plain": [
       "<matplotlib.legend.Legend at 0x1379c981cd0>"
      ]
     },
     "execution_count": 48,
     "metadata": {},
     "output_type": "execute_result"
    },
    {
     "data": {
      "image/png": "[encoded data removed]",
      "text/plain": [
       "<Figure size 432x288 with 1 Axes>"
      ]
     },
     "metadata": {
      "needs_background": "light"
     },
     "output_type": "display_data"
    }
   ],
   "source": [
    "plt.figure()\n",
    "plt.plot(wavelengths_D, fluxes_D+1, label=\"Observed Spectrum\", color='gray', alpha= 0.8, drawstyle='steps-mid')\n",
    "plt.plot(wavelengths_D, true_spectrum_D(wavelengths_D)+1, '--', label=\"True Spectrum\", color='blue',alpha=0.7)\n",
    "plt.plot(wavelengths_D, residuals_D, label='Residuals', color='cyan')\n",
    "\n",
    "plt.title(\"1 Components\")\n",
    "plt.ylim(-0.05,1.1)\n",
    "plt.legend()"
   ]
  },
  {
   "cell_type": "code",
   "execution_count": 49,
   "id": "c28dada1",
   "metadata": {},
   "outputs": [
    {
     "data": {
      "text/plain": [
       "(-2000.0, 2000.0)"
      ]
     },
     "execution_count": 49,
     "metadata": {},
     "output_type": "execute_result"
    },
    {
     "data": {
      "image/png": "[encoded data removed]",
      "text/plain": [
       "<Figure size 432x288 with 1 Axes>"
      ]
     },
     "metadata": {
      "needs_background": "light"
     },
     "output_type": "display_data"
    }
   ],
   "source": [
    "v_3935_D = c_kms * (wavelengths_D - lambda_3935) / lambda_3935\n",
    "\n",
    "vline_3935_D = c_kms * (recovered_mu_3935 - lambda_3935) / lambda_3935\n",
    "\n",
    "plt.plot(v_3935_D, fluxes_D+1, 'k', alpha=0.8, drawstyle='steps-mid')\n",
    "plt.plot(v_3935_D, true_spectrum_D(wavelengths_D)+1, color='green')\n",
    "plt.axvline(vline_3935_D, color=\"grey\", linestyle=\":\")\n",
    "plt.ylim(0.5, 1.1)\n",
    "plt.xlim(-2000,2000)"
   ]
  },
  {
   "cell_type": "code",
   "execution_count": 50,
   "id": "a433a8ea",
   "metadata": {},
   "outputs": [
    {
     "data": {
      "text/plain": [
       "array([-4.48528615e-01,  3.93426736e+03,  7.40672239e+00, -4.44268387e-01,\n",
       "        5.64779306e+00])"
      ]
     },
     "execution_count": 50,
     "metadata": {},
     "output_type": "execute_result"
    }
   ],
   "source": [
    "# (G) Ca II\n",
    "p0_G = [-0.2, 3935, 2, -0.2, 2]\n",
    "\n",
    "popt_G, _ = curve_fit(convolved_model_ca, wavelengths_G, fluxes_G, p0=p0_G)\n",
    "popt_G"
   ]
  },
  {
   "cell_type": "code",
   "execution_count": 51,
   "id": "1dd12715",
   "metadata": {},
   "outputs": [
    {
     "name": "stdout",
     "output_type": "stream",
     "text": [
      "Estimated Noise Standard Deviation: 2.118\n"
     ]
    },
    {
     "data": {
      "image/png": "[encoded data removed]",
      "text/plain": [
       "<Figure size 432x288 with 1 Axes>"
      ]
     },
     "metadata": {
      "needs_background": "light"
     },
     "output_type": "display_data"
    }
   ],
   "source": [
    "residuals_G = fluxes_G - convolved_model_ca(wavelengths_G, *popt_G)\n",
    "\n",
    "plt.hist(residuals_G / uncertainties_G)\n",
    "\n",
    "std_G = np.std(residuals_G / uncertainties_G)\n",
    "print(f\"Estimated Noise Standard Deviation: {std_G:.3f}\")"
   ]
  },
  {
   "cell_type": "code",
   "execution_count": 52,
   "id": "1d0f8bf6",
   "metadata": {},
   "outputs": [
    {
     "name": "stdout",
     "output_type": "stream",
     "text": [
      "Estimated Noise Standard Deviation: 1.501\n"
     ]
    },
    {
     "data": {
      "image/png": "[encoded data removed]",
      "text/plain": [
       "<Figure size 432x288 with 1 Axes>"
      ]
     },
     "metadata": {
      "needs_background": "light"
     },
     "output_type": "display_data"
    }
   ],
   "source": [
    "sigma_floor_G = 0.01\n",
    "sigma_adjusted_G = np.sqrt(uncertainties_G**2 + sigma_floor_G**2)\n",
    "\n",
    "plt.hist(residuals_G / sigma_adjusted_G)\n",
    "\n",
    "std_G = np.std(residuals_G / sigma_adjusted_G)\n",
    "print(f\"Estimated Noise Standard Deviation: {std_G:.3f}\")"
   ]
  },
  {
   "cell_type": "code",
   "execution_count": 53,
   "id": "4d63579b",
   "metadata": {},
   "outputs": [
    {
     "name": "stdout",
     "output_type": "stream",
     "text": [
      "Chi-squared: 257.406\n",
      "Degree of freedom: 105.000\n",
      "Reduced Chi-squared: 2.451\n"
     ]
    }
   ],
   "source": [
    "chi_squared_G = np.sum((residuals_G / sigma_adjusted_G) ** 2)\n",
    "dof_G = len(fluxes_G) - len(popt_G)\n",
    "\n",
    "reduced_chi_squared_G = chi_squared_G / dof_G\n",
    "\n",
    "print(f'Chi-squared: {chi_squared_G:.3f}')\n",
    "print(f'Degree of freedom: {dof_G:.3f}')\n",
    "print(f'Reduced Chi-squared: {reduced_chi_squared_G:.3f}')"
   ]
  },
  {
   "cell_type": "code",
   "execution_count": 54,
   "id": "1a18303f",
   "metadata": {},
   "outputs": [
    {
     "data": {
      "text/plain": [
       "<matplotlib.legend.Legend at 0x137a004b9a0>"
      ]
     },
     "execution_count": 54,
     "metadata": {},
     "output_type": "execute_result"
    },
    {
     "data": {
      "image/png": "[encoded data removed]",
      "text/plain": [
       "<Figure size 432x288 with 1 Axes>"
      ]
     },
     "metadata": {
      "needs_background": "light"
     },
     "output_type": "display_data"
    }
   ],
   "source": [
    "(recovered_amp_3935, recovered_mu_3935, recovered_std_3935, recovered_amp2_3935, recovered_std2_3935) = popt_G\n",
    "recovered_mu2_3935 = recovered_mu_3935 + (lambda_3970 - lambda_3935)\n",
    "\n",
    "true_spectrum_G = (Gaussian1D(amplitude=recovered_amp_3935, mean=recovered_mu_3935, stddev=recovered_std_3935)\n",
    "                  + Gaussian1D(amplitude=recovered_amp2_3935, mean=recovered_mu2_3935, stddev=recovered_std2_3935))\n",
    "\n",
    "plt.plot(wavelengths_G, true_spectrum_G(wavelengths_G), '--', label=\"True Voigt\", color='blue')\n",
    "#plt.xlim(2780, 2820)\n",
    "plt.ylim(-1, 0.1)\n",
    "plt.legend()"
   ]
  },
  {
   "cell_type": "code",
   "execution_count": 55,
   "id": "185e6d77",
   "metadata": {},
   "outputs": [
    {
     "data": {
      "text/plain": [
       "<matplotlib.legend.Legend at 0x1379fca2dc0>"
      ]
     },
     "execution_count": 55,
     "metadata": {},
     "output_type": "execute_result"
    },
    {
     "data": {
      "image/png": "[encoded data removed]",
      "text/plain": [
       "<Figure size 432x288 with 1 Axes>"
      ]
     },
     "metadata": {
      "needs_background": "light"
     },
     "output_type": "display_data"
    }
   ],
   "source": [
    "plt.figure()\n",
    "plt.plot(wavelengths_G, fluxes_G+1, label=\"Observed Spectrum\", color='gray', alpha= 0.8, drawstyle='steps-mid')\n",
    "plt.plot(wavelengths_G, true_spectrum_G(wavelengths_G)+1, '--', label=\"True Spectrum\", color='blue',alpha=0.7)\n",
    "plt.plot(wavelengths_G, residuals_G, label='Residuals', color='cyan')\n",
    "\n",
    "plt.title(\"1 Components\")\n",
    "plt.ylim(-0.05,1.1)\n",
    "plt.legend()"
   ]
  },
  {
   "cell_type": "code",
   "execution_count": 56,
   "id": "3e224dae",
   "metadata": {},
   "outputs": [
    {
     "data": {
      "text/plain": [
       "(-2000.0, 2000.0)"
      ]
     },
     "execution_count": 56,
     "metadata": {},
     "output_type": "execute_result"
    },
    {
     "data": {
      "image/png": "[encoded data removed]",
      "text/plain": [
       "<Figure size 432x288 with 1 Axes>"
      ]
     },
     "metadata": {
      "needs_background": "light"
     },
     "output_type": "display_data"
    }
   ],
   "source": [
    "v_3935_G = c_kms * (wavelengths_G - lambda_3935) / lambda_3935\n",
    "\n",
    "vline_3935_G = c_kms * (recovered_mu_3935 - lambda_3935) / lambda_3935\n",
    "\n",
    "plt.plot(v_3935_G, fluxes_G+1, 'k', alpha=0.8, drawstyle='steps-mid')\n",
    "plt.plot(v_3935_G, true_spectrum_G(wavelengths_G)+1, color='green')\n",
    "plt.axvline(vline_3935_G, color=\"grey\", linestyle=\":\")\n",
    "plt.ylim(0.5, 1.1)\n",
    "plt.xlim(-2000,2000)"
   ]
  },
  {
   "cell_type": "markdown",
   "id": "66ce630a",
   "metadata": {},
   "source": [
    "# 6. Monte Carlo"
   ]
  },
  {
   "cell_type": "code",
   "execution_count": 71,
   "id": "eef61407",
   "metadata": {},
   "outputs": [
    {
     "name": "stdout",
     "output_type": "stream",
     "text": [
      "Simulation is done\n"
     ]
    }
   ],
   "source": [
    "sim_W_A = []\n",
    "sim_W_A2 = []\n",
    "sim_W_B = []\n",
    "sim_W_B2 = []\n",
    "sim_W_C = []\n",
    "sim_W_C2 = []\n",
    "sim_W_D = []\n",
    "sim_W_D2 = []\n",
    "sim_W_G = []\n",
    "sim_W_G2 = []\n",
    "\n",
    "sim_amp_D = []\n",
    "sim_mu_D = []\n",
    "sim_std_D = []\n",
    "sim_amp_G = []\n",
    "sim_mu_G = []\n",
    "sim_std_G = []\n",
    "\n",
    "sim_chi_D = []\n",
    "sim_reduced_chi_D = []\n",
    "sim_chi_G = []\n",
    "sim_reduced_chi_G = []\n",
    "\n",
    "n_sim = 1000\n",
    "\n",
    "for x in range(0, n_sim):\n",
    "    sim_fluxes_A = fluxes_A + np.random.normal(0, uncertainties_A)\n",
    "    sim_fluxes_A2 = fluxes_A2 + np.random.normal(0, uncertainties_A2)\n",
    "    sim_fluxes_B = fluxes_B + np.random.normal(0, uncertainties_B)\n",
    "    sim_fluxes_B2 = fluxes_B2 + np.random.normal(0, uncertainties_B2)\n",
    "    sim_fluxes_C = fluxes_C + np.random.normal(0, uncertainties_C)\n",
    "    sim_fluxes_C2 = fluxes_C2 + np.random.normal(0, uncertainties_C2)\n",
    "    sim_fluxes_D = fluxes_D + np.random.normal(0, uncertainties_D)\n",
    "    sim_fluxes_D2 = fluxes_D2 + np.random.normal(0, uncertainties_D2)\n",
    "    sim_fluxes_G = fluxes_G + np.random.normal(0, uncertainties_G)\n",
    "    sim_fluxes_G2 = fluxes_G2 + np.random.normal(0, uncertainties_G2)\n",
    "\n",
    "    W_lambda_A = compute_ew(wavelengths_A, sim_fluxes_A, continuum_level=0, line_range=(3913, 3955))\n",
    "    W_lambda_A2 = compute_ew(wavelengths_A2, sim_fluxes_A2, continuum_level=0, line_range=(5880, 5910))\n",
    "    W_lambda_B = compute_ew(wavelengths_B, sim_fluxes_B, continuum_level=0, line_range=(3913, 3955))\n",
    "    W_lambda_B2 = compute_ew(wavelengths_B2, sim_fluxes_B2, continuum_level=0, line_range=(5880, 5910))\n",
    "    W_lambda_C = compute_ew(wavelengths_C, sim_fluxes_C, continuum_level=0, line_range=(3913, 3955))\n",
    "    W_lambda_C2 = compute_ew(wavelengths_C2, sim_fluxes_C2, continuum_level=0, line_range=(5880, 5910))\n",
    "    W_lambda_D = compute_ew(wavelengths_D, sim_fluxes_D, continuum_level=0, line_range=(3913, 3955))\n",
    "    W_lambda_D2 = compute_ew(wavelengths_D2, sim_fluxes_D2, continuum_level=0, line_range=(5880, 5910))\n",
    "    W_lambda_G = compute_ew(wavelengths_G, sim_fluxes_G, continuum_level=0, line_range=(3913, 3955))\n",
    "    W_lambda_G2 = compute_ew(wavelengths_G2, sim_fluxes_G2, continuum_level=0, line_range=(5880, 5910))\n",
    "    \n",
    "    sim_W_D.append(W_lambda_D)\n",
    "    sim_W_D2.append(W_lambda_D2)\n",
    "    sim_W_G.append(W_lambda_G)\n",
    "    sim_W_G2.append(W_lambda_G2)\n",
    "    \n",
    "    popt_D, _ = curve_fit(convolved_model_ca, wavelengths_D, sim_fluxes_D, p0=p0_D, \n",
    "                          sigma=sigma_adjusted_D, absolute_sigma=True, maxfev=5000)\n",
    "    recovered_amp_D, recovered_mu_3935_D, recovered_stddev_D, recovered_amp2_D, recovered_stddev2_D = popt_D\n",
    "    popt_G, _ = curve_fit(convolved_model_ca, wavelengths_G, sim_fluxes_G, p0=p0_G, \n",
    "                          sigma=sigma_adjusted_G, absolute_sigma=True, maxfev=5000)\n",
    "    recovered_amp_G, recovered_mu_3935_G, recovered_stddev_G, recovered_amp2_G, recovered_stddev2_G = popt_G\n",
    "    \n",
    "    sim_amp_D.append(recovered_amp_D)\n",
    "    sim_mu_D.append(recovered_mu_3935_D)\n",
    "    sim_std_D.append(recovered_stddev_D)\n",
    "    sim_amp_G.append(recovered_amp_G)\n",
    "    sim_mu_G.append(recovered_mu_3935_G)\n",
    "    sim_std_G.append(recovered_stddev_G)\n",
    "    \n",
    "    residuals_D = sim_fluxes_D - convolved_model_ca(wavelengths_D, *popt_D)\n",
    "    chi_squared_D = np.sum((residuals_D / sigma_adjusted_D) ** 2)\n",
    "    dof_D = len(sim_fluxes_D) - len(popt_D)\n",
    "    reduced_chi_squared_D = chi_squared_D / dof_D\n",
    "    \n",
    "    residuals_G = sim_fluxes_G - convolved_model_ca(wavelengths_G, *popt_G)\n",
    "    chi_squared_G = np.sum((residuals_G / sigma_adjusted_G) ** 2)\n",
    "    dof_G = len(sim_fluxes_G) - len(popt_G)\n",
    "    reduced_chi_squared_G = chi_squared_G / dof_G\n",
    "\n",
    "print(\"Simulation is done\")"
   ]
  },
  {
   "cell_type": "code",
   "execution_count": 72,
   "id": "4544e22a",
   "metadata": {},
   "outputs": [
    {
     "name": "stdout",
     "output_type": "stream",
     "text": [
      "Equivalent Width A Ca II λ3935: nan Angstrom\n",
      "EW λ3935 errors(1σ): nan Angstrom\n",
      "Equivalent Width A Na I: nan Angstrom\n",
      "EW λ5892 errors(1σ): nan Angstrom\n",
      "Equivalent Width B Ca II λ3935: nan Angstrom\n",
      "EW λ3935 errors(1σ): nan Angstrom\n",
      "Equivalent Width B Na I: nan Angstrom\n",
      "EW λ5892 errors(1σ): nan Angstrom\n",
      "Equivalent Width C Ca II λ3935: nan Angstrom\n",
      "EW λ3935 errors(1σ): nan Angstrom\n",
      "Equivalent Width C Na I: nan Angstrom\n",
      "EW λ5892 errors(1σ): nan Angstrom\n",
      "Equivalent Width D Ca II λ3935: 1.805 Angstrom\n",
      "EW λ3935 errors(1σ): 0.066 Angstrom\n",
      "Equivalent Width D Na I: 1.128 Angstrom\n",
      "EW λ5892 errors(1σ): 0.085 Angstrom\n",
      "Equivalent Width G Ca II λ3935: 8.278 Angstrom\n",
      "EW λ3935 errors(1σ): 0.061 Angstrom\n",
      "Equivalent Width G Na I: 3.153 Angstrom\n",
      "EW λ5892 errors(1σ): 0.056 Angstrom\n"
     ]
    }
   ],
   "source": [
    "sim_W_A = np.array(sim_W_A)\n",
    "W_A_mean = np.mean(sim_W_A)\n",
    "W_A_std = np.std(sim_W_A)\n",
    "\n",
    "sim_W_A2 = np.array(sim_W_A2)\n",
    "W_A2_mean = np.mean(sim_W_A2)\n",
    "W_A2_std = np.std(sim_W_A2)\n",
    "\n",
    "sim_W_B_B = np.array(sim_W_B)\n",
    "W_B_mean = np.mean(sim_W_B)\n",
    "W_B_std = np.std(sim_W_B)\n",
    "\n",
    "sim_W_B2 = np.array(sim_W_B2)\n",
    "W_B2_mean = np.mean(sim_W_B2)\n",
    "W_B2_std = np.std(sim_W_B2)\n",
    "\n",
    "sim_W_C = np.array(sim_W_C)\n",
    "W_C_mean = np.mean(sim_W_C)\n",
    "W_C_std = np.std(sim_W_C)\n",
    "\n",
    "sim_W_C2 = np.array(sim_W_C2)\n",
    "W_C2_mean = np.mean(sim_W_C2)\n",
    "W_C2_std = np.std(sim_W_C2)\n",
    "\n",
    "sim_W_D = np.array(sim_W_D)\n",
    "W_D_mean = np.mean(sim_W_D)\n",
    "W_D_std = np.std(sim_W_D)\n",
    "\n",
    "sim_W_D2 = np.array(sim_W_D2)\n",
    "W_D2_mean = np.mean(sim_W_D2)\n",
    "W_D2_std = np.std(sim_W_D2)\n",
    "\n",
    "sim_W_G = np.array(sim_W_G)\n",
    "W_G_mean = np.mean(sim_W_G)\n",
    "W_G_std = np.std(sim_W_G)\n",
    "\n",
    "sim_W_G2 = np.array(sim_W_G2)\n",
    "W_G2_mean = np.mean(sim_W_G2)\n",
    "W_G2_std = np.std(sim_W_G2)\n",
    "\n",
    "print(f\"Equivalent Width A Ca II λ3935: {W_A_mean:.3f} Angstrom\")\n",
    "print(f\"EW λ3935 errors(1σ): {W_A_std:.3f} Angstrom\")\n",
    "print(f\"Equivalent Width A Na I: {W_A2_mean:.3f} Angstrom\")\n",
    "print(f\"EW λ5892 errors(1σ): {W_A2_std:.3f} Angstrom\")\n",
    "print(f\"Equivalent Width B Ca II λ3935: {W_B_mean:.3f} Angstrom\")\n",
    "print(f\"EW λ3935 errors(1σ): {W_B_std:.3f} Angstrom\")\n",
    "print(f\"Equivalent Width B Na I: {W_B2_mean:.3f} Angstrom\")\n",
    "print(f\"EW λ5892 errors(1σ): {W_B2_std:.3f} Angstrom\")\n",
    "print(f\"Equivalent Width C Ca II λ3935: {W_C_mean:.3f} Angstrom\")\n",
    "print(f\"EW λ3935 errors(1σ): {W_C_std:.3f} Angstrom\")\n",
    "print(f\"Equivalent Width C Na I: {W_C2_mean:.3f} Angstrom\")\n",
    "print(f\"EW λ5892 errors(1σ): {W_C2_std:.3f} Angstrom\")\n",
    "print(f\"Equivalent Width D Ca II λ3935: {W_D_mean:.3f} Angstrom\")\n",
    "print(f\"EW λ3935 errors(1σ): {W_D_std:.3f} Angstrom\")\n",
    "print(f\"Equivalent Width D Na I: {W_D2_mean:.3f} Angstrom\")\n",
    "print(f\"EW λ5892 errors(1σ): {W_D2_std:.3f} Angstrom\")\n",
    "print(f\"Equivalent Width G Ca II λ3935: {W_G_mean:.3f} Angstrom\")\n",
    "print(f\"EW λ3935 errors(1σ): {W_G_std:.3f} Angstrom\")\n",
    "print(f\"Equivalent Width G Na I: {W_G2_mean:.3f} Angstrom\")\n",
    "print(f\"EW λ5892 errors(1σ): {W_G2_std:.3f} Angstrom\")"
   ]
  },
  {
   "cell_type": "code",
   "execution_count": 73,
   "id": "93516c05",
   "metadata": {},
   "outputs": [
    {
     "name": "stdout",
     "output_type": "stream",
     "text": [
      "Fitted Amplitude D: -0.101 ± 0.004\n",
      "Fitted Amplitude G: -0.449 ± 0.003\n"
     ]
    }
   ],
   "source": [
    "sim_amp_D = np.array(sim_amp_D)\n",
    "sim_amp_D_mean = np.mean(sim_amp_D)\n",
    "sim_amp_D_std = np.std(sim_amp_D)\n",
    "\n",
    "sim_amp_G = np.array(sim_amp_G)\n",
    "sim_amp_G_mean = np.mean(sim_amp_G)\n",
    "sim_amp_G_std = np.std(sim_amp_G)\n",
    "\n",
    "print(f\"Fitted Amplitude D: {sim_amp_D_mean:.3f} ± {sim_amp_D_std:.3f}\")\n",
    "print(f\"Fitted Amplitude G: {sim_amp_G_mean:.3f} ± {sim_amp_G_std:.3f}\")"
   ]
  },
  {
   "cell_type": "code",
   "execution_count": 74,
   "id": "cb03c0bd",
   "metadata": {},
   "outputs": [
    {
     "name": "stdout",
     "output_type": "stream",
     "text": [
      "Fitted Mu D: 3933.496 ± 0.188 Angstrom\n",
      "Fitted Mu G: 3934.255 ± 0.039 Angstrom\n"
     ]
    }
   ],
   "source": [
    "sim_mu_D = np.array(sim_mu_D)\n",
    "sim_mu_D_mean = np.mean(sim_mu_D)\n",
    "sim_mu_D_std = np.std(sim_mu_D)\n",
    "\n",
    "sim_mu_G = np.array(sim_mu_G)\n",
    "sim_mu_G_mean = np.mean(sim_mu_G)\n",
    "sim_mu_G_std = np.std(sim_mu_G)\n",
    "\n",
    "print(f\"Fitted Mu D: {sim_mu_D_mean:.3f} ± {sim_mu_D_std:.3f} Angstrom\")\n",
    "print(f\"Fitted Mu G: {sim_mu_G_mean:.3f} ± {sim_mu_G_std:.3f} Angstrom\")"
   ]
  },
  {
   "cell_type": "code",
   "execution_count": 75,
   "id": "6b4fd561",
   "metadata": {},
   "outputs": [
    {
     "name": "stdout",
     "output_type": "stream",
     "text": [
      "Fitted Dispersion D: 6.603 ± 0.284 Angstrom\n",
      "Fitted Dispersion G: 7.402 ± 0.062 Angstrom\n"
     ]
    }
   ],
   "source": [
    "sim_std_D = np.array(sim_std_D)\n",
    "sim_std_D_mean = np.mean(sim_std_D)\n",
    "sim_std_D_std = np.std(sim_std_D)\n",
    "\n",
    "sim_std_G = np.array(sim_std_G)\n",
    "sim_std_G_mean = np.mean(sim_std_G)\n",
    "sim_std_G_std = np.std(sim_std_G)\n",
    "\n",
    "print(f\"Fitted Dispersion D: {sim_std_D_mean:.3f} ± {sim_std_D_std:.3f} Angstrom\")\n",
    "print(f\"Fitted Dispersion G: {sim_std_G_mean:.3f} ± {sim_std_G_std:.3f} Angstrom\")"
   ]
  },
  {
   "cell_type": "markdown",
   "id": "ed7fbcb3",
   "metadata": {},
   "source": [
    "# 7. Parameter Estimation"
   ]
  },
  {
   "cell_type": "code",
   "execution_count": 76,
   "id": "2c2d7fd1",
   "metadata": {},
   "outputs": [
    {
     "name": "stdout",
     "output_type": "stream",
     "text": [
      "System Velocity D: -97.634 ± 0.284 km/s\n",
      "System Velocity G: -39.740 ± 0.062 km/s\n"
     ]
    }
   ],
   "source": [
    "v_D = ((sim_mu_D_mean - lambda_3935) / lambda_3935) * c_kms\n",
    "v_G = ((sim_mu_G_mean - lambda_3935) / lambda_3935) * c_kms\n",
    "\n",
    "err_v_D = (c_kms / lambda_3935) * sim_mu_D_std\n",
    "err_v_G = (c_kms / lambda_3935) * sim_mu_G_std\n",
    "\n",
    "print(f\"System Velocity D: {v_D:.3f} ± {sim_std_D_std:.3f} km/s\")\n",
    "print(f\"System Velocity G: {v_G:.3f} ± {sim_std_G_std:.3f} km/s\")"
   ]
  },
  {
   "cell_type": "code",
   "execution_count": 78,
   "id": "935de42c",
   "metadata": {},
   "outputs": [
    {
     "name": "stdout",
     "output_type": "stream",
     "text": [
      "Velocity Dispersion D: 251.630 ± 10.827 km/s\n",
      "Velocity Dispersion G: 282.026 ± 2.373 km/s\n"
     ]
    }
   ],
   "source": [
    "sigma_D = (sim_std_D_mean / sim_mu_D_mean) * c_kms\n",
    "sigma_G = (sim_std_G_mean / sim_mu_G_mean) * c_kms\n",
    "\n",
    "err_sigma_D = sigma_D * ((sim_std_D_std / sim_std_D_mean)**2 + (sim_mu_D_std / sim_mu_D_mean)**2)**0.5\n",
    "err_sigma_G = sigma_G * ((sim_std_G_std / sim_std_G_mean)**2 + (sim_mu_G_std / sim_mu_G_mean)**2)**0.5\n",
    "\n",
    "print(f\"Velocity Dispersion D: {sigma_D/2:.3f} ± {err_sigma_D/2:.3f} km/s\")\n",
    "print(f\"Velocity Dispersion G: {sigma_G/2:.3f} ± {err_sigma_G/2:.3f} km/s\")"
   ]
  },
  {
   "cell_type": "markdown",
   "id": "44661d3b",
   "metadata": {},
   "source": [
    "# 8. Relative Velocity Plot"
   ]
  },
  {
   "cell_type": "code",
   "execution_count": 66,
   "id": "c2cbefe8",
   "metadata": {},
   "outputs": [],
   "source": [
    "v_3935_A = c_kms * (wavelengths_A - lambda_3935) / lambda_3935\n",
    "v_3935_B = c_kms * (wavelengths_B - lambda_3935) / lambda_3935\n",
    "v_3935_C = c_kms * (wavelengths_C - lambda_3935) / lambda_3935\n",
    "v_3935_D = c_kms * (wavelengths_D - lambda_3935) / lambda_3935\n",
    "v_3935_G = c_kms * (wavelengths_G - lambda_3935) / lambda_3935\n",
    "\n",
    "v_5892_A = c_kms * (wavelengths_A2 - lambda_5892) / lambda_5892\n",
    "v_5892_B = c_kms * (wavelengths_B2 - lambda_5892) / lambda_5892\n",
    "v_5892_C = c_kms * (wavelengths_C2 - lambda_5892) / lambda_5892\n",
    "v_5892_D = c_kms * (wavelengths_D2 - lambda_5892) / lambda_5892\n",
    "v_5892_G = c_kms * (wavelengths_G2 - lambda_5892) / lambda_5892"
   ]
  },
  {
   "cell_type": "code",
   "execution_count": 67,
   "id": "becca623",
   "metadata": {},
   "outputs": [
    {
     "data": {
      "image/png": "[encoded data removed]",
      "text/plain": [
       "<Figure size 1440x288 with 4 Axes>"
      ]
     },
     "metadata": {
      "needs_background": "light"
     },
     "output_type": "display_data"
    }
   ],
   "source": [
    "f, ax = plt.subplots(1, 4, figsize=(20,4), sharey='row', sharex=True, gridspec_kw={'hspace': 0, 'wspace':0})\n",
    "plt.rcParams['font.family'] = 'serif'\n",
    "\n",
    "# A\n",
    "ax[0].plot(v_3935_A, fluxes_A+1, 'k', alpha=0.8, drawstyle='steps-mid')\n",
    "ax[0].set_ylim(0, 1.1)\n",
    "ax[0].set_xlim(-1900,1900)\n",
    "\n",
    "# B\n",
    "ax[1].plot(v_3935_B, fluxes_B+1, 'k', alpha=0.8, drawstyle='steps-mid')\n",
    "#ax[1].set_ylim(0.5, 1.1)\n",
    "ax[1].set_xlim(-1900,1900)\n",
    "\n",
    "# C\n",
    "ax[2].plot(v_3935_C, fluxes_C+1, 'k', alpha=0.8, drawstyle='steps-mid')\n",
    "#ax[2].set_ylim(0.5, 1.1)\n",
    "ax[2].set_xlim(-1900,1900)\n",
    "\n",
    "# D\n",
    "ax[3].plot(v_3935_D, fluxes_D+1, 'k', alpha=0.8, drawstyle='steps-mid')\n",
    "ax[3].plot(v_3935_D, true_spectrum_D(wavelengths_D)+1, lw=3, color='limegreen')\n",
    "ax[3].axvline(vline_3935_D, color=\"grey\", linestyle=\":\")\n",
    "#ax[3].set_ylim(0.5, 1.1)\n",
    "ax[3].set_xlim(-1900,1900)\n",
    "\n",
    "f.text(0.22, 0.9, 'A', fontsize=16)\n",
    "f.text(0.41, 0.9, 'B', fontsize=16)\n",
    "f.text(0.605, 0.9, 'C', fontsize=16)\n",
    "f.text(0.8, 0.9, 'D', fontsize=16)\n",
    "\n",
    "f.text(0.835, 0.33, 'Ca II λ3935', fontsize=14)\n",
    "\n",
    "f.text(0.5, 0.01, 'Kecepatan Radial $(km/s)$', fontsize=16, ha='center')\n",
    "f.text(0.09, 0.5, 'Fluks Ternormalisasi', fontsize=16, va='center', rotation='vertical')\n",
    "\n",
    "plt.show()"
   ]
  },
  {
   "cell_type": "code",
   "execution_count": 68,
   "id": "59ac19e1",
   "metadata": {},
   "outputs": [
    {
     "data": {
      "text/plain": [
       "Text(0, 0.5, 'Fluks Ternormalisasi')"
      ]
     },
     "execution_count": 68,
     "metadata": {},
     "output_type": "execute_result"
    },
    {
     "data": {
      "image/png": "[encoded data removed]",
      "text/plain": [
       "<Figure size 360x288 with 1 Axes>"
      ]
     },
     "metadata": {
      "needs_background": "light"
     },
     "output_type": "display_data"
    }
   ],
   "source": [
    "plt.figure(figsize=(5,4))\n",
    "plt.rcParams['font.family'] = 'serif'\n",
    "\n",
    "# G\n",
    "plt.plot(v_3935_G, fluxes_G+1, 'k', alpha=0.8, drawstyle='steps-mid')\n",
    "plt.plot(v_3935_G, true_spectrum_G(wavelengths_G)+1, lw=3, color='limegreen')\n",
    "plt.axvline(vline_3935_G, color=\"grey\", linestyle=\":\")\n",
    "plt.ylim(0.0, 1.1)\n",
    "plt.xlim(-1900,1900)\n",
    "\n",
    "plt.text(0.5, 1.15, 'G', fontsize=14, ha='center')\n",
    "plt.text(1200, 0.33, 'Ca II λ3935', fontsize=12, ha='center')\n",
    "\n",
    "plt.xlabel('Kecepatan Radial $(km/s)$', fontsize=14)\n",
    "plt.ylabel('Fluks Ternormalisasi', fontsize=14)"
   ]
  },
  {
   "cell_type": "code",
   "execution_count": 69,
   "id": "5874aa1d",
   "metadata": {},
   "outputs": [
    {
     "data": {
      "image/png": "[encoded data removed]",
      "text/plain": [
       "<Figure size 1440x288 with 4 Axes>"
      ]
     },
     "metadata": {
      "needs_background": "light"
     },
     "output_type": "display_data"
    }
   ],
   "source": [
    "f, ax = plt.subplots(1, 4, figsize=(20,4), sharey='row', sharex=True, gridspec_kw={'hspace': 0, 'wspace':0})\n",
    "plt.rcParams['font.family'] = 'serif'\n",
    "\n",
    "ax[0].plot(v_5892_A, fluxes_A2+1, 'k', alpha=0.8, drawstyle='steps-mid')\n",
    "ax[0].set_ylim(0, 1.1)\n",
    "ax[0].set_xlim(-1200,1200)\n",
    "\n",
    "ax[1].plot(v_5892_B, fluxes_B2+1, 'k', alpha=0.8, drawstyle='steps-mid')\n",
    "ax[1].set_xlim(-1200,1200)\n",
    "\n",
    "ax[2].plot(v_5892_C, fluxes_C2+1, 'k', alpha=0.8, drawstyle='steps-mid')\n",
    "ax[2].set_xlim(-1200,1200)\n",
    "\n",
    "ax[3].plot(v_5892_D, fluxes_D2+1, 'k', alpha=0.8, drawstyle='steps-mid')\n",
    "ax[3].set_xlim(-1200,1200)\n",
    "\n",
    "f.text(0.22, 0.9, 'A', fontsize=16)\n",
    "f.text(0.41, 0.9, 'B', fontsize=16)\n",
    "f.text(0.605, 0.9, 'C', fontsize=16)\n",
    "f.text(0.8, 0.9, 'D', fontsize=16)\n",
    "\n",
    "f.text(0.8, 0.33, 'Na I λλ5892, 5898', fontsize=14)\n",
    "\n",
    "f.text(0.5, 0.01, 'Kecepatan Radial $(km/s)$', fontsize=16, ha='center')\n",
    "f.text(0.09, 0.5, 'Fluks Ternormalisasi', fontsize=16, va='center', rotation='vertical')\n",
    "\n",
    "plt.show()"
   ]
  },
  {
   "cell_type": "code",
   "execution_count": 70,
   "id": "7be478a6",
   "metadata": {},
   "outputs": [
    {
     "data": {
      "text/plain": [
       "Text(0, 0.5, 'Fluks Ternormalisasi')"
      ]
     },
     "execution_count": 70,
     "metadata": {},
     "output_type": "execute_result"
    },
    {
     "data": {
      "image/png": "[encoded data removed]",
      "text/plain": [
       "<Figure size 360x288 with 1 Axes>"
      ]
     },
     "metadata": {
      "needs_background": "light"
     },
     "output_type": "display_data"
    }
   ],
   "source": [
    "plt.figure(figsize=(5,4))\n",
    "plt.rcParams['font.family'] = 'serif'\n",
    "\n",
    "# G\n",
    "plt.plot(v_5892_G, fluxes_G2+1, 'k', alpha=0.8, drawstyle='steps-mid')\n",
    "plt.ylim(0.0, 1.1)\n",
    "plt.xlim(-1200,1200)\n",
    "\n",
    "plt.text(0, 1.15, 'G', fontsize=14, ha='center')\n",
    "plt.text(600, 0.33, 'Na I λλ5892, 5898', ha='center', fontsize=12)\n",
    "\n",
    "plt.xlabel('Kecepatan Radial $(km/s)$', fontsize=14)\n",
    "plt.ylabel('Fluks Ternormalisasi', fontsize=14)"
   ]
  }
 ],
 "metadata": {
  "kernelspec": {
   "display_name": "Python 3",
   "language": "python",
   "name": "python3"
  },
  "language_info": {
   "codemirror_mode": {
    "name": "ipython",
    "version": 3
   },
   "file_extension": ".py",
   "mimetype": "text/x-python",
   "name": "python",
   "nbconvert_exporter": "python",
   "pygments_lexer": "ipython3",
   "version": "3.8.8"
  }
 },
 "nbformat": 4,
 "nbformat_minor": 5
}
