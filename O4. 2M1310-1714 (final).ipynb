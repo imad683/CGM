{
 "cells": [
  {
   "cell_type": "markdown",
   "id": "d5b0e136",
   "metadata": {},
   "source": [
    "1. Continuum Fit\n",
    "2. Continuum Subtraction"
   ]
  },
  {
   "cell_type": "code",
   "execution_count": 1,
   "id": "8246c03b",
   "metadata": {},
   "outputs": [],
   "source": [
    "%matplotlib inline\n",
    "import matplotlib.pyplot as plt\n",
    "\n",
    "import numpy as np\n",
    "import pandas as pd\n",
    "\n",
    "from mpdaf.obj import Spectrum\n",
    "from linetools.spectra.xspectrum1d import XSpectrum1D\n",
    "\n",
    "import astropy.units as u\n",
    "from astropy.io import fits\n",
    "from astropy.modeling.models import Voigt1D\n",
    "from astropy.convolution import convolve\n",
    "from astropy.constants import c, m_e\n",
    "\n",
    "from scipy.optimize import curve_fit\n",
    "from scipy.ndimage import gaussian_filter1d\n",
    "from scipy import constants as const\n",
    "from scipy.optimize import root_scalar\n",
    "\n",
    "from mpdaf.MUSE import LSF\n",
    "from IPython.display import display, Image, HTML\n",
    "import corner"
   ]
  },
  {
   "cell_type": "markdown",
   "id": "e93b48fe",
   "metadata": {},
   "source": [
    "# 1. Continuum Fit"
   ]
  },
  {
   "cell_type": "code",
   "execution_count": 2,
   "id": "0e282a98",
   "metadata": {},
   "outputs": [],
   "source": [
    "%matplotlib qt\n",
    "import matplotlib.pyplot as plt"
   ]
  },
  {
   "cell_type": "code",
   "execution_count": 4,
   "id": "2556ca45",
   "metadata": {},
   "outputs": [],
   "source": [
    "# (A)\n",
    "hdus_A = fits.open('D:\\Datacube\\M1310-1714\\spektrum_sum_2M1310-1714_A_0.6.fits')\n",
    "spec_A = Spectrum('D:\\Datacube\\M1310-1714\\spektrum_sum_2M1310-1714_A_0.6.fits')\n",
    "\n",
    "flux_A = hdus_A['DATA'].data*u.Unit(hdus_A[1].header['BUNIT'])  # Replace 'DATA' with the flux extension name\n",
    "variance_A = hdus_A['STAT'].data*u.Unit(hdus_A[2].header['BUNIT'])  # Replace 'STAT' with the variance extension name\n",
    "uncertainty_A = np.sqrt(variance_A) #uncertainty is standard deviation\n",
    "wavelength_A = spec_A.wave.coord() * u.Unit(spec_A.wave.unit)# Wavelength array\n",
    "\n",
    "sp_A = XSpectrum1D.from_tuple((wavelength_A, flux_A, uncertainty_A))\n",
    "sp_A.plot()"
   ]
  },
  {
   "cell_type": "code",
   "execution_count": 13,
   "id": "02e0043e",
   "metadata": {},
   "outputs": [],
   "source": [
    "# (B)\n",
    "hdus_B = fits.open('D:\\Datacube\\M1310-1714\\spektrum_sum_2M1310-1714_B_0.6.fits')\n",
    "spec_B = Spectrum('D:\\Datacube\\M1310-1714\\spektrum_sum_2M1310-1714_B_0.6.fits')\n",
    "\n",
    "flux_B = hdus_B['DATA'].data*u.Unit(hdus_B[1].header['BUNIT'])  # Replace 'DATA' with the flux extension name\n",
    "variance_B = hdus_B['STAT'].data*u.Unit(hdus_B[2].header['BUNIT'])  # Replace 'STAT' with the variance extension name\n",
    "uncertainty_B = np.sqrt(variance_B) #uncertainty is standard deviation\n",
    "wavelength_B = spec_B.wave.coord() * u.Unit(spec_B.wave.unit)# Wavelength array\n",
    "\n",
    "sp_B = XSpectrum1D.from_tuple((wavelength_B, flux_B, uncertainty_B))\n",
    "sp_B.plot()"
   ]
  },
  {
   "cell_type": "code",
   "execution_count": 5,
   "id": "3a13f3ed",
   "metadata": {},
   "outputs": [],
   "source": [
    "# (C)\n",
    "hdus_C = fits.open('D:\\Datacube\\M1310-1714\\spektrum_sum_2M1310-1714_C_0.6.fits')\n",
    "spec_C = Spectrum('D:\\Datacube\\M1310-1714\\spektrum_sum_2M1310-1714_C_0.6.fits')\n",
    "\n",
    "flux_C = hdus_C['DATA'].data*u.Unit(hdus_C[1].header['BUNIT'])  # Replace 'DATA' with the flux extension name\n",
    "variance_C = hdus_C['STAT'].data*u.Unit(hdus_C[2].header['BUNIT'])  # Replace 'STAT' with the variance extension name\n",
    "uncertainty_C = np.sqrt(variance_C) #uncertainty is standard deviation\n",
    "wavelength_C = spec_C.wave.coord() * u.Unit(spec_C.wave.unit)# Wavelength array\n",
    "\n",
    "sp_C = XSpectrum1D.from_tuple((wavelength_C, flux_C, uncertainty_C))\n",
    "sp_C.plot()"
   ]
  },
  {
   "cell_type": "code",
   "execution_count": 6,
   "id": "9009595b",
   "metadata": {},
   "outputs": [],
   "source": [
    "# (D)\n",
    "hdus_D = fits.open('D:\\Datacube\\M1310-1714\\spektrum_sum_2M1310-1714_D_0.6.fits')\n",
    "spec_D = Spectrum('D:\\Datacube\\M1310-1714\\spektrum_sum_2M1310-1714_D_0.6.fits')\n",
    "\n",
    "flux_D = hdus_D['DATA'].data*u.Unit(hdus_D[1].header['BUNIT'])  # Replace 'DATA' with the flux extension name\n",
    "variance_D = hdus_D['STAT'].data*u.Unit(hdus_D[2].header['BUNIT'])  # Replace 'STAT' with the variance extension name\n",
    "uncertainty_D = np.sqrt(variance_D) #uncertainty is standard deviation\n",
    "wavelength_D = spec_D.wave.coord() * u.Unit(spec_D.wave.unit)# Wavelength array\n",
    "\n",
    "sp_D = XSpectrum1D.from_tuple((wavelength_D, flux_D, uncertainty_D))\n",
    "sp_D.plot()"
   ]
  },
  {
   "cell_type": "code",
   "execution_count": 7,
   "id": "6585e316",
   "metadata": {},
   "outputs": [],
   "source": [
    "# (G)\n",
    "hdus_G = fits.open('D:\\Datacube\\M1310-1714\\spektrum_sum_2M1310-1714_G1_0.6.fits')\n",
    "spec_G = Spectrum('D:\\Datacube\\M1310-1714\\spektrum_sum_2M1310-1714_G1_0.6.fits')\n",
    "\n",
    "flux_G = hdus_G['DATA'].data*u.Unit(hdus_G[1].header['BUNIT'])  # Replace 'DATA' with the flux extension name\n",
    "variance_G = hdus_G['STAT'].data*u.Unit(hdus_G[2].header['BUNIT'])  # Replace 'STAT' with the variance extension name\n",
    "uncertainty_G = np.sqrt(variance_G) #uncertainty is standard deviation\n",
    "wavelength_G = spec_G.wave.coord() * u.Unit(spec_G.wave.unit)# Wavelength array\n",
    "\n",
    "sp_G = XSpectrum1D.from_tuple((wavelength_G, flux_G, uncertainty_G))\n",
    "sp_G.plot()"
   ]
  },
  {
   "cell_type": "code",
   "execution_count": 8,
   "id": "b94408e4",
   "metadata": {},
   "outputs": [],
   "source": [
    "# (G2)\n",
    "hdus_G2 = fits.open('D:\\Datacube\\M1310-1714\\spektrum_sum_2M1310-1714_G2_0.6.fits')\n",
    "spec_G2 = Spectrum('D:\\Datacube\\M1310-1714\\spektrum_sum_2M1310-1714_G2_0.6.fits')\n",
    "\n",
    "flux_G2 = hdus_G2['DATA'].data*u.Unit(hdus_G2[1].header['BUNIT'])  # Replace 'DATA' with the flux extension name\n",
    "variance_G2 = hdus_G2['STAT'].data*u.Unit(hdus_G2[2].header['BUNIT'])  # Replace 'STAT' with the variance extension name\n",
    "uncertainty_G2 = np.sqrt(variance_G2) #uncertainty is standard deviation\n",
    "wavelength_G2 = spec_G2.wave.coord() * u.Unit(spec_G2.wave.unit)# Wavelength array\n",
    "\n",
    "sp_G2 = XSpectrum1D.from_tuple((wavelength_G2, flux_G2, uncertainty_G2))\n",
    "sp_G2.plot()"
   ]
  },
  {
   "cell_type": "code",
   "execution_count": 9,
   "id": "e5c1cbe6",
   "metadata": {},
   "outputs": [],
   "source": [
    "z = 0.293"
   ]
  },
  {
   "cell_type": "markdown",
   "id": "0fe1ccaa",
   "metadata": {},
   "source": [
    "## (A) Ca II Continuum Fit"
   ]
  },
  {
   "cell_type": "code",
   "execution_count": 10,
   "id": "60ee03a0",
   "metadata": {},
   "outputs": [],
   "source": [
    "flux_masked_A = flux_A[260:370]\n",
    "uncertainty_masked_A = uncertainty_A[260:370]\n",
    "rest_wavelength_masked_A = wavelength_A[260:370]/(1+z)\n",
    "\n",
    "sp_masked_rest_A = XSpectrum1D.from_tuple((rest_wavelength_masked_A, flux_masked_A, uncertainty_masked_A))\n",
    "sp_masked_rest_A.plot()"
   ]
  },
  {
   "cell_type": "code",
   "execution_count": 61,
   "id": "35cb6af8",
   "metadata": {
    "collapsed": true
   },
   "outputs": [
    {
     "name": "stdout",
     "output_type": "stream",
     "text": [
      "knots file exists, use this? (y) n\n",
      "\n",
      "i,o          Zoom in/out x limits\n",
      "y            Zoom out y limits\n",
      "Y            Guess y limits\n",
      "t,b          Set y top/bottom limit\n",
      "l,r          Set left/right x limit\n",
      "[,]          Pan left/right\n",
      "w            Plot the whole spectrum\n",
      "\n",
      "S,U          Smooth/unsmooth spectrum\n",
      "\n",
      "a        : add a new spline knot\n",
      "A        : add a new spline knot, and use a flux median to guess y position\n",
      "+        : double the number of spline knots\n",
      "_        : halve the number of spline knots\n",
      "d        : delete the nearest knot\n",
      "m        : move the nearest knot\n",
      "M        : move the nearest knot, and use a flux median to guess y position\n",
      "c        : toggle initial continuum display\n",
      "\n",
      "q        : quit\n",
      "\n",
      "Updating continuum.\n"
     ]
    }
   ],
   "source": [
    "sp_masked_rest_A.fit_continuum()"
   ]
  },
  {
   "cell_type": "code",
   "execution_count": 62,
   "id": "da1f14fe",
   "metadata": {
    "collapsed": true
   },
   "outputs": [
    {
     "data": {
      "text/latex": [
       "$[2728.6763,~2688.7385,~2681.8982,~\\dots,~2785.2065,~2781.5024,~2749.8413] \\; \\mathrm{1 \\times 10^{-20}\\,\\frac{erg}{\\mathring{A}\\,s\\,cm^{2}}}$"
      ],
      "text/plain": [
       "<Quantity [2728.6763, 2688.7385, 2681.8982, 2675.772 , 2670.3462,\n",
       "           2665.6067, 2661.5393, 2658.1301, 2655.3647, 2653.2297,\n",
       "           2651.7104, 2650.7932, 2650.4639, 2650.7083, 2651.5127,\n",
       "           2652.8625, 2654.7444, 2657.6987, 2663.349 , 2671.2507,\n",
       "           2680.786 , 2691.3364, 2702.2844, 2713.012 , 2722.9011,\n",
       "           2731.334 , 2737.6926, 2741.3586, 2741.7683, 2739.1028,\n",
       "           2734.048 , 2727.2966, 2719.542 , 2711.4768, 2703.7944,\n",
       "           2697.1877, 2692.35  , 2689.974 , 2690.7532, 2694.136 ,\n",
       "           2698.175 , 2702.687 , 2707.525 , 2712.5408, 2717.5874,\n",
       "           2722.5173, 2727.1829, 2731.437 , 2735.132 , 2738.1206,\n",
       "           2740.6653, 2743.208 , 2745.745 , 2748.2732, 2750.7878,\n",
       "           2753.2852, 2755.7615, 2758.2122, 2760.6338, 2763.0222,\n",
       "           2765.3733, 2767.6973, 2770.0012, 2772.2795, 2774.527 ,\n",
       "           2776.7383, 2778.9077, 2781.0303, 2783.1   , 2785.1125,\n",
       "           2787.0615, 2788.9326, 2790.23  , 2790.7805, 2790.7327,\n",
       "           2790.234 , 2789.4316, 2788.474 , 2787.509 , 2786.684 ,\n",
       "           2786.147 , 2786.0454, 2786.5303, 2787.739 , 2789.5767,\n",
       "           2791.8936, 2794.54  , 2797.3657, 2800.2212, 2802.956 ,\n",
       "           2805.4207, 2807.465 , 2808.9397, 2809.7217, 2810.0396,\n",
       "           2809.9893, 2809.5837, 2808.835 , 2807.7556, 2806.358 ,\n",
       "           2804.6543, 2802.6572, 2800.3792, 2797.8325, 2795.0293,\n",
       "           2791.9824, 2788.7039, 2785.2065, 2781.5024, 2749.8413] 1e-20 erg / (Angstrom cm2 s)>"
      ]
     },
     "execution_count": 62,
     "metadata": {},
     "output_type": "execute_result"
    }
   ],
   "source": [
    "sp_masked_rest_A.co"
   ]
  },
  {
   "cell_type": "code",
   "execution_count": 63,
   "id": "9402f0cc",
   "metadata": {},
   "outputs": [],
   "source": [
    "np.savez(\"D:\\Datacube\\M1310-1714\\continuum_2M1310-1714_A.npz\", values=sp_masked_rest_A.co.value, unit=str(sp_masked_rest_A.co.unit))"
   ]
  },
  {
   "cell_type": "markdown",
   "id": "a8ce176e",
   "metadata": {},
   "source": [
    "## (A) Na I Continuum Fit"
   ]
  },
  {
   "cell_type": "code",
   "execution_count": 11,
   "id": "0ec178f5",
   "metadata": {},
   "outputs": [],
   "source": [
    "flux_masked_A2 = flux_A[2290:2370]\n",
    "uncertainty_masked_A2 = uncertainty_A[2290:2370]\n",
    "rest_wavelength_masked_A2 = wavelength_A[2290:2370]/(1+z)\n",
    "\n",
    "sp_masked_rest_A2 = XSpectrum1D.from_tuple((rest_wavelength_masked_A2, flux_masked_A2, uncertainty_masked_A2))\n",
    "sp_masked_rest_A2.plot()"
   ]
  },
  {
   "cell_type": "code",
   "execution_count": 98,
   "id": "bb4a0484",
   "metadata": {
    "collapsed": true
   },
   "outputs": [
    {
     "name": "stdout",
     "output_type": "stream",
     "text": [
      "knots file exists, use this? (y) n\n",
      "\n",
      "i,o          Zoom in/out x limits\n",
      "y            Zoom out y limits\n",
      "Y            Guess y limits\n",
      "t,b          Set y top/bottom limit\n",
      "l,r          Set left/right x limit\n",
      "[,]          Pan left/right\n",
      "w            Plot the whole spectrum\n",
      "\n",
      "S,U          Smooth/unsmooth spectrum\n",
      "\n",
      "a        : add a new spline knot\n",
      "A        : add a new spline knot, and use a flux median to guess y position\n",
      "+        : double the number of spline knots\n",
      "_        : halve the number of spline knots\n",
      "d        : delete the nearest knot\n",
      "m        : move the nearest knot\n",
      "M        : move the nearest knot, and use a flux median to guess y position\n",
      "c        : toggle initial continuum display\n",
      "\n",
      "q        : quit\n",
      "\n",
      "Updating continuum.\n"
     ]
    }
   ],
   "source": [
    "sp_masked_rest_A2.fit_continuum()"
   ]
  },
  {
   "cell_type": "code",
   "execution_count": 99,
   "id": "7fcb0479",
   "metadata": {
    "collapsed": true
   },
   "outputs": [
    {
     "data": {
      "text/latex": [
       "$[2100.0154,~2147.5132,~2153.3271,~2158.9321,~2164.3442,~2169.5806,~2174.6577,~2179.5923,~2184.4011,~2189.1008,~2193.708,~2198.2397,~2202.7122,~2207.1423,~2211.5466,~2215.9421,~2220.3455,~2224.7744,~2229.512,~2234.5911,~2239.7664,~2244.792,~2249.4226,~2253.4131,~2256.5176,~2258.491,~2259.0874,~2258.0618,~2255.1682,~2249.3181,~2240.9326,~2233.7048,~2226.7561,~2219.7256,~2212.6392,~2205.522,~2198.4001,~2191.2993,~2184.2446,~2177.2622,~2170.3777,~2163.6167,~2157.0046,~2150.5671,~2144.3303,~2138.3193,~2132.5603,~2127.0784,~2121.8997,~2117.0886,~2113.082,~2109.9099,~2107.4631,~2105.6338,~2104.3127,~2103.3918,~2102.7625,~2102.3162,~2101.9438,~2101.6279,~2101.6064,~2101.7986,~2102.0889,~2102.3611,~2102.4995,~2102.3879,~2101.9106,~2101.1104,~2100.2129,~2099.2202,~2098.1294,~2096.9368,~2095.6394,~2094.2344,~2092.7185,~2091.0886,~2089.3418,~2087.4746,~2085.4839,~2040.2494] \\; \\mathrm{1 \\times 10^{-20}\\,\\frac{erg}{\\mathring{A}\\,s\\,cm^{2}}}$"
      ],
      "text/plain": [
       "<Quantity [2100.0154, 2147.5132, 2153.3271, 2158.9321, 2164.3442,\n",
       "           2169.5806, 2174.6577, 2179.5923, 2184.4011, 2189.1008,\n",
       "           2193.708 , 2198.2397, 2202.7122, 2207.1423, 2211.5466,\n",
       "           2215.9421, 2220.3455, 2224.7744, 2229.512 , 2234.591 ,\n",
       "           2239.7664, 2244.792 , 2249.4226, 2253.413 , 2256.5176,\n",
       "           2258.491 , 2259.0874, 2258.0618, 2255.1682, 2249.318 ,\n",
       "           2240.9326, 2233.7048, 2226.756 , 2219.7256, 2212.6392,\n",
       "           2205.522 , 2198.4001, 2191.2993, 2184.2446, 2177.2622,\n",
       "           2170.3777, 2163.6167, 2157.0046, 2150.5671, 2144.3303,\n",
       "           2138.3193, 2132.5603, 2127.0784, 2121.8997, 2117.0886,\n",
       "           2113.082 , 2109.91  , 2107.4631, 2105.6338, 2104.3127,\n",
       "           2103.3918, 2102.7625, 2102.3162, 2101.9438, 2101.628 ,\n",
       "           2101.6064, 2101.7986, 2102.0889, 2102.361 , 2102.4995,\n",
       "           2102.388 , 2101.9106, 2101.1104, 2100.213 , 2099.2202,\n",
       "           2098.1294, 2096.9368, 2095.6394, 2094.2344, 2092.7185,\n",
       "           2091.0886, 2089.3418, 2087.4746, 2085.484 , 2040.2494] 1e-20 erg / (Angstrom cm2 s)>"
      ]
     },
     "execution_count": 99,
     "metadata": {},
     "output_type": "execute_result"
    }
   ],
   "source": [
    "sp_masked_rest_A2.co"
   ]
  },
  {
   "cell_type": "code",
   "execution_count": 100,
   "id": "81768420",
   "metadata": {},
   "outputs": [],
   "source": [
    "np.savez(\"D:\\Datacube\\M1310-1714\\continuum_2M1310-1714_A_Nai.npz\", values=sp_masked_rest_A2.co.value, unit=str(sp_masked_rest_A2.co.unit))"
   ]
  },
  {
   "cell_type": "markdown",
   "id": "1f93b017",
   "metadata": {},
   "source": [
    "## (B) Ca II Continuum Fit"
   ]
  },
  {
   "cell_type": "code",
   "execution_count": 14,
   "id": "a6083174",
   "metadata": {},
   "outputs": [],
   "source": [
    "flux_masked_B = flux_B[260:370]\n",
    "uncertainty_masked_B = uncertainty_B[260:370]\n",
    "rest_wavelength_masked_B = wavelength_B[260:370]/(1+z)\n",
    "\n",
    "sp_masked_rest_B = XSpectrum1D.from_tuple((rest_wavelength_masked_B, flux_masked_B, uncertainty_masked_B))\n",
    "sp_masked_rest_B.plot()"
   ]
  },
  {
   "cell_type": "code",
   "execution_count": 65,
   "id": "327a1690",
   "metadata": {
    "collapsed": true
   },
   "outputs": [
    {
     "name": "stdout",
     "output_type": "stream",
     "text": [
      "knots file exists, use this? (y) n\n",
      "\n",
      "i,o          Zoom in/out x limits\n",
      "y            Zoom out y limits\n",
      "Y            Guess y limits\n",
      "t,b          Set y top/bottom limit\n",
      "l,r          Set left/right x limit\n",
      "[,]          Pan left/right\n",
      "w            Plot the whole spectrum\n",
      "\n",
      "S,U          Smooth/unsmooth spectrum\n",
      "\n",
      "a        : add a new spline knot\n",
      "A        : add a new spline knot, and use a flux median to guess y position\n",
      "+        : double the number of spline knots\n",
      "_        : halve the number of spline knots\n",
      "d        : delete the nearest knot\n",
      "m        : move the nearest knot\n",
      "M        : move the nearest knot, and use a flux median to guess y position\n",
      "c        : toggle initial continuum display\n",
      "\n",
      "q        : quit\n",
      "\n",
      "Updating continuum.\n"
     ]
    }
   ],
   "source": [
    "sp_masked_rest_B.fit_continuum()"
   ]
  },
  {
   "cell_type": "code",
   "execution_count": 66,
   "id": "6c43ea88",
   "metadata": {
    "collapsed": true
   },
   "outputs": [
    {
     "data": {
      "text/latex": [
       "$[2537.3025,~2513.9028,~2510.5969,~\\dots,~2599.0364,~2597.3264,~2585.5801] \\; \\mathrm{1 \\times 10^{-20}\\,\\frac{erg}{\\mathring{A}\\,s\\,cm^{2}}}$"
      ],
      "text/plain": [
       "<Quantity [2537.3025, 2513.9028, 2510.597 , 2507.512 , 2504.6353,\n",
       "           2501.9531, 2499.453 , 2497.121 , 2494.9446, 2492.9102,\n",
       "           2491.0046, 2489.2148, 2487.5278, 2485.93  , 2484.4082,\n",
       "           2482.9497, 2481.5408, 2480.3318, 2479.8142, 2479.9   ,\n",
       "           2480.4514, 2481.3308, 2482.4   , 2483.5212, 2484.557 ,\n",
       "           2485.369 , 2485.8196, 2485.7708, 2484.4258, 2480.4243,\n",
       "           2474.3093, 2466.7056, 2458.2375, 2449.5298, 2441.207 ,\n",
       "           2433.8936, 2428.2139, 2424.7927, 2424.2546, 2427.0095,\n",
       "           2432.6233, 2440.516 , 2450.1104, 2460.8281, 2472.0918,\n",
       "           2483.3235, 2493.9453, 2503.3796, 2511.0488, 2516.3752,\n",
       "           2520.204 , 2524.0112, 2527.737 , 2531.3179, 2534.6907,\n",
       "           2537.7917, 2540.558 , 2542.9263, 2544.8328, 2546.214 ,\n",
       "           2547.0076, 2547.233 , 2547.0178, 2546.474 , 2545.7126,\n",
       "           2544.8452, 2543.9832, 2543.2378, 2542.7205, 2542.5427,\n",
       "           2542.8162, 2543.646 , 2544.7942, 2546.0823, 2547.505 ,\n",
       "           2549.0564, 2550.7314, 2552.5247, 2554.4302, 2556.4426,\n",
       "           2558.5566, 2560.7668, 2563.0815, 2565.7878, 2568.9211,\n",
       "           2572.3774, 2576.053 , 2579.844 , 2583.6467, 2587.3574,\n",
       "           2590.8726, 2594.088 , 2596.9   , 2599.218 , 2601.129 ,\n",
       "           2602.6838, 2603.8982, 2604.7866, 2605.3643, 2605.646 ,\n",
       "           2605.6465, 2605.381 , 2604.8643, 2604.1116, 2603.1372,\n",
       "           2601.9568, 2600.5847, 2599.0364, 2597.3264, 2585.58  ] 1e-20 erg / (Angstrom cm2 s)>"
      ]
     },
     "execution_count": 66,
     "metadata": {},
     "output_type": "execute_result"
    }
   ],
   "source": [
    "sp_masked_rest_B.co"
   ]
  },
  {
   "cell_type": "code",
   "execution_count": 67,
   "id": "75aa2009",
   "metadata": {},
   "outputs": [],
   "source": [
    "np.savez(\"D:\\Datacube\\M1310-1714\\continuum_2M1310-1714_B.npz\", values=sp_masked_rest_B.co.value, unit=str(sp_masked_rest_B.co.unit))"
   ]
  },
  {
   "cell_type": "markdown",
   "id": "b63d3bad",
   "metadata": {},
   "source": [
    "## (B) Na I Continuum Fit"
   ]
  },
  {
   "cell_type": "code",
   "execution_count": 15,
   "id": "e95962a4",
   "metadata": {},
   "outputs": [],
   "source": [
    "flux_masked_B2 = flux_B[2290:2370]\n",
    "uncertainty_masked_B2 = uncertainty_B[2290:2370]\n",
    "rest_wavelength_masked_B2 = wavelength_B[2290:2370]/(1+z)\n",
    "\n",
    "sp_masked_rest_B2 = XSpectrum1D.from_tuple((rest_wavelength_masked_B2, flux_masked_B2, uncertainty_masked_B2))\n",
    "sp_masked_rest_B2.plot()"
   ]
  },
  {
   "cell_type": "code",
   "execution_count": 94,
   "id": "8d4c57de",
   "metadata": {
    "collapsed": true
   },
   "outputs": [
    {
     "name": "stdout",
     "output_type": "stream",
     "text": [
      "knots file exists, use this? (y) n\n",
      "\n",
      "i,o          Zoom in/out x limits\n",
      "y            Zoom out y limits\n",
      "Y            Guess y limits\n",
      "t,b          Set y top/bottom limit\n",
      "l,r          Set left/right x limit\n",
      "[,]          Pan left/right\n",
      "w            Plot the whole spectrum\n",
      "\n",
      "S,U          Smooth/unsmooth spectrum\n",
      "\n",
      "a        : add a new spline knot\n",
      "A        : add a new spline knot, and use a flux median to guess y position\n",
      "+        : double the number of spline knots\n",
      "_        : halve the number of spline knots\n",
      "d        : delete the nearest knot\n",
      "m        : move the nearest knot\n",
      "M        : move the nearest knot, and use a flux median to guess y position\n",
      "c        : toggle initial continuum display\n",
      "\n",
      "q        : quit\n",
      "\n",
      "Updating continuum.\n"
     ]
    }
   ],
   "source": [
    "sp_masked_rest_B2.fit_continuum()"
   ]
  },
  {
   "cell_type": "code",
   "execution_count": 95,
   "id": "9050587f",
   "metadata": {
    "collapsed": true
   },
   "outputs": [
    {
     "data": {
      "text/latex": [
       "$[2105.0813,~2126.2556,~2130.1318,~2133.8035,~2137.2827,~2140.5811,~2143.7102,~2146.6816,~2149.5076,~2152.1995,~2154.7688,~2157.2275,~2159.5874,~2161.8601,~2164.0574,~2166.1907,~2168.272,~2170.312,~2172.1289,~2173.5977,~2174.7461,~2175.6008,~2176.1897,~2176.5396,~2176.678,~2176.6323,~2176.4294,~2176.0967,~2175.6619,~2175.1516,~2174.5935,~2173.7888,~2171.5781,~2167.9561,~2163.116,~2157.2512,~2150.5552,~2143.2212,~2135.4426,~2127.4126,~2119.3247,~2111.3723,~2103.7488,~2096.6472,~2090.2612,~2084.7839,~2080.4087,~2077.3291,~2075.7383,~2076.3521,~2082.1455,~2091.7678,~2103.062,~2113.8711,~2122.0378,~2125.7646,~2128.0474,~2129.9055,~2131.1064,~2131.418,~2130.6077,~2128.4431,~2124.6917,~2119.7407,~2114.2688,~2108.2043,~2101.4722,~2093.9973,~2085.9326,~2077.7812,~2069.5417,~2061.1887,~2052.6965,~2044.0399,~2035.1934,~2026.1312,~2016.8282,~2007.2588,~1997.3975,~2033.2896] \\; \\mathrm{1 \\times 10^{-20}\\,\\frac{erg}{\\mathring{A}\\,s\\,cm^{2}}}$"
      ],
      "text/plain": [
       "<Quantity [2105.0813, 2126.2556, 2130.1318, 2133.8035, 2137.2827,\n",
       "           2140.581 , 2143.7102, 2146.6816, 2149.5076, 2152.1995,\n",
       "           2154.7688, 2157.2275, 2159.5874, 2161.86  , 2164.0574,\n",
       "           2166.1907, 2168.272 , 2170.312 , 2172.129 , 2173.5977,\n",
       "           2174.746 , 2175.6008, 2176.1897, 2176.5396, 2176.678 ,\n",
       "           2176.6323, 2176.4294, 2176.0967, 2175.6619, 2175.1516,\n",
       "           2174.5935, 2173.7888, 2171.5781, 2167.956 , 2163.116 ,\n",
       "           2157.2512, 2150.5552, 2143.2212, 2135.4426, 2127.4126,\n",
       "           2119.3247, 2111.3723, 2103.7488, 2096.6472, 2090.2612,\n",
       "           2084.784 , 2080.4087, 2077.329 , 2075.7383, 2076.352 ,\n",
       "           2082.1455, 2091.7678, 2103.062 , 2113.871 , 2122.0378,\n",
       "           2125.7646, 2128.0474, 2129.9055, 2131.1064, 2131.418 ,\n",
       "           2130.6077, 2128.443 , 2124.6917, 2119.7407, 2114.2688,\n",
       "           2108.2043, 2101.4722, 2093.9973, 2085.9326, 2077.7812,\n",
       "           2069.5417, 2061.1887, 2052.6965, 2044.0399, 2035.1934,\n",
       "           2026.1312, 2016.8282, 2007.2588, 1997.3975, 2033.2896] 1e-20 erg / (Angstrom cm2 s)>"
      ]
     },
     "execution_count": 95,
     "metadata": {},
     "output_type": "execute_result"
    }
   ],
   "source": [
    "sp_masked_rest_B2.co"
   ]
  },
  {
   "cell_type": "code",
   "execution_count": 96,
   "id": "d3fd5016",
   "metadata": {},
   "outputs": [],
   "source": [
    "np.savez(\"D:\\Datacube\\M1310-1714\\continuum_2M1310-1714_B_Nai.npz\", values=sp_masked_rest_B2.co.value, unit=str(sp_masked_rest_B2.co.unit))"
   ]
  },
  {
   "cell_type": "markdown",
   "id": "71800837",
   "metadata": {},
   "source": [
    "## (C) Ca II Continuum Fit"
   ]
  },
  {
   "cell_type": "code",
   "execution_count": 16,
   "id": "906ea9ad",
   "metadata": {},
   "outputs": [],
   "source": [
    "flux_masked_C = flux_C[260:370]\n",
    "uncertainty_masked_C = uncertainty_C[260:370]\n",
    "rest_wavelength_masked_C = wavelength_C[260:370]/(1+z)\n",
    "\n",
    "sp_masked_rest_C = XSpectrum1D.from_tuple((rest_wavelength_masked_C, flux_masked_C, uncertainty_masked_C))\n",
    "sp_masked_rest_C.plot()"
   ]
  },
  {
   "cell_type": "code",
   "execution_count": 73,
   "id": "5cc468d3",
   "metadata": {
    "collapsed": true
   },
   "outputs": [
    {
     "name": "stdout",
     "output_type": "stream",
     "text": [
      "knots file exists, use this? (y) n\n",
      "\n",
      "i,o          Zoom in/out x limits\n",
      "y            Zoom out y limits\n",
      "Y            Guess y limits\n",
      "t,b          Set y top/bottom limit\n",
      "l,r          Set left/right x limit\n",
      "[,]          Pan left/right\n",
      "w            Plot the whole spectrum\n",
      "\n",
      "S,U          Smooth/unsmooth spectrum\n",
      "\n",
      "a        : add a new spline knot\n",
      "A        : add a new spline knot, and use a flux median to guess y position\n",
      "+        : double the number of spline knots\n",
      "_        : halve the number of spline knots\n",
      "d        : delete the nearest knot\n",
      "m        : move the nearest knot\n",
      "M        : move the nearest knot, and use a flux median to guess y position\n",
      "c        : toggle initial continuum display\n",
      "\n",
      "q        : quit\n",
      "\n",
      "Updating continuum.\n"
     ]
    }
   ],
   "source": [
    "sp_masked_rest_C.fit_continuum()"
   ]
  },
  {
   "cell_type": "code",
   "execution_count": 74,
   "id": "1995a034",
   "metadata": {
    "collapsed": true
   },
   "outputs": [
    {
     "data": {
      "text/latex": [
       "$[737.81348,~755.08496,~757.72455,~\\dots,~834.26367,~833.50751,~831.065] \\; \\mathrm{1 \\times 10^{-20}\\,\\frac{erg}{\\mathring{A}\\,s\\,cm^{2}}}$"
      ],
      "text/plain": [
       "<Quantity [737.8135 , 755.08496, 757.72455, 760.20734, 762.52264,\n",
       "           764.6598 , 766.60803, 768.35675, 769.8952 , 771.21265,\n",
       "           772.29846, 773.1419 , 773.7323 , 774.05896, 774.11115,\n",
       "           773.8782 , 773.34937, 772.4508 , 771.01306, 769.1339 ,\n",
       "           766.9322 , 764.52673, 762.03644, 759.57996, 757.27625,\n",
       "           755.2441 , 753.6023 , 752.46967, 751.77124, 751.1062 ,\n",
       "           750.4833 , 749.93176, 749.481  , 749.1602 , 748.9988 ,\n",
       "           749.02594, 749.27106, 749.7634 , 750.5323 , 751.5039 ,\n",
       "           752.5129 , 753.5581 , 754.64154, 755.7651 , 756.93085,\n",
       "           758.1406 , 759.39655, 760.70044, 762.0544 , 763.46027,\n",
       "           764.90686, 766.3771 , 767.86804, 769.37714, 770.9014 ,\n",
       "           772.4383 , 773.9849 , 775.53864, 777.09656, 778.656  ,\n",
       "           780.2145 , 781.8784 , 783.7122 , 785.68024, 787.74677,\n",
       "           789.87634, 792.03314, 794.18164, 796.28625, 798.3112 ,\n",
       "           800.221  , 801.95795, 802.3549 , 801.0434 , 798.41095,\n",
       "           794.8452 , 790.7338 , 786.46436, 782.4245 , 779.0018 ,\n",
       "           776.5838 , 775.5582 , 776.294  , 778.5962 , 782.0889 ,\n",
       "           786.5033 , 791.5702 , 797.0207 , 802.5857 , 807.9963 ,\n",
       "           812.98334, 817.2779 , 820.61096, 822.7959 , 824.61975,\n",
       "           826.3366 , 827.9345 , 829.4016 , 830.726  , 831.8959 ,\n",
       "           832.89923, 833.72424, 834.3591 , 834.79175, 835.01044,\n",
       "           835.00323, 834.75824, 834.2637 , 833.5075 , 831.065  ] 1e-20 erg / (Angstrom cm2 s)>"
      ]
     },
     "execution_count": 74,
     "metadata": {},
     "output_type": "execute_result"
    }
   ],
   "source": [
    "sp_masked_rest_C.co"
   ]
  },
  {
   "cell_type": "code",
   "execution_count": 75,
   "id": "1ae9b427",
   "metadata": {},
   "outputs": [],
   "source": [
    "np.savez(\"D:\\Datacube\\M1310-1714\\continuum_2M1310-1714_C.npz\", values=sp_masked_rest_C.co.value, unit=str(sp_masked_rest_C.co.unit))"
   ]
  },
  {
   "cell_type": "markdown",
   "id": "b52c0a87",
   "metadata": {},
   "source": [
    "## (C) Na I Continuum Fit"
   ]
  },
  {
   "cell_type": "code",
   "execution_count": 17,
   "id": "a99e88f6",
   "metadata": {},
   "outputs": [],
   "source": [
    "flux_masked_C2 = flux_C[2290:2370]\n",
    "uncertainty_masked_C2 = uncertainty_C[2290:2370]\n",
    "rest_wavelength_masked_C2 = wavelength_C[2290:2370]/(1+z)\n",
    "\n",
    "sp_masked_rest_C2 = XSpectrum1D.from_tuple((rest_wavelength_masked_C2, flux_masked_C2, uncertainty_masked_C2))\n",
    "sp_masked_rest_C2.plot()"
   ]
  },
  {
   "cell_type": "code",
   "execution_count": 90,
   "id": "6e1518bf",
   "metadata": {
    "collapsed": true
   },
   "outputs": [
    {
     "name": "stdout",
     "output_type": "stream",
     "text": [
      "knots file exists, use this? (y) n\n",
      "\n",
      "i,o          Zoom in/out x limits\n",
      "y            Zoom out y limits\n",
      "Y            Guess y limits\n",
      "t,b          Set y top/bottom limit\n",
      "l,r          Set left/right x limit\n",
      "[,]          Pan left/right\n",
      "w            Plot the whole spectrum\n",
      "\n",
      "S,U          Smooth/unsmooth spectrum\n",
      "\n",
      "a        : add a new spline knot\n",
      "A        : add a new spline knot, and use a flux median to guess y position\n",
      "+        : double the number of spline knots\n",
      "_        : halve the number of spline knots\n",
      "d        : delete the nearest knot\n",
      "m        : move the nearest knot\n",
      "M        : move the nearest knot, and use a flux median to guess y position\n",
      "c        : toggle initial continuum display\n",
      "\n",
      "q        : quit\n",
      "\n",
      "Updating continuum.\n"
     ]
    }
   ],
   "source": [
    "sp_masked_rest_C2.fit_continuum()"
   ]
  },
  {
   "cell_type": "code",
   "execution_count": 91,
   "id": "51994b2a",
   "metadata": {
    "collapsed": true
   },
   "outputs": [
    {
     "data": {
      "text/latex": [
       "$[826.01691,~847.80536,~850.40521,~852.93628,~855.40448,~857.81592,~860.17664,~862.49274,~864.7702,~867.01514,~869.23352,~871.43152,~873.61505,~875.79028,~877.9632,~880.13989,~882.32635,~884.52838,~886.67731,~888.71863,~890.65308,~892.48126,~894.20392,~895.82184,~897.33557,~898.74591,~900.05353,~901.25909,~902.3634,~903.03864,~902.63641,~901.24866,~898.99255,~895.98547,~892.34454,~888.18713,~883.63043,~878.79175,~873.78827,~868.73737,~863.75616,~858.96198,~854.47211,~850.40375,~846.87415,~844.00061,~841.90039,~840.69073,~840.52234,~842.02167,~844.45001,~846.5614,~847.29706,~847.53607,~847.59845,~847.45844,~847.09033,~846.46832,~845.56671,~844.35974,~842.82159,~840.92664,~838.14868,~833.72546,~828.35004,~822.76605,~817.71729,~813.94751,~811.46417,~809.35352,~807.59778,~806.19574,~805.14606,~804.44751,~804.09888,~804.09888,~804.44617,~805.13959,~806.17786,~814.71667] \\; \\mathrm{1 \\times 10^{-20}\\,\\frac{erg}{\\mathring{A}\\,s\\,cm^{2}}}$"
      ],
      "text/plain": [
       "<Quantity [826.0169 , 847.80536, 850.4052 , 852.9363 , 855.4045 ,\n",
       "           857.8159 , 860.17664, 862.49274, 864.7702 , 867.01514,\n",
       "           869.2335 , 871.4315 , 873.61505, 875.7903 , 877.9632 ,\n",
       "           880.1399 , 882.32635, 884.5284 , 886.6773 , 888.7186 ,\n",
       "           890.6531 , 892.48126, 894.2039 , 895.82184, 897.3356 ,\n",
       "           898.7459 , 900.0535 , 901.2591 , 902.3634 , 903.03864,\n",
       "           902.6364 , 901.24866, 898.99255, 895.9855 , 892.34454,\n",
       "           888.18713, 883.63043, 878.79175, 873.78827, 868.73737,\n",
       "           863.75616, 858.962  , 854.4721 , 850.40375, 846.87415,\n",
       "           844.0006 , 841.9004 , 840.69073, 840.52234, 842.02167,\n",
       "           844.45   , 846.5614 , 847.29706, 847.5361 , 847.59845,\n",
       "           847.45844, 847.09033, 846.4683 , 845.5667 , 844.35974,\n",
       "           842.8216 , 840.92664, 838.1487 , 833.72546, 828.35004,\n",
       "           822.76605, 817.7173 , 813.9475 , 811.4642 , 809.3535 ,\n",
       "           807.5978 , 806.19574, 805.14606, 804.4475 , 804.0989 ,\n",
       "           804.0989 , 804.44617, 805.1396 , 806.17786, 814.7167 ] 1e-20 erg / (Angstrom cm2 s)>"
      ]
     },
     "execution_count": 91,
     "metadata": {},
     "output_type": "execute_result"
    }
   ],
   "source": [
    "sp_masked_rest_C2.co"
   ]
  },
  {
   "cell_type": "code",
   "execution_count": 92,
   "id": "f8173d36",
   "metadata": {},
   "outputs": [],
   "source": [
    "np.savez(\"D:\\Datacube\\M1310-1714\\continuum_2M1310-1714_C_Nai.npz\", values=sp_masked_rest_C2.co.value, unit=str(sp_masked_rest_C2.co.unit))"
   ]
  },
  {
   "cell_type": "markdown",
   "id": "db282b07",
   "metadata": {},
   "source": [
    "## (D) Ca II Continuum Fit"
   ]
  },
  {
   "cell_type": "code",
   "execution_count": 18,
   "id": "ad1bdd34",
   "metadata": {},
   "outputs": [],
   "source": [
    "flux_masked_D = flux_D[260:370]\n",
    "uncertainty_masked_D = uncertainty_D[260:370]\n",
    "rest_wavelength_masked_D = wavelength_D[260:370]/(1+z)\n",
    "\n",
    "sp_masked_rest_D = XSpectrum1D.from_tuple((rest_wavelength_masked_D, flux_masked_D, uncertainty_masked_D))\n",
    "sp_masked_rest_D.plot()"
   ]
  },
  {
   "cell_type": "code",
   "execution_count": 82,
   "id": "11221a5c",
   "metadata": {
    "collapsed": true
   },
   "outputs": [
    {
     "name": "stdout",
     "output_type": "stream",
     "text": [
      "knots file exists, use this? (y) n\n",
      "\n",
      "i,o          Zoom in/out x limits\n",
      "y            Zoom out y limits\n",
      "Y            Guess y limits\n",
      "t,b          Set y top/bottom limit\n",
      "l,r          Set left/right x limit\n",
      "[,]          Pan left/right\n",
      "w            Plot the whole spectrum\n",
      "\n",
      "S,U          Smooth/unsmooth spectrum\n",
      "\n",
      "a        : add a new spline knot\n",
      "A        : add a new spline knot, and use a flux median to guess y position\n",
      "+        : double the number of spline knots\n",
      "_        : halve the number of spline knots\n",
      "d        : delete the nearest knot\n",
      "m        : move the nearest knot\n",
      "M        : move the nearest knot, and use a flux median to guess y position\n",
      "c        : toggle initial continuum display\n",
      "\n",
      "q        : quit\n",
      "\n",
      "Updating continuum.\n"
     ]
    }
   ],
   "source": [
    "sp_masked_rest_D.fit_continuum()"
   ]
  },
  {
   "cell_type": "code",
   "execution_count": 83,
   "id": "e1b5732a",
   "metadata": {
    "collapsed": true
   },
   "outputs": [
    {
     "data": {
      "text/latex": [
       "$[2603.2637,~2632.3989,~2636.3774,~\\dots,~2719.0918,~2717.8127,~2707.678] \\; \\mathrm{1 \\times 10^{-20}\\,\\frac{erg}{\\mathring{A}\\,s\\,cm^{2}}}$"
      ],
      "text/plain": [
       "<Quantity [2603.2637, 2632.399 , 2636.3774, 2640.1648, 2643.7634,\n",
       "           2647.175 , 2650.4019, 2653.4463, 2656.3103, 2658.9958,\n",
       "           2661.5054, 2663.8408, 2666.0044, 2667.9983, 2669.8245,\n",
       "           2671.485 , 2672.9824, 2674.2722, 2675.2107, 2675.8152,\n",
       "           2676.1167, 2676.1467, 2675.9363, 2675.5168, 2674.9197,\n",
       "           2674.1758, 2673.3164, 2672.373 , 2670.876 , 2667.8274,\n",
       "           2663.5803, 2658.5483, 2653.144 , 2647.781 , 2642.8716,\n",
       "           2638.8293, 2636.0674, 2634.9983, 2636.0356, 2638.7886,\n",
       "           2642.0054, 2645.6057, 2649.5315, 2653.7253, 2658.1296,\n",
       "           2662.6865, 2667.3384, 2672.0278, 2676.6973, 2681.2886,\n",
       "           2685.9836, 2690.9949, 2696.2346, 2701.614 , 2707.0444,\n",
       "           2712.4375, 2717.7043, 2722.7568, 2727.5059, 2731.863 ,\n",
       "           2735.7363, 2737.6592, 2736.8604, 2733.9004, 2729.3398,\n",
       "           2723.7393, 2717.659 , 2711.6597, 2706.3015, 2702.1453,\n",
       "           2699.7515, 2699.649 , 2700.5105, 2701.3904, 2702.2917,\n",
       "           2703.2175, 2704.1704, 2705.1536, 2706.1697, 2707.2222,\n",
       "           2708.3135, 2709.4468, 2710.6257, 2711.8652, 2713.1582,\n",
       "           2714.4883, 2715.8394, 2717.1953, 2718.5398, 2719.8564,\n",
       "           2721.1294, 2722.3423, 2723.479 , 2724.514 , 2725.3281,\n",
       "           2725.901 , 2726.2463, 2726.379 , 2726.3123, 2726.0608,\n",
       "           2725.639 , 2725.06  , 2724.339 , 2723.4897, 2722.5261,\n",
       "           2721.4626, 2720.313 , 2719.0918, 2717.8127, 2707.678 ] 1e-20 erg / (Angstrom cm2 s)>"
      ]
     },
     "execution_count": 83,
     "metadata": {},
     "output_type": "execute_result"
    }
   ],
   "source": [
    "sp_masked_rest_D.co"
   ]
  },
  {
   "cell_type": "code",
   "execution_count": 84,
   "id": "1f193933",
   "metadata": {},
   "outputs": [],
   "source": [
    "np.savez(\"D:\\Datacube\\M1310-1714\\continuum_2M1310-1714_D.npz\", values=sp_masked_rest_D.co.value, unit=str(sp_masked_rest_D.co.unit))"
   ]
  },
  {
   "cell_type": "markdown",
   "id": "1708dadb",
   "metadata": {},
   "source": [
    "## (D) Na I Continuum Fit"
   ]
  },
  {
   "cell_type": "code",
   "execution_count": 19,
   "id": "e110b6c6",
   "metadata": {},
   "outputs": [],
   "source": [
    "flux_masked_D2 = flux_D[2290:2370]\n",
    "uncertainty_masked_D2 = uncertainty_D[2290:2370]\n",
    "rest_wavelength_masked_D2 = wavelength_D[2290:2370]/(1+z)\n",
    "\n",
    "sp_masked_rest_D2 = XSpectrum1D.from_tuple((rest_wavelength_masked_D2, flux_masked_D2, uncertainty_masked_D2))\n",
    "sp_masked_rest_D2.plot()"
   ]
  },
  {
   "cell_type": "code",
   "execution_count": 86,
   "id": "690a28f7",
   "metadata": {
    "collapsed": true
   },
   "outputs": [
    {
     "name": "stdout",
     "output_type": "stream",
     "text": [
      "knots file exists, use this? (y) n\n",
      "\n",
      "i,o          Zoom in/out x limits\n",
      "y            Zoom out y limits\n",
      "Y            Guess y limits\n",
      "t,b          Set y top/bottom limit\n",
      "l,r          Set left/right x limit\n",
      "[,]          Pan left/right\n",
      "w            Plot the whole spectrum\n",
      "\n",
      "S,U          Smooth/unsmooth spectrum\n",
      "\n",
      "a        : add a new spline knot\n",
      "A        : add a new spline knot, and use a flux median to guess y position\n",
      "+        : double the number of spline knots\n",
      "_        : halve the number of spline knots\n",
      "d        : delete the nearest knot\n",
      "m        : move the nearest knot\n",
      "M        : move the nearest knot, and use a flux median to guess y position\n",
      "c        : toggle initial continuum display\n",
      "\n",
      "q        : quit\n",
      "\n",
      "Updating continuum.\n"
     ]
    }
   ],
   "source": [
    "sp_masked_rest_D2.fit_continuum()"
   ]
  },
  {
   "cell_type": "code",
   "execution_count": 87,
   "id": "78948274",
   "metadata": {
    "collapsed": true
   },
   "outputs": [
    {
     "data": {
      "text/latex": [
       "$[1973.7401,~1995.7656,~1995.9203,~1996.5415,~1997.6143,~1999.1237,~2001.0551,~2003.3934,~2006.1241,~2009.2321,~2012.7026,~2016.5209,~2020.6719,~2025.141,~2029.9132,~2034.9736,~2040.3076,~2045.9144,~2054.4768,~2066.4021,~2079.3799,~2091.0996,~2099.251,~2101.6511,~2101.6511,~2101.6511,~2101.6511,~2101.6511,~2101.6511,~2101.6511,~2101.6511,~2101.3699,~2099.8242,~2097.043,~2093.1553,~2088.291,~2082.5791,~2076.1487,~2069.1294,~2061.6506,~2053.8413,~2045.8308,~2037.7485,~2029.7239,~2021.886,~2014.3641,~2007.2878,~2000.7861,~1994.9885,~1989.9213,~1985.1942,~1980.754,~1976.5996,~1972.7301,~1969.1448,~1965.8425,~1962.8225,~1961.031,~1963.5862,~1968.692,~1974.0125,~1977.2113,~1976.1195,~1970.8704,~1962.6689,~1952.6348,~1941.8877,~1931.5472,~1922.7332,~1916.5651,~1913.5995,~1911.865,~1911.0769,~1911.252,~1912.4073,~1914.5599,~1917.7267,~1921.9246,~1927.1704,~1884.0404] \\; \\mathrm{1 \\times 10^{-20}\\,\\frac{erg}{\\mathring{A}\\,s\\,cm^{2}}}$"
      ],
      "text/plain": [
       "<Quantity [1973.7401, 1995.7656, 1995.9203, 1996.5415, 1997.6143,\n",
       "           1999.1237, 2001.055 , 2003.3934, 2006.1241, 2009.232 ,\n",
       "           2012.7026, 2016.5209, 2020.6719, 2025.141 , 2029.9132,\n",
       "           2034.9736, 2040.3076, 2045.9144, 2054.4768, 2066.402 ,\n",
       "           2079.38  , 2091.0996, 2099.251 , 2101.6511, 2101.6511,\n",
       "           2101.6511, 2101.6511, 2101.6511, 2101.6511, 2101.6511,\n",
       "           2101.6511, 2101.3699, 2099.8242, 2097.043 , 2093.1553,\n",
       "           2088.291 , 2082.579 , 2076.1487, 2069.1294, 2061.6506,\n",
       "           2053.8413, 2045.8308, 2037.7485, 2029.7239, 2021.886 ,\n",
       "           2014.3641, 2007.2878, 2000.7861, 1994.9885, 1989.9213,\n",
       "           1985.1942, 1980.754 , 1976.5996, 1972.7301, 1969.1448,\n",
       "           1965.8425, 1962.8225, 1961.031 , 1963.5862, 1968.692 ,\n",
       "           1974.0125, 1977.2113, 1976.1195, 1970.8704, 1962.669 ,\n",
       "           1952.6348, 1941.8877, 1931.5472, 1922.7332, 1916.5651,\n",
       "           1913.5995, 1911.865 , 1911.0769, 1911.252 , 1912.4073,\n",
       "           1914.5599, 1917.7267, 1921.9246, 1927.1704, 1884.0404] 1e-20 erg / (Angstrom cm2 s)>"
      ]
     },
     "execution_count": 87,
     "metadata": {},
     "output_type": "execute_result"
    }
   ],
   "source": [
    "sp_masked_rest_D2.co"
   ]
  },
  {
   "cell_type": "code",
   "execution_count": 88,
   "id": "e5d4397d",
   "metadata": {},
   "outputs": [],
   "source": [
    "np.savez(\"D:\\Datacube\\M1310-1714\\continuum_2M1310-1714_D_Nai.npz\", values=sp_masked_rest_D2.co.value, unit=str(sp_masked_rest_D2.co.unit))"
   ]
  },
  {
   "cell_type": "markdown",
   "id": "3f8569d3",
   "metadata": {},
   "source": [
    "## (G1) Ca II Continuum Fit"
   ]
  },
  {
   "cell_type": "code",
   "execution_count": 20,
   "id": "80eb1909",
   "metadata": {},
   "outputs": [],
   "source": [
    "flux_masked_G = flux_G[260:370]\n",
    "uncertainty_masked_G = uncertainty_G[260:370]\n",
    "rest_wavelength_masked_G = wavelength_G[260:370]/(1+z)\n",
    "\n",
    "sp_masked_rest_G = XSpectrum1D.from_tuple((rest_wavelength_masked_G, flux_masked_G, uncertainty_masked_G))\n",
    "sp_masked_rest_G.plot()"
   ]
  },
  {
   "cell_type": "code",
   "execution_count": 34,
   "id": "174cf6b9",
   "metadata": {
    "collapsed": true
   },
   "outputs": [
    {
     "name": "stdout",
     "output_type": "stream",
     "text": [
      "knots file exists, use this? (y) n\n"
     ]
    },
    {
     "name": "stderr",
     "output_type": "stream",
     "text": [
      "C:\\Users\\hp\\anaconda3\\lib\\site-packages\\linetools\\analysis\\interactive_plot.py:347: UserWarning: marker is redundantly defined by the 'marker' keyword argument and the fmt string \".r\" (-> marker='.'). The keyword argument will take precedence.\n",
      "  m0, = a1.plot([0],[0],'.r',marker='.', mec='none', lw=0, mew=0,\n"
     ]
    },
    {
     "name": "stdout",
     "output_type": "stream",
     "text": [
      "\n",
      "i,o          Zoom in/out x limits\n",
      "y            Zoom out y limits\n",
      "Y            Guess y limits\n",
      "t,b          Set y top/bottom limit\n",
      "l,r          Set left/right x limit\n",
      "[,]          Pan left/right\n",
      "w            Plot the whole spectrum\n",
      "\n",
      "S,U          Smooth/unsmooth spectrum\n",
      "\n",
      "a        : add a new spline knot\n",
      "A        : add a new spline knot, and use a flux median to guess y position\n",
      "+        : double the number of spline knots\n",
      "_        : halve the number of spline knots\n",
      "d        : delete the nearest knot\n",
      "m        : move the nearest knot\n",
      "M        : move the nearest knot, and use a flux median to guess y position\n",
      "c        : toggle initial continuum display\n",
      "\n",
      "q        : quit\n",
      "\n",
      "Updating continuum.\n"
     ]
    }
   ],
   "source": [
    "sp_masked_rest_G.fit_continuum()"
   ]
  },
  {
   "cell_type": "code",
   "execution_count": 35,
   "id": "bac78dfc",
   "metadata": {
    "collapsed": true
   },
   "outputs": [
    {
     "data": {
      "text/latex": [
       "$[1453.6271,~1599.4252,~1593.1086,~\\dots,~2344.7917,~2361.8711,~2347.259] \\; \\mathrm{1 \\times 10^{-20}\\,\\frac{erg}{\\mathring{A}\\,s\\,cm^{2}}}$"
      ],
      "text/plain": [
       "<Quantity [1453.6271, 1599.4252, 1593.1086, 1592.6716, 1601.8184,\n",
       "           1615.9459, 1613.6223, 1568.2452, 1523.4255, 1530.5786,\n",
       "           1594.5853, 1662.153 , 1728.966 , 1794.0448, 1823.8601,\n",
       "           1823.3604, 1824.2218, 1824.8384, 1825.212 , 1825.345 ,\n",
       "           1825.2391, 1824.8966, 1824.3196, 1823.5099, 1822.4697,\n",
       "           1821.201 , 1819.706 , 1817.9867, 1816.045 , 1813.8833,\n",
       "           1811.5033, 1808.9073, 1806.0973, 1803.0752, 1799.8433,\n",
       "           1796.4034, 1792.7579, 1788.9086, 1784.8577, 1780.607 ,\n",
       "           1776.1589, 1771.5153, 1766.6782, 1761.6498, 1756.432 ,\n",
       "           1751.027 , 1745.4368, 1739.6635, 1733.709 , 1727.5756,\n",
       "           1721.2651, 1714.7799, 1708.1217, 1701.2927, 1694.2952,\n",
       "           1687.1309, 1679.8019, 1672.3104, 1663.3384, 1636.0931,\n",
       "           1640.1694, 1690.4465, 1710.9429, 1724.2534, 1737.5236,\n",
       "           1750.7524, 1763.9397, 1777.0847, 1790.1871, 1803.2462,\n",
       "           1816.2615, 1829.2324, 1842.1584, 1855.0391, 1867.8738,\n",
       "           1880.6621, 1893.4033, 1906.0969, 1918.7426, 1931.3395,\n",
       "           1943.8872, 1956.3854, 1968.8333, 1981.2303, 1993.576 ,\n",
       "           2005.87  , 2018.1116, 2030.3003, 2042.4354, 2054.5166,\n",
       "           2066.5435, 2078.5151, 2090.4312, 2102.2375, 2112.6487,\n",
       "           2123.4849, 2149.7224, 2193.0798, 2220.1663, 2244.1663,\n",
       "           2262.6807, 2274.4753, 2282.7632, 2290.6116, 2301.0122,\n",
       "           2314.7122, 2329.2004, 2344.7917, 2361.871 , 2347.259 ] 1e-20 erg / (Angstrom cm2 s)>"
      ]
     },
     "execution_count": 35,
     "metadata": {},
     "output_type": "execute_result"
    }
   ],
   "source": [
    "sp_masked_rest_G.co"
   ]
  },
  {
   "cell_type": "code",
   "execution_count": 52,
   "id": "380a9b98",
   "metadata": {},
   "outputs": [],
   "source": [
    "np.savez(\"D:\\Datacube\\M1310-1714\\continuum_2M1310-1714_G.npz\", values=sp_masked_rest_G.co.value, unit=str(sp_masked_rest_G.co.unit))"
   ]
  },
  {
   "cell_type": "markdown",
   "id": "0eff86d1",
   "metadata": {},
   "source": [
    "## (G1) Na I Continuum Fit"
   ]
  },
  {
   "cell_type": "code",
   "execution_count": 21,
   "id": "1c2be923",
   "metadata": {},
   "outputs": [],
   "source": [
    "flux_masked_G_B = flux_G[2290:2370]\n",
    "uncertainty_masked_G_B = uncertainty_G[2290:2370]\n",
    "rest_wavelength_masked_G_B = wavelength_G[2290:2370]/(1+z)\n",
    "\n",
    "sp_masked_rest_G_B = XSpectrum1D.from_tuple((rest_wavelength_masked_G_B, flux_masked_G_B, uncertainty_masked_G_B))\n",
    "sp_masked_rest_G_B.plot()"
   ]
  },
  {
   "cell_type": "code",
   "execution_count": 38,
   "id": "29649d3a",
   "metadata": {
    "collapsed": true
   },
   "outputs": [
    {
     "name": "stdout",
     "output_type": "stream",
     "text": [
      "knots file exists, use this? (y) n\n",
      "\n",
      "i,o          Zoom in/out x limits\n",
      "y            Zoom out y limits\n",
      "Y            Guess y limits\n",
      "t,b          Set y top/bottom limit\n",
      "l,r          Set left/right x limit\n",
      "[,]          Pan left/right\n",
      "w            Plot the whole spectrum\n",
      "\n",
      "S,U          Smooth/unsmooth spectrum\n",
      "\n",
      "a        : add a new spline knot\n",
      "A        : add a new spline knot, and use a flux median to guess y position\n",
      "+        : double the number of spline knots\n",
      "_        : halve the number of spline knots\n",
      "d        : delete the nearest knot\n",
      "m        : move the nearest knot\n",
      "M        : move the nearest knot, and use a flux median to guess y position\n",
      "c        : toggle initial continuum display\n",
      "\n",
      "q        : quit\n",
      "\n",
      "Updating continuum.\n"
     ]
    }
   ],
   "source": [
    "sp_masked_rest_G_B.fit_continuum()"
   ]
  },
  {
   "cell_type": "code",
   "execution_count": 39,
   "id": "ce83730d",
   "metadata": {
    "collapsed": true
   },
   "outputs": [
    {
     "data": {
      "text/latex": [
       "$[4595.3442,~4597.5986,~4576.3237,~4568.8237,~4570.2085,~4588.1006,~4639.4829,~4669.8979,~4597.5894,~4551.1157,~4561.0532,~4574.3926,~4568.6538,~4548.0381,~4523.6133,~4499.2573,~4478.8472,~4466.2314,~4458.25,~4450.6582,~4443.4463,~4436.6045,~4430.1211,~4423.9863,~4418.1904,~4412.7222,~4407.5713,~4402.7271,~4398.1802,~4393.9194,~4389.9346,~4386.2153,~4382.7515,~4379.5317,~4376.5469,~4373.7856,~4371.2383,~4368.894,~4366.7427,~4364.7734,~4362.9766,~4361.3408,~4359.8564,~4358.5132,~4357.3003,~4356.4697,~4358.1143,~4363.2485,~4372.5601,~4399.6636,~4452.7085,~4477.48,~4487.8672,~4497.9165,~4507.6191,~4516.9653,~4525.9463,~4534.5522,~4542.7744,~4550.603,~4558.0288,~4565.043,~4571.6362,~4578.0347,~4584.5151,~4591.0562,~4597.6362,~4604.2334,~4610.8267,~4617.3931,~4623.9121,~4630.3608,~4636.7183,~4642.9624,~4649.0713,~4655.0234,~4660.7969,~4666.3701,~4671.7212,~4547.292] \\; \\mathrm{1 \\times 10^{-20}\\,\\frac{erg}{\\mathring{A}\\,s\\,cm^{2}}}$"
      ],
      "text/plain": [
       "<Quantity [4595.344 , 4597.5986, 4576.3237, 4568.8237, 4570.2085,\n",
       "           4588.1006, 4639.483 , 4669.898 , 4597.5894, 4551.1157,\n",
       "           4561.053 , 4574.3926, 4568.654 , 4548.038 , 4523.6133,\n",
       "           4499.2573, 4478.847 , 4466.2314, 4458.25  , 4450.658 ,\n",
       "           4443.4463, 4436.6045, 4430.121 , 4423.9863, 4418.1904,\n",
       "           4412.722 , 4407.5713, 4402.727 , 4398.18  , 4393.9194,\n",
       "           4389.9346, 4386.2153, 4382.7515, 4379.5317, 4376.547 ,\n",
       "           4373.7856, 4371.2383, 4368.894 , 4366.7427, 4364.7734,\n",
       "           4362.9766, 4361.341 , 4359.8564, 4358.513 , 4357.3003,\n",
       "           4356.4697, 4358.1143, 4363.2485, 4372.56  , 4399.6636,\n",
       "           4452.7085, 4477.48  , 4487.867 , 4497.9165, 4507.619 ,\n",
       "           4516.9653, 4525.9463, 4534.5522, 4542.7744, 4550.603 ,\n",
       "           4558.029 , 4565.043 , 4571.636 , 4578.0347, 4584.515 ,\n",
       "           4591.056 , 4597.636 , 4604.2334, 4610.8267, 4617.393 ,\n",
       "           4623.912 , 4630.361 , 4636.7183, 4642.9624, 4649.0713,\n",
       "           4655.0234, 4660.797 , 4666.37  , 4671.721 , 4547.292 ] 1e-20 erg / (Angstrom cm2 s)>"
      ]
     },
     "execution_count": 39,
     "metadata": {},
     "output_type": "execute_result"
    }
   ],
   "source": [
    "sp_masked_rest_G_B.co"
   ]
  },
  {
   "cell_type": "code",
   "execution_count": 53,
   "id": "0d1bd3f6",
   "metadata": {},
   "outputs": [],
   "source": [
    "np.savez(\"D:\\Datacube\\M1310-1714\\continuum_2M1310-1714_G_Nai.npz\", values=sp_masked_rest_G_B.co.value, unit=str(sp_masked_rest_G_B.co.unit))"
   ]
  },
  {
   "cell_type": "markdown",
   "id": "2a894559",
   "metadata": {},
   "source": [
    "## (G2) Ca II Continuum Fit"
   ]
  },
  {
   "cell_type": "code",
   "execution_count": 22,
   "id": "a07778a9",
   "metadata": {},
   "outputs": [],
   "source": [
    "flux_masked_G2 = flux_G2[260:370]\n",
    "uncertainty_masked_G2 = uncertainty_G2[260:370]\n",
    "rest_wavelength_masked_G2 = wavelength_G2[260:370]/(1+z)\n",
    "\n",
    "sp_masked_rest_G2 = XSpectrum1D.from_tuple((rest_wavelength_masked_G2, flux_masked_G2, uncertainty_masked_G2))\n",
    "sp_masked_rest_G2.plot()"
   ]
  },
  {
   "cell_type": "code",
   "execution_count": 42,
   "id": "b6d0191b",
   "metadata": {
    "collapsed": true
   },
   "outputs": [
    {
     "name": "stdout",
     "output_type": "stream",
     "text": [
      "knots file exists, use this? (y) n\n",
      "\n",
      "i,o          Zoom in/out x limits\n",
      "y            Zoom out y limits\n",
      "Y            Guess y limits\n",
      "t,b          Set y top/bottom limit\n",
      "l,r          Set left/right x limit\n",
      "[,]          Pan left/right\n",
      "w            Plot the whole spectrum\n",
      "\n",
      "S,U          Smooth/unsmooth spectrum\n",
      "\n",
      "a        : add a new spline knot\n",
      "A        : add a new spline knot, and use a flux median to guess y position\n",
      "+        : double the number of spline knots\n",
      "_        : halve the number of spline knots\n",
      "d        : delete the nearest knot\n",
      "m        : move the nearest knot\n",
      "M        : move the nearest knot, and use a flux median to guess y position\n",
      "c        : toggle initial continuum display\n",
      "\n",
      "q        : quit\n",
      "\n",
      "Updating continuum.\n"
     ]
    }
   ],
   "source": [
    "sp_masked_rest_G2.fit_continuum()"
   ]
  },
  {
   "cell_type": "code",
   "execution_count": 43,
   "id": "de2b6747",
   "metadata": {
    "collapsed": true
   },
   "outputs": [
    {
     "data": {
      "text/latex": [
       "$[1337.9415,~1320.1895,~1355.4579,~\\dots,~2094.3599,~2152.6775,~2250.4873] \\; \\mathrm{1 \\times 10^{-20}\\,\\frac{erg}{\\mathring{A}\\,s\\,cm^{2}}}$"
      ],
      "text/plain": [
       "<Quantity [1337.9415, 1320.1895, 1355.4579, 1390.7263, 1423.6333,\n",
       "           1455.1869, 1486.323 , 1513.3381, 1534.5803, 1548.8508,\n",
       "           1518.1965, 1497.7975, 1532.5219, 1570.9224, 1592.6862,\n",
       "           1609.8689, 1618.1556, 1621.8196, 1620.5585, 1615.6744,\n",
       "           1609.0681, 1602.4468, 1597.5173, 1599.8738, 1606.5273,\n",
       "           1599.9113, 1579.4113, 1555.2916, 1537.4171, 1524.362 ,\n",
       "           1512.581 , 1502.6515, 1494.8541, 1487.7324, 1480.9996,\n",
       "           1474.6539, 1468.6931, 1463.1155, 1457.919 , 1453.1016,\n",
       "           1448.6615, 1444.5968, 1440.9054, 1437.5854, 1434.6349,\n",
       "           1432.0519, 1429.8345, 1427.9807, 1426.4886, 1425.3563,\n",
       "           1424.5818, 1424.1631, 1424.0983, 1424.3855, 1425.0226,\n",
       "           1426.0079, 1427.3392, 1429.0148, 1431.0326, 1433.522 ,\n",
       "           1440.274 , 1452.5603, 1472.7424, 1498.7681, 1512.8434,\n",
       "           1523.4984, 1534.0566, 1545.3293, 1556.746 , 1568.1561,\n",
       "           1579.565 , 1590.977 , 1602.3973, 1613.8308, 1625.2822,\n",
       "           1636.7565, 1648.2585, 1659.7932, 1671.3654, 1682.98  ,\n",
       "           1694.6418, 1706.3558, 1718.1268, 1729.9597, 1741.8594,\n",
       "           1753.8307, 1765.8785, 1778.0077, 1790.2233, 1802.53  ,\n",
       "           1814.9327, 1827.4364, 1840.0459, 1852.766 , 1865.6017,\n",
       "           1878.5579, 1891.6393, 1905.4647, 1926.9258, 1952.7483,\n",
       "           1982.3661, 2018.7646, 2049.3755, 2062.3105, 2063.397 ,\n",
       "           2069.0164, 2078.625 , 2094.3599, 2152.6775, 2250.4873] 1e-20 erg / (Angstrom cm2 s)>"
      ]
     },
     "execution_count": 43,
     "metadata": {},
     "output_type": "execute_result"
    }
   ],
   "source": [
    "sp_masked_rest_G2.co"
   ]
  },
  {
   "cell_type": "code",
   "execution_count": 54,
   "id": "6c2cd2dc",
   "metadata": {},
   "outputs": [],
   "source": [
    "np.savez(\"D:\\Datacube\\M1310-1714\\continuum_2M1310-1714_G2.npz\", values=sp_masked_rest_G2.co.value, unit=str(sp_masked_rest_G2.co.unit))"
   ]
  },
  {
   "cell_type": "markdown",
   "id": "e4e10b8b",
   "metadata": {},
   "source": [
    "## (G2) Na I Continuum Fit"
   ]
  },
  {
   "cell_type": "code",
   "execution_count": 23,
   "id": "a2b485dd",
   "metadata": {},
   "outputs": [],
   "source": [
    "flux_masked_G2_B = flux_G2[2290:2370]\n",
    "uncertainty_masked_G2_B = uncertainty_G2[2290:2370]\n",
    "rest_wavelength_masked_G2_B = wavelength_G2[2290:2370]/(1+z)\n",
    "\n",
    "sp_masked_rest_G2_B = XSpectrum1D.from_tuple((rest_wavelength_masked_G2_B, flux_masked_G2_B, uncertainty_masked_G2_B))\n",
    "sp_masked_rest_G2_B.plot()"
   ]
  },
  {
   "cell_type": "code",
   "execution_count": 46,
   "id": "334e78a5",
   "metadata": {
    "collapsed": true
   },
   "outputs": [
    {
     "name": "stdout",
     "output_type": "stream",
     "text": [
      "knots file exists, use this? (y) n\n",
      "\n",
      "i,o          Zoom in/out x limits\n",
      "y            Zoom out y limits\n",
      "Y            Guess y limits\n",
      "t,b          Set y top/bottom limit\n",
      "l,r          Set left/right x limit\n",
      "[,]          Pan left/right\n",
      "w            Plot the whole spectrum\n",
      "\n",
      "S,U          Smooth/unsmooth spectrum\n",
      "\n",
      "a        : add a new spline knot\n",
      "A        : add a new spline knot, and use a flux median to guess y position\n",
      "+        : double the number of spline knots\n",
      "_        : halve the number of spline knots\n",
      "d        : delete the nearest knot\n",
      "m        : move the nearest knot\n",
      "M        : move the nearest knot, and use a flux median to guess y position\n",
      "c        : toggle initial continuum display\n",
      "\n",
      "q        : quit\n",
      "\n",
      "Updating continuum.\n"
     ]
    }
   ],
   "source": [
    "sp_masked_rest_G2_B.fit_continuum()"
   ]
  },
  {
   "cell_type": "code",
   "execution_count": 47,
   "id": "baa5a995",
   "metadata": {
    "collapsed": true
   },
   "outputs": [
    {
     "data": {
      "text/latex": [
       "$[4258.1724,~4291.4619,~4282.2612,~4274.4351,~4268.0874,~4263.3223,~4260.2441,~4258.9575,~4259.5659,~4262.1865,~4267.2085,~4274.3472,~4283.0132,~4292.6187,~4302.5742,~4312.2915,~4321.1816,~4328.6455,~4332.2295,~4331.8018,~4329.4121,~4327.1099,~4326.9458,~4363.9863,~4439.6333,~4490.6602,~4325.8735,~4163.6909,~4275.6509,~4281.3994,~4277.6953,~4273.9897,~4270.2769,~4266.5513,~4262.8076,~4259.04,~4255.2441,~4251.4141,~4247.5439,~4243.6294,~4239.6641,~4235.6431,~4231.5605,~4227.4121,~4223.1914,~4218.8936,~4214.5127,~4210.0444,~4205.4819,~4200.8213,~4196.0562,~4191.1812,~4186.1914,~4181.0815,~4175.8452,~4170.4785,~4164.9751,~4159.0376,~4152.1758,~4145.0957,~4138.5723,~4133.3804,~4130.3433,~4134.0259,~4145.29,~4161.6631,~4180.6724,~4199.8452,~4216.709,~4228.792,~4237.6548,~4246.417,~4254.98,~4263.2461,~4271.1157,~4278.4912,~4285.2739,~4291.3657,~4296.667,~4214.5425] \\; \\mathrm{1 \\times 10^{-20}\\,\\frac{erg}{\\mathring{A}\\,s\\,cm^{2}}}$"
      ],
      "text/plain": [
       "<Quantity [4258.1724, 4291.462 , 4282.261 , 4274.435 , 4268.0874,\n",
       "           4263.3223, 4260.244 , 4258.9575, 4259.566 , 4262.1865,\n",
       "           4267.2085, 4274.347 , 4283.013 , 4292.6187, 4302.574 ,\n",
       "           4312.2915, 4321.1816, 4328.6455, 4332.2295, 4331.802 ,\n",
       "           4329.412 , 4327.11  , 4326.946 , 4363.9863, 4439.6333,\n",
       "           4490.66  , 4325.8735, 4163.691 , 4275.651 , 4281.3994,\n",
       "           4277.6953, 4273.9897, 4270.277 , 4266.5513, 4262.8076,\n",
       "           4259.04  , 4255.244 , 4251.414 , 4247.544 , 4243.6294,\n",
       "           4239.664 , 4235.643 , 4231.5605, 4227.412 , 4223.1914,\n",
       "           4218.8936, 4214.5127, 4210.0444, 4205.482 , 4200.8213,\n",
       "           4196.056 , 4191.181 , 4186.1914, 4181.0815, 4175.845 ,\n",
       "           4170.4785, 4164.975 , 4159.0376, 4152.176 , 4145.0957,\n",
       "           4138.5723, 4133.3804, 4130.3433, 4134.026 , 4145.29  ,\n",
       "           4161.663 , 4180.6724, 4199.845 , 4216.709 , 4228.792 ,\n",
       "           4237.655 , 4246.417 , 4254.98  , 4263.246 , 4271.1157,\n",
       "           4278.491 , 4285.274 , 4291.3657, 4296.667 , 4214.5425] 1e-20 erg / (Angstrom cm2 s)>"
      ]
     },
     "execution_count": 47,
     "metadata": {},
     "output_type": "execute_result"
    }
   ],
   "source": [
    "sp_masked_rest_G2_B.co"
   ]
  },
  {
   "cell_type": "code",
   "execution_count": 55,
   "id": "8ca3663e",
   "metadata": {},
   "outputs": [],
   "source": [
    "np.savez(\"D:\\Datacube\\M1310-1714\\continuum_2M1310-1714_G2_Nai.npz\", values=sp_masked_rest_G2_B.co.value, unit=str(sp_masked_rest_G2_B.co.unit))"
   ]
  },
  {
   "cell_type": "markdown",
   "id": "f02e640e",
   "metadata": {},
   "source": [
    "# 2. Continuum Subtraction"
   ]
  },
  {
   "cell_type": "code",
   "execution_count": 24,
   "id": "5550d4f7",
   "metadata": {},
   "outputs": [],
   "source": [
    "%matplotlib inline\n",
    "import matplotlib.pyplot as plt"
   ]
  },
  {
   "cell_type": "code",
   "execution_count": 25,
   "id": "ea52c153",
   "metadata": {},
   "outputs": [
    {
     "data": {
      "image/png": "[encoded data removed]",
      "text/plain": [
       "<Figure size 1728x432 with 12 Axes>"
      ]
     },
     "metadata": {
      "needs_background": "light"
     },
     "output_type": "display_data"
    }
   ],
   "source": [
    "# (A) Ca II\n",
    "wave0_A = spec_A.wave.coord() * u.Unit(spec_A.wave.unit) # Wavelength array\n",
    "F0_A = spec_A.data * u.Unit(spec_A.unit) # Flux array\n",
    "wave_A = wave0_A[260:370]/(1+z)\n",
    "F_A = F0_A[260:370]\n",
    "uncertain_A = uncertainty_A[260:370]\n",
    "\n",
    "loaded_data_A = np.load(\"D:\\Datacube\\M1310-1714\\continuum_2M1310-1714_A.npz\")\n",
    "co_A = loaded_data_A[\"values\"] * u.Unit(spec_A.unit)\n",
    "\n",
    "# (A) Na I\n",
    "wave_A2 = wave0_A[2290:2370]/(1+z)\n",
    "F_A2 = F0_A[2290:2370]\n",
    "uncertain_A2 = uncertainty_A[2290:2370]\n",
    "\n",
    "loaded_data_A2 = np.load(\"D:\\Datacube\\M1310-1714\\continuum_2M1310-1714_A_Nai.npz\")\n",
    "co_A2 = loaded_data_A2[\"values\"] * u.Unit(spec_A.unit)\n",
    "\n",
    "# (B) Ca II\n",
    "wave0_B = spec_B.wave.coord() * u.Unit(spec_B.wave.unit) # Wavelength array\n",
    "F0_B = spec_B.data * u.Unit(spec_B.unit) # Flux array\n",
    "wave_B = wave0_B[260:370]/(1+z)\n",
    "F_B = F0_B[260:370]\n",
    "uncertain_B = uncertainty_B[260:370]\n",
    "\n",
    "loaded_data_B = np.load(\"D:\\Datacube\\M1310-1714\\continuum_2M1310-1714_B.npz\")\n",
    "co_B = loaded_data_B[\"values\"] * u.Unit(spec_B.unit)\n",
    "\n",
    "# (B) Na I\n",
    "wave_B2 = wave0_B[2290:2370]/(1+z)\n",
    "F_B2 = F0_B[2290:2370]\n",
    "uncertain_B2 = uncertainty_B[2290:2370]\n",
    "\n",
    "loaded_data_B2 = np.load(\"D:\\Datacube\\M1310-1714\\continuum_2M1310-1714_B_Nai.npz\")\n",
    "co_B2 = loaded_data_B2[\"values\"] * u.Unit(spec_B.unit)\n",
    "\n",
    "# (C) Ca II\n",
    "wave0_C = spec_C.wave.coord() * u.Unit(spec_C.wave.unit) # Wavelength array\n",
    "F0_C = spec_C.data * u.Unit(spec_C.unit) # Flux array\n",
    "wave_C = wave0_C[260:370]/(1+z)\n",
    "F_C = F0_C[260:370]\n",
    "uncertain_C = uncertainty_C[260:370]\n",
    "\n",
    "loaded_data_C = np.load(\"D:\\Datacube\\M1310-1714\\continuum_2M1310-1714_C.npz\")\n",
    "co_C = loaded_data_C[\"values\"] * u.Unit(spec_C.unit)\n",
    "\n",
    "# (C) Na I\n",
    "wave_C2 = wave0_C[2290:2370]/(1+z)\n",
    "F_C2 = F0_C[2290:2370]\n",
    "uncertain_C2 = uncertainty_C[2290:2370]\n",
    "\n",
    "loaded_data_C2 = np.load(\"D:\\Datacube\\M1310-1714\\continuum_2M1310-1714_C_Nai.npz\")\n",
    "co_C2 = loaded_data_C2[\"values\"] * u.Unit(spec_C.unit)\n",
    "\n",
    "# (D) Ca II\n",
    "wave0_D = spec_D.wave.coord() * u.Unit(spec_D.wave.unit) # Wavelength array\n",
    "F0_D = spec_D.data * u.Unit(spec_D.unit) # Flux array\n",
    "wave_D = wave0_D[260:370]/(1+z)\n",
    "F_D = F0_D[260:370]\n",
    "uncertain_D = uncertainty_D[260:370]\n",
    "\n",
    "loaded_data_D = np.load(\"D:\\Datacube\\M1310-1714\\continuum_2M1310-1714_D.npz\")\n",
    "co_D = loaded_data_D[\"values\"] * u.Unit(spec_D.unit)\n",
    "\n",
    "# (D) Na I\n",
    "wave_D2 = wave0_D[2290:2370]/(1+z)\n",
    "F_D2 = F0_D[2290:2370]\n",
    "uncertain_D2 = uncertainty_D[2290:2370]\n",
    "\n",
    "loaded_data_D2 = np.load(\"D:\\Datacube\\M1310-1714\\continuum_2M1310-1714_D_Nai.npz\")\n",
    "co_D2 = loaded_data_D2[\"values\"] * u.Unit(spec_D.unit)\n",
    "\n",
    "# (G1) Ca II\n",
    "wave0_G = spec_G.wave.coord() * u.Unit(spec_G.wave.unit) # Wavelength array\n",
    "F0_G = spec_G.data * u.Unit(spec_G.unit) # Flux array\n",
    "wave_G = wave0_G[260:370]/(1+z)\n",
    "F_G = F0_G[260:370]\n",
    "uncertain_G = uncertainty_G[260:370]\n",
    "\n",
    "loaded_data_G = np.load(\"D:\\Datacube\\M1310-1714\\continuum_2M1310-1714_G.npz\")\n",
    "co_G = loaded_data_G[\"values\"] * u.Unit(spec_G.unit)\n",
    "\n",
    "# (G1) Na I\n",
    "wave_G_B = wave0_G[2290:2370]/(1+z)\n",
    "F_G_B = F0_G[2290:2370]\n",
    "uncertain_G_B = uncertainty_G[2290:2370]\n",
    "\n",
    "loaded_data_G_B = np.load(\"D:\\Datacube\\M1310-1714\\continuum_2M1310-1714_G_Nai.npz\")\n",
    "co_G_B = loaded_data_G_B[\"values\"] * u.Unit(spec_G.unit)\n",
    "\n",
    "# (G2) Ca II\n",
    "wave0_G2 = spec_G2.wave.coord() * u.Unit(spec_G2.wave.unit) # Wavelength array\n",
    "F0_G2 = spec_G2.data * u.Unit(spec_G2.unit) # Flux array\n",
    "wave_G2 = wave0_G2[260:370]/(1+z)\n",
    "F_G2 = F0_G2[260:370]\n",
    "uncertain_G2 = uncertainty_G2[260:370]\n",
    "\n",
    "loaded_data_G2 = np.load(\"D:\\Datacube\\M1310-1714\\continuum_2M1310-1714_G2.npz\")\n",
    "co_G2 = loaded_data_G2[\"values\"] * u.Unit(spec_G2.unit)\n",
    "\n",
    "# (G2) Na I\n",
    "wave_G2_B = wave0_G2[2290:2370]/(1+z)\n",
    "F_G2_B = F0_G2[2290:2370]\n",
    "uncertain_G2_B = uncertainty_G2[2290:2370]\n",
    "\n",
    "loaded_data_G2_B = np.load(\"D:\\Datacube\\M1310-1714\\continuum_2M1310-1714_G2_Nai.npz\")\n",
    "co_G2_B = loaded_data_G2_B[\"values\"] * u.Unit(spec_G2.unit)\n",
    "\n",
    "\n",
    "# Plot\n",
    "f, ax = plt.subplots(2, 6, sharey='row', figsize=(24,6), gridspec_kw={'hspace': 0.3, 'wspace':0})\n",
    "\n",
    "ax[0,0].plot(wave_A, co_A)\n",
    "ax[0,0].set_ylim(0, 10000)\n",
    "ax[1,0].plot(wave_A2, co_A2)\n",
    "ax[1,0].set_ylim(0, 10000)\n",
    "ax[0,1].plot(wave_B, co_B)\n",
    "ax[1,1].plot(wave_B2, co_B2)\n",
    "ax[0,2].plot(wave_C, co_C)\n",
    "ax[1,2].plot(wave_C2, co_C2)\n",
    "ax[0,3].plot(wave_D, co_D)\n",
    "ax[1,3].plot(wave_D2, co_D2)\n",
    "ax[0,4].plot(wave_G, co_G)\n",
    "ax[1,4].plot(wave_G_B, co_G_B)\n",
    "ax[0,5].plot(wave_G2, co_G2)\n",
    "ax[1,5].plot(wave_G2_B, co_G2_B)\n",
    "\n",
    "f.text(0.15,0.77, 'Ca II', fontsize=14, ha='center')\n",
    "f.text(0.15,0.35, 'Na I', fontsize=14, ha='center')\n",
    "\n",
    "f.text(0.18, 0.91, 'A', va='center', fontsize=16)\n",
    "f.text(0.32, 0.91, 'B', va='center', fontsize=16)\n",
    "f.text(0.45, 0.91, 'C', va='center', fontsize=16)\n",
    "f.text(0.57, 0.91, 'D', va='center', fontsize=16)\n",
    "f.text(0.7, 0.91, 'G1', va='center', fontsize=16)\n",
    "f.text(0.83, 0.91, 'G2', va='center', fontsize=16)\n",
    "f.text(0.5, 0.05, 'Panjang Gelombang Vakum(Å)', ha='center')\n",
    "f.text(0.09, 0.5, 'Fluks Teramati', va='center', rotation='vertical')\n",
    "plt.show()"
   ]
  },
  {
   "cell_type": "code",
   "execution_count": 29,
   "id": "852e45be",
   "metadata": {},
   "outputs": [],
   "source": [
    "# Ca II\n",
    "lambda_3935 = 3934.777\n",
    "f3935 = 6.82e-01\n",
    "A3935 = 1.47e+08\n",
    "\n",
    "lambda_3970 = 3969.591\n",
    "f3970 = 3.3e-01\n",
    "A3970 = 1.4e+08\n",
    "\n",
    "# Na I\n",
    "lambda_5892 = 5891.583253\n",
    "f5892 = 6.41e-01\n",
    "A5892 = 6.16e+07\n",
    "\n",
    "lambda_5898 = 5897.558147\n",
    "f5898 = 3.20e-01\n",
    "A5898 = 6.14e+07\n",
    "\n",
    "c_kms = c.to('km/s').value"
   ]
  },
  {
   "cell_type": "code",
   "execution_count": 33,
   "id": "dc2fb083",
   "metadata": {},
   "outputs": [
    {
     "data": {
      "image/png": "[encoded data removed]",
      "text/plain": [
       "<Figure size 1440x288 with 4 Axes>"
      ]
     },
     "metadata": {
      "needs_background": "light"
     },
     "output_type": "display_data"
    }
   ],
   "source": [
    "# (A) Ca II\n",
    "wavelengths_A = wave_A.value\n",
    "fluxes_A = (F_A.value / co_A.value) - 1\n",
    "uncertainties_A = (uncertain_A.value / co_A.value)\n",
    "\n",
    "# (A) Na I\n",
    "wavelengths_A2 = wave_A2.value\n",
    "fluxes_A2 = (F_A2.value / co_A2.value) - 1\n",
    "uncertainties_A2 = (uncertain_A2.value / co_A2.value)\n",
    "\n",
    "# (B) Ca II\n",
    "wavelengths_B = wave_B.value\n",
    "fluxes_B = (F_B.value / co_B.value) - 1\n",
    "uncertainties_B = (uncertain_B.value / co_B.value)\n",
    "\n",
    "# (B) Na I\n",
    "wavelengths_B2 = wave_B2.value\n",
    "fluxes_B2 = (F_B2.value / co_B2.value) - 1\n",
    "uncertainties_B2 = (uncertain_B2.value / co_B2.value)\n",
    "\n",
    "# (C)\n",
    "wavelengths_C = wave_C.value\n",
    "fluxes_C = (F_C.value / co_C.value) - 1\n",
    "uncertainties_C = (uncertain_C.value / co_C.value)\n",
    "\n",
    "# (C)\n",
    "wavelengths_C2 = wave_C2.value\n",
    "fluxes_C2 = (F_C2.value / co_C2.value) - 1\n",
    "uncertainties_C2 = (uncertain_C2.value / co_C2.value)\n",
    "\n",
    "# (D)\n",
    "wavelengths_D = wave_D.value\n",
    "fluxes_D = (F_D.value / co_D.value) - 1\n",
    "uncertainties_D = (uncertain_D.value / co_D.value)\n",
    "\n",
    "# (D)\n",
    "wavelengths_D2 = wave_D2.value\n",
    "fluxes_D2 = (F_D2.value / co_D2.value) - 1\n",
    "uncertainties_D2 = (uncertain_D2.value / co_D2.value)\n",
    "\n",
    "# (G1)\n",
    "wavelengths_G = wave_G.value\n",
    "fluxes_G = (F_G.value / co_G.value) - 1\n",
    "uncertainties_G = (uncertain_G.value / co_D.value)\n",
    "\n",
    "# (G1)\n",
    "wavelengths_G_B = wave_G_B.value\n",
    "fluxes_G_B = (F_G_B.value / co_G_B.value) - 1\n",
    "uncertainties_G_B = (uncertain_G_B.value / co_G_B.value)\n",
    "\n",
    "# (G2)\n",
    "wavelengths_G2 = wave_G2.value\n",
    "fluxes_G2 = (F_G2.value / co_G2.value) - 1\n",
    "uncertainties_G2 = (uncertain_G2.value / co_G2.value)\n",
    "\n",
    "# (G2)\n",
    "wavelengths_G2_B = wave_G2_B.value\n",
    "fluxes_G2_B = (F_G2_B.value / co_G2_B.value) - 1\n",
    "uncertainties_G2_B = (uncertain_G2_B.value / co_G2_B.value)\n",
    "\n",
    "v_3935_A = c_kms * (wavelengths_A - lambda_3935) / lambda_3935\n",
    "v_3935_B = c_kms * (wavelengths_B - lambda_3935) / lambda_3935\n",
    "v_3935_C = c_kms * (wavelengths_C - lambda_3935) / lambda_3935\n",
    "v_3935_D = c_kms * (wavelengths_D - lambda_3935) / lambda_3935\n",
    "v_3935_G = c_kms * (wavelengths_G - lambda_3935) / lambda_3935\n",
    "\n",
    "v_5892_A = c_kms * (wavelengths_A2 - lambda_5892) / lambda_5892\n",
    "v_5892_B = c_kms * (wavelengths_B2 - lambda_5892) / lambda_5892\n",
    "v_5892_C = c_kms * (wavelengths_C2 - lambda_5892) / lambda_5892\n",
    "v_5892_D = c_kms * (wavelengths_D2 - lambda_5892) / lambda_5892\n",
    "v_5892_G = c_kms * (wavelengths_G2 - lambda_5892) / lambda_5892\n",
    "\n",
    "f, ax = plt.subplots(1, 4, sharey='row', figsize=(20,4), gridspec_kw={'hspace': 0.3, 'wspace':0})\n",
    "plt.rcParams['font.family'] = 'serif'\n",
    "\n",
    "ax[0].plot(v_3935_A, fluxes_A+1, 'k', alpha=0.8, drawstyle='steps-mid')\n",
    "ax[0].set_ylim(0,1.1)\n",
    "ax[0].set_xlim(-1900, 1900)\n",
    "\n",
    "ax[1].plot(v_3935_B, fluxes_B+1, 'k', alpha=0.8, drawstyle='steps-mid')\n",
    "ax[1].set_xlim(-1900, 1900)\n",
    "\n",
    "ax[2].plot(v_3935_C, fluxes_C+1, 'k', alpha=0.8, drawstyle='steps-mid')\n",
    "ax[2].set_xlim(-1900, 1900)\n",
    "\n",
    "ax[3].plot(v_3935_D, fluxes_D+1, 'k', alpha=0.8, drawstyle='steps-mid')\n",
    "ax[3].set_xlim(-1900, 1900)\n",
    "\n",
    "#f.text(0.15,0.77, 'Ca II', fontsize=14, ha='center')\n",
    "#f.text(0.15,0.35, 'Na I', fontsize=14, ha='center')\n",
    "\n",
    "f.text(0.22, 0.9, 'A', fontsize=16)\n",
    "f.text(0.41, 0.9, 'B', fontsize=16)\n",
    "f.text(0.605, 0.9, 'C', fontsize=16)\n",
    "f.text(0.8, 0.9, 'D', fontsize=16)\n",
    "\n",
    "f.text(0.835, 0.33, 'Ca II λ3935', fontsize=14)\n",
    "\n",
    "f.text(0.5, 0.01, 'Kecepatan Radial $(km/s)$', fontsize=16, ha='center')\n",
    "f.text(0.09, 0.5, 'Fluks Ternormalisasi', fontsize=16, va='center', rotation='vertical')\n",
    "\n",
    "plt.show()"
   ]
  },
  {
   "cell_type": "code",
   "execution_count": null,
   "id": "7ca848ed",
   "metadata": {},
   "outputs": [],
   "source": [
    "f, ax = plt.subplots(1, 2, sharey='row', figsize=(20,4), gridspec_kw={'hspace': 0.3, 'wspace':0})\n",
    "plt.rcParams['font.family'] = 'serif'\n",
    "\n",
    "ax[0,4].plot(wavelengths_G, fluxes_G, 'k', alpha=0.8, drawstyle='steps-mid')\n",
    "ax[0,4].set_ylim(-1.0,0.1)\n",
    "ax[0,4].set_xlim(3895, 3995)\n",
    "\n",
    "ax[1,4].plot(wavelengths_G_B, fluxes_G_B, 'k', alpha=0.8, drawstyle='steps-mid')\n",
    "ax[1,4].set_xlim(5855, 5925)\n",
    "\n",
    "ax[0,5].plot(wavelengths_G2, fluxes_G2, 'k', alpha=0.8, drawstyle='steps-mid')\n",
    "ax[0,5].set_ylim(-1.0,0.1)\n",
    "ax[0,5].set_xlim(3895, 3995)\n",
    "\n",
    "ax[1,5].plot(wavelengths_G2_B, fluxes_G2_B, 'k', alpha=0.8, drawstyle='steps-mid')\n",
    "ax[1,5].set_xlim(5855, 5925)"
   ]
  },
  {
   "cell_type": "code",
   "execution_count": 37,
   "id": "11c73689",
   "metadata": {},
   "outputs": [
    {
     "data": {
      "image/png": "[encoded data removed]",
      "text/plain": [
       "<Figure size 1440x288 with 4 Axes>"
      ]
     },
     "metadata": {
      "needs_background": "light"
     },
     "output_type": "display_data"
    }
   ],
   "source": [
    "f, ax = plt.subplots(1, 4, sharey='row', figsize=(20,4), gridspec_kw={'hspace': 0.3, 'wspace':0})\n",
    "\n",
    "ax[0].plot(v_5892_A, fluxes_A2+1, 'k', alpha=0.8, drawstyle='steps-mid')\n",
    "ax[0].set_ylim(0,1.1)\n",
    "ax[0].set_xlim(-1200, 1200)\n",
    "\n",
    "ax[1].plot(v_5892_B, fluxes_B2+1, 'k', alpha=0.8, drawstyle='steps-mid')\n",
    "ax[1].set_xlim(-1200, 1200)\n",
    "\n",
    "ax[2].plot(v_5892_C, fluxes_C2+1, 'k', alpha=0.8, drawstyle='steps-mid')\n",
    "ax[2].set_xlim(-1200, 1200)\n",
    "\n",
    "ax[3].plot(v_5892_D, fluxes_D2+1, 'k', alpha=0.8, drawstyle='steps-mid')\n",
    "ax[3].set_xlim(-1200, 1200)\n",
    "\n",
    "\n",
    "#f.text(0.15,0.77, 'Ca II', fontsize=14, ha='center')\n",
    "#f.text(0.15,0.35, 'Na I', fontsize=14, ha='center')\n",
    "\n",
    "f.text(0.22, 0.9, 'A', fontsize=16)\n",
    "f.text(0.41, 0.9, 'B', fontsize=16)\n",
    "f.text(0.605, 0.9, 'C', fontsize=16)\n",
    "f.text(0.8, 0.9, 'D', fontsize=16)\n",
    "\n",
    "f.text(0.8, 0.33, 'Na I λλ5892, 5898', fontsize=14)\n",
    "\n",
    "f.text(0.5, 0.01, 'Kecepatan Radial $(km/s)$', fontsize=16, ha='center')\n",
    "f.text(0.09, 0.5, 'Fluks Ternormalisasi', fontsize=16, va='center', rotation='vertical')\n",
    "\n",
    "plt.show()"
   ]
  }
 ],
 "metadata": {
  "kernelspec": {
   "display_name": "Python 3",
   "language": "python",
   "name": "python3"
  },
  "language_info": {
   "codemirror_mode": {
    "name": "ipython",
    "version": 3
   },
   "file_extension": ".py",
   "mimetype": "text/x-python",
   "name": "python",
   "nbconvert_exporter": "python",
   "pygments_lexer": "ipython3",
   "version": "3.8.8"
  }
 },
 "nbformat": 4,
 "nbformat_minor": 5
}
