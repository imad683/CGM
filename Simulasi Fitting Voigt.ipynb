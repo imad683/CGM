{
 "cells": [
  {
   "cell_type": "markdown",
   "id": "3dc9fd14",
   "metadata": {},
   "source": [
    "Simulasi dibuat sebagai bukti kredibilitas metode fitting garis absorpsi yang dipakai. Fitting dilakukan untuk mendapatkan parameter-parameter garis yaitu di antaranya letak puncak garis (x0), kolom densitas (N), dan parameter Doppler (b). Simulasi dilakukan untuk empat kondisi: (1) Garis 1 komponen spektrum resolusi tinggi, (2) Garis 1 komponen spektrum resolusi rendah, (3) Garis 2 komponen spektrum resolusi tinggi, dan (4) Garis 2 komponen spektrum resolusi rendah. Untuk simulasi ini digunakan nilai oscillator strength dan koefisien Einstein yang sebenarnya untuk garis doublet MgII λλ2796, 2803.\n",
    "\n",
    "Untuk kondisi (1) dan (2) nilai benar parameter garis adalah \n",
    "- $x_0$ = 2796.3543 Å\n",
    "- N = 2e13 $cm^{-2}$\n",
    "- b = 30 km/s \n",
    "\n",
    "Sedangkan untuk kondisi (3) dan (4) nilai benar parameter garis adalah \n",
    "- $x_{0,1}$ = 2796.3543 Å\n",
    "- $N_1$ = 2e14 $cm^{-2}$ \n",
    "- $b_1$ = 50 km/s \n",
    "- $x_{0,2}$ = 2798.3543 Å\n",
    "- $N_2$ = 1e13 $cm^{-2}$\n",
    "- $b_2$ = 30 km/s"
   ]
  },
  {
   "cell_type": "markdown",
   "id": "5bd77e16",
   "metadata": {},
   "source": [
    "### Package dan konstanta"
   ]
  },
  {
   "cell_type": "code",
   "execution_count": 1,
   "id": "02b623d5",
   "metadata": {},
   "outputs": [],
   "source": [
    "%matplotlib inline\n",
    "import matplotlib.pyplot as plt\n",
    "import numpy as np\n",
    "\n",
    "from astropy.modeling.models import Voigt1D, Const1D\n",
    "from astropy.constants import c, m_e\n",
    "from astropy.convolution import convolve, Gaussian1DKernel\n",
    "\n",
    "from scipy.optimize import curve_fit, root_scalar, minimize_scalar\n",
    "from scipy import constants as const"
   ]
  },
  {
   "cell_type": "code",
   "execution_count": 2,
   "id": "156b577b",
   "metadata": {},
   "outputs": [],
   "source": [
    "# Data atomik NIST dan konstanta\n",
    "lambda_2796 = 2796.3543\n",
    "A_2796 = 2.60e+08\n",
    "f2796 = 0.6123\n",
    "\n",
    "lambda_2804 = 2803.5315\n",
    "A_2804 = 2.57e+08\n",
    "f2804 = 0.3054\n",
    "\n",
    "c_kms = c.to('km/s').value\n",
    "e = 4.8032 * 1e-10\n",
    "\n",
    "m_mg = 24.305 * 1.66e-27"
   ]
  },
  {
   "cell_type": "markdown",
   "id": "4d7bbf0a",
   "metadata": {},
   "source": [
    "# (1) Garis 1 komponen spektrum resolusi tinggi"
   ]
  },
  {
   "cell_type": "code",
   "execution_count": 4,
   "id": "aa382855",
   "metadata": {},
   "outputs": [
    {
     "data": {
      "text/plain": [
       "<function matplotlib.pyplot.show(close=None, block=None)>"
      ]
     },
     "execution_count": 4,
     "metadata": {},
     "output_type": "execute_result"
    },
    {
     "data": {
      "image/png": "[encoded data removed]",
      "text/plain": [
       "<Figure size 720x288 with 1 Axes>"
      ]
     },
     "metadata": {
      "needs_background": "light"
     },
     "output_type": "display_data"
    }
   ],
   "source": [
    "## Pertama akan dibuat data benarnya\n",
    "\n",
    "# Mock Parameter\n",
    "N = 2e13\n",
    "b = 30\n",
    "\n",
    "# Δλ sesuai resolusi spektrum\n",
    "R = 50000\n",
    "\n",
    "num = (2816-2786) / (lambda_2796 / R)\n",
    "wav = np.linspace(2786, 2816, int(num))\n",
    "\n",
    "norm_flux = np.ones(int(num))\n",
    "\n",
    "\n",
    "# Model Voigt\n",
    "amp_V_2796 = 1 - np.exp(-(np.sqrt(np.pi) * e**2 * f2796 * lambda_2796 * 1e-8 * N) \n",
    "                        / (m_e.cgs.value * c.cgs.value * b * 1e5))\n",
    "amp_V_2804 = 1 - np.exp(-(np.sqrt(np.pi) * e**2 * f2804 * lambda_2804 * 1e-8 * N) \n",
    "                        / (m_e.cgs.value * c.cgs.value * b * 1e5))\n",
    " \n",
    "fwhm_L_2796 = ((lambda_2796**2) * A_2796) / (2 * np.pi * c.value * 1e10)\n",
    "fwhm_G_2796 = (2 * lambda_2796 * b * np.sqrt(np.log(2))) / c_kms\n",
    "\n",
    "fwhm_L_2804 = ((lambda_2804**2) * A_2804) / (2 * np.pi * c.value * 1e10)\n",
    "fwhm_G_2804 = (2 * lambda_2804 * b * np.sqrt(np.log(2))) / c_kms\n",
    "\n",
    "voigt_peak_targets = [amp_V_2796, amp_V_2804]\n",
    "fwhm_Ls = [fwhm_L_2796, fwhm_L_2804]  \n",
    "fwhm_Gs = [fwhm_G_2796, fwhm_G_2804]          \n",
    "centers = [lambda_2796, lambda_2804]\n",
    "\n",
    "def mock_solve_amplitude_L(target_peak, fwhm_L, fwhm_G):\n",
    "    def mock_residual(amplitude_L):\n",
    "        model = Voigt1D(amplitude_L=amplitude_L, x_0=0, fwhm_L=fwhm_L, fwhm_G=fwhm_G)\n",
    "        return model(0) - target_peak\n",
    "        \n",
    "    sol = root_scalar(mock_residual, bracket=[1e-6, 1e6], method='brentq')\n",
    "    return sol.root\n",
    "    \n",
    "models = []\n",
    "amp_Ls = []\n",
    "\n",
    "for peak, fwhm_L, fwhm_G, x0 in zip(voigt_peak_targets, fwhm_Ls, fwhm_Gs, centers):\n",
    "    amp_L = mock_solve_amplitude_L(peak, fwhm_L, fwhm_G)\n",
    "    amp_Ls.append(amp_L)\n",
    "    model = Voigt1D(amplitude_L=-amp_L, x_0=x0, fwhm_L=fwhm_L, fwhm_G=fwhm_G)\n",
    "    models.append(model)\n",
    "    \n",
    "def mock_combined_voigt(x):\n",
    "    return sum(m(x) for m in models)\n",
    "    \n",
    "true_spectrum = norm_flux + mock_combined_voigt(wav)\n",
    "\n",
    "\n",
    "# Menambah noise \n",
    "np.random.seed(42)\n",
    "noise = np.random.normal(0, 0.005, size=wav.shape)\n",
    "true_spectrum += noise\n",
    "\n",
    "\n",
    "# Konvolusi dengan ISF Gaussian\n",
    "instrument_sigma = 1.0\n",
    "kernel = Gaussian1DKernel(stddev=instrument_sigma)\n",
    "mock_convolved = convolve(true_spectrum, kernel, boundary='extend')\n",
    "\n",
    "plt.figure(figsize=(10,4))\n",
    "plt.plot(wav, mock_convolved, 'k', drawstyle='steps-mid')\n",
    "plt.plot(wav, true_spectrum, 'b', drawstyle='steps-mid')\n",
    "plt.xlabel(\"Wavelengths\")\n",
    "plt.ylabel(\"Normalized Flux\")\n",
    "plt.title('Mock Spectrum 1 Component')\n",
    "plt.ylim(0, 1.1)\n",
    "plt.show"
   ]
  },
  {
   "cell_type": "code",
   "execution_count": 5,
   "id": "47f69e83",
   "metadata": {},
   "outputs": [
    {
     "name": "stdout",
     "output_type": "stream",
     "text": [
      "Fitted x0 :2796.356\n",
      "Fitted N :1.968e+13\n",
      "Fitted b :29.796\n"
     ]
    }
   ],
   "source": [
    "## Kemudian dilakukan prosedur fitting modelnya\n",
    "\n",
    "def convolved_model(wavelengths, x_0_2796, N, b):\n",
    "    x_0_2804 = x_0_2796 + (lambda_2804 - lambda_2796)\n",
    "\n",
    "    fwhm_L_2796 = ((x_0_2796**2) * A_2796) / (2 * np.pi * c.value * 1e10)\n",
    "    fwhm_L_2804 = ((x_0_2804**2) * A_2804) / (2 * np.pi * c.value * 1e10)\n",
    "\n",
    "    fwhm_G_2796 = (2 * x_0_2796 * b * np.sqrt(np.log(2))) / c_kms\n",
    "    fwhm_G_2804 = (2 * x_0_2804 * b * np.sqrt(np.log(2))) / c_kms\n",
    "\n",
    "    amp_V_2796 = 1 - np.exp(-(np.sqrt(np.pi) * e**2 * f2796 * x_0_2796 * 1e-8 * N) / (m_e.cgs.value * c.cgs.value * b * 1e5))\n",
    "    amp_V_2804 = 1 - np.exp(-(np.sqrt(np.pi) * e**2 * f2804 * x_0_2804 * 1e-8 * N) / (m_e.cgs.value * c.cgs.value * b * 1e5))\n",
    "    \n",
    "    voigt_peak_targets = [amp_V_2796, amp_V_2804]\n",
    "    fwhm_Ls = [fwhm_L_2796, fwhm_L_2804]  \n",
    "    fwhm_Gs = [fwhm_G_2796, fwhm_G_2804]          \n",
    "    centers = [x_0_2796, x_0_2804]\n",
    "\n",
    "    def solve_amplitude_L(target_peak, fwhm_L, fwhm_G):\n",
    "        def residual(amplitude_L):\n",
    "            model = Voigt1D(amplitude_L=amplitude_L, x_0=0, fwhm_L=fwhm_L, fwhm_G=fwhm_G)\n",
    "            return model(0) - target_peak\n",
    "\n",
    "        sol = root_scalar(residual, bracket=[1e-6, 1e6], method='brentq')\n",
    "        return sol.root\n",
    "\n",
    "    models = []\n",
    "\n",
    "    for peak, fwhm_L, fwhm_G, x0 in zip(voigt_peak_targets, fwhm_Ls, fwhm_Gs, centers):\n",
    "        amp_L = solve_amplitude_L(peak, fwhm_L, fwhm_G)\n",
    "        model = Voigt1D(amplitude_L=-amp_L, x_0=x0, fwhm_L=fwhm_L, fwhm_G=fwhm_G)\n",
    "        models.append(model)\n",
    "    models.append(Const1D(amplitude=1.0))\n",
    "\n",
    "    def combined_voigt(x):\n",
    "        return sum(m(x) for m in models)\n",
    "\n",
    "    intrinsic_profile = combined_voigt(wavelengths)\n",
    "    return convolve(intrinsic_profile, kernel, normalize_kernel=True, boundary='fill', fill_value=1.0)\n",
    "\n",
    "# Tebakan awal [x0, N, b]\n",
    "p0 = [2796, 1e13, 25]\n",
    "\n",
    "# Batasan hasil parameter fitting ([batas bawah], [batas atas])\n",
    "bounds = ([2795,1e12,1], \n",
    "          [2797,1e14,100])\n",
    "\n",
    "popt, _ = curve_fit(convolved_model, wav, mock_convolved, p0=p0, bounds=bounds, \n",
    "                    sigma=noise, absolute_sigma=True, maxfev=5000)\n",
    "\n",
    "print(f'Fitted x0 :{popt[0]:.3f}')\n",
    "print(f'Fitted N :{popt[1]:.3e}')\n",
    "print(f'Fitted b :{popt[2]:.3f}')"
   ]
  },
  {
   "cell_type": "code",
   "execution_count": 6,
   "id": "74c67547",
   "metadata": {},
   "outputs": [
    {
     "name": "stdout",
     "output_type": "stream",
     "text": [
      "Floor noise: 0.00094\n",
      "Chi-squared: 547.799\n",
      "Degree of freedom: 533.000\n",
      "Reduced Chi-squared: 1.028\n"
     ]
    }
   ],
   "source": [
    "## Dihitung Reduced Chi-squared sebagai penilaian kualitas fitting.\n",
    "\n",
    "residuals = mock_convolved - convolved_model(wav, *popt)\n",
    "\n",
    "def set_floor(sigma_floor):\n",
    "    sigma_adjusted = np.sqrt(noise**2 + sigma_floor**2)\n",
    "    std = np.std(residuals / sigma_adjusted)\n",
    "    return abs(std - 1)  # Goal: std close to 1\n",
    "\n",
    "floor = minimize_scalar(set_floor, bounds=(0, 0.01))\n",
    "\n",
    "optimal_sigma_floor = floor.x\n",
    "sigma_adjusted = np.sqrt(noise**2 + optimal_sigma_floor**2)\n",
    "std = np.std(residuals / sigma_adjusted)\n",
    "\n",
    "chi_squared = np.sum((residuals / sigma_adjusted) ** 2)\n",
    "dof = len(mock_convolved) - len(popt)\n",
    "\n",
    "reduced_chi_squared = chi_squared / dof\n",
    "\n",
    "print(f'Floor noise: {optimal_sigma_floor:.5f}')\n",
    "print(f'Chi-squared: {chi_squared:.3f}')\n",
    "print(f'Degree of freedom: {dof:.3f}')\n",
    "print(f'Reduced Chi-squared: {reduced_chi_squared:.3f}')"
   ]
  },
  {
   "cell_type": "code",
   "execution_count": 7,
   "id": "c96bb5e9",
   "metadata": {
    "scrolled": false
   },
   "outputs": [
    {
     "data": {
      "text/plain": [
       "<matplotlib.legend.Legend at 0x1decae8c6a0>"
      ]
     },
     "execution_count": 7,
     "metadata": {},
     "output_type": "execute_result"
    },
    {
     "data": {
      "image/png": "[encoded data removed]",
      "text/plain": [
       "<Figure size 720x288 with 2 Axes>"
      ]
     },
     "metadata": {
      "needs_background": "light"
     },
     "output_type": "display_data"
    }
   ],
   "source": [
    "## Visualisasi\n",
    "\n",
    "v_2796 = c_kms * (wav - lambda_2796) / lambda_2796\n",
    "v_2804 = c_kms * (wav - lambda_2804) / lambda_2804\n",
    "\n",
    "fig, ax = plt.subplots(1, 2, figsize=(10, 4)) \n",
    "\n",
    "ax[0].plot(v_2796, mock_convolved, color='grey', drawstyle='steps-mid', alpha=0.8)\n",
    "ax[0].plot(v_2796, convolved_model(wav, *popt))\n",
    "ax[0].plot(v_2796, residuals)\n",
    "ax[0].set_xlim(-500, 500)\n",
    "ax[0].set_xlabel('Radial Velocity')\n",
    "ax[0].set_ylabel('Normalized Flux')\n",
    "ax[0].set_title('λ2796 Line')\n",
    "\n",
    "ax[1].plot(v_2804, mock_convolved, color='grey', drawstyle='steps-mid', alpha=0.8, label='Real Voigt')\n",
    "ax[1].plot(v_2804, convolved_model(wav, *popt), label='Fitted')\n",
    "ax[1].plot(v_2804, residuals)\n",
    "ax[1].set_xlim(-500, 500)\n",
    "ax[1].set_xlabel('Radial Velocity')\n",
    "ax[1].set_title('λ2804 Line')\n",
    "ax[1].legend()"
   ]
  },
  {
   "cell_type": "markdown",
   "id": "79e075ae",
   "metadata": {},
   "source": [
    "# (2) Garis 1 komponen spektrum resolusi rendah"
   ]
  },
  {
   "cell_type": "code",
   "execution_count": 11,
   "id": "1cfd8eaf",
   "metadata": {},
   "outputs": [
    {
     "data": {
      "text/plain": [
       "<function matplotlib.pyplot.show(close=None, block=None)>"
      ]
     },
     "execution_count": 11,
     "metadata": {},
     "output_type": "execute_result"
    },
    {
     "data": {
      "image/png": "[encoded data removed]",
      "text/plain": [
       "<Figure size 720x288 with 1 Axes>"
      ]
     },
     "metadata": {
      "needs_background": "light"
     },
     "output_type": "display_data"
    }
   ],
   "source": [
    "## Pertama akan dibuat data benarnya\n",
    "\n",
    "# Mock Parameter, sama seperti sebelumnya\n",
    "N = 2e13\n",
    "b = 30\n",
    "\n",
    "# Δλ sesuai resolusi spektrum\n",
    "R = 4000\n",
    "\n",
    "num = (2816-2786) / (lambda_2796 / R)\n",
    "wav = np.linspace(2786, 2816, int(num))\n",
    "\n",
    "norm_flux = np.ones(int(num))\n",
    "\n",
    "\n",
    "# Model Voigt\n",
    "amp_V_2796 = 1 - np.exp(-(np.sqrt(np.pi) * e**2 * f2796 * lambda_2796 * 1e-8 * N) \n",
    "                        / (m_e.cgs.value * c.cgs.value * b * 1e5))\n",
    "amp_V_2804 = 1 - np.exp(-(np.sqrt(np.pi) * e**2 * f2804 * lambda_2804 * 1e-8 * N) \n",
    "                        / (m_e.cgs.value * c.cgs.value * b * 1e5))\n",
    " \n",
    "fwhm_L_2796 = ((lambda_2796**2) * A_2796) / (2 * np.pi * c.value * 1e10)\n",
    "fwhm_G_2796 = (2 * lambda_2796 * b * np.sqrt(np.log(2))) / c_kms\n",
    "\n",
    "fwhm_L_2804 = ((lambda_2804**2) * A_2804) / (2 * np.pi * c.value * 1e10)\n",
    "fwhm_G_2804 = (2 * lambda_2804 * b * np.sqrt(np.log(2))) / c_kms\n",
    "\n",
    "voigt_peak_targets = [amp_V_2796, amp_V_2804]\n",
    "fwhm_Ls = [fwhm_L_2796, fwhm_L_2804]  \n",
    "fwhm_Gs = [fwhm_G_2796, fwhm_G_2804]          \n",
    "centers = [lambda_2796, lambda_2804]\n",
    "\n",
    "def mock_solve_amplitude_L(target_peak, fwhm_L, fwhm_G):\n",
    "    def mock_residual(amplitude_L):\n",
    "        model = Voigt1D(amplitude_L=amplitude_L, x_0=0, fwhm_L=fwhm_L, fwhm_G=fwhm_G)\n",
    "        return model(0) - target_peak\n",
    "        \n",
    "    sol = root_scalar(mock_residual, bracket=[1e-6, 1e6], method='brentq')\n",
    "    return sol.root\n",
    "    \n",
    "models = []\n",
    "amp_Ls = []\n",
    "\n",
    "for peak, fwhm_L, fwhm_G, x0 in zip(voigt_peak_targets, fwhm_Ls, fwhm_Gs, centers):\n",
    "    amp_L = mock_solve_amplitude_L(peak, fwhm_L, fwhm_G)\n",
    "    amp_Ls.append(amp_L)\n",
    "    model = Voigt1D(amplitude_L=-amp_L, x_0=x0, fwhm_L=fwhm_L, fwhm_G=fwhm_G)\n",
    "    models.append(model)\n",
    "    \n",
    "def mock_combined_voigt(x):\n",
    "    return sum(m(x) for m in models)\n",
    "    \n",
    "true_spectrum = norm_flux + mock_combined_voigt(wav)\n",
    "\n",
    "\n",
    "# Menambah noise \n",
    "np.random.seed(42)\n",
    "noise = np.random.normal(0, 0.08, size=wav.shape)\n",
    "true_spectrum += noise\n",
    "\n",
    "\n",
    "# Konvolusi dengan ISF\n",
    "instrument_sigma = 1.0\n",
    "kernel = Gaussian1DKernel(stddev=instrument_sigma)\n",
    "mock_convolved = convolve(true_spectrum, kernel, boundary='extend')\n",
    "\n",
    "plt.figure(figsize=(10,4))\n",
    "plt.plot(wav, mock_convolved, 'k', drawstyle='steps-mid')\n",
    "#plt.plot(wav, true_spectrum, 'b', drawstyle='steps-mid')\n",
    "plt.xlabel(\"Wavelengths\")\n",
    "plt.ylabel(\"Normalized Flux\")\n",
    "plt.title('Mock Spectrum 1 Component')\n",
    "plt.ylim(0, 1.1)\n",
    "plt.show"
   ]
  },
  {
   "cell_type": "code",
   "execution_count": 34,
   "id": "cf34fd7c",
   "metadata": {},
   "outputs": [
    {
     "name": "stdout",
     "output_type": "stream",
     "text": [
      "Fitted x0 :2796.362\n",
      "Fitted N :2.288e+13\n",
      "Fitted b :34.074\n"
     ]
    }
   ],
   "source": [
    "## Kemudian dilakukan prosedur fitting modelnya\n",
    "\n",
    "def convolved_model(wavelengths, x_0_2796, N, b):\n",
    "    x_0_2804 = x_0_2796 + (lambda_2804 - lambda_2796)\n",
    "\n",
    "    fwhm_L_2796 = ((x_0_2796**2) * A_2796) / (2 * np.pi * c.value * 1e10)\n",
    "    fwhm_L_2804 = ((x_0_2804**2) * A_2804) / (2 * np.pi * c.value * 1e10)\n",
    "\n",
    "    fwhm_G_2796 = (2 * x_0_2796 * b * np.sqrt(np.log(2))) / c_kms\n",
    "    fwhm_G_2804 = (2 * x_0_2804 * b * np.sqrt(np.log(2))) / c_kms\n",
    "\n",
    "    amp_V_2796 = 1 - np.exp(-(np.sqrt(np.pi) * e**2 * f2796 * x_0_2796 * 1e-8 * N) / (m_e.cgs.value * c.cgs.value * b * 1e5))\n",
    "    amp_V_2804 = 1 - np.exp(-(np.sqrt(np.pi) * e**2 * f2804 * x_0_2804 * 1e-8 * N) / (m_e.cgs.value * c.cgs.value * b * 1e5))\n",
    "    \n",
    "    voigt_peak_targets = [amp_V_2796, amp_V_2804]\n",
    "    fwhm_Ls = [fwhm_L_2796, fwhm_L_2804]  \n",
    "    fwhm_Gs = [fwhm_G_2796, fwhm_G_2804]          \n",
    "    centers = [x_0_2796, x_0_2804]\n",
    "\n",
    "    def solve_amplitude_L(target_peak, fwhm_L, fwhm_G):\n",
    "        def residual(amplitude_L):\n",
    "            model = Voigt1D(amplitude_L=amplitude_L, x_0=0, fwhm_L=fwhm_L, fwhm_G=fwhm_G)\n",
    "            return model(0) - target_peak\n",
    "\n",
    "        sol = root_scalar(residual, bracket=[1e-6, 1e6], method='brentq')\n",
    "        return sol.root\n",
    "\n",
    "    models = []\n",
    "\n",
    "    for peak, fwhm_L, fwhm_G, x0 in zip(voigt_peak_targets, fwhm_Ls, fwhm_Gs, centers):\n",
    "        amp_L = solve_amplitude_L(peak, fwhm_L, fwhm_G)\n",
    "        model = Voigt1D(amplitude_L=-amp_L, x_0=x0, fwhm_L=fwhm_L, fwhm_G=fwhm_G)\n",
    "        models.append(model)\n",
    "    models.append(Const1D(amplitude=1.0))\n",
    "\n",
    "    def combined_voigt(x):\n",
    "        return sum(m(x) for m in models)\n",
    "\n",
    "    intrinsic_profile = combined_voigt(wavelengths)\n",
    "    return convolve(intrinsic_profile, kernel, normalize_kernel=True, boundary='fill', fill_value=1.0)\n",
    "\n",
    "\n",
    "# Tebakan awal [x0, N, b]\n",
    "p0 = [2796, 1e13, 25]\n",
    "\n",
    "# Batasan hasil parameter fitting ([batas bawah], [batas atas])\n",
    "bounds = ([2795,1e12,1], \n",
    "          [2797,1e14,100])\n",
    "\n",
    "popt, _ = curve_fit(convolved_model, wav, mock_convolved, p0=p0, bounds=bounds, \n",
    "                    sigma=noise, absolute_sigma=True, maxfev=5000)\n",
    "\n",
    "print(f'Fitted x0 :{popt[0]:.3f}')\n",
    "print(f'Fitted N :{popt[1]:.3e}')\n",
    "print(f'Fitted b :{popt[2]:.3f}')"
   ]
  },
  {
   "cell_type": "code",
   "execution_count": 35,
   "id": "c7e5ead1",
   "metadata": {},
   "outputs": [
    {
     "name": "stdout",
     "output_type": "stream",
     "text": [
      "Floor noise: 0.00039\n",
      "Chi-squared: 42.177\n",
      "Degree of freedom: 39.000\n",
      "Reduced Chi-squared: 1.081\n"
     ]
    }
   ],
   "source": [
    "## Dihitung Reduced Chi-squared sebagai penilaian kualitas fitting.\n",
    "\n",
    "residuals = mock_convolved - convolved_model(wav, *popt)\n",
    "\n",
    "def set_floor(sigma_floor):\n",
    "    sigma_adjusted = np.sqrt(noise**2 + sigma_floor**2)\n",
    "    std = np.std(residuals / sigma_adjusted)\n",
    "    return abs(std - 1)  # Goal: std close to 1\n",
    "\n",
    "floor = minimize_scalar(set_floor, bounds=(0, 0.01))\n",
    "\n",
    "optimal_sigma_floor = floor.x\n",
    "sigma_adjusted = np.sqrt(noise**2 + optimal_sigma_floor**2)\n",
    "std = np.std(residuals / sigma_adjusted)\n",
    "\n",
    "chi_squared = np.sum((residuals / sigma_adjusted) ** 2)\n",
    "dof = len(mock_convolved) - len(popt)\n",
    "\n",
    "reduced_chi_squared = chi_squared / dof\n",
    "\n",
    "print(f'Floor noise: {optimal_sigma_floor:.5f}')\n",
    "print(f'Chi-squared: {chi_squared:.3f}')\n",
    "print(f'Degree of freedom: {dof:.3f}')\n",
    "print(f'Reduced Chi-squared: {reduced_chi_squared:.3f}')"
   ]
  },
  {
   "cell_type": "code",
   "execution_count": 56,
   "id": "8aa4174e",
   "metadata": {},
   "outputs": [
    {
     "data": {
      "text/plain": [
       "<matplotlib.legend.Legend at 0x1e90b1df100>"
      ]
     },
     "execution_count": 56,
     "metadata": {},
     "output_type": "execute_result"
    },
    {
     "data": {
      "image/png": "[encoded data removed]",
      "text/plain": [
       "<Figure size 720x288 with 2 Axes>"
      ]
     },
     "metadata": {
      "needs_background": "light"
     },
     "output_type": "display_data"
    }
   ],
   "source": [
    "## Visualisasi\n",
    "\n",
    "v_2796 = c_kms * (wav - lambda_2796) / lambda_2796\n",
    "v_2804 = c_kms * (wav - lambda_2804) / lambda_2804\n",
    "\n",
    "fig, ax = plt.subplots(1, 2, figsize=(10, 4)) \n",
    "\n",
    "ax[0].plot(v_2796, mock_convolved, color='grey', drawstyle='steps-mid', alpha=0.8)\n",
    "ax[0].plot(v_2796, convolved_model(wav, *popt))\n",
    "ax[0].plot(v_2796, residuals)\n",
    "ax[0].set_xlim(-500, 500)\n",
    "ax[0].set_xlabel('Radial Velocity')\n",
    "ax[0].set_ylabel('Normalized Flux')\n",
    "ax[0].set_title('λ2796 Line')\n",
    "\n",
    "ax[1].plot(v_2804, mock_convolved, color='grey', drawstyle='steps-mid', alpha=0.8, label='Real Voigt')\n",
    "ax[1].plot(v_2804, convolved_model(wav, *popt), label='Fitted')\n",
    "ax[1].plot(v_2804, residuals)\n",
    "ax[1].set_xlim(-500, 500)\n",
    "ax[1].set_xlabel('Radial Velocity')\n",
    "ax[1].set_title('λ2804 Line')\n",
    "ax[1].legend()"
   ]
  },
  {
   "cell_type": "markdown",
   "id": "a01fce8d",
   "metadata": {},
   "source": [
    "# (3) Garis 2 komponen spektrum resolusi tinggi"
   ]
  },
  {
   "cell_type": "code",
   "execution_count": 39,
   "id": "5097f6c9",
   "metadata": {},
   "outputs": [
    {
     "data": {
      "text/plain": [
       "<function matplotlib.pyplot.show(close=None, block=None)>"
      ]
     },
     "execution_count": 39,
     "metadata": {},
     "output_type": "execute_result"
    },
    {
     "data": {
      "image/png": "[encoded data removed]",
      "text/plain": [
       "<Figure size 720x288 with 1 Axes>"
      ]
     },
     "metadata": {
      "needs_background": "light"
     },
     "output_type": "display_data"
    }
   ],
   "source": [
    "## Pertama dibuat data benarnya\n",
    "\n",
    "# Mock Parameter\n",
    "N1 = 2e14\n",
    "N2 = 1e13\n",
    "b1 = 50\n",
    "b2 = 30\n",
    "\n",
    "# Δλ sesuai resolusi spektrum\n",
    "R = 50000\n",
    "\n",
    "num = (2816-2786) / (lambda_2796 / R)\n",
    "wav = np.linspace(2786, 2816, int(num))\n",
    "\n",
    "norm_flux = np.ones(int(num))\n",
    "\n",
    "\n",
    "# Model Voigt\n",
    "x02_2796 = lambda_2796 + 2\n",
    "x02_2804 = lambda_2804 + 2\n",
    "\n",
    "amp_V1_2796 = 1 - np.exp(-(np.sqrt(np.pi) * e**2 * f2796 * lambda_2796 * 1e-8 * N1) \n",
    "                        / (m_e.cgs.value * c.cgs.value * b1 * 1e5))\n",
    "amp_V2_2796 = 1 - np.exp(-(np.sqrt(np.pi) * e**2 * f2796 * lambda_2796 * 1e-8 * N2) \n",
    "                        / (m_e.cgs.value * c.cgs.value * b2 * 1e5))\n",
    "amp_V1_2804 = 1 - np.exp(-(np.sqrt(np.pi) * e**2 * f2804 * lambda_2804 * 1e-8 * N1) \n",
    "                        / (m_e.cgs.value * c.cgs.value * b1 * 1e5))\n",
    "amp_V2_2804 = 1 - np.exp(-(np.sqrt(np.pi) * e**2 * f2804 * lambda_2804 * 1e-8 * N2) \n",
    "                        / (m_e.cgs.value * c.cgs.value * b2 * 1e5))\n",
    "\n",
    "fwhm_L1_2796 = ((lambda_2796**2) * A_2796) / (2 * np.pi * c.value * 1e10)\n",
    "fwhm_L2_2796 = ((lambda_2796**2) * A_2796) / (2 * np.pi * c.value * 1e10)\n",
    "fwhm_G1_2796 = (2 * lambda_2796 * b1 * np.sqrt(np.log(2))) / c_kms\n",
    "fwhm_G2_2796 = (2 * lambda_2796 * b2 * np.sqrt(np.log(2))) / c_kms\n",
    "\n",
    "fwhm_L1_2804 = ((lambda_2804**2) * A_2804) / (2 * np.pi * c.value * 1e10)\n",
    "fwhm_L2_2804 = ((lambda_2804**2) * A_2804) / (2 * np.pi * c.value * 1e10)\n",
    "fwhm_G1_2804 = (2 * lambda_2804 * b1 * np.sqrt(np.log(2))) / c_kms\n",
    "fwhm_G2_2804 = (2 * lambda_2804 * b2 * np.sqrt(np.log(2))) / c_kms\n",
    "\n",
    "voigt_peak_targets = [amp_V1_2796, amp_V2_2796, amp_V1_2804, amp_V2_2804]\n",
    "fwhm_Ls = [fwhm_L1_2796, fwhm_L2_2796, fwhm_L1_2804, fwhm_L2_2804]  \n",
    "fwhm_Gs = [fwhm_G1_2796, fwhm_G2_2796, fwhm_G1_2804, fwhm_G2_2804]          \n",
    "centers = [lambda_2796, x02_2796, lambda_2804, x02_2804]\n",
    "\n",
    "def mock_solve_amplitude_L(target_peak, fwhm_L, fwhm_G):\n",
    "    def mock_residual(amplitude_L):\n",
    "        model = Voigt1D(amplitude_L=amplitude_L, x_0=0, fwhm_L=fwhm_L, fwhm_G=fwhm_G)\n",
    "        return model(0) - target_peak\n",
    "        \n",
    "    sol = root_scalar(mock_residual, bracket=[1e-6, 1e6], method='brentq')\n",
    "    return sol.root\n",
    "    \n",
    "models = []\n",
    "amp_Ls = []\n",
    "\n",
    "for peak, fwhm_L, fwhm_G, x0 in zip(voigt_peak_targets, fwhm_Ls, fwhm_Gs, centers):\n",
    "    amp_L = mock_solve_amplitude_L(peak, fwhm_L, fwhm_G)\n",
    "    amp_Ls.append(amp_L)\n",
    "    model = Voigt1D(amplitude_L=-amp_L, x_0=x0, fwhm_L=fwhm_L, fwhm_G=fwhm_G)\n",
    "    models.append(model)\n",
    "    \n",
    "def mock_combined_voigt(x):\n",
    "    return sum(m(x) for m in models)\n",
    "    \n",
    "true_spectrum = norm_flux + mock_combined_voigt(wav)\n",
    "\n",
    "\n",
    "# Menambah noise \n",
    "np.random.seed(42)\n",
    "noise = np.random.normal(0, 0.005, size=wav.shape)\n",
    "true_spectrum += noise\n",
    "\n",
    "\n",
    "# Konvolusi dengan ISF\n",
    "instrument_sigma = 1.0\n",
    "kernel = Gaussian1DKernel(stddev=instrument_sigma)\n",
    "mock_convolved = convolve(true_spectrum, kernel, boundary='extend')\n",
    "\n",
    "plt.figure(figsize=(10,4))\n",
    "plt.plot(wav, mock_convolved, 'k', drawstyle='steps-mid')\n",
    "plt.xlabel(\"Wavelengths\")\n",
    "plt.ylabel(\"Normalized Flux\")\n",
    "plt.title('Mock Spectrum 1 Component')\n",
    "plt.ylim(0, 1.1)\n",
    "plt.show"
   ]
  },
  {
   "cell_type": "code",
   "execution_count": 40,
   "id": "0735c731",
   "metadata": {},
   "outputs": [
    {
     "name": "stdout",
     "output_type": "stream",
     "text": [
      "Fitted x01 :2796.355\n",
      "Fitted N1:1.861e+14\n",
      "Fitted b1 :49.916\n",
      "Fitted x02 :2798.354\n",
      "Fitted N2 :9.993e+12\n",
      "Fitted b2 :30.261\n"
     ]
    }
   ],
   "source": [
    "## Kemudian dilakukan prosedur fitting\n",
    "\n",
    "def convolved_model(wavelengths, x_01_2796, N1, b1, x_02_2796, N2, b2):\n",
    "    x_01_2804 = x_01_2796 + (lambda_2804 - lambda_2796)\n",
    "    x_02_2804 = x_02_2796 + (lambda_2804 - lambda_2796)\n",
    "\n",
    "    fwhm_L1_2796 = ((x_01_2796**2) * A_2796) / (2 * np.pi * c.value * 1e10)\n",
    "    fwhm_L2_2796 = ((x_02_2796**2) * A_2796) / (2 * np.pi * c.value * 1e10)\n",
    "    fwhm_L1_2804 = ((x_01_2804**2) * A_2804) / (2 * np.pi * c.value * 1e10)\n",
    "    fwhm_L2_2804 = ((x_02_2804**2) * A_2804) / (2 * np.pi * c.value * 1e10)\n",
    "\n",
    "    fwhm_G1_2796 = (2 * x_01_2796 * b1 * np.sqrt(np.log(2))) / c_kms\n",
    "    fwhm_G2_2796 = (2 * x_02_2796 * b2 * np.sqrt(np.log(2))) / c_kms\n",
    "    fwhm_G1_2804 = (2 * x_01_2804 * b1 * np.sqrt(np.log(2))) / c_kms\n",
    "    fwhm_G2_2804 = (2 * x_02_2804 * b2 * np.sqrt(np.log(2))) / c_kms\n",
    "\n",
    "    amp_V1_2796 = 1 - np.exp(-(np.sqrt(np.pi) * e**2 * f2796 * x_01_2796 * 1e-8 * N1) / (m_e.cgs.value * c.cgs.value * b1 * 1e5))\n",
    "    amp_V2_2796 = 1 - np.exp(-(np.sqrt(np.pi) * e**2 * f2796 * x_02_2796 * 1e-8 * N2) / (m_e.cgs.value * c.cgs.value * b2 * 1e5))\n",
    "    amp_V1_2804 = 1 - np.exp(-(np.sqrt(np.pi) * e**2 * f2804 * x_01_2804 * 1e-8 * N1) / (m_e.cgs.value * c.cgs.value * b1 * 1e5))\n",
    "    amp_V2_2804 = 1 - np.exp(-(np.sqrt(np.pi) * e**2 * f2804 * x_02_2804 * 1e-8 * N2) / (m_e.cgs.value * c.cgs.value * b2 * 1e5))\n",
    "    \n",
    "    voigt_peak_targets = [amp_V1_2796, amp_V2_2796, amp_V1_2804, amp_V2_2804]\n",
    "    fwhm_Ls = [fwhm_L1_2796, fwhm_L2_2796, fwhm_L1_2804, fwhm_L2_2804]  \n",
    "    fwhm_Gs = [fwhm_G1_2796, fwhm_G2_2796, fwhm_G1_2804, fwhm_G2_2804]          \n",
    "    centers = [x_01_2796, x_02_2796, x_01_2804, x_02_2804]\n",
    "\n",
    "    def solve_amplitude_L(target_peak, fwhm_L, fwhm_G):\n",
    "        def residual(amplitude_L):\n",
    "            model = Voigt1D(amplitude_L=amplitude_L, x_0=0, fwhm_L=fwhm_L, fwhm_G=fwhm_G)\n",
    "            return model(0) - target_peak\n",
    "\n",
    "        sol = root_scalar(residual, bracket=[1e-6, 1e6], method='brentq')\n",
    "        return sol.root\n",
    "\n",
    "    models = []\n",
    "\n",
    "    for peak, fwhm_L, fwhm_G, x0 in zip(voigt_peak_targets, fwhm_Ls, fwhm_Gs, centers):\n",
    "        amp_L = solve_amplitude_L(peak, fwhm_L, fwhm_G)\n",
    "        model = Voigt1D(amplitude_L=-amp_L, x_0=x0, fwhm_L=fwhm_L, fwhm_G=fwhm_G)\n",
    "        models.append(model)\n",
    "    models.append(Const1D(amplitude=1.0))\n",
    "\n",
    "    def combined_voigt(x):\n",
    "        return sum(m(x) for m in models)\n",
    "\n",
    "    intrinsic_profile = combined_voigt(wavelengths)\n",
    "    return convolve(intrinsic_profile, kernel, normalize_kernel=True, boundary='fill', fill_value=1.0)\n",
    "\n",
    "\n",
    "# Tebakan awal [x0_1, N_1, b_1, x0_2, N_2, b_2]\n",
    "p0 = ([lambda_2796, 1e14, 60,\n",
    "      x02_2796, 2e13, 20])\n",
    "\n",
    "# Batasan hasil parameter fitting ([batas bawah], [batas atas])\n",
    "bounds = ([2795,1e12,1,\n",
    "          2797,1e12,1], \n",
    "          [2797,1e15,100,\n",
    "          2800,1e15,100])\n",
    "\n",
    "\n",
    "popt, _ = curve_fit(convolved_model, wav, mock_convolved, p0=p0, bounds=bounds, \n",
    "                    sigma=noise, absolute_sigma=True, maxfev=5000)\n",
    "\n",
    "print(f'Fitted x01 :{popt[0]:.3f}')\n",
    "print(f'Fitted N1:{popt[1]:.3e}')\n",
    "print(f'Fitted b1 :{popt[2]:.3f}')\n",
    "print(f'Fitted x02 :{popt[3]:.3f}')\n",
    "print(f'Fitted N2 :{popt[4]:.3e}')\n",
    "print(f'Fitted b2 :{popt[5]:.3f}')"
   ]
  },
  {
   "cell_type": "code",
   "execution_count": 41,
   "id": "edeaa56c",
   "metadata": {},
   "outputs": [
    {
     "name": "stdout",
     "output_type": "stream",
     "text": [
      "Floor noise: 0.00089\n",
      "Chi-squared: 540.951\n",
      "Degree of freedom: 530.000\n",
      "Reduced Chi-squared: 1.021\n"
     ]
    }
   ],
   "source": [
    "## Dihitung Reduced Chi-squarednya\n",
    "\n",
    "residuals = mock_convolved - convolved_model(wav, *popt)\n",
    "\n",
    "def set_floor(sigma_floor):\n",
    "    sigma_adjusted = np.sqrt(noise**2 + sigma_floor**2)\n",
    "    std = np.std(residuals / sigma_adjusted)\n",
    "    return abs(std - 1)  # Goal: std close to 1\n",
    "\n",
    "floor = minimize_scalar(set_floor, bounds=(0, 0.01))\n",
    "\n",
    "optimal_sigma_floor = floor.x\n",
    "sigma_adjusted = np.sqrt(noise**2 + optimal_sigma_floor**2)\n",
    "std = np.std(residuals / sigma_adjusted)\n",
    "\n",
    "chi_squared = np.sum((residuals / sigma_adjusted) ** 2)\n",
    "dof = len(mock_convolved) - len(popt)\n",
    "\n",
    "reduced_chi_squared = chi_squared / dof\n",
    "\n",
    "print(f'Floor noise: {optimal_sigma_floor:.5f}')\n",
    "print(f'Chi-squared: {chi_squared:.3f}')\n",
    "print(f'Degree of freedom: {dof:.3f}')\n",
    "print(f'Reduced Chi-squared: {reduced_chi_squared:.3f}')"
   ]
  },
  {
   "cell_type": "code",
   "execution_count": 44,
   "id": "eb374692",
   "metadata": {},
   "outputs": [
    {
     "data": {
      "text/plain": [
       "<matplotlib.legend.Legend at 0x1e97fd3d940>"
      ]
     },
     "execution_count": 44,
     "metadata": {},
     "output_type": "execute_result"
    },
    {
     "data": {
      "image/png": "[encoded data removed]",
      "text/plain": [
       "<Figure size 720x288 with 2 Axes>"
      ]
     },
     "metadata": {
      "needs_background": "light"
     },
     "output_type": "display_data"
    }
   ],
   "source": [
    "## Visualisasi\n",
    "\n",
    "v_2796 = c_kms * (wav - lambda_2796) / lambda_2796\n",
    "v_2804 = c_kms * (wav - lambda_2804) / lambda_2804\n",
    "\n",
    "fig, ax = plt.subplots(1, 2, figsize=(10, 4)) \n",
    "\n",
    "ax[0].plot(v_2796, mock_convolved, color='grey', drawstyle='steps-mid', alpha=0.8)\n",
    "ax[0].plot(v_2796, convolved_model(wav, *popt))\n",
    "ax[0].plot(v_2796, residuals)\n",
    "ax[0].set_xlim(-500, 500)\n",
    "ax[0].set_xlabel('Radial Velocity')\n",
    "ax[0].set_ylabel('Normalized Flux')\n",
    "ax[0].set_title('λ2796 Line')\n",
    "\n",
    "ax[1].plot(v_2804, mock_convolved, color='grey', drawstyle='steps-mid', alpha=0.8, label='Real Voigt')\n",
    "ax[1].plot(v_2804, convolved_model(wav, *popt), label='Fitted')\n",
    "ax[1].plot(v_2804, residuals)\n",
    "ax[1].set_xlim(-500, 500)\n",
    "ax[1].set_xlabel('Radial Velocity')\n",
    "ax[1].set_title('λ2804 Line')\n",
    "ax[1].legend()"
   ]
  },
  {
   "cell_type": "markdown",
   "id": "282e06bd",
   "metadata": {},
   "source": [
    "# (4) Garis 2 komponen spektrum resolusi rendah"
   ]
  },
  {
   "cell_type": "code",
   "execution_count": 69,
   "id": "165292b2",
   "metadata": {},
   "outputs": [
    {
     "data": {
      "text/plain": [
       "<function matplotlib.pyplot.show(close=None, block=None)>"
      ]
     },
     "execution_count": 69,
     "metadata": {},
     "output_type": "execute_result"
    },
    {
     "data": {
      "image/png": "[encoded data removed]",
      "text/plain": [
       "<Figure size 720x288 with 1 Axes>"
      ]
     },
     "metadata": {
      "needs_background": "light"
     },
     "output_type": "display_data"
    }
   ],
   "source": [
    "## Pertama dibuat data benarnya\n",
    "##\n",
    "\n",
    "# Mock Parameter, sama seperti sebelumnya\n",
    "N1 = 2e14\n",
    "N2 = 1e13\n",
    "b1 = 50\n",
    "b2 = 30\n",
    "\n",
    "# Δλ sesuai resolusi spektrum\n",
    "R = 4000\n",
    "\n",
    "num = (2816-2786) / (lambda_2796 / R)\n",
    "wav = np.linspace(2786, 2816, int(num))\n",
    "\n",
    "norm_flux = np.ones(int(num))\n",
    "\n",
    "\n",
    "# Model Voigt\n",
    "x02_2796 = lambda_2796 + 2\n",
    "x02_2804 = lambda_2804 + 2\n",
    "\n",
    "amp_V1_2796 = 1 - np.exp(-(np.sqrt(np.pi) * e**2 * f2796 * lambda_2796 * 1e-8 * N1) \n",
    "                        / (m_e.cgs.value * c.cgs.value * b1 * 1e5))\n",
    "amp_V2_2796 = 1 - np.exp(-(np.sqrt(np.pi) * e**2 * f2796 * lambda_2796 * 1e-8 * N2) \n",
    "                        / (m_e.cgs.value * c.cgs.value * b2 * 1e5))\n",
    "amp_V1_2804 = 1 - np.exp(-(np.sqrt(np.pi) * e**2 * f2804 * lambda_2804 * 1e-8 * N1) \n",
    "                        / (m_e.cgs.value * c.cgs.value * b1 * 1e5))\n",
    "amp_V2_2804 = 1 - np.exp(-(np.sqrt(np.pi) * e**2 * f2804 * lambda_2804 * 1e-8 * N2) \n",
    "                        / (m_e.cgs.value * c.cgs.value * b2 * 1e5))\n",
    "\n",
    "fwhm_L1_2796 = ((lambda_2796**2) * A_2796) / (2 * np.pi * c.value * 1e10)\n",
    "fwhm_L2_2796 = ((lambda_2796**2) * A_2796) / (2 * np.pi * c.value * 1e10)\n",
    "fwhm_G1_2796 = (2 * lambda_2796 * b1 * np.sqrt(np.log(2))) / c_kms\n",
    "fwhm_G2_2796 = (2 * lambda_2796 * b2 * np.sqrt(np.log(2))) / c_kms\n",
    "\n",
    "fwhm_L1_2804 = ((lambda_2804**2) * A_2804) / (2 * np.pi * c.value * 1e10)\n",
    "fwhm_L2_2804 = ((lambda_2804**2) * A_2804) / (2 * np.pi * c.value * 1e10)\n",
    "fwhm_G1_2804 = (2 * lambda_2804 * b1 * np.sqrt(np.log(2))) / c_kms\n",
    "fwhm_G2_2804 = (2 * lambda_2804 * b2 * np.sqrt(np.log(2))) / c_kms\n",
    "\n",
    "voigt_peak_targets = [amp_V1_2796, amp_V2_2796, amp_V1_2804, amp_V2_2804]\n",
    "fwhm_Ls = [fwhm_L1_2796, fwhm_L2_2796, fwhm_L1_2804, fwhm_L2_2804]  \n",
    "fwhm_Gs = [fwhm_G1_2796, fwhm_G2_2796, fwhm_G1_2804, fwhm_G2_2804]          \n",
    "centers = [lambda_2796, x02_2796, lambda_2804, x02_2804]\n",
    "\n",
    "def mock_solve_amplitude_L(target_peak, fwhm_L, fwhm_G):\n",
    "    def mock_residual(amplitude_L):\n",
    "        model = Voigt1D(amplitude_L=amplitude_L, x_0=0, fwhm_L=fwhm_L, fwhm_G=fwhm_G)\n",
    "        return model(0) - target_peak\n",
    "        \n",
    "    sol = root_scalar(mock_residual, bracket=[1e-6, 1e6], method='brentq')\n",
    "    return sol.root\n",
    "    \n",
    "models = []\n",
    "amp_Ls = []\n",
    "\n",
    "for peak, fwhm_L, fwhm_G, x0 in zip(voigt_peak_targets, fwhm_Ls, fwhm_Gs, centers):\n",
    "    amp_L = mock_solve_amplitude_L(peak, fwhm_L, fwhm_G)\n",
    "    amp_Ls.append(amp_L)\n",
    "    model = Voigt1D(amplitude_L=-amp_L, x_0=x0, fwhm_L=fwhm_L, fwhm_G=fwhm_G)\n",
    "    models.append(model)\n",
    "    \n",
    "def mock_combined_voigt(x):\n",
    "    return sum(m(x) for m in models)\n",
    "    \n",
    "true_spectrum = norm_flux + mock_combined_voigt(wav)\n",
    "\n",
    "\n",
    "# Menambah noise \n",
    "np.random.seed(42)\n",
    "noise = np.random.normal(0, 0.005, size=wav.shape)\n",
    "true_spectrum += noise\n",
    "\n",
    "\n",
    "# Konvolusi dengan ISF\n",
    "instrument_sigma = 1.0\n",
    "kernel = Gaussian1DKernel(stddev=instrument_sigma)\n",
    "mock_convolved = convolve(true_spectrum, kernel, boundary='extend')\n",
    "\n",
    "plt.figure(figsize=(10,4))\n",
    "plt.plot(wav, mock_convolved, 'k', drawstyle='steps-mid')\n",
    "plt.xlabel(\"Wavelengths\")\n",
    "plt.ylabel(\"Normalized Flux\")\n",
    "plt.title('Mock Spectrum 1 Component')\n",
    "plt.ylim(0, 1.1)\n",
    "plt.show"
   ]
  },
  {
   "cell_type": "code",
   "execution_count": 13,
   "id": "f80503b6",
   "metadata": {},
   "outputs": [
    {
     "name": "stdout",
     "output_type": "stream",
     "text": [
      "Fitted x01 :2796.355\n",
      "Fitted N1:1.844e+14\n",
      "Fitted b1 :50.914\n",
      "Fitted x02 :2798.364\n",
      "Fitted N2 :9.745e+12\n",
      "Fitted b2 :29.658\n"
     ]
    }
   ],
   "source": [
    "## Kemudian dilakukan prosedur fitting\n",
    "\n",
    "def convolved_model(wavelengths, x_01_2796, N1, b1, x_02_2796, N2, b2):\n",
    "    x_01_2804 = x_01_2796 + (lambda_2804 - lambda_2796)\n",
    "    x_02_2804 = x_02_2796 + (lambda_2804 - lambda_2796)\n",
    "\n",
    "    fwhm_L1_2796 = ((x_01_2796**2) * A_2796) / (2 * np.pi * c.value * 1e10)\n",
    "    fwhm_L2_2796 = ((x_02_2796**2) * A_2796) / (2 * np.pi * c.value * 1e10)\n",
    "    fwhm_L1_2804 = ((x_01_2804**2) * A_2804) / (2 * np.pi * c.value * 1e10)\n",
    "    fwhm_L2_2804 = ((x_02_2804**2) * A_2804) / (2 * np.pi * c.value * 1e10)\n",
    "\n",
    "    fwhm_G1_2796 = (2 * x_01_2796 * b1 * np.sqrt(np.log(2))) / c_kms\n",
    "    fwhm_G2_2796 = (2 * x_02_2796 * b2 * np.sqrt(np.log(2))) / c_kms\n",
    "    fwhm_G1_2804 = (2 * x_01_2804 * b1 * np.sqrt(np.log(2))) / c_kms\n",
    "    fwhm_G2_2804 = (2 * x_02_2804 * b2 * np.sqrt(np.log(2))) / c_kms\n",
    "\n",
    "    amp_V1_2796 = 1 - np.exp(-(np.sqrt(np.pi) * e**2 * f2796 * x_01_2796 * 1e-8 * N1) / (m_e.cgs.value * c.cgs.value * b1 * 1e5))\n",
    "    amp_V2_2796 = 1 - np.exp(-(np.sqrt(np.pi) * e**2 * f2796 * x_02_2796 * 1e-8 * N2) / (m_e.cgs.value * c.cgs.value * b2 * 1e5))\n",
    "    amp_V1_2804 = 1 - np.exp(-(np.sqrt(np.pi) * e**2 * f2804 * x_01_2804 * 1e-8 * N1) / (m_e.cgs.value * c.cgs.value * b1 * 1e5))\n",
    "    amp_V2_2804 = 1 - np.exp(-(np.sqrt(np.pi) * e**2 * f2804 * x_02_2804 * 1e-8 * N2) / (m_e.cgs.value * c.cgs.value * b2 * 1e5))\n",
    "    \n",
    "    voigt_peak_targets = [amp_V1_2796, amp_V2_2796, amp_V1_2804, amp_V2_2804]\n",
    "    fwhm_Ls = [fwhm_L1_2796, fwhm_L2_2796, fwhm_L1_2804, fwhm_L2_2804]  \n",
    "    fwhm_Gs = [fwhm_G1_2796, fwhm_G2_2796, fwhm_G1_2804, fwhm_G2_2804]          \n",
    "    centers = [x_01_2796, x_02_2796, x_01_2804, x_02_2804]\n",
    "\n",
    "    def solve_amplitude_L(target_peak, fwhm_L, fwhm_G):\n",
    "        def residual(amplitude_L):\n",
    "            model = Voigt1D(amplitude_L=amplitude_L, x_0=0, fwhm_L=fwhm_L, fwhm_G=fwhm_G)\n",
    "            return model(0) - target_peak\n",
    "\n",
    "        sol = root_scalar(residual, bracket=[1e-6, 1e6], method='brentq')\n",
    "        return sol.root\n",
    "\n",
    "    models = []\n",
    "\n",
    "    for peak, fwhm_L, fwhm_G, x0 in zip(voigt_peak_targets, fwhm_Ls, fwhm_Gs, centers):\n",
    "        amp_L = solve_amplitude_L(peak, fwhm_L, fwhm_G)\n",
    "        model = Voigt1D(amplitude_L=-amp_L, x_0=x0, fwhm_L=fwhm_L, fwhm_G=fwhm_G)\n",
    "        models.append(model)\n",
    "    models.append(Const1D(amplitude=1.0))\n",
    "\n",
    "    def combined_voigt(x):\n",
    "        return sum(m(x) for m in models)\n",
    "\n",
    "    intrinsic_profile = combined_voigt(wavelengths)\n",
    "    return convolve(intrinsic_profile, kernel, normalize_kernel=True, boundary='fill', fill_value=1.0)\n",
    "\n",
    "# Tebakan awal [x0_1, N_1, b_1, x0_2, N_2, b_2]\n",
    "p0 = ([lambda_2796, 1e14, 60,\n",
    "      x02_2796, 2e13, 20])\n",
    "\n",
    "# Batasan hasil parameter fitting ([batas bawah], [batas atas])\n",
    "bounds = ([2795,1e12,1,\n",
    "          2797,1e12,1], \n",
    "          [2797,1e15,100,\n",
    "          2800,1e15,100])\n",
    "\n",
    "# Fitting least-squares\n",
    "popt, _ = curve_fit(convolved_model, wav, mock_convolved, p0=p0, bounds=bounds, \n",
    "                    sigma=noise, absolute_sigma=True, maxfev=5000)\n",
    "\n",
    "print(f'Fitted x01 :{popt[0]:.3f}')\n",
    "print(f'Fitted N1:{popt[1]:.3e}')\n",
    "print(f'Fitted b1 :{popt[2]:.3f}')\n",
    "print(f'Fitted x02 :{popt[3]:.3f}')\n",
    "print(f'Fitted N2 :{popt[4]:.3e}')\n",
    "print(f'Fitted b2 :{popt[5]:.3f}')"
   ]
  },
  {
   "cell_type": "code",
   "execution_count": 14,
   "id": "4ab30f52",
   "metadata": {},
   "outputs": [
    {
     "name": "stdout",
     "output_type": "stream",
     "text": [
      "Floor noise: 0.00029\n",
      "Chi-squared: 42.647\n",
      "Degree of freedom: 36.000\n",
      "Reduced Chi-squared: 1.185\n"
     ]
    }
   ],
   "source": [
    "residuals = mock_convolved - convolved_model(wav, *popt)\n",
    "\n",
    "def set_floor(sigma_floor):\n",
    "    sigma_adjusted = np.sqrt(noise**2 + sigma_floor**2)\n",
    "    std = np.std(residuals / sigma_adjusted)\n",
    "    return abs(std - 1)  # Goal: std close to 1\n",
    "\n",
    "floor = minimize_scalar(set_floor, bounds=(0, 0.01))\n",
    "\n",
    "optimal_sigma_floor = floor.x\n",
    "sigma_adjusted = np.sqrt(noise**2 + optimal_sigma_floor**2)\n",
    "std = np.std(residuals / sigma_adjusted)\n",
    "\n",
    "chi_squared = np.sum((residuals / sigma_adjusted) ** 2)\n",
    "dof = len(mock_convolved) - len(popt)\n",
    "\n",
    "reduced_chi_squared = chi_squared / dof\n",
    "\n",
    "print(f'Floor noise: {optimal_sigma_floor:.5f}')\n",
    "print(f'Chi-squared: {chi_squared:.3f}')\n",
    "print(f'Degree of freedom: {dof:.3f}')\n",
    "print(f'Reduced Chi-squared: {reduced_chi_squared:.3f}')"
   ]
  },
  {
   "cell_type": "code",
   "execution_count": 15,
   "id": "55ee56e5",
   "metadata": {},
   "outputs": [
    {
     "data": {
      "text/plain": [
       "<matplotlib.legend.Legend at 0x1decafbb820>"
      ]
     },
     "execution_count": 15,
     "metadata": {},
     "output_type": "execute_result"
    },
    {
     "data": {
      "image/png": "[encoded data removed]",
      "text/plain": [
       "<Figure size 720x288 with 2 Axes>"
      ]
     },
     "metadata": {
      "needs_background": "light"
     },
     "output_type": "display_data"
    }
   ],
   "source": [
    "## Visualisasi\n",
    "\n",
    "v_2796 = c_kms * (wav - lambda_2796) / lambda_2796\n",
    "v_2804 = c_kms * (wav - lambda_2804) / lambda_2804\n",
    "\n",
    "fig, ax = plt.subplots(1, 2, figsize=(10, 4)) \n",
    "\n",
    "ax[0].plot(v_2796, mock_convolved, color='grey', drawstyle='steps-mid', alpha=0.8)\n",
    "ax[0].plot(v_2796, convolved_model(wav, *popt))\n",
    "ax[0].plot(v_2796, residuals)\n",
    "ax[0].set_xlim(-500, 500)\n",
    "ax[0].set_xlabel('Radial Velocity')\n",
    "ax[0].set_ylabel('Normalized Flux')\n",
    "ax[0].set_title('λ2796 Line')\n",
    "\n",
    "ax[1].plot(v_2804, mock_convolved, color='grey', drawstyle='steps-mid', alpha=0.8, label='Real Voigt')\n",
    "ax[1].plot(v_2804, convolved_model(wav, *popt), label='Fitted')\n",
    "ax[1].plot(v_2804, residuals)\n",
    "ax[1].set_xlim(-500, 500)\n",
    "ax[1].set_xlabel('Radial Velocity')\n",
    "ax[1].set_title('λ2804 Line')\n",
    "ax[1].legend()"
   ]
  },
  {
   "cell_type": "markdown",
   "id": "a2711753",
   "metadata": {},
   "source": [
    "# Simulasi Monte Carlo"
   ]
  },
  {
   "cell_type": "code",
   "execution_count": 100,
   "id": "7b2c6995",
   "metadata": {},
   "outputs": [],
   "source": [
    "def compute_ew(wavelengths, flux, continuum_level, line_range):\n",
    "    \n",
    "    in_line_region = (wavelengths >= line_range[0]) & (wavelengths <= line_range[1])\n",
    "    lam_line = wavelengths[in_line_region]\n",
    "    flux_line = flux[in_line_region]\n",
    "\n",
    "    absorption_mask = flux_line < continuum_level\n",
    "    lam_absorb = lam_line[absorption_mask]\n",
    "    flux_absorb = flux_line[absorption_mask]\n",
    "\n",
    "    ew = - np.trapz(flux_absorb, lam_absorb)\n",
    "\n",
    "    return ew"
   ]
  },
  {
   "cell_type": "code",
   "execution_count": 94,
   "id": "6d58d9a9",
   "metadata": {},
   "outputs": [
    {
     "name": "stdout",
     "output_type": "stream",
     "text": [
      "Simulation is done\n"
     ]
    }
   ],
   "source": [
    "sim_W = []\n",
    "sim_W2 = []\n",
    "\n",
    "sim_x_0 = []\n",
    "sim_x_02 = []\n",
    "sim_N = []\n",
    "sim_N2 = []\n",
    "sim_b = []\n",
    "sim_b2 = []\n",
    "\n",
    "sim_chi = []\n",
    "sim_reduced_chi = []\n",
    "\n",
    "n_sim = 100\n",
    "\n",
    "for x in range(0, n_sim):\n",
    "    sim_fluxes = mock_convolved + np.random.normal(0, np.max(noise))\n",
    "\n",
    "    W_lambda = compute_ew(wav, sim_fluxes, continuum_level=1, line_range=(2794, 2801))\n",
    "    W_lambda2 = compute_ew(wav, sim_fluxes, continuum_level=1, line_range=(2801, 2807))\n",
    "    \n",
    "    sim_W.append(W_lambda)\n",
    "    sim_W2.append(W_lambda2)\n",
    "    \n",
    "    popt, _ = curve_fit(convolved_model, wav, sim_fluxes, p0=p0, bounds=bounds, \n",
    "                        sigma=noise, absolute_sigma=True, maxfev=5000)\n",
    "\n",
    "    (recovered_peak_2796, recovered_N, recovered_b, \n",
    "     recovered_peak2_2796, recovered_N2, recovered_b2) = popt\n",
    "    \n",
    "    sim_x_0.append(recovered_peak_2796)\n",
    "    sim_x_02.append(recovered_peak2_2796)\n",
    "    sim_N.append(recovered_N)\n",
    "    sim_N2.append(recovered_N2)\n",
    "    sim_b.append(recovered_b)\n",
    "    sim_b2.append(recovered_b2)\n",
    "    \n",
    "    residuals = mock_convolved - convolved_model(wav, *popt)\n",
    "\n",
    "    floor = minimize_scalar(set_floor, bounds=(0, 0.01))\n",
    "\n",
    "    optimal_sigma_floor = floor.x\n",
    "    sigma_adjusted = np.sqrt(noise**2 + optimal_sigma_floor**2)\n",
    "    std = np.std(residuals / sigma_adjusted)\n",
    "\n",
    "    chi_squared = np.sum((residuals / sigma_adjusted) ** 2)\n",
    "    dof = len(mock_convolved) - len(popt)\n",
    "\n",
    "    reduced_chi_squared = chi_squared / dof\n",
    "    \n",
    "    sim_chi.append(chi_squared)\n",
    "    sim_reduced_chi.append(reduced_chi_squared)\n",
    "    \n",
    "print(\"Simulation is done\")"
   ]
  },
  {
   "cell_type": "code",
   "execution_count": 95,
   "id": "fb27e777",
   "metadata": {},
   "outputs": [
    {
     "name": "stdout",
     "output_type": "stream",
     "text": [
      "Equivalent Width λ2796: -4.918 Angstrom\n",
      "EW λ2796 errors(1σ): 0.496 Angstrom\n",
      "Equivalent Width λ2804: -4.046 Angstrom\n",
      "EW λ2804 errors(1σ): 0.221 Angstrom\n"
     ]
    }
   ],
   "source": [
    "sim_W = np.array(sim_W)\n",
    "W_mean = np.mean(sim_W)\n",
    "W_std = np.std(sim_W)\n",
    "\n",
    "sim_W2 = np.array(sim_W2)\n",
    "W2_mean = np.mean(sim_W2)\n",
    "W2_std = np.std(sim_W2)\n",
    "\n",
    "print(f\"Equivalent Width λ2796: {W_mean:.3f} Angstrom\")\n",
    "print(f\"EW λ2796 errors(1σ): {W_std:.3f} Angstrom\")\n",
    "print(f\"Equivalent Width λ2804: {W2_mean:.3f} Angstrom\")\n",
    "print(f\"EW λ2804 errors(1σ): {W2_std:.3f} Angstrom\")"
   ]
  },
  {
   "cell_type": "code",
   "execution_count": 96,
   "id": "3cf60611",
   "metadata": {},
   "outputs": [
    {
     "name": "stdout",
     "output_type": "stream",
     "text": [
      "Fitted Peak Component 1: 2796.360 Angstrom\n",
      "Peak Component 1 errors(1σ): 0.021 Angstrom\n",
      "Fitted Peak Component 2: 2798.403 Angstrom\n",
      "Peak Component 2 errors(1σ): 0.054 Angstrom\n"
     ]
    }
   ],
   "source": [
    "sim_x_0 = np.array(sim_x_0)\n",
    "x_0_2796_mean = np.mean(sim_x_0)\n",
    "x_0_2796_std = np.std(sim_x_0)\n",
    "\n",
    "sim_x_02 = np.array(sim_x_02)\n",
    "x_02_2796_mean = np.mean(sim_x_02)\n",
    "x_02_2796_std = np.std(sim_x_02)\n",
    "\n",
    "print(f\"Fitted Peak Component 1: {x_0_2796_mean:.3f} Angstrom\")\n",
    "print(f\"Peak Component 1 errors(1σ): {x_0_2796_std:.3f} Angstrom\")\n",
    "print(f\"Fitted Peak Component 2: {x_02_2796_mean:.3f} Angstrom\")\n",
    "print(f\"Peak Component 2 errors(1σ): {x_02_2796_std:.3f} Angstrom\")"
   ]
  },
  {
   "cell_type": "code",
   "execution_count": 97,
   "id": "42ac4fc6",
   "metadata": {},
   "outputs": [
    {
     "name": "stdout",
     "output_type": "stream",
     "text": [
      "Fitted Column Density (log N) Component 1: 14.250 1/cm^2\n",
      "N Component 1 errors(1σ): 0.045 1/cm^2\n",
      "Fitted Column Density (log N) Component 2: 12.917 1/cm^2\n",
      "N Component 2 errors(1σ): 0.156 1/cm^2\n"
     ]
    }
   ],
   "source": [
    "sim_N = np.array(sim_N)\n",
    "N_mean = np.log10(np.mean(sim_N))\n",
    "N_std = (1/np.log(10)) * (np.std(sim_N) / np.mean(sim_N))\n",
    "\n",
    "sim_N2 = np.array(sim_N2)\n",
    "N2_mean = np.log10(np.mean(sim_N2))\n",
    "N2_std = (1/np.log(10)) * (np.std(sim_N2) / np.mean(sim_N2))\n",
    "\n",
    "print(f\"Fitted Column Density (log N) Component 1: {N_mean:.3f} 1/cm^2\")\n",
    "print(f\"N Component 1 errors(1σ): {N_std:.3f} 1/cm^2\")\n",
    "print(f\"Fitted Column Density (log N) Component 2: {N2_mean:.3f} 1/cm^2\")\n",
    "print(f\"N Component 2 errors(1σ): {N2_std:.3f} 1/cm^2\")"
   ]
  },
  {
   "cell_type": "code",
   "execution_count": 98,
   "id": "bd929142",
   "metadata": {},
   "outputs": [
    {
     "name": "stdout",
     "output_type": "stream",
     "text": [
      "Fitted Doppler Parameter (b) Component 1: 50.927 km/s\n",
      "b Component 1 errors(1σ): 2.374 km/s\n",
      "Fitted Doppler Parameter (b) Component 2: 24.570 km/s\n",
      "b Component 2 errors(1σ): 8.945 km/s\n"
     ]
    }
   ],
   "source": [
    "sim_b = np.array(sim_b)\n",
    "b_mean = np.mean(sim_b)\n",
    "b_std = np.std(sim_b)\n",
    "\n",
    "sim_b2 = np.array(sim_b2)\n",
    "b2_mean = np.mean(sim_b2)\n",
    "b2_std = np.std(sim_b2)\n",
    "\n",
    "print(f\"Fitted Doppler Parameter (b) Component 1: {b_mean:.3f} km/s\")\n",
    "print(f\"b Component 1 errors(1σ): {b_std:.3f} km/s\")\n",
    "print(f\"Fitted Doppler Parameter (b) Component 2: {b2_mean:.3f} km/s\")\n",
    "print(f\"b Component 2 errors(1σ): {b2_std:.3f} km/s\")"
   ]
  },
  {
   "cell_type": "code",
   "execution_count": 99,
   "id": "bf25a02b",
   "metadata": {},
   "outputs": [
    {
     "name": "stdout",
     "output_type": "stream",
     "text": [
      "Mean Chi-squared: 56.702\n",
      "Chi-squared errors(1σ): 12.091\n",
      "Mean Reduced Chi-squared: 1.575\n",
      "Reduced Chi-squared errors(1σ): 0.336\n"
     ]
    }
   ],
   "source": [
    "sim_chi = np.array(sim_chi)\n",
    "chi_mean = np.mean(sim_chi)\n",
    "chi_std = np.std(sim_chi)\n",
    "\n",
    "sim_reduced_chi = np.array(sim_reduced_chi)\n",
    "reduced_chi_mean = np.mean(sim_reduced_chi)\n",
    "reduced_chi_std = np.std(sim_reduced_chi)\n",
    "\n",
    "print(f\"Mean Chi-squared: {chi_mean:.3f}\")\n",
    "print(f\"Chi-squared errors(1σ): {chi_std:.3f}\")\n",
    "print(f\"Mean Reduced Chi-squared: {reduced_chi_mean:.3f}\")\n",
    "print(f\"Reduced Chi-squared errors(1σ): {reduced_chi_std:.3f}\")"
   ]
  }
 ],
 "metadata": {
  "kernelspec": {
   "display_name": "Python 3",
   "language": "python",
   "name": "python3"
  },
  "language_info": {
   "codemirror_mode": {
    "name": "ipython",
    "version": 3
   },
   "file_extension": ".py",
   "mimetype": "text/x-python",
   "name": "python",
   "nbconvert_exporter": "python",
   "pygments_lexer": "ipython3",
   "version": "3.8.8"
  }
 },
 "nbformat": 4,
 "nbformat_minor": 5
}
